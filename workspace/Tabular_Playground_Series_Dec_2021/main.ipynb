{
 "cells": [
  {
   "cell_type": "markdown",
   "id": "1b541df7-bd03-4a12-ad0c-573e59eb3fa4",
   "metadata": {},
   "source": [
    "# 事前準備"
   ]
  },
  {
   "cell_type": "code",
   "execution_count": 2,
   "id": "044e1245-e8d3-4f49-a3d9-f6fe1fa624d2",
   "metadata": {},
   "outputs": [],
   "source": [
    "import psutil\n",
    "import numpy as np\n",
    "import pandas as pd\n",
    "import multiprocessing\n",
    "import dask.dataframe as ddf\n",
    "import matplotlib.pyplot as plt\n",
    "\n",
    "DATA_PATH = '/home/workspace/Tabular_Playground_Series_Dec_2021/data/'"
   ]
  },
  {
   "cell_type": "code",
   "execution_count": 5,
   "id": "3e882d61-1afe-4e79-b2f1-266dc3615228",
   "metadata": {},
   "outputs": [],
   "source": [
    "train_data = pd.read_csv(DATA_PATH+'train.csv', dtype=np.float16)\n",
    "test_data = pd.read_csv(DATA_PATH+'test.csv', dtype=np.float16)"
   ]
  },
  {
   "cell_type": "code",
   "execution_count": 7,
   "id": "e0d28290-02d5-47ad-8c7e-3750f6de72f9",
   "metadata": {},
   "outputs": [
    {
     "name": "stdout",
     "output_type": "stream",
     "text": [
      "2082197504\n",
      "349749248\n"
     ]
    }
   ],
   "source": [
    "# メモリ容量を取得\n",
    "mem = psutil.virtual_memory()\n",
    "print(mem.total)\n",
    "print(mem.available)"
   ]
  },
  {
   "cell_type": "markdown",
   "id": "fd4b4a92-88cf-4fff-b970-7f88772e3e75",
   "metadata": {},
   "source": [
    "# データの確認"
   ]
  },
  {
   "cell_type": "code",
   "execution_count": 8,
   "id": "63f81dbc-186f-4b92-9b7a-445dafc45f17",
   "metadata": {
    "tags": []
   },
   "outputs": [
    {
     "data": {
      "text/html": [
       "<div>\n",
       "<style scoped>\n",
       "    .dataframe tbody tr th:only-of-type {\n",
       "        vertical-align: middle;\n",
       "    }\n",
       "\n",
       "    .dataframe tbody tr th {\n",
       "        vertical-align: top;\n",
       "    }\n",
       "\n",
       "    .dataframe thead th {\n",
       "        text-align: right;\n",
       "    }\n",
       "</style>\n",
       "<table border=\"1\" class=\"dataframe\">\n",
       "  <thead>\n",
       "    <tr style=\"text-align: right;\">\n",
       "      <th></th>\n",
       "      <th>Id</th>\n",
       "      <th>Elevation</th>\n",
       "      <th>Aspect</th>\n",
       "      <th>Slope</th>\n",
       "      <th>Horizontal_Distance_To_Hydrology</th>\n",
       "      <th>Vertical_Distance_To_Hydrology</th>\n",
       "      <th>Horizontal_Distance_To_Roadways</th>\n",
       "      <th>Hillshade_9am</th>\n",
       "      <th>Hillshade_Noon</th>\n",
       "      <th>Hillshade_3pm</th>\n",
       "      <th>...</th>\n",
       "      <th>Soil_Type32</th>\n",
       "      <th>Soil_Type33</th>\n",
       "      <th>Soil_Type34</th>\n",
       "      <th>Soil_Type35</th>\n",
       "      <th>Soil_Type36</th>\n",
       "      <th>Soil_Type37</th>\n",
       "      <th>Soil_Type38</th>\n",
       "      <th>Soil_Type39</th>\n",
       "      <th>Soil_Type40</th>\n",
       "      <th>Cover_Type</th>\n",
       "    </tr>\n",
       "  </thead>\n",
       "  <tbody>\n",
       "    <tr>\n",
       "      <th>0</th>\n",
       "      <td>0.0</td>\n",
       "      <td>3188.0</td>\n",
       "      <td>40.0</td>\n",
       "      <td>8.0</td>\n",
       "      <td>30.0</td>\n",
       "      <td>13.0</td>\n",
       "      <td>3270.0</td>\n",
       "      <td>206.0</td>\n",
       "      <td>234.0</td>\n",
       "      <td>193.0</td>\n",
       "      <td>...</td>\n",
       "      <td>0.0</td>\n",
       "      <td>0.0</td>\n",
       "      <td>0.0</td>\n",
       "      <td>0.0</td>\n",
       "      <td>0.0</td>\n",
       "      <td>0.0</td>\n",
       "      <td>0.0</td>\n",
       "      <td>0.0</td>\n",
       "      <td>0.0</td>\n",
       "      <td>1.0</td>\n",
       "    </tr>\n",
       "    <tr>\n",
       "      <th>1</th>\n",
       "      <td>1.0</td>\n",
       "      <td>3026.0</td>\n",
       "      <td>182.0</td>\n",
       "      <td>5.0</td>\n",
       "      <td>280.0</td>\n",
       "      <td>29.0</td>\n",
       "      <td>3270.0</td>\n",
       "      <td>233.0</td>\n",
       "      <td>240.0</td>\n",
       "      <td>106.0</td>\n",
       "      <td>...</td>\n",
       "      <td>0.0</td>\n",
       "      <td>0.0</td>\n",
       "      <td>0.0</td>\n",
       "      <td>0.0</td>\n",
       "      <td>0.0</td>\n",
       "      <td>0.0</td>\n",
       "      <td>0.0</td>\n",
       "      <td>0.0</td>\n",
       "      <td>0.0</td>\n",
       "      <td>2.0</td>\n",
       "    </tr>\n",
       "    <tr>\n",
       "      <th>2</th>\n",
       "      <td>2.0</td>\n",
       "      <td>3106.0</td>\n",
       "      <td>13.0</td>\n",
       "      <td>7.0</td>\n",
       "      <td>351.0</td>\n",
       "      <td>37.0</td>\n",
       "      <td>2914.0</td>\n",
       "      <td>208.0</td>\n",
       "      <td>234.0</td>\n",
       "      <td>137.0</td>\n",
       "      <td>...</td>\n",
       "      <td>0.0</td>\n",
       "      <td>0.0</td>\n",
       "      <td>0.0</td>\n",
       "      <td>0.0</td>\n",
       "      <td>0.0</td>\n",
       "      <td>0.0</td>\n",
       "      <td>0.0</td>\n",
       "      <td>0.0</td>\n",
       "      <td>0.0</td>\n",
       "      <td>1.0</td>\n",
       "    </tr>\n",
       "    <tr>\n",
       "      <th>3</th>\n",
       "      <td>3.0</td>\n",
       "      <td>3022.0</td>\n",
       "      <td>276.0</td>\n",
       "      <td>13.0</td>\n",
       "      <td>192.0</td>\n",
       "      <td>16.0</td>\n",
       "      <td>3034.0</td>\n",
       "      <td>207.0</td>\n",
       "      <td>238.0</td>\n",
       "      <td>156.0</td>\n",
       "      <td>...</td>\n",
       "      <td>0.0</td>\n",
       "      <td>0.0</td>\n",
       "      <td>0.0</td>\n",
       "      <td>0.0</td>\n",
       "      <td>0.0</td>\n",
       "      <td>0.0</td>\n",
       "      <td>0.0</td>\n",
       "      <td>0.0</td>\n",
       "      <td>0.0</td>\n",
       "      <td>2.0</td>\n",
       "    </tr>\n",
       "    <tr>\n",
       "      <th>4</th>\n",
       "      <td>4.0</td>\n",
       "      <td>2906.0</td>\n",
       "      <td>186.0</td>\n",
       "      <td>13.0</td>\n",
       "      <td>266.0</td>\n",
       "      <td>22.0</td>\n",
       "      <td>2916.0</td>\n",
       "      <td>231.0</td>\n",
       "      <td>231.0</td>\n",
       "      <td>154.0</td>\n",
       "      <td>...</td>\n",
       "      <td>0.0</td>\n",
       "      <td>0.0</td>\n",
       "      <td>0.0</td>\n",
       "      <td>0.0</td>\n",
       "      <td>0.0</td>\n",
       "      <td>0.0</td>\n",
       "      <td>0.0</td>\n",
       "      <td>0.0</td>\n",
       "      <td>0.0</td>\n",
       "      <td>2.0</td>\n",
       "    </tr>\n",
       "    <tr>\n",
       "      <th>...</th>\n",
       "      <td>...</td>\n",
       "      <td>...</td>\n",
       "      <td>...</td>\n",
       "      <td>...</td>\n",
       "      <td>...</td>\n",
       "      <td>...</td>\n",
       "      <td>...</td>\n",
       "      <td>...</td>\n",
       "      <td>...</td>\n",
       "      <td>...</td>\n",
       "      <td>...</td>\n",
       "      <td>...</td>\n",
       "      <td>...</td>\n",
       "      <td>...</td>\n",
       "      <td>...</td>\n",
       "      <td>...</td>\n",
       "      <td>...</td>\n",
       "      <td>...</td>\n",
       "      <td>...</td>\n",
       "      <td>...</td>\n",
       "      <td>...</td>\n",
       "    </tr>\n",
       "    <tr>\n",
       "      <th>3999995</th>\n",
       "      <td>inf</td>\n",
       "      <td>2954.0</td>\n",
       "      <td>34.0</td>\n",
       "      <td>25.0</td>\n",
       "      <td>51.0</td>\n",
       "      <td>65.0</td>\n",
       "      <td>6312.0</td>\n",
       "      <td>240.0</td>\n",
       "      <td>237.0</td>\n",
       "      <td>103.0</td>\n",
       "      <td>...</td>\n",
       "      <td>0.0</td>\n",
       "      <td>0.0</td>\n",
       "      <td>0.0</td>\n",
       "      <td>0.0</td>\n",
       "      <td>0.0</td>\n",
       "      <td>0.0</td>\n",
       "      <td>0.0</td>\n",
       "      <td>0.0</td>\n",
       "      <td>0.0</td>\n",
       "      <td>2.0</td>\n",
       "    </tr>\n",
       "    <tr>\n",
       "      <th>3999996</th>\n",
       "      <td>inf</td>\n",
       "      <td>2926.0</td>\n",
       "      <td>104.0</td>\n",
       "      <td>8.0</td>\n",
       "      <td>696.0</td>\n",
       "      <td>83.0</td>\n",
       "      <td>5428.0</td>\n",
       "      <td>210.0</td>\n",
       "      <td>216.0</td>\n",
       "      <td>150.0</td>\n",
       "      <td>...</td>\n",
       "      <td>0.0</td>\n",
       "      <td>0.0</td>\n",
       "      <td>0.0</td>\n",
       "      <td>0.0</td>\n",
       "      <td>0.0</td>\n",
       "      <td>0.0</td>\n",
       "      <td>0.0</td>\n",
       "      <td>0.0</td>\n",
       "      <td>0.0</td>\n",
       "      <td>2.0</td>\n",
       "    </tr>\n",
       "    <tr>\n",
       "      <th>3999997</th>\n",
       "      <td>inf</td>\n",
       "      <td>2912.0</td>\n",
       "      <td>144.0</td>\n",
       "      <td>1.0</td>\n",
       "      <td>509.0</td>\n",
       "      <td>58.0</td>\n",
       "      <td>4820.0</td>\n",
       "      <td>195.0</td>\n",
       "      <td>192.0</td>\n",
       "      <td>91.0</td>\n",
       "      <td>...</td>\n",
       "      <td>0.0</td>\n",
       "      <td>0.0</td>\n",
       "      <td>0.0</td>\n",
       "      <td>0.0</td>\n",
       "      <td>0.0</td>\n",
       "      <td>0.0</td>\n",
       "      <td>0.0</td>\n",
       "      <td>1.0</td>\n",
       "      <td>0.0</td>\n",
       "      <td>2.0</td>\n",
       "    </tr>\n",
       "    <tr>\n",
       "      <th>3999998</th>\n",
       "      <td>inf</td>\n",
       "      <td>2580.0</td>\n",
       "      <td>178.0</td>\n",
       "      <td>17.0</td>\n",
       "      <td>376.0</td>\n",
       "      <td>86.0</td>\n",
       "      <td>2592.0</td>\n",
       "      <td>225.0</td>\n",
       "      <td>183.0</td>\n",
       "      <td>39.0</td>\n",
       "      <td>...</td>\n",
       "      <td>0.0</td>\n",
       "      <td>0.0</td>\n",
       "      <td>0.0</td>\n",
       "      <td>0.0</td>\n",
       "      <td>0.0</td>\n",
       "      <td>0.0</td>\n",
       "      <td>0.0</td>\n",
       "      <td>0.0</td>\n",
       "      <td>0.0</td>\n",
       "      <td>3.0</td>\n",
       "    </tr>\n",
       "    <tr>\n",
       "      <th>3999999</th>\n",
       "      <td>inf</td>\n",
       "      <td>3084.0</td>\n",
       "      <td>136.0</td>\n",
       "      <td>4.0</td>\n",
       "      <td>44.0</td>\n",
       "      <td>9.0</td>\n",
       "      <td>1675.0</td>\n",
       "      <td>213.0</td>\n",
       "      <td>197.0</td>\n",
       "      <td>205.0</td>\n",
       "      <td>...</td>\n",
       "      <td>0.0</td>\n",
       "      <td>0.0</td>\n",
       "      <td>0.0</td>\n",
       "      <td>0.0</td>\n",
       "      <td>0.0</td>\n",
       "      <td>0.0</td>\n",
       "      <td>0.0</td>\n",
       "      <td>0.0</td>\n",
       "      <td>0.0</td>\n",
       "      <td>1.0</td>\n",
       "    </tr>\n",
       "  </tbody>\n",
       "</table>\n",
       "<p>4000000 rows × 56 columns</p>\n",
       "</div>"
      ],
      "text/plain": [
       "          Id  Elevation  Aspect  Slope  Horizontal_Distance_To_Hydrology  \\\n",
       "0        0.0     3188.0    40.0    8.0                              30.0   \n",
       "1        1.0     3026.0   182.0    5.0                             280.0   \n",
       "2        2.0     3106.0    13.0    7.0                             351.0   \n",
       "3        3.0     3022.0   276.0   13.0                             192.0   \n",
       "4        4.0     2906.0   186.0   13.0                             266.0   \n",
       "...      ...        ...     ...    ...                               ...   \n",
       "3999995  inf     2954.0    34.0   25.0                              51.0   \n",
       "3999996  inf     2926.0   104.0    8.0                             696.0   \n",
       "3999997  inf     2912.0   144.0    1.0                             509.0   \n",
       "3999998  inf     2580.0   178.0   17.0                             376.0   \n",
       "3999999  inf     3084.0   136.0    4.0                              44.0   \n",
       "\n",
       "         Vertical_Distance_To_Hydrology  Horizontal_Distance_To_Roadways  \\\n",
       "0                                  13.0                           3270.0   \n",
       "1                                  29.0                           3270.0   \n",
       "2                                  37.0                           2914.0   \n",
       "3                                  16.0                           3034.0   \n",
       "4                                  22.0                           2916.0   \n",
       "...                                 ...                              ...   \n",
       "3999995                            65.0                           6312.0   \n",
       "3999996                            83.0                           5428.0   \n",
       "3999997                            58.0                           4820.0   \n",
       "3999998                            86.0                           2592.0   \n",
       "3999999                             9.0                           1675.0   \n",
       "\n",
       "         Hillshade_9am  Hillshade_Noon  Hillshade_3pm  ...  Soil_Type32  \\\n",
       "0                206.0           234.0          193.0  ...          0.0   \n",
       "1                233.0           240.0          106.0  ...          0.0   \n",
       "2                208.0           234.0          137.0  ...          0.0   \n",
       "3                207.0           238.0          156.0  ...          0.0   \n",
       "4                231.0           231.0          154.0  ...          0.0   \n",
       "...                ...             ...            ...  ...          ...   \n",
       "3999995          240.0           237.0          103.0  ...          0.0   \n",
       "3999996          210.0           216.0          150.0  ...          0.0   \n",
       "3999997          195.0           192.0           91.0  ...          0.0   \n",
       "3999998          225.0           183.0           39.0  ...          0.0   \n",
       "3999999          213.0           197.0          205.0  ...          0.0   \n",
       "\n",
       "         Soil_Type33  Soil_Type34  Soil_Type35  Soil_Type36  Soil_Type37  \\\n",
       "0                0.0          0.0          0.0          0.0          0.0   \n",
       "1                0.0          0.0          0.0          0.0          0.0   \n",
       "2                0.0          0.0          0.0          0.0          0.0   \n",
       "3                0.0          0.0          0.0          0.0          0.0   \n",
       "4                0.0          0.0          0.0          0.0          0.0   \n",
       "...              ...          ...          ...          ...          ...   \n",
       "3999995          0.0          0.0          0.0          0.0          0.0   \n",
       "3999996          0.0          0.0          0.0          0.0          0.0   \n",
       "3999997          0.0          0.0          0.0          0.0          0.0   \n",
       "3999998          0.0          0.0          0.0          0.0          0.0   \n",
       "3999999          0.0          0.0          0.0          0.0          0.0   \n",
       "\n",
       "         Soil_Type38  Soil_Type39  Soil_Type40  Cover_Type  \n",
       "0                0.0          0.0          0.0         1.0  \n",
       "1                0.0          0.0          0.0         2.0  \n",
       "2                0.0          0.0          0.0         1.0  \n",
       "3                0.0          0.0          0.0         2.0  \n",
       "4                0.0          0.0          0.0         2.0  \n",
       "...              ...          ...          ...         ...  \n",
       "3999995          0.0          0.0          0.0         2.0  \n",
       "3999996          0.0          0.0          0.0         2.0  \n",
       "3999997          0.0          1.0          0.0         2.0  \n",
       "3999998          0.0          0.0          0.0         3.0  \n",
       "3999999          0.0          0.0          0.0         1.0  \n",
       "\n",
       "[4000000 rows x 56 columns]"
      ]
     },
     "execution_count": 8,
     "metadata": {},
     "output_type": "execute_result"
    }
   ],
   "source": [
    "train_data"
   ]
  },
  {
   "cell_type": "code",
   "execution_count": 7,
   "id": "ecf34d41-4de8-4bed-9137-75a993e97ff6",
   "metadata": {},
   "outputs": [
    {
     "data": {
      "text/plain": [
       "(array([1.468136e+06, 2.262087e+06, 0.000000e+00, 1.957120e+05,\n",
       "        0.000000e+00, 3.770000e+02, 1.000000e+00, 0.000000e+00,\n",
       "        1.142600e+04, 6.226100e+04]),\n",
       " array([1. , 1.6, 2.2, 2.8, 3.4, 4. , 4.6, 5.2, 5.8, 6.4, 7. ],\n",
       "       dtype=float16),\n",
       " <BarContainer object of 10 artists>)"
      ]
     },
     "execution_count": 7,
     "metadata": {},
     "output_type": "execute_result"
    },
    {
     "data": {
      "image/png": "[encoded data removed]",
      "text/plain": [
       "<Figure size 432x288 with 1 Axes>"
      ]
     },
     "metadata": {
      "needs_background": "light"
     },
     "output_type": "display_data"
    }
   ],
   "source": [
    "plt.hist(train_data['Cover_Type'])"
   ]
  },
  {
   "cell_type": "code",
   "execution_count": null,
   "id": "6c2a869a-db60-4cdf-bfd6-6cbf0cdd31e5",
   "metadata": {},
   "outputs": [],
   "source": []
  },
  {
   "cell_type": "code",
   "execution_count": 12,
   "id": "874219b3-31e6-49f9-b4b8-5d1f1ed03fcf",
   "metadata": {},
   "outputs": [
    {
     "data": {
      "text/plain": [
       "269777"
      ]
     },
     "execution_count": 12,
     "metadata": {},
     "output_type": "execute_result"
    }
   ],
   "source": [
    "len(train_data[train_data['Cover_Type']==3]) + len(train_data[train_data['Cover_Type']==4]) + len(train_data[train_data['Cover_Type']==5]) + len(train_data[train_data['Cover_Type']==6]) + len(train_data[train_data['Cover_Type']==7])"
   ]
  },
  {
   "cell_type": "code",
   "execution_count": 16,
   "id": "2293565b-999a-4960-8627-5356edb060dc",
   "metadata": {},
   "outputs": [
    {
     "data": {
      "text/plain": [
       "4000000"
      ]
     },
     "execution_count": 16,
     "metadata": {},
     "output_type": "execute_result"
    }
   ],
   "source": [
    "len(train_data)"
   ]
  },
  {
   "cell_type": "code",
   "execution_count": 17,
   "id": "076445e8-0ca6-40c9-bd08-7e2723a99c30",
   "metadata": {},
   "outputs": [
    {
     "data": {
      "text/plain": [
       "0.06744425"
      ]
     },
     "execution_count": 17,
     "metadata": {},
     "output_type": "execute_result"
    }
   ],
   "source": [
    "269777 / 4000000"
   ]
  },
  {
   "cell_type": "code",
   "execution_count": 18,
   "id": "eb2bb1f7-e4a0-490e-be57-d7a0654ca259",
   "metadata": {},
   "outputs": [
    {
     "data": {
      "text/plain": [
       "377"
      ]
     },
     "execution_count": 18,
     "metadata": {},
     "output_type": "execute_result"
    }
   ],
   "source": [
    "len(train_data[train_data['Cover_Type']==4])"
   ]
  },
  {
   "cell_type": "code",
   "execution_count": 19,
   "id": "3867b8c3-bbe8-49c0-893b-b01c41619751",
   "metadata": {},
   "outputs": [
    {
     "data": {
      "text/plain": [
       "1"
      ]
     },
     "execution_count": 19,
     "metadata": {},
     "output_type": "execute_result"
    }
   ],
   "source": [
    "len(train_data[train_data['Cover_Type']==5])"
   ]
  },
  {
   "cell_type": "code",
   "execution_count": 20,
   "id": "ee9d710b-8a1f-45ac-9076-232919c9071a",
   "metadata": {},
   "outputs": [
    {
     "data": {
      "text/plain": [
       "11426"
      ]
     },
     "execution_count": 20,
     "metadata": {},
     "output_type": "execute_result"
    }
   ],
   "source": [
    "len(train_data[train_data['Cover_Type']==6])"
   ]
  },
  {
   "cell_type": "code",
   "execution_count": null,
   "id": "2d966877-79af-4a19-a512-c7452eca9130",
   "metadata": {},
   "outputs": [],
   "source": []
  }
 ],
 "metadata": {
  "kernelspec": {
   "display_name": "Python 3 (ipykernel)",
   "language": "python",
   "name": "python3"
  },
  "language_info": {
   "codemirror_mode": {
    "name": "ipython",
    "version": 3
   },
   "file_extension": ".py",
   "mimetype": "text/x-python",
   "name": "python",
   "nbconvert_exporter": "python",
   "pygments_lexer": "ipython3",
   "version": "3.8.12"
  }
 },
 "nbformat": 4,
 "nbformat_minor": 5
}
