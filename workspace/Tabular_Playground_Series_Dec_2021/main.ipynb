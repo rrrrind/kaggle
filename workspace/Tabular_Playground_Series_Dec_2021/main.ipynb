{
 "cells": [
  {
   "cell_type": "markdown",
   "id": "1b541df7-bd03-4a12-ad0c-573e59eb3fa4",
   "metadata": {},
   "source": [
    "# 事前準備"
   ]
  },
  {
   "cell_type": "code",
   "execution_count": 163,
   "id": "044e1245-e8d3-4f49-a3d9-f6fe1fa624d2",
   "metadata": {},
   "outputs": [],
   "source": [
    "import os\n",
    "from tqdm import tqdm\n",
    "import psutil\n",
    "import numpy as np\n",
    "import pandas as pd\n",
    "import multiprocessing\n",
    "import matplotlib.pyplot as plt\n",
    "import japanize_matplotlib\n",
    "\n",
    "from sklearn import preprocessing\n",
    "\n",
    "import mca\n",
    "from sklearn.decomposition import PCA\n",
    "\n",
    "from sklearn.model_selection import train_test_split\n",
    "from sklearn.model_selection import StratifiedShuffleSplit\n",
    "import optuna\n",
    "\n",
    "from sklearn.ensemble import RandomForestClassifier as RFC\n",
    "import lightgbm\n",
    "from sklearn.svm import SVC\n",
    "\n",
    "DATA_PATH = os.getcwd()+'/data/'\n",
    "SUBMISSION_PATH = os.getcwd()+'/submission/'"
   ]
  },
  {
   "cell_type": "code",
   "execution_count": 3,
   "id": "3e882d61-1afe-4e79-b2f1-266dc3615228",
   "metadata": {},
   "outputs": [],
   "source": [
    "# オリジナルの呼び出し\n",
    "train_data = pd.read_csv(DATA_PATH+'train.csv', dtype=np.int16).drop('Id',axis=1)\n",
    "test_data = pd.read_csv(DATA_PATH+'test.csv', dtype=np.int16).drop('Id',axis=1)"
   ]
  },
  {
   "cell_type": "code",
   "execution_count": 112,
   "id": "3396b4f3-b26d-412e-9294-324f11b97cf5",
   "metadata": {},
   "outputs": [],
   "source": [
    "# ダウンサンプリング + PCA + SS を適用したデータの呼び出し\n",
    "train_data = pd.read_csv(DATA_PATH+'train_pca_ss.csv', dtype=np.float32).drop('Unnamed: 0',axis=1)\n",
    "test_data = pd.read_csv(DATA_PATH+'test_pca_ss.csv', dtype=np.float32).drop('Unnamed: 0',axis=1)"
   ]
  },
  {
   "cell_type": "code",
   "execution_count": 113,
   "id": "e0d28290-02d5-47ad-8c7e-3750f6de72f9",
   "metadata": {},
   "outputs": [
    {
     "name": "stdout",
     "output_type": "stream",
     "text": [
      "2082197504\n",
      "745517056\n"
     ]
    }
   ],
   "source": [
    "# メモリ容量を取得\n",
    "mem = psutil.virtual_memory()\n",
    "print(mem.total)\n",
    "print(mem.available)"
   ]
  },
  {
   "cell_type": "markdown",
   "id": "fd4b4a92-88cf-4fff-b970-7f88772e3e75",
   "metadata": {},
   "source": [
    "# データの確認"
   ]
  },
  {
   "cell_type": "code",
   "execution_count": 6,
   "id": "63f81dbc-186f-4b92-9b7a-445dafc45f17",
   "metadata": {
    "tags": []
   },
   "outputs": [
    {
     "data": {
      "text/html": [
       "<div>\n",
       "<style scoped>\n",
       "    .dataframe tbody tr th:only-of-type {\n",
       "        vertical-align: middle;\n",
       "    }\n",
       "\n",
       "    .dataframe tbody tr th {\n",
       "        vertical-align: top;\n",
       "    }\n",
       "\n",
       "    .dataframe thead th {\n",
       "        text-align: right;\n",
       "    }\n",
       "</style>\n",
       "<table border=\"1\" class=\"dataframe\">\n",
       "  <thead>\n",
       "    <tr style=\"text-align: right;\">\n",
       "      <th></th>\n",
       "      <th>Elevation</th>\n",
       "      <th>Aspect</th>\n",
       "      <th>Slope</th>\n",
       "      <th>Horizontal_Distance_To_Hydrology</th>\n",
       "      <th>Vertical_Distance_To_Hydrology</th>\n",
       "      <th>Horizontal_Distance_To_Roadways</th>\n",
       "      <th>Hillshade_9am</th>\n",
       "      <th>Hillshade_Noon</th>\n",
       "      <th>Hillshade_3pm</th>\n",
       "      <th>Horizontal_Distance_To_Fire_Points</th>\n",
       "      <th>...</th>\n",
       "      <th>Soil_Type32</th>\n",
       "      <th>Soil_Type33</th>\n",
       "      <th>Soil_Type34</th>\n",
       "      <th>Soil_Type35</th>\n",
       "      <th>Soil_Type36</th>\n",
       "      <th>Soil_Type37</th>\n",
       "      <th>Soil_Type38</th>\n",
       "      <th>Soil_Type39</th>\n",
       "      <th>Soil_Type40</th>\n",
       "      <th>Cover_Type</th>\n",
       "    </tr>\n",
       "  </thead>\n",
       "  <tbody>\n",
       "    <tr>\n",
       "      <th>0</th>\n",
       "      <td>3189</td>\n",
       "      <td>40</td>\n",
       "      <td>8</td>\n",
       "      <td>30</td>\n",
       "      <td>13</td>\n",
       "      <td>3270</td>\n",
       "      <td>206</td>\n",
       "      <td>234</td>\n",
       "      <td>193</td>\n",
       "      <td>4873</td>\n",
       "      <td>...</td>\n",
       "      <td>0</td>\n",
       "      <td>0</td>\n",
       "      <td>0</td>\n",
       "      <td>0</td>\n",
       "      <td>0</td>\n",
       "      <td>0</td>\n",
       "      <td>0</td>\n",
       "      <td>0</td>\n",
       "      <td>0</td>\n",
       "      <td>1</td>\n",
       "    </tr>\n",
       "    <tr>\n",
       "      <th>1</th>\n",
       "      <td>3026</td>\n",
       "      <td>182</td>\n",
       "      <td>5</td>\n",
       "      <td>280</td>\n",
       "      <td>29</td>\n",
       "      <td>3270</td>\n",
       "      <td>233</td>\n",
       "      <td>240</td>\n",
       "      <td>106</td>\n",
       "      <td>5423</td>\n",
       "      <td>...</td>\n",
       "      <td>0</td>\n",
       "      <td>0</td>\n",
       "      <td>0</td>\n",
       "      <td>0</td>\n",
       "      <td>0</td>\n",
       "      <td>0</td>\n",
       "      <td>0</td>\n",
       "      <td>0</td>\n",
       "      <td>0</td>\n",
       "      <td>2</td>\n",
       "    </tr>\n",
       "    <tr>\n",
       "      <th>2</th>\n",
       "      <td>3106</td>\n",
       "      <td>13</td>\n",
       "      <td>7</td>\n",
       "      <td>351</td>\n",
       "      <td>37</td>\n",
       "      <td>2914</td>\n",
       "      <td>208</td>\n",
       "      <td>234</td>\n",
       "      <td>137</td>\n",
       "      <td>5269</td>\n",
       "      <td>...</td>\n",
       "      <td>0</td>\n",
       "      <td>0</td>\n",
       "      <td>0</td>\n",
       "      <td>0</td>\n",
       "      <td>0</td>\n",
       "      <td>0</td>\n",
       "      <td>0</td>\n",
       "      <td>0</td>\n",
       "      <td>0</td>\n",
       "      <td>1</td>\n",
       "    </tr>\n",
       "    <tr>\n",
       "      <th>3</th>\n",
       "      <td>3022</td>\n",
       "      <td>276</td>\n",
       "      <td>13</td>\n",
       "      <td>192</td>\n",
       "      <td>16</td>\n",
       "      <td>3034</td>\n",
       "      <td>207</td>\n",
       "      <td>238</td>\n",
       "      <td>156</td>\n",
       "      <td>2866</td>\n",
       "      <td>...</td>\n",
       "      <td>0</td>\n",
       "      <td>0</td>\n",
       "      <td>0</td>\n",
       "      <td>0</td>\n",
       "      <td>0</td>\n",
       "      <td>0</td>\n",
       "      <td>0</td>\n",
       "      <td>0</td>\n",
       "      <td>0</td>\n",
       "      <td>2</td>\n",
       "    </tr>\n",
       "    <tr>\n",
       "      <th>4</th>\n",
       "      <td>2906</td>\n",
       "      <td>186</td>\n",
       "      <td>13</td>\n",
       "      <td>266</td>\n",
       "      <td>22</td>\n",
       "      <td>2916</td>\n",
       "      <td>231</td>\n",
       "      <td>231</td>\n",
       "      <td>154</td>\n",
       "      <td>2642</td>\n",
       "      <td>...</td>\n",
       "      <td>0</td>\n",
       "      <td>0</td>\n",
       "      <td>0</td>\n",
       "      <td>0</td>\n",
       "      <td>0</td>\n",
       "      <td>0</td>\n",
       "      <td>0</td>\n",
       "      <td>0</td>\n",
       "      <td>0</td>\n",
       "      <td>2</td>\n",
       "    </tr>\n",
       "    <tr>\n",
       "      <th>...</th>\n",
       "      <td>...</td>\n",
       "      <td>...</td>\n",
       "      <td>...</td>\n",
       "      <td>...</td>\n",
       "      <td>...</td>\n",
       "      <td>...</td>\n",
       "      <td>...</td>\n",
       "      <td>...</td>\n",
       "      <td>...</td>\n",
       "      <td>...</td>\n",
       "      <td>...</td>\n",
       "      <td>...</td>\n",
       "      <td>...</td>\n",
       "      <td>...</td>\n",
       "      <td>...</td>\n",
       "      <td>...</td>\n",
       "      <td>...</td>\n",
       "      <td>...</td>\n",
       "      <td>...</td>\n",
       "      <td>...</td>\n",
       "      <td>...</td>\n",
       "    </tr>\n",
       "    <tr>\n",
       "      <th>3999995</th>\n",
       "      <td>2954</td>\n",
       "      <td>34</td>\n",
       "      <td>25</td>\n",
       "      <td>51</td>\n",
       "      <td>65</td>\n",
       "      <td>6314</td>\n",
       "      <td>240</td>\n",
       "      <td>237</td>\n",
       "      <td>103</td>\n",
       "      <td>1618</td>\n",
       "      <td>...</td>\n",
       "      <td>0</td>\n",
       "      <td>0</td>\n",
       "      <td>0</td>\n",
       "      <td>0</td>\n",
       "      <td>0</td>\n",
       "      <td>0</td>\n",
       "      <td>0</td>\n",
       "      <td>0</td>\n",
       "      <td>0</td>\n",
       "      <td>2</td>\n",
       "    </tr>\n",
       "    <tr>\n",
       "      <th>3999996</th>\n",
       "      <td>2926</td>\n",
       "      <td>104</td>\n",
       "      <td>8</td>\n",
       "      <td>696</td>\n",
       "      <td>83</td>\n",
       "      <td>5427</td>\n",
       "      <td>210</td>\n",
       "      <td>216</td>\n",
       "      <td>150</td>\n",
       "      <td>2863</td>\n",
       "      <td>...</td>\n",
       "      <td>0</td>\n",
       "      <td>0</td>\n",
       "      <td>0</td>\n",
       "      <td>0</td>\n",
       "      <td>0</td>\n",
       "      <td>0</td>\n",
       "      <td>0</td>\n",
       "      <td>0</td>\n",
       "      <td>0</td>\n",
       "      <td>2</td>\n",
       "    </tr>\n",
       "    <tr>\n",
       "      <th>3999997</th>\n",
       "      <td>2911</td>\n",
       "      <td>144</td>\n",
       "      <td>1</td>\n",
       "      <td>509</td>\n",
       "      <td>58</td>\n",
       "      <td>4820</td>\n",
       "      <td>195</td>\n",
       "      <td>192</td>\n",
       "      <td>91</td>\n",
       "      <td>92</td>\n",
       "      <td>...</td>\n",
       "      <td>0</td>\n",
       "      <td>0</td>\n",
       "      <td>0</td>\n",
       "      <td>0</td>\n",
       "      <td>0</td>\n",
       "      <td>0</td>\n",
       "      <td>0</td>\n",
       "      <td>1</td>\n",
       "      <td>0</td>\n",
       "      <td>2</td>\n",
       "    </tr>\n",
       "    <tr>\n",
       "      <th>3999998</th>\n",
       "      <td>2580</td>\n",
       "      <td>178</td>\n",
       "      <td>17</td>\n",
       "      <td>376</td>\n",
       "      <td>86</td>\n",
       "      <td>2592</td>\n",
       "      <td>225</td>\n",
       "      <td>183</td>\n",
       "      <td>39</td>\n",
       "      <td>1374</td>\n",
       "      <td>...</td>\n",
       "      <td>0</td>\n",
       "      <td>0</td>\n",
       "      <td>0</td>\n",
       "      <td>0</td>\n",
       "      <td>0</td>\n",
       "      <td>0</td>\n",
       "      <td>0</td>\n",
       "      <td>0</td>\n",
       "      <td>0</td>\n",
       "      <td>3</td>\n",
       "    </tr>\n",
       "    <tr>\n",
       "      <th>3999999</th>\n",
       "      <td>3083</td>\n",
       "      <td>136</td>\n",
       "      <td>4</td>\n",
       "      <td>44</td>\n",
       "      <td>9</td>\n",
       "      <td>1675</td>\n",
       "      <td>213</td>\n",
       "      <td>197</td>\n",
       "      <td>205</td>\n",
       "      <td>1612</td>\n",
       "      <td>...</td>\n",
       "      <td>0</td>\n",
       "      <td>0</td>\n",
       "      <td>0</td>\n",
       "      <td>0</td>\n",
       "      <td>0</td>\n",
       "      <td>0</td>\n",
       "      <td>0</td>\n",
       "      <td>0</td>\n",
       "      <td>0</td>\n",
       "      <td>1</td>\n",
       "    </tr>\n",
       "  </tbody>\n",
       "</table>\n",
       "<p>4000000 rows × 55 columns</p>\n",
       "</div>"
      ],
      "text/plain": [
       "         Elevation  Aspect  Slope  Horizontal_Distance_To_Hydrology  \\\n",
       "0             3189      40      8                                30   \n",
       "1             3026     182      5                               280   \n",
       "2             3106      13      7                               351   \n",
       "3             3022     276     13                               192   \n",
       "4             2906     186     13                               266   \n",
       "...            ...     ...    ...                               ...   \n",
       "3999995       2954      34     25                                51   \n",
       "3999996       2926     104      8                               696   \n",
       "3999997       2911     144      1                               509   \n",
       "3999998       2580     178     17                               376   \n",
       "3999999       3083     136      4                                44   \n",
       "\n",
       "         Vertical_Distance_To_Hydrology  Horizontal_Distance_To_Roadways  \\\n",
       "0                                    13                             3270   \n",
       "1                                    29                             3270   \n",
       "2                                    37                             2914   \n",
       "3                                    16                             3034   \n",
       "4                                    22                             2916   \n",
       "...                                 ...                              ...   \n",
       "3999995                              65                             6314   \n",
       "3999996                              83                             5427   \n",
       "3999997                              58                             4820   \n",
       "3999998                              86                             2592   \n",
       "3999999                               9                             1675   \n",
       "\n",
       "         Hillshade_9am  Hillshade_Noon  Hillshade_3pm  \\\n",
       "0                  206             234            193   \n",
       "1                  233             240            106   \n",
       "2                  208             234            137   \n",
       "3                  207             238            156   \n",
       "4                  231             231            154   \n",
       "...                ...             ...            ...   \n",
       "3999995            240             237            103   \n",
       "3999996            210             216            150   \n",
       "3999997            195             192             91   \n",
       "3999998            225             183             39   \n",
       "3999999            213             197            205   \n",
       "\n",
       "         Horizontal_Distance_To_Fire_Points  ...  Soil_Type32  Soil_Type33  \\\n",
       "0                                      4873  ...            0            0   \n",
       "1                                      5423  ...            0            0   \n",
       "2                                      5269  ...            0            0   \n",
       "3                                      2866  ...            0            0   \n",
       "4                                      2642  ...            0            0   \n",
       "...                                     ...  ...          ...          ...   \n",
       "3999995                                1618  ...            0            0   \n",
       "3999996                                2863  ...            0            0   \n",
       "3999997                                  92  ...            0            0   \n",
       "3999998                                1374  ...            0            0   \n",
       "3999999                                1612  ...            0            0   \n",
       "\n",
       "         Soil_Type34  Soil_Type35  Soil_Type36  Soil_Type37  Soil_Type38  \\\n",
       "0                  0            0            0            0            0   \n",
       "1                  0            0            0            0            0   \n",
       "2                  0            0            0            0            0   \n",
       "3                  0            0            0            0            0   \n",
       "4                  0            0            0            0            0   \n",
       "...              ...          ...          ...          ...          ...   \n",
       "3999995            0            0            0            0            0   \n",
       "3999996            0            0            0            0            0   \n",
       "3999997            0            0            0            0            0   \n",
       "3999998            0            0            0            0            0   \n",
       "3999999            0            0            0            0            0   \n",
       "\n",
       "         Soil_Type39  Soil_Type40  Cover_Type  \n",
       "0                  0            0           1  \n",
       "1                  0            0           2  \n",
       "2                  0            0           1  \n",
       "3                  0            0           2  \n",
       "4                  0            0           2  \n",
       "...              ...          ...         ...  \n",
       "3999995            0            0           2  \n",
       "3999996            0            0           2  \n",
       "3999997            1            0           2  \n",
       "3999998            0            0           3  \n",
       "3999999            0            0           1  \n",
       "\n",
       "[4000000 rows x 55 columns]"
      ]
     },
     "execution_count": 6,
     "metadata": {},
     "output_type": "execute_result"
    }
   ],
   "source": [
    "train_data"
   ]
  },
  {
   "cell_type": "code",
   "execution_count": 25,
   "id": "7ed3bf2e-991d-4a0c-8b28-105bba1bbe08",
   "metadata": {
    "collapsed": true,
    "jupyter": {
     "outputs_hidden": true
    },
    "tags": []
   },
   "outputs": [
    {
     "data": {
      "text/plain": [
       "Elevation                             False\n",
       "Aspect                                False\n",
       "Slope                                 False\n",
       "Horizontal_Distance_To_Hydrology      False\n",
       "Vertical_Distance_To_Hydrology        False\n",
       "Horizontal_Distance_To_Roadways       False\n",
       "Hillshade_9am                         False\n",
       "Hillshade_Noon                        False\n",
       "Hillshade_3pm                         False\n",
       "Horizontal_Distance_To_Fire_Points    False\n",
       "Wilderness_Area1                      False\n",
       "Wilderness_Area2                      False\n",
       "Wilderness_Area3                      False\n",
       "Wilderness_Area4                      False\n",
       "Soil_Type1                            False\n",
       "Soil_Type2                            False\n",
       "Soil_Type3                            False\n",
       "Soil_Type4                            False\n",
       "Soil_Type5                            False\n",
       "Soil_Type6                            False\n",
       "Soil_Type7                            False\n",
       "Soil_Type8                            False\n",
       "Soil_Type9                            False\n",
       "Soil_Type10                           False\n",
       "Soil_Type11                           False\n",
       "Soil_Type12                           False\n",
       "Soil_Type13                           False\n",
       "Soil_Type14                           False\n",
       "Soil_Type15                           False\n",
       "Soil_Type16                           False\n",
       "Soil_Type17                           False\n",
       "Soil_Type18                           False\n",
       "Soil_Type19                           False\n",
       "Soil_Type20                           False\n",
       "Soil_Type21                           False\n",
       "Soil_Type22                           False\n",
       "Soil_Type23                           False\n",
       "Soil_Type24                           False\n",
       "Soil_Type25                           False\n",
       "Soil_Type26                           False\n",
       "Soil_Type27                           False\n",
       "Soil_Type28                           False\n",
       "Soil_Type29                           False\n",
       "Soil_Type30                           False\n",
       "Soil_Type31                           False\n",
       "Soil_Type32                           False\n",
       "Soil_Type33                           False\n",
       "Soil_Type34                           False\n",
       "Soil_Type35                           False\n",
       "Soil_Type36                           False\n",
       "Soil_Type37                           False\n",
       "Soil_Type38                           False\n",
       "Soil_Type39                           False\n",
       "Soil_Type40                           False\n",
       "Cover_Type                            False\n",
       "dtype: bool"
      ]
     },
     "execution_count": 25,
     "metadata": {},
     "output_type": "execute_result"
    }
   ],
   "source": [
    "# 欠損値チェック\n",
    "train_data.isnull().any()"
   ]
  },
  {
   "cell_type": "code",
   "execution_count": 6,
   "id": "dc818647-b3ec-4ec7-a85e-d0aa6acad0c7",
   "metadata": {
    "tags": []
   },
   "outputs": [
    {
     "data": {
      "text/html": [
       "<div>\n",
       "<style scoped>\n",
       "    .dataframe tbody tr th:only-of-type {\n",
       "        vertical-align: middle;\n",
       "    }\n",
       "\n",
       "    .dataframe tbody tr th {\n",
       "        vertical-align: top;\n",
       "    }\n",
       "\n",
       "    .dataframe thead th {\n",
       "        text-align: right;\n",
       "    }\n",
       "</style>\n",
       "<table border=\"1\" class=\"dataframe\">\n",
       "  <thead>\n",
       "    <tr style=\"text-align: right;\">\n",
       "      <th></th>\n",
       "      <th>Elevation</th>\n",
       "      <th>Aspect</th>\n",
       "      <th>Slope</th>\n",
       "      <th>Horizontal_Distance_To_Hydrology</th>\n",
       "      <th>Vertical_Distance_To_Hydrology</th>\n",
       "      <th>Horizontal_Distance_To_Roadways</th>\n",
       "      <th>Hillshade_9am</th>\n",
       "      <th>Hillshade_Noon</th>\n",
       "      <th>Hillshade_3pm</th>\n",
       "      <th>Horizontal_Distance_To_Fire_Points</th>\n",
       "      <th>...</th>\n",
       "      <th>Soil_Type31</th>\n",
       "      <th>Soil_Type32</th>\n",
       "      <th>Soil_Type33</th>\n",
       "      <th>Soil_Type34</th>\n",
       "      <th>Soil_Type35</th>\n",
       "      <th>Soil_Type36</th>\n",
       "      <th>Soil_Type37</th>\n",
       "      <th>Soil_Type38</th>\n",
       "      <th>Soil_Type39</th>\n",
       "      <th>Soil_Type40</th>\n",
       "    </tr>\n",
       "  </thead>\n",
       "  <tbody>\n",
       "    <tr>\n",
       "      <th>0</th>\n",
       "      <td>2763</td>\n",
       "      <td>78</td>\n",
       "      <td>20</td>\n",
       "      <td>377</td>\n",
       "      <td>88</td>\n",
       "      <td>3104</td>\n",
       "      <td>218</td>\n",
       "      <td>213</td>\n",
       "      <td>195</td>\n",
       "      <td>1931</td>\n",
       "      <td>...</td>\n",
       "      <td>0</td>\n",
       "      <td>0</td>\n",
       "      <td>0</td>\n",
       "      <td>0</td>\n",
       "      <td>0</td>\n",
       "      <td>0</td>\n",
       "      <td>0</td>\n",
       "      <td>0</td>\n",
       "      <td>0</td>\n",
       "      <td>0</td>\n",
       "    </tr>\n",
       "    <tr>\n",
       "      <th>1</th>\n",
       "      <td>2826</td>\n",
       "      <td>153</td>\n",
       "      <td>11</td>\n",
       "      <td>264</td>\n",
       "      <td>39</td>\n",
       "      <td>295</td>\n",
       "      <td>219</td>\n",
       "      <td>238</td>\n",
       "      <td>148</td>\n",
       "      <td>2557</td>\n",
       "      <td>...</td>\n",
       "      <td>0</td>\n",
       "      <td>0</td>\n",
       "      <td>0</td>\n",
       "      <td>0</td>\n",
       "      <td>0</td>\n",
       "      <td>0</td>\n",
       "      <td>0</td>\n",
       "      <td>0</td>\n",
       "      <td>0</td>\n",
       "      <td>0</td>\n",
       "    </tr>\n",
       "    <tr>\n",
       "      <th>2</th>\n",
       "      <td>2948</td>\n",
       "      <td>57</td>\n",
       "      <td>19</td>\n",
       "      <td>56</td>\n",
       "      <td>44</td>\n",
       "      <td>852</td>\n",
       "      <td>202</td>\n",
       "      <td>217</td>\n",
       "      <td>163</td>\n",
       "      <td>1803</td>\n",
       "      <td>...</td>\n",
       "      <td>0</td>\n",
       "      <td>0</td>\n",
       "      <td>1</td>\n",
       "      <td>0</td>\n",
       "      <td>0</td>\n",
       "      <td>0</td>\n",
       "      <td>0</td>\n",
       "      <td>0</td>\n",
       "      <td>0</td>\n",
       "      <td>0</td>\n",
       "    </tr>\n",
       "    <tr>\n",
       "      <th>3</th>\n",
       "      <td>2926</td>\n",
       "      <td>119</td>\n",
       "      <td>6</td>\n",
       "      <td>158</td>\n",
       "      <td>134</td>\n",
       "      <td>2136</td>\n",
       "      <td>234</td>\n",
       "      <td>240</td>\n",
       "      <td>142</td>\n",
       "      <td>857</td>\n",
       "      <td>...</td>\n",
       "      <td>0</td>\n",
       "      <td>0</td>\n",
       "      <td>0</td>\n",
       "      <td>0</td>\n",
       "      <td>0</td>\n",
       "      <td>0</td>\n",
       "      <td>0</td>\n",
       "      <td>0</td>\n",
       "      <td>0</td>\n",
       "      <td>0</td>\n",
       "    </tr>\n",
       "    <tr>\n",
       "      <th>4</th>\n",
       "      <td>2690</td>\n",
       "      <td>10</td>\n",
       "      <td>4</td>\n",
       "      <td>38</td>\n",
       "      <td>108</td>\n",
       "      <td>3589</td>\n",
       "      <td>213</td>\n",
       "      <td>221</td>\n",
       "      <td>229</td>\n",
       "      <td>431</td>\n",
       "      <td>...</td>\n",
       "      <td>0</td>\n",
       "      <td>0</td>\n",
       "      <td>0</td>\n",
       "      <td>0</td>\n",
       "      <td>0</td>\n",
       "      <td>0</td>\n",
       "      <td>0</td>\n",
       "      <td>0</td>\n",
       "      <td>0</td>\n",
       "      <td>0</td>\n",
       "    </tr>\n",
       "    <tr>\n",
       "      <th>...</th>\n",
       "      <td>...</td>\n",
       "      <td>...</td>\n",
       "      <td>...</td>\n",
       "      <td>...</td>\n",
       "      <td>...</td>\n",
       "      <td>...</td>\n",
       "      <td>...</td>\n",
       "      <td>...</td>\n",
       "      <td>...</td>\n",
       "      <td>...</td>\n",
       "      <td>...</td>\n",
       "      <td>...</td>\n",
       "      <td>...</td>\n",
       "      <td>...</td>\n",
       "      <td>...</td>\n",
       "      <td>...</td>\n",
       "      <td>...</td>\n",
       "      <td>...</td>\n",
       "      <td>...</td>\n",
       "      <td>...</td>\n",
       "      <td>...</td>\n",
       "    </tr>\n",
       "    <tr>\n",
       "      <th>999995</th>\n",
       "      <td>2974</td>\n",
       "      <td>254</td>\n",
       "      <td>15</td>\n",
       "      <td>146</td>\n",
       "      <td>100</td>\n",
       "      <td>623</td>\n",
       "      <td>222</td>\n",
       "      <td>245</td>\n",
       "      <td>117</td>\n",
       "      <td>2353</td>\n",
       "      <td>...</td>\n",
       "      <td>0</td>\n",
       "      <td>0</td>\n",
       "      <td>0</td>\n",
       "      <td>0</td>\n",
       "      <td>0</td>\n",
       "      <td>0</td>\n",
       "      <td>0</td>\n",
       "      <td>0</td>\n",
       "      <td>0</td>\n",
       "      <td>0</td>\n",
       "    </tr>\n",
       "    <tr>\n",
       "      <th>999996</th>\n",
       "      <td>3180</td>\n",
       "      <td>92</td>\n",
       "      <td>16</td>\n",
       "      <td>93</td>\n",
       "      <td>47</td>\n",
       "      <td>3740</td>\n",
       "      <td>209</td>\n",
       "      <td>201</td>\n",
       "      <td>142</td>\n",
       "      <td>356</td>\n",
       "      <td>...</td>\n",
       "      <td>0</td>\n",
       "      <td>0</td>\n",
       "      <td>0</td>\n",
       "      <td>0</td>\n",
       "      <td>0</td>\n",
       "      <td>0</td>\n",
       "      <td>0</td>\n",
       "      <td>0</td>\n",
       "      <td>1</td>\n",
       "      <td>0</td>\n",
       "    </tr>\n",
       "    <tr>\n",
       "      <th>999997</th>\n",
       "      <td>2684</td>\n",
       "      <td>51</td>\n",
       "      <td>20</td>\n",
       "      <td>34</td>\n",
       "      <td>123</td>\n",
       "      <td>962</td>\n",
       "      <td>199</td>\n",
       "      <td>225</td>\n",
       "      <td>145</td>\n",
       "      <td>350</td>\n",
       "      <td>...</td>\n",
       "      <td>0</td>\n",
       "      <td>0</td>\n",
       "      <td>0</td>\n",
       "      <td>0</td>\n",
       "      <td>1</td>\n",
       "      <td>0</td>\n",
       "      <td>0</td>\n",
       "      <td>0</td>\n",
       "      <td>0</td>\n",
       "      <td>0</td>\n",
       "    </tr>\n",
       "    <tr>\n",
       "      <th>999998</th>\n",
       "      <td>3309</td>\n",
       "      <td>64</td>\n",
       "      <td>12</td>\n",
       "      <td>196</td>\n",
       "      <td>93</td>\n",
       "      <td>2522</td>\n",
       "      <td>226</td>\n",
       "      <td>193</td>\n",
       "      <td>74</td>\n",
       "      <td>3300</td>\n",
       "      <td>...</td>\n",
       "      <td>0</td>\n",
       "      <td>0</td>\n",
       "      <td>0</td>\n",
       "      <td>0</td>\n",
       "      <td>0</td>\n",
       "      <td>0</td>\n",
       "      <td>0</td>\n",
       "      <td>0</td>\n",
       "      <td>0</td>\n",
       "      <td>0</td>\n",
       "    </tr>\n",
       "    <tr>\n",
       "      <th>999999</th>\n",
       "      <td>2543</td>\n",
       "      <td>322</td>\n",
       "      <td>7</td>\n",
       "      <td>162</td>\n",
       "      <td>147</td>\n",
       "      <td>2643</td>\n",
       "      <td>223</td>\n",
       "      <td>222</td>\n",
       "      <td>82</td>\n",
       "      <td>657</td>\n",
       "      <td>...</td>\n",
       "      <td>0</td>\n",
       "      <td>0</td>\n",
       "      <td>0</td>\n",
       "      <td>0</td>\n",
       "      <td>0</td>\n",
       "      <td>0</td>\n",
       "      <td>0</td>\n",
       "      <td>0</td>\n",
       "      <td>0</td>\n",
       "      <td>0</td>\n",
       "    </tr>\n",
       "  </tbody>\n",
       "</table>\n",
       "<p>1000000 rows × 54 columns</p>\n",
       "</div>"
      ],
      "text/plain": [
       "        Elevation  Aspect  Slope  Horizontal_Distance_To_Hydrology  \\\n",
       "0            2763      78     20                               377   \n",
       "1            2826     153     11                               264   \n",
       "2            2948      57     19                                56   \n",
       "3            2926     119      6                               158   \n",
       "4            2690      10      4                                38   \n",
       "...           ...     ...    ...                               ...   \n",
       "999995       2974     254     15                               146   \n",
       "999996       3180      92     16                                93   \n",
       "999997       2684      51     20                                34   \n",
       "999998       3309      64     12                               196   \n",
       "999999       2543     322      7                               162   \n",
       "\n",
       "        Vertical_Distance_To_Hydrology  Horizontal_Distance_To_Roadways  \\\n",
       "0                                   88                             3104   \n",
       "1                                   39                              295   \n",
       "2                                   44                              852   \n",
       "3                                  134                             2136   \n",
       "4                                  108                             3589   \n",
       "...                                ...                              ...   \n",
       "999995                             100                              623   \n",
       "999996                              47                             3740   \n",
       "999997                             123                              962   \n",
       "999998                              93                             2522   \n",
       "999999                             147                             2643   \n",
       "\n",
       "        Hillshade_9am  Hillshade_Noon  Hillshade_3pm  \\\n",
       "0                 218             213            195   \n",
       "1                 219             238            148   \n",
       "2                 202             217            163   \n",
       "3                 234             240            142   \n",
       "4                 213             221            229   \n",
       "...               ...             ...            ...   \n",
       "999995            222             245            117   \n",
       "999996            209             201            142   \n",
       "999997            199             225            145   \n",
       "999998            226             193             74   \n",
       "999999            223             222             82   \n",
       "\n",
       "        Horizontal_Distance_To_Fire_Points  ...  Soil_Type31  Soil_Type32  \\\n",
       "0                                     1931  ...            0            0   \n",
       "1                                     2557  ...            0            0   \n",
       "2                                     1803  ...            0            0   \n",
       "3                                      857  ...            0            0   \n",
       "4                                      431  ...            0            0   \n",
       "...                                    ...  ...          ...          ...   \n",
       "999995                                2353  ...            0            0   \n",
       "999996                                 356  ...            0            0   \n",
       "999997                                 350  ...            0            0   \n",
       "999998                                3300  ...            0            0   \n",
       "999999                                 657  ...            0            0   \n",
       "\n",
       "        Soil_Type33  Soil_Type34  Soil_Type35  Soil_Type36  Soil_Type37  \\\n",
       "0                 0            0            0            0            0   \n",
       "1                 0            0            0            0            0   \n",
       "2                 1            0            0            0            0   \n",
       "3                 0            0            0            0            0   \n",
       "4                 0            0            0            0            0   \n",
       "...             ...          ...          ...          ...          ...   \n",
       "999995            0            0            0            0            0   \n",
       "999996            0            0            0            0            0   \n",
       "999997            0            0            1            0            0   \n",
       "999998            0            0            0            0            0   \n",
       "999999            0            0            0            0            0   \n",
       "\n",
       "        Soil_Type38  Soil_Type39  Soil_Type40  \n",
       "0                 0            0            0  \n",
       "1                 0            0            0  \n",
       "2                 0            0            0  \n",
       "3                 0            0            0  \n",
       "4                 0            0            0  \n",
       "...             ...          ...          ...  \n",
       "999995            0            0            0  \n",
       "999996            0            1            0  \n",
       "999997            0            0            0  \n",
       "999998            0            0            0  \n",
       "999999            0            0            0  \n",
       "\n",
       "[1000000 rows x 54 columns]"
      ]
     },
     "execution_count": 6,
     "metadata": {},
     "output_type": "execute_result"
    }
   ],
   "source": [
    "test_data"
   ]
  },
  {
   "cell_type": "code",
   "execution_count": 27,
   "id": "aea32a49-21eb-44b3-94b3-5f0f41fefeee",
   "metadata": {
    "collapsed": true,
    "jupyter": {
     "outputs_hidden": true
    },
    "tags": []
   },
   "outputs": [
    {
     "data": {
      "text/plain": [
       "Elevation                             False\n",
       "Aspect                                False\n",
       "Slope                                 False\n",
       "Horizontal_Distance_To_Hydrology      False\n",
       "Vertical_Distance_To_Hydrology        False\n",
       "Horizontal_Distance_To_Roadways       False\n",
       "Hillshade_9am                         False\n",
       "Hillshade_Noon                        False\n",
       "Hillshade_3pm                         False\n",
       "Horizontal_Distance_To_Fire_Points    False\n",
       "Wilderness_Area1                      False\n",
       "Wilderness_Area2                      False\n",
       "Wilderness_Area3                      False\n",
       "Wilderness_Area4                      False\n",
       "Soil_Type1                            False\n",
       "Soil_Type2                            False\n",
       "Soil_Type3                            False\n",
       "Soil_Type4                            False\n",
       "Soil_Type5                            False\n",
       "Soil_Type6                            False\n",
       "Soil_Type7                            False\n",
       "Soil_Type8                            False\n",
       "Soil_Type9                            False\n",
       "Soil_Type10                           False\n",
       "Soil_Type11                           False\n",
       "Soil_Type12                           False\n",
       "Soil_Type13                           False\n",
       "Soil_Type14                           False\n",
       "Soil_Type15                           False\n",
       "Soil_Type16                           False\n",
       "Soil_Type17                           False\n",
       "Soil_Type18                           False\n",
       "Soil_Type19                           False\n",
       "Soil_Type20                           False\n",
       "Soil_Type21                           False\n",
       "Soil_Type22                           False\n",
       "Soil_Type23                           False\n",
       "Soil_Type24                           False\n",
       "Soil_Type25                           False\n",
       "Soil_Type26                           False\n",
       "Soil_Type27                           False\n",
       "Soil_Type28                           False\n",
       "Soil_Type29                           False\n",
       "Soil_Type30                           False\n",
       "Soil_Type31                           False\n",
       "Soil_Type32                           False\n",
       "Soil_Type33                           False\n",
       "Soil_Type34                           False\n",
       "Soil_Type35                           False\n",
       "Soil_Type36                           False\n",
       "Soil_Type37                           False\n",
       "Soil_Type38                           False\n",
       "Soil_Type39                           False\n",
       "Soil_Type40                           False\n",
       "dtype: bool"
      ]
     },
     "execution_count": 27,
     "metadata": {},
     "output_type": "execute_result"
    }
   ],
   "source": [
    "# 欠損値チェック\n",
    "test_data.isnull().any()"
   ]
  },
  {
   "cell_type": "code",
   "execution_count": 7,
   "id": "ecf34d41-4de8-4bed-9137-75a993e97ff6",
   "metadata": {
    "tags": []
   },
   "outputs": [
    {
     "data": {
      "text/plain": [
       "(array([1.468136e+06, 2.262087e+06, 0.000000e+00, 1.957120e+05,\n",
       "        0.000000e+00, 3.770000e+02, 1.000000e+00, 0.000000e+00,\n",
       "        1.142600e+04, 6.226100e+04]),\n",
       " array([1. , 1.6, 2.2, 2.8, 3.4, 4. , 4.6, 5.2, 5.8, 6.4, 7. ]),\n",
       " <BarContainer object of 10 artists>)"
      ]
     },
     "execution_count": 7,
     "metadata": {},
     "output_type": "execute_result"
    },
    {
     "data": {
      "image/png": "[encoded data removed]",
      "text/plain": [
       "<Figure size 432x288 with 1 Axes>"
      ]
     },
     "metadata": {
      "needs_background": "light"
     },
     "output_type": "display_data"
    }
   ],
   "source": [
    "plt.hist(train_data['Cover_Type'])"
   ]
  },
  {
   "cell_type": "code",
   "execution_count": 5,
   "id": "6c2a869a-db60-4cdf-bfd6-6cbf0cdd31e5",
   "metadata": {},
   "outputs": [
    {
     "name": "stdout",
     "output_type": "stream",
     "text": [
      "------------- train data -------------\n",
      "Cover_Type1: 1468136\n",
      "Cover_Type2: 2262087\n",
      "Cover_Type3: 195712\n",
      "Cover_Type4: 377\n",
      "Cover_Type5: 1\n",
      "Cover_Type6: 11426\n",
      "Cover_Type7: 62261\n"
     ]
    }
   ],
   "source": [
    "print('------------- train data -------------')\n",
    "for i in range(7):\n",
    "    print(\"Cover_Type{}: {}\".format(i+1, len(train_data[train_data['Cover_Type']==(i+1)])))"
   ]
  },
  {
   "cell_type": "markdown",
   "id": "e373eaab-9723-4ebf-b5db-a90087b402fe",
   "metadata": {},
   "source": [
    "# わかったこと"
   ]
  },
  {
   "cell_type": "markdown",
   "id": "9875f291-2331-4bb7-80f2-1adc92bbd5d7",
   "metadata": {},
   "source": [
    "- 不均衡データによる多クラス分類  \n",
    "  → 評価関数を工夫する  \n",
    "  → マージン最大化を利用する  \n",
    "  → ダウンサンプリング(Type4に合わせる)\n",
    "- 説明変数の一部がスパース  \n",
    "  → 多重対応分析による特徴量抽出  "
   ]
  },
  {
   "cell_type": "markdown",
   "id": "05eeffbd-1fa6-48a7-9e73-3457fbc67b4e",
   "metadata": {
    "tags": []
   },
   "source": [
    "# ベースライン"
   ]
  },
  {
   "cell_type": "markdown",
   "id": "9f380803-961b-4a62-8bdd-7ba863d79741",
   "metadata": {},
   "source": [
    "## 前処理"
   ]
  },
  {
   "cell_type": "code",
   "execution_count": 66,
   "id": "5a5e99d9-9164-4c1f-9744-8a2bcb9bcfab",
   "metadata": {},
   "outputs": [],
   "source": [
    "#説明変数\n",
    "train_ex = train_data.drop('Cover_Type', axis=1)\n",
    "#目的変数\n",
    "train_ob = train_data['Cover_Type']"
   ]
  },
  {
   "cell_type": "code",
   "execution_count": 64,
   "id": "8998384b-6e13-47b6-82ce-07ed576dded5",
   "metadata": {},
   "outputs": [],
   "source": [
    "# 標準化\n",
    "ss = preprocessing.StandardScaler()\n",
    "train_ss = pd.DataFrame(ss.fit_transform(train_ex), index=train_ex.index, columns=train_ex.columns)"
   ]
  },
  {
   "cell_type": "code",
   "execution_count": 70,
   "id": "42c2cfcf-41fc-4897-9120-8fc3cc15c9c5",
   "metadata": {},
   "outputs": [],
   "source": [
    "# 標準化\n",
    "ss = preprocessing.StandardScaler()\n",
    "test_ss = pd.DataFrame(ss.fit_transform(test_data), index=test_data.index, columns=test_data.columns)"
   ]
  },
  {
   "cell_type": "code",
   "execution_count": 65,
   "id": "d88296c0-9156-4c49-8576-3fe9769e90eb",
   "metadata": {},
   "outputs": [
    {
     "data": {
      "text/html": [
       "<div>\n",
       "<style scoped>\n",
       "    .dataframe tbody tr th:only-of-type {\n",
       "        vertical-align: middle;\n",
       "    }\n",
       "\n",
       "    .dataframe tbody tr th {\n",
       "        vertical-align: top;\n",
       "    }\n",
       "\n",
       "    .dataframe thead th {\n",
       "        text-align: right;\n",
       "    }\n",
       "</style>\n",
       "<table border=\"1\" class=\"dataframe\">\n",
       "  <thead>\n",
       "    <tr style=\"text-align: right;\">\n",
       "      <th></th>\n",
       "      <th>Elevation</th>\n",
       "      <th>Aspect</th>\n",
       "      <th>Slope</th>\n",
       "      <th>Horizontal_Distance_To_Hydrology</th>\n",
       "      <th>Vertical_Distance_To_Hydrology</th>\n",
       "      <th>Horizontal_Distance_To_Roadways</th>\n",
       "      <th>Hillshade_9am</th>\n",
       "      <th>Hillshade_Noon</th>\n",
       "      <th>Hillshade_3pm</th>\n",
       "      <th>Horizontal_Distance_To_Fire_Points</th>\n",
       "      <th>...</th>\n",
       "      <th>Soil_Type31</th>\n",
       "      <th>Soil_Type32</th>\n",
       "      <th>Soil_Type33</th>\n",
       "      <th>Soil_Type34</th>\n",
       "      <th>Soil_Type35</th>\n",
       "      <th>Soil_Type36</th>\n",
       "      <th>Soil_Type37</th>\n",
       "      <th>Soil_Type38</th>\n",
       "      <th>Soil_Type39</th>\n",
       "      <th>Soil_Type40</th>\n",
       "    </tr>\n",
       "  </thead>\n",
       "  <tbody>\n",
       "    <tr>\n",
       "      <th>0</th>\n",
       "      <td>0.722400</td>\n",
       "      <td>-1.014774</td>\n",
       "      <td>-0.830439</td>\n",
       "      <td>-1.065177</td>\n",
       "      <td>-0.566768</td>\n",
       "      <td>1.142708</td>\n",
       "      <td>-0.189777</td>\n",
       "      <td>0.581997</td>\n",
       "      <td>1.194297</td>\n",
       "      <td>2.919073</td>\n",
       "      <td>...</td>\n",
       "      <td>-0.168138</td>\n",
       "      <td>-0.197282</td>\n",
       "      <td>-0.198261</td>\n",
       "      <td>-0.110185</td>\n",
       "      <td>-0.127732</td>\n",
       "      <td>-0.104061</td>\n",
       "      <td>-0.111168</td>\n",
       "      <td>-0.206113</td>\n",
       "      <td>-0.202094</td>\n",
       "      <td>-0.180696</td>\n",
       "    </tr>\n",
       "    <tr>\n",
       "      <th>1</th>\n",
       "      <td>0.158480</td>\n",
       "      <td>0.276592</td>\n",
       "      <td>-1.181450</td>\n",
       "      <td>0.038334</td>\n",
       "      <td>-0.332219</td>\n",
       "      <td>1.142708</td>\n",
       "      <td>0.687987</td>\n",
       "      <td>0.851886</td>\n",
       "      <td>-0.796612</td>\n",
       "      <td>3.406827</td>\n",
       "      <td>...</td>\n",
       "      <td>-0.168138</td>\n",
       "      <td>-0.197282</td>\n",
       "      <td>-0.198261</td>\n",
       "      <td>-0.110185</td>\n",
       "      <td>-0.127732</td>\n",
       "      <td>-0.104061</td>\n",
       "      <td>-0.111168</td>\n",
       "      <td>-0.206113</td>\n",
       "      <td>-0.202094</td>\n",
       "      <td>-0.180696</td>\n",
       "    </tr>\n",
       "    <tr>\n",
       "      <th>2</th>\n",
       "      <td>0.435250</td>\n",
       "      <td>-1.260315</td>\n",
       "      <td>-0.947443</td>\n",
       "      <td>0.351731</td>\n",
       "      <td>-0.214944</td>\n",
       "      <td>0.872111</td>\n",
       "      <td>-0.124758</td>\n",
       "      <td>0.581997</td>\n",
       "      <td>-0.087208</td>\n",
       "      <td>3.270256</td>\n",
       "      <td>...</td>\n",
       "      <td>-0.168138</td>\n",
       "      <td>-0.197282</td>\n",
       "      <td>-0.198261</td>\n",
       "      <td>-0.110185</td>\n",
       "      <td>-0.127732</td>\n",
       "      <td>-0.104061</td>\n",
       "      <td>-0.111168</td>\n",
       "      <td>-0.206113</td>\n",
       "      <td>-0.202094</td>\n",
       "      <td>-0.180696</td>\n",
       "    </tr>\n",
       "    <tr>\n",
       "      <th>3</th>\n",
       "      <td>0.144641</td>\n",
       "      <td>1.131439</td>\n",
       "      <td>-0.245420</td>\n",
       "      <td>-0.350102</td>\n",
       "      <td>-0.522790</td>\n",
       "      <td>0.963324</td>\n",
       "      <td>-0.157268</td>\n",
       "      <td>0.761923</td>\n",
       "      <td>0.347588</td>\n",
       "      <td>1.139212</td>\n",
       "      <td>...</td>\n",
       "      <td>-0.168138</td>\n",
       "      <td>-0.197282</td>\n",
       "      <td>-0.198261</td>\n",
       "      <td>-0.110185</td>\n",
       "      <td>-0.127732</td>\n",
       "      <td>-0.104061</td>\n",
       "      <td>-0.111168</td>\n",
       "      <td>-0.206113</td>\n",
       "      <td>-0.202094</td>\n",
       "      <td>-0.180696</td>\n",
       "    </tr>\n",
       "    <tr>\n",
       "      <th>4</th>\n",
       "      <td>-0.256676</td>\n",
       "      <td>0.312968</td>\n",
       "      <td>-0.245420</td>\n",
       "      <td>-0.023463</td>\n",
       "      <td>-0.434834</td>\n",
       "      <td>0.873632</td>\n",
       "      <td>0.622968</td>\n",
       "      <td>0.447052</td>\n",
       "      <td>0.301820</td>\n",
       "      <td>0.940562</td>\n",
       "      <td>...</td>\n",
       "      <td>-0.168138</td>\n",
       "      <td>-0.197282</td>\n",
       "      <td>-0.198261</td>\n",
       "      <td>-0.110185</td>\n",
       "      <td>-0.127732</td>\n",
       "      <td>-0.104061</td>\n",
       "      <td>-0.111168</td>\n",
       "      <td>-0.206113</td>\n",
       "      <td>-0.202094</td>\n",
       "      <td>-0.180696</td>\n",
       "    </tr>\n",
       "    <tr>\n",
       "      <th>...</th>\n",
       "      <td>...</td>\n",
       "      <td>...</td>\n",
       "      <td>...</td>\n",
       "      <td>...</td>\n",
       "      <td>...</td>\n",
       "      <td>...</td>\n",
       "      <td>...</td>\n",
       "      <td>...</td>\n",
       "      <td>...</td>\n",
       "      <td>...</td>\n",
       "      <td>...</td>\n",
       "      <td>...</td>\n",
       "      <td>...</td>\n",
       "      <td>...</td>\n",
       "      <td>...</td>\n",
       "      <td>...</td>\n",
       "      <td>...</td>\n",
       "      <td>...</td>\n",
       "      <td>...</td>\n",
       "      <td>...</td>\n",
       "      <td>...</td>\n",
       "    </tr>\n",
       "    <tr>\n",
       "      <th>3999995</th>\n",
       "      <td>-0.090613</td>\n",
       "      <td>-1.069339</td>\n",
       "      <td>1.158626</td>\n",
       "      <td>-0.972482</td>\n",
       "      <td>0.195517</td>\n",
       "      <td>3.456465</td>\n",
       "      <td>0.915556</td>\n",
       "      <td>0.716941</td>\n",
       "      <td>-0.865264</td>\n",
       "      <td>0.032452</td>\n",
       "      <td>...</td>\n",
       "      <td>-0.168138</td>\n",
       "      <td>-0.197282</td>\n",
       "      <td>-0.198261</td>\n",
       "      <td>-0.110185</td>\n",
       "      <td>-0.127732</td>\n",
       "      <td>-0.104061</td>\n",
       "      <td>-0.111168</td>\n",
       "      <td>-0.206113</td>\n",
       "      <td>-0.202094</td>\n",
       "      <td>-0.180696</td>\n",
       "    </tr>\n",
       "    <tr>\n",
       "      <th>3999996</th>\n",
       "      <td>-0.187483</td>\n",
       "      <td>-0.432750</td>\n",
       "      <td>-0.830439</td>\n",
       "      <td>1.874576</td>\n",
       "      <td>0.459385</td>\n",
       "      <td>2.782252</td>\n",
       "      <td>-0.059738</td>\n",
       "      <td>-0.227671</td>\n",
       "      <td>0.210284</td>\n",
       "      <td>1.136551</td>\n",
       "      <td>...</td>\n",
       "      <td>-0.168138</td>\n",
       "      <td>-0.197282</td>\n",
       "      <td>-0.198261</td>\n",
       "      <td>-0.110185</td>\n",
       "      <td>-0.127732</td>\n",
       "      <td>-0.104061</td>\n",
       "      <td>-0.111168</td>\n",
       "      <td>-0.206113</td>\n",
       "      <td>-0.202094</td>\n",
       "      <td>-0.180696</td>\n",
       "    </tr>\n",
       "    <tr>\n",
       "      <th>3999997</th>\n",
       "      <td>-0.239378</td>\n",
       "      <td>-0.068985</td>\n",
       "      <td>-1.649466</td>\n",
       "      <td>1.049150</td>\n",
       "      <td>0.092902</td>\n",
       "      <td>2.320869</td>\n",
       "      <td>-0.547385</td>\n",
       "      <td>-1.307229</td>\n",
       "      <td>-1.139873</td>\n",
       "      <td>-1.320846</td>\n",
       "      <td>...</td>\n",
       "      <td>-0.168138</td>\n",
       "      <td>-0.197282</td>\n",
       "      <td>-0.198261</td>\n",
       "      <td>-0.110185</td>\n",
       "      <td>-0.127732</td>\n",
       "      <td>-0.104061</td>\n",
       "      <td>-0.111168</td>\n",
       "      <td>-0.206113</td>\n",
       "      <td>4.948200</td>\n",
       "      <td>-0.180696</td>\n",
       "    </tr>\n",
       "    <tr>\n",
       "      <th>3999998</th>\n",
       "      <td>-1.384516</td>\n",
       "      <td>0.240215</td>\n",
       "      <td>0.222595</td>\n",
       "      <td>0.462082</td>\n",
       "      <td>0.503363</td>\n",
       "      <td>0.627358</td>\n",
       "      <td>0.427909</td>\n",
       "      <td>-1.712063</td>\n",
       "      <td>-2.329841</td>\n",
       "      <td>-0.183934</td>\n",
       "      <td>...</td>\n",
       "      <td>-0.168138</td>\n",
       "      <td>-0.197282</td>\n",
       "      <td>-0.198261</td>\n",
       "      <td>-0.110185</td>\n",
       "      <td>-0.127732</td>\n",
       "      <td>-0.104061</td>\n",
       "      <td>-0.111168</td>\n",
       "      <td>-0.206113</td>\n",
       "      <td>-0.202094</td>\n",
       "      <td>-0.180696</td>\n",
       "    </tr>\n",
       "    <tr>\n",
       "      <th>3999999</th>\n",
       "      <td>0.355679</td>\n",
       "      <td>-0.141738</td>\n",
       "      <td>-1.298454</td>\n",
       "      <td>-1.003380</td>\n",
       "      <td>-0.625405</td>\n",
       "      <td>-0.069657</td>\n",
       "      <td>0.037791</td>\n",
       "      <td>-1.082321</td>\n",
       "      <td>1.468905</td>\n",
       "      <td>0.027131</td>\n",
       "      <td>...</td>\n",
       "      <td>-0.168138</td>\n",
       "      <td>-0.197282</td>\n",
       "      <td>-0.198261</td>\n",
       "      <td>-0.110185</td>\n",
       "      <td>-0.127732</td>\n",
       "      <td>-0.104061</td>\n",
       "      <td>-0.111168</td>\n",
       "      <td>-0.206113</td>\n",
       "      <td>-0.202094</td>\n",
       "      <td>-0.180696</td>\n",
       "    </tr>\n",
       "  </tbody>\n",
       "</table>\n",
       "<p>4000000 rows × 54 columns</p>\n",
       "</div>"
      ],
      "text/plain": [
       "         Elevation    Aspect     Slope  Horizontal_Distance_To_Hydrology  \\\n",
       "0         0.722400 -1.014774 -0.830439                         -1.065177   \n",
       "1         0.158480  0.276592 -1.181450                          0.038334   \n",
       "2         0.435250 -1.260315 -0.947443                          0.351731   \n",
       "3         0.144641  1.131439 -0.245420                         -0.350102   \n",
       "4        -0.256676  0.312968 -0.245420                         -0.023463   \n",
       "...            ...       ...       ...                               ...   \n",
       "3999995  -0.090613 -1.069339  1.158626                         -0.972482   \n",
       "3999996  -0.187483 -0.432750 -0.830439                          1.874576   \n",
       "3999997  -0.239378 -0.068985 -1.649466                          1.049150   \n",
       "3999998  -1.384516  0.240215  0.222595                          0.462082   \n",
       "3999999   0.355679 -0.141738 -1.298454                         -1.003380   \n",
       "\n",
       "         Vertical_Distance_To_Hydrology  Horizontal_Distance_To_Roadways  \\\n",
       "0                             -0.566768                         1.142708   \n",
       "1                             -0.332219                         1.142708   \n",
       "2                             -0.214944                         0.872111   \n",
       "3                             -0.522790                         0.963324   \n",
       "4                             -0.434834                         0.873632   \n",
       "...                                 ...                              ...   \n",
       "3999995                        0.195517                         3.456465   \n",
       "3999996                        0.459385                         2.782252   \n",
       "3999997                        0.092902                         2.320869   \n",
       "3999998                        0.503363                         0.627358   \n",
       "3999999                       -0.625405                        -0.069657   \n",
       "\n",
       "         Hillshade_9am  Hillshade_Noon  Hillshade_3pm  \\\n",
       "0            -0.189777        0.581997       1.194297   \n",
       "1             0.687987        0.851886      -0.796612   \n",
       "2            -0.124758        0.581997      -0.087208   \n",
       "3            -0.157268        0.761923       0.347588   \n",
       "4             0.622968        0.447052       0.301820   \n",
       "...                ...             ...            ...   \n",
       "3999995       0.915556        0.716941      -0.865264   \n",
       "3999996      -0.059738       -0.227671       0.210284   \n",
       "3999997      -0.547385       -1.307229      -1.139873   \n",
       "3999998       0.427909       -1.712063      -2.329841   \n",
       "3999999       0.037791       -1.082321       1.468905   \n",
       "\n",
       "         Horizontal_Distance_To_Fire_Points  ...  Soil_Type31  Soil_Type32  \\\n",
       "0                                  2.919073  ...    -0.168138    -0.197282   \n",
       "1                                  3.406827  ...    -0.168138    -0.197282   \n",
       "2                                  3.270256  ...    -0.168138    -0.197282   \n",
       "3                                  1.139212  ...    -0.168138    -0.197282   \n",
       "4                                  0.940562  ...    -0.168138    -0.197282   \n",
       "...                                     ...  ...          ...          ...   \n",
       "3999995                            0.032452  ...    -0.168138    -0.197282   \n",
       "3999996                            1.136551  ...    -0.168138    -0.197282   \n",
       "3999997                           -1.320846  ...    -0.168138    -0.197282   \n",
       "3999998                           -0.183934  ...    -0.168138    -0.197282   \n",
       "3999999                            0.027131  ...    -0.168138    -0.197282   \n",
       "\n",
       "         Soil_Type33  Soil_Type34  Soil_Type35  Soil_Type36  Soil_Type37  \\\n",
       "0          -0.198261    -0.110185    -0.127732    -0.104061    -0.111168   \n",
       "1          -0.198261    -0.110185    -0.127732    -0.104061    -0.111168   \n",
       "2          -0.198261    -0.110185    -0.127732    -0.104061    -0.111168   \n",
       "3          -0.198261    -0.110185    -0.127732    -0.104061    -0.111168   \n",
       "4          -0.198261    -0.110185    -0.127732    -0.104061    -0.111168   \n",
       "...              ...          ...          ...          ...          ...   \n",
       "3999995    -0.198261    -0.110185    -0.127732    -0.104061    -0.111168   \n",
       "3999996    -0.198261    -0.110185    -0.127732    -0.104061    -0.111168   \n",
       "3999997    -0.198261    -0.110185    -0.127732    -0.104061    -0.111168   \n",
       "3999998    -0.198261    -0.110185    -0.127732    -0.104061    -0.111168   \n",
       "3999999    -0.198261    -0.110185    -0.127732    -0.104061    -0.111168   \n",
       "\n",
       "         Soil_Type38  Soil_Type39  Soil_Type40  \n",
       "0          -0.206113    -0.202094    -0.180696  \n",
       "1          -0.206113    -0.202094    -0.180696  \n",
       "2          -0.206113    -0.202094    -0.180696  \n",
       "3          -0.206113    -0.202094    -0.180696  \n",
       "4          -0.206113    -0.202094    -0.180696  \n",
       "...              ...          ...          ...  \n",
       "3999995    -0.206113    -0.202094    -0.180696  \n",
       "3999996    -0.206113    -0.202094    -0.180696  \n",
       "3999997    -0.206113     4.948200    -0.180696  \n",
       "3999998    -0.206113    -0.202094    -0.180696  \n",
       "3999999    -0.206113    -0.202094    -0.180696  \n",
       "\n",
       "[4000000 rows x 54 columns]"
      ]
     },
     "execution_count": 65,
     "metadata": {},
     "output_type": "execute_result"
    }
   ],
   "source": [
    "train_ss"
   ]
  },
  {
   "cell_type": "code",
   "execution_count": 71,
   "id": "e2dad997-ae11-4544-9643-a2dd180ccbae",
   "metadata": {},
   "outputs": [
    {
     "data": {
      "text/html": [
       "<div>\n",
       "<style scoped>\n",
       "    .dataframe tbody tr th:only-of-type {\n",
       "        vertical-align: middle;\n",
       "    }\n",
       "\n",
       "    .dataframe tbody tr th {\n",
       "        vertical-align: top;\n",
       "    }\n",
       "\n",
       "    .dataframe thead th {\n",
       "        text-align: right;\n",
       "    }\n",
       "</style>\n",
       "<table border=\"1\" class=\"dataframe\">\n",
       "  <thead>\n",
       "    <tr style=\"text-align: right;\">\n",
       "      <th></th>\n",
       "      <th>Elevation</th>\n",
       "      <th>Aspect</th>\n",
       "      <th>Slope</th>\n",
       "      <th>Horizontal_Distance_To_Hydrology</th>\n",
       "      <th>Vertical_Distance_To_Hydrology</th>\n",
       "      <th>Horizontal_Distance_To_Roadways</th>\n",
       "      <th>Hillshade_9am</th>\n",
       "      <th>Hillshade_Noon</th>\n",
       "      <th>Hillshade_3pm</th>\n",
       "      <th>Horizontal_Distance_To_Fire_Points</th>\n",
       "      <th>...</th>\n",
       "      <th>Soil_Type31</th>\n",
       "      <th>Soil_Type32</th>\n",
       "      <th>Soil_Type33</th>\n",
       "      <th>Soil_Type34</th>\n",
       "      <th>Soil_Type35</th>\n",
       "      <th>Soil_Type36</th>\n",
       "      <th>Soil_Type37</th>\n",
       "      <th>Soil_Type38</th>\n",
       "      <th>Soil_Type39</th>\n",
       "      <th>Soil_Type40</th>\n",
       "    </tr>\n",
       "  </thead>\n",
       "  <tbody>\n",
       "    <tr>\n",
       "      <th>0</th>\n",
       "      <td>-0.602909</td>\n",
       "      <td>-0.664981</td>\n",
       "      <td>0.600277</td>\n",
       "      <td>0.494061</td>\n",
       "      <td>0.532977</td>\n",
       "      <td>1.011325</td>\n",
       "      <td>0.202692</td>\n",
       "      <td>-0.386123</td>\n",
       "      <td>1.214559</td>\n",
       "      <td>0.219114</td>\n",
       "      <td>...</td>\n",
       "      <td>-0.174766</td>\n",
       "      <td>-0.213039</td>\n",
       "      <td>-0.205730</td>\n",
       "      <td>-0.110926</td>\n",
       "      <td>-0.126564</td>\n",
       "      <td>-0.103974</td>\n",
       "      <td>-0.1105</td>\n",
       "      <td>-0.212982</td>\n",
       "      <td>-0.203701</td>\n",
       "      <td>-0.184089</td>\n",
       "    </tr>\n",
       "    <tr>\n",
       "      <th>1</th>\n",
       "      <td>-0.419062</td>\n",
       "      <td>0.006883</td>\n",
       "      <td>-0.463930</td>\n",
       "      <td>-0.001615</td>\n",
       "      <td>-0.182141</td>\n",
       "      <td>-1.031701</td>\n",
       "      <td>0.234661</td>\n",
       "      <td>0.752728</td>\n",
       "      <td>0.179271</td>\n",
       "      <td>0.735520</td>\n",
       "      <td>...</td>\n",
       "      <td>-0.174766</td>\n",
       "      <td>-0.213039</td>\n",
       "      <td>-0.205730</td>\n",
       "      <td>-0.110926</td>\n",
       "      <td>-0.126564</td>\n",
       "      <td>-0.103974</td>\n",
       "      <td>-0.1105</td>\n",
       "      <td>-0.212982</td>\n",
       "      <td>-0.203701</td>\n",
       "      <td>-0.184089</td>\n",
       "    </tr>\n",
       "    <tr>\n",
       "      <th>2</th>\n",
       "      <td>-0.063040</td>\n",
       "      <td>-0.853103</td>\n",
       "      <td>0.482031</td>\n",
       "      <td>-0.914009</td>\n",
       "      <td>-0.109170</td>\n",
       "      <td>-0.626587</td>\n",
       "      <td>-0.308810</td>\n",
       "      <td>-0.203907</td>\n",
       "      <td>0.509682</td>\n",
       "      <td>0.113523</td>\n",
       "      <td>...</td>\n",
       "      <td>-0.174766</td>\n",
       "      <td>-0.213039</td>\n",
       "      <td>4.860751</td>\n",
       "      <td>-0.110926</td>\n",
       "      <td>-0.126564</td>\n",
       "      <td>-0.103974</td>\n",
       "      <td>-0.1105</td>\n",
       "      <td>-0.212982</td>\n",
       "      <td>-0.203701</td>\n",
       "      <td>-0.184089</td>\n",
       "    </tr>\n",
       "    <tr>\n",
       "      <th>3</th>\n",
       "      <td>-0.127241</td>\n",
       "      <td>-0.297695</td>\n",
       "      <td>-1.055157</td>\n",
       "      <td>-0.466585</td>\n",
       "      <td>1.204312</td>\n",
       "      <td>0.307285</td>\n",
       "      <td>0.714194</td>\n",
       "      <td>0.843836</td>\n",
       "      <td>0.047107</td>\n",
       "      <td>-0.666860</td>\n",
       "      <td>...</td>\n",
       "      <td>-0.174766</td>\n",
       "      <td>-0.213039</td>\n",
       "      <td>-0.205730</td>\n",
       "      <td>-0.110926</td>\n",
       "      <td>-0.126564</td>\n",
       "      <td>-0.103974</td>\n",
       "      <td>-0.1105</td>\n",
       "      <td>-0.212982</td>\n",
       "      <td>-0.203701</td>\n",
       "      <td>-0.184089</td>\n",
       "    </tr>\n",
       "    <tr>\n",
       "      <th>4</th>\n",
       "      <td>-0.815938</td>\n",
       "      <td>-1.274138</td>\n",
       "      <td>-1.291647</td>\n",
       "      <td>-0.992966</td>\n",
       "      <td>0.824862</td>\n",
       "      <td>1.364072</td>\n",
       "      <td>0.042848</td>\n",
       "      <td>-0.021691</td>\n",
       "      <td>1.963491</td>\n",
       "      <td>-1.018280</td>\n",
       "      <td>...</td>\n",
       "      <td>-0.174766</td>\n",
       "      <td>-0.213039</td>\n",
       "      <td>-0.205730</td>\n",
       "      <td>-0.110926</td>\n",
       "      <td>-0.126564</td>\n",
       "      <td>-0.103974</td>\n",
       "      <td>-0.1105</td>\n",
       "      <td>-0.212982</td>\n",
       "      <td>-0.203701</td>\n",
       "      <td>-0.184089</td>\n",
       "    </tr>\n",
       "    <tr>\n",
       "      <th>...</th>\n",
       "      <td>...</td>\n",
       "      <td>...</td>\n",
       "      <td>...</td>\n",
       "      <td>...</td>\n",
       "      <td>...</td>\n",
       "      <td>...</td>\n",
       "      <td>...</td>\n",
       "      <td>...</td>\n",
       "      <td>...</td>\n",
       "      <td>...</td>\n",
       "      <td>...</td>\n",
       "      <td>...</td>\n",
       "      <td>...</td>\n",
       "      <td>...</td>\n",
       "      <td>...</td>\n",
       "      <td>...</td>\n",
       "      <td>...</td>\n",
       "      <td>...</td>\n",
       "      <td>...</td>\n",
       "      <td>...</td>\n",
       "      <td>...</td>\n",
       "    </tr>\n",
       "    <tr>\n",
       "      <th>999995</th>\n",
       "      <td>0.012833</td>\n",
       "      <td>0.911661</td>\n",
       "      <td>0.009050</td>\n",
       "      <td>-0.519223</td>\n",
       "      <td>0.708108</td>\n",
       "      <td>-0.793142</td>\n",
       "      <td>0.330568</td>\n",
       "      <td>1.071607</td>\n",
       "      <td>-0.503579</td>\n",
       "      <td>0.567235</td>\n",
       "      <td>...</td>\n",
       "      <td>-0.174766</td>\n",
       "      <td>-0.213039</td>\n",
       "      <td>-0.205730</td>\n",
       "      <td>-0.110926</td>\n",
       "      <td>-0.126564</td>\n",
       "      <td>-0.103974</td>\n",
       "      <td>-0.1105</td>\n",
       "      <td>-0.212982</td>\n",
       "      <td>-0.203701</td>\n",
       "      <td>-0.184089</td>\n",
       "    </tr>\n",
       "    <tr>\n",
       "      <th>999996</th>\n",
       "      <td>0.613984</td>\n",
       "      <td>-0.539567</td>\n",
       "      <td>0.127296</td>\n",
       "      <td>-0.751708</td>\n",
       "      <td>-0.065388</td>\n",
       "      <td>1.473897</td>\n",
       "      <td>-0.085028</td>\n",
       "      <td>-0.932772</td>\n",
       "      <td>0.047107</td>\n",
       "      <td>-1.080150</td>\n",
       "      <td>...</td>\n",
       "      <td>-0.174766</td>\n",
       "      <td>-0.213039</td>\n",
       "      <td>-0.205730</td>\n",
       "      <td>-0.110926</td>\n",
       "      <td>-0.126564</td>\n",
       "      <td>-0.103974</td>\n",
       "      <td>-0.1105</td>\n",
       "      <td>-0.212982</td>\n",
       "      <td>4.909152</td>\n",
       "      <td>-0.184089</td>\n",
       "    </tr>\n",
       "    <tr>\n",
       "      <th>999997</th>\n",
       "      <td>-0.833448</td>\n",
       "      <td>-0.906852</td>\n",
       "      <td>0.600277</td>\n",
       "      <td>-1.010512</td>\n",
       "      <td>1.043775</td>\n",
       "      <td>-0.546582</td>\n",
       "      <td>-0.404717</td>\n",
       "      <td>0.160525</td>\n",
       "      <td>0.113189</td>\n",
       "      <td>-1.085100</td>\n",
       "      <td>...</td>\n",
       "      <td>-0.174766</td>\n",
       "      <td>-0.213039</td>\n",
       "      <td>-0.205730</td>\n",
       "      <td>-0.110926</td>\n",
       "      <td>7.901116</td>\n",
       "      <td>-0.103974</td>\n",
       "      <td>-0.1105</td>\n",
       "      <td>-0.212982</td>\n",
       "      <td>-0.203701</td>\n",
       "      <td>-0.184089</td>\n",
       "    </tr>\n",
       "    <tr>\n",
       "      <th>999998</th>\n",
       "      <td>0.990433</td>\n",
       "      <td>-0.790396</td>\n",
       "      <td>-0.345685</td>\n",
       "      <td>-0.299898</td>\n",
       "      <td>0.605948</td>\n",
       "      <td>0.588028</td>\n",
       "      <td>0.458443</td>\n",
       "      <td>-1.297204</td>\n",
       "      <td>-1.450757</td>\n",
       "      <td>1.348443</td>\n",
       "      <td>...</td>\n",
       "      <td>-0.174766</td>\n",
       "      <td>-0.213039</td>\n",
       "      <td>-0.205730</td>\n",
       "      <td>-0.110926</td>\n",
       "      <td>-0.126564</td>\n",
       "      <td>-0.103974</td>\n",
       "      <td>-0.1105</td>\n",
       "      <td>-0.212982</td>\n",
       "      <td>-0.203701</td>\n",
       "      <td>-0.184089</td>\n",
       "    </tr>\n",
       "    <tr>\n",
       "      <th>999999</th>\n",
       "      <td>-1.244915</td>\n",
       "      <td>1.520818</td>\n",
       "      <td>-0.936911</td>\n",
       "      <td>-0.449039</td>\n",
       "      <td>1.394037</td>\n",
       "      <td>0.676033</td>\n",
       "      <td>0.362536</td>\n",
       "      <td>0.023863</td>\n",
       "      <td>-1.274538</td>\n",
       "      <td>-0.831846</td>\n",
       "      <td>...</td>\n",
       "      <td>-0.174766</td>\n",
       "      <td>-0.213039</td>\n",
       "      <td>-0.205730</td>\n",
       "      <td>-0.110926</td>\n",
       "      <td>-0.126564</td>\n",
       "      <td>-0.103974</td>\n",
       "      <td>-0.1105</td>\n",
       "      <td>-0.212982</td>\n",
       "      <td>-0.203701</td>\n",
       "      <td>-0.184089</td>\n",
       "    </tr>\n",
       "  </tbody>\n",
       "</table>\n",
       "<p>1000000 rows × 54 columns</p>\n",
       "</div>"
      ],
      "text/plain": [
       "        Elevation    Aspect     Slope  Horizontal_Distance_To_Hydrology  \\\n",
       "0       -0.602909 -0.664981  0.600277                          0.494061   \n",
       "1       -0.419062  0.006883 -0.463930                         -0.001615   \n",
       "2       -0.063040 -0.853103  0.482031                         -0.914009   \n",
       "3       -0.127241 -0.297695 -1.055157                         -0.466585   \n",
       "4       -0.815938 -1.274138 -1.291647                         -0.992966   \n",
       "...           ...       ...       ...                               ...   \n",
       "999995   0.012833  0.911661  0.009050                         -0.519223   \n",
       "999996   0.613984 -0.539567  0.127296                         -0.751708   \n",
       "999997  -0.833448 -0.906852  0.600277                         -1.010512   \n",
       "999998   0.990433 -0.790396 -0.345685                         -0.299898   \n",
       "999999  -1.244915  1.520818 -0.936911                         -0.449039   \n",
       "\n",
       "        Vertical_Distance_To_Hydrology  Horizontal_Distance_To_Roadways  \\\n",
       "0                             0.532977                         1.011325   \n",
       "1                            -0.182141                        -1.031701   \n",
       "2                            -0.109170                        -0.626587   \n",
       "3                             1.204312                         0.307285   \n",
       "4                             0.824862                         1.364072   \n",
       "...                                ...                              ...   \n",
       "999995                        0.708108                        -0.793142   \n",
       "999996                       -0.065388                         1.473897   \n",
       "999997                        1.043775                        -0.546582   \n",
       "999998                        0.605948                         0.588028   \n",
       "999999                        1.394037                         0.676033   \n",
       "\n",
       "        Hillshade_9am  Hillshade_Noon  Hillshade_3pm  \\\n",
       "0            0.202692       -0.386123       1.214559   \n",
       "1            0.234661        0.752728       0.179271   \n",
       "2           -0.308810       -0.203907       0.509682   \n",
       "3            0.714194        0.843836       0.047107   \n",
       "4            0.042848       -0.021691       1.963491   \n",
       "...               ...             ...            ...   \n",
       "999995       0.330568        1.071607      -0.503579   \n",
       "999996      -0.085028       -0.932772       0.047107   \n",
       "999997      -0.404717        0.160525       0.113189   \n",
       "999998       0.458443       -1.297204      -1.450757   \n",
       "999999       0.362536        0.023863      -1.274538   \n",
       "\n",
       "        Horizontal_Distance_To_Fire_Points  ...  Soil_Type31  Soil_Type32  \\\n",
       "0                                 0.219114  ...    -0.174766    -0.213039   \n",
       "1                                 0.735520  ...    -0.174766    -0.213039   \n",
       "2                                 0.113523  ...    -0.174766    -0.213039   \n",
       "3                                -0.666860  ...    -0.174766    -0.213039   \n",
       "4                                -1.018280  ...    -0.174766    -0.213039   \n",
       "...                                    ...  ...          ...          ...   \n",
       "999995                            0.567235  ...    -0.174766    -0.213039   \n",
       "999996                           -1.080150  ...    -0.174766    -0.213039   \n",
       "999997                           -1.085100  ...    -0.174766    -0.213039   \n",
       "999998                            1.348443  ...    -0.174766    -0.213039   \n",
       "999999                           -0.831846  ...    -0.174766    -0.213039   \n",
       "\n",
       "        Soil_Type33  Soil_Type34  Soil_Type35  Soil_Type36  Soil_Type37  \\\n",
       "0         -0.205730    -0.110926    -0.126564    -0.103974      -0.1105   \n",
       "1         -0.205730    -0.110926    -0.126564    -0.103974      -0.1105   \n",
       "2          4.860751    -0.110926    -0.126564    -0.103974      -0.1105   \n",
       "3         -0.205730    -0.110926    -0.126564    -0.103974      -0.1105   \n",
       "4         -0.205730    -0.110926    -0.126564    -0.103974      -0.1105   \n",
       "...             ...          ...          ...          ...          ...   \n",
       "999995    -0.205730    -0.110926    -0.126564    -0.103974      -0.1105   \n",
       "999996    -0.205730    -0.110926    -0.126564    -0.103974      -0.1105   \n",
       "999997    -0.205730    -0.110926     7.901116    -0.103974      -0.1105   \n",
       "999998    -0.205730    -0.110926    -0.126564    -0.103974      -0.1105   \n",
       "999999    -0.205730    -0.110926    -0.126564    -0.103974      -0.1105   \n",
       "\n",
       "        Soil_Type38  Soil_Type39  Soil_Type40  \n",
       "0         -0.212982    -0.203701    -0.184089  \n",
       "1         -0.212982    -0.203701    -0.184089  \n",
       "2         -0.212982    -0.203701    -0.184089  \n",
       "3         -0.212982    -0.203701    -0.184089  \n",
       "4         -0.212982    -0.203701    -0.184089  \n",
       "...             ...          ...          ...  \n",
       "999995    -0.212982    -0.203701    -0.184089  \n",
       "999996    -0.212982     4.909152    -0.184089  \n",
       "999997    -0.212982    -0.203701    -0.184089  \n",
       "999998    -0.212982    -0.203701    -0.184089  \n",
       "999999    -0.212982    -0.203701    -0.184089  \n",
       "\n",
       "[1000000 rows x 54 columns]"
      ]
     },
     "execution_count": 71,
     "metadata": {},
     "output_type": "execute_result"
    }
   ],
   "source": [
    "test_ss"
   ]
  },
  {
   "cell_type": "markdown",
   "id": "ae7f2c9e-fa00-4d55-b5c2-6e2a9c696dfc",
   "metadata": {},
   "source": [
    "## モデル"
   ]
  },
  {
   "cell_type": "code",
   "execution_count": 68,
   "id": "af0ab819-7e82-476e-8ac0-554bf7ca5214",
   "metadata": {},
   "outputs": [],
   "source": [
    "lgbm = lightgbm.LGBMClassifier()"
   ]
  },
  {
   "cell_type": "code",
   "execution_count": 69,
   "id": "c435ce5a-0b6d-4973-bbd5-345e101439e9",
   "metadata": {},
   "outputs": [
    {
     "data": {
      "text/plain": [
       "LGBMClassifier()"
      ]
     },
     "execution_count": 69,
     "metadata": {},
     "output_type": "execute_result"
    }
   ],
   "source": [
    "lgbm.fit(train_ss, train_ob)"
   ]
  },
  {
   "cell_type": "code",
   "execution_count": 73,
   "id": "99bebe68-7d94-427d-8bfc-836d0f88140d",
   "metadata": {},
   "outputs": [],
   "source": [
    "y_pred = lgbm.predict(test_ss)"
   ]
  },
  {
   "cell_type": "code",
   "execution_count": 79,
   "id": "d0b46144-4528-4f04-8c84-752551f22e9e",
   "metadata": {},
   "outputs": [],
   "source": [
    "submission = pd.DataFrame([np.arange(4000000,5000000), y_pred], index=['Id','Cover_Type']).T"
   ]
  },
  {
   "cell_type": "code",
   "execution_count": 83,
   "id": "f93539ab-00e6-4a5e-b524-d233284bf2fa",
   "metadata": {},
   "outputs": [],
   "source": [
    "submission.to_csv(SUBMISSION_PATH+\"baseline.csv\", index=False)"
   ]
  },
  {
   "cell_type": "markdown",
   "id": "09158146-f51b-4ca7-8a44-0ff8af745a5f",
   "metadata": {},
   "source": [
    "評価値: 0.89983"
   ]
  },
  {
   "cell_type": "markdown",
   "id": "f7b07b95-d279-4d1a-b019-0d6fba343ce1",
   "metadata": {
    "tags": []
   },
   "source": [
    "# 実験"
   ]
  },
  {
   "cell_type": "markdown",
   "id": "4bb9257e-1882-4b6f-8603-796916ab10fe",
   "metadata": {},
   "source": [
    "やることとして\n",
    "1. ダウンサンプリング: trainデータをダウンサンプリング(Type:4に合わせる)\n",
    "1. ~~多重対応分析: trainとtestを対象に，バイナリ変数に多重対応分析~~\n",
    "    1. ~~一度にできないので，ランダムサンプリングし，最後に平均する~~\n",
    "    1. ~~標準化: 全データに対して標準化を適用~~  \n",
    "    1. ~~ここで，trainとtestを別途保存する~~\n",
    "1. 主成分分析: あんま意味ないと思うけど，一応やっとく  \n",
    "    1. 標準化: 全データに対して標準化を適用  \n",
    "    1. ここで，trainとtestを別途保存する\n",
    "1. アンサンブル学習: アンサンブル学習(LightGBM, SVMとか？)\n",
    "    1. とりあえず，いろんなモデルを試してみよう！  \n",
    "    1. アンサンブルに使うモデルを選定\n",
    "    1. パラメータチューニング\n",
    "1. testデータの適用"
   ]
  },
  {
   "cell_type": "markdown",
   "id": "0ff9dfc2-13f4-4429-91d4-cfa27c33d8fc",
   "metadata": {},
   "source": [
    "## ダウンサンプリング"
   ]
  },
  {
   "cell_type": "code",
   "execution_count": 46,
   "id": "bd7a243a-afdb-40d6-8287-dab01744ca2e",
   "metadata": {},
   "outputs": [],
   "source": [
    "# ランダムサンプリングでやります\n",
    "\n",
    "train_ds = []\n",
    "for i in range(7):\n",
    "    cover_type = train_data[train_data['Cover_Type']==(i+1)]\n",
    "    if (i+1) == 5:\n",
    "        train_ds.append(cover_type)\n",
    "        continue\n",
    "    train_ds.append(cover_type.sample(n=377, random_state=0))\n",
    "train_ds = pd.concat(train_ds).reset_index(drop=True)"
   ]
  },
  {
   "cell_type": "code",
   "execution_count": 47,
   "id": "c10a7df9-1e91-452a-9617-8b2e2fa9400c",
   "metadata": {},
   "outputs": [
    {
     "data": {
      "text/html": [
       "<div>\n",
       "<style scoped>\n",
       "    .dataframe tbody tr th:only-of-type {\n",
       "        vertical-align: middle;\n",
       "    }\n",
       "\n",
       "    .dataframe tbody tr th {\n",
       "        vertical-align: top;\n",
       "    }\n",
       "\n",
       "    .dataframe thead th {\n",
       "        text-align: right;\n",
       "    }\n",
       "</style>\n",
       "<table border=\"1\" class=\"dataframe\">\n",
       "  <thead>\n",
       "    <tr style=\"text-align: right;\">\n",
       "      <th></th>\n",
       "      <th>Elevation</th>\n",
       "      <th>Aspect</th>\n",
       "      <th>Slope</th>\n",
       "      <th>Horizontal_Distance_To_Hydrology</th>\n",
       "      <th>Vertical_Distance_To_Hydrology</th>\n",
       "      <th>Horizontal_Distance_To_Roadways</th>\n",
       "      <th>Hillshade_9am</th>\n",
       "      <th>Hillshade_Noon</th>\n",
       "      <th>Hillshade_3pm</th>\n",
       "      <th>Horizontal_Distance_To_Fire_Points</th>\n",
       "      <th>...</th>\n",
       "      <th>Soil_Type32</th>\n",
       "      <th>Soil_Type33</th>\n",
       "      <th>Soil_Type34</th>\n",
       "      <th>Soil_Type35</th>\n",
       "      <th>Soil_Type36</th>\n",
       "      <th>Soil_Type37</th>\n",
       "      <th>Soil_Type38</th>\n",
       "      <th>Soil_Type39</th>\n",
       "      <th>Soil_Type40</th>\n",
       "      <th>Cover_Type</th>\n",
       "    </tr>\n",
       "  </thead>\n",
       "  <tbody>\n",
       "    <tr>\n",
       "      <th>0</th>\n",
       "      <td>3253</td>\n",
       "      <td>2</td>\n",
       "      <td>9</td>\n",
       "      <td>119</td>\n",
       "      <td>8</td>\n",
       "      <td>1977</td>\n",
       "      <td>246</td>\n",
       "      <td>212</td>\n",
       "      <td>132</td>\n",
       "      <td>6804</td>\n",
       "      <td>...</td>\n",
       "      <td>0</td>\n",
       "      <td>0</td>\n",
       "      <td>0</td>\n",
       "      <td>0</td>\n",
       "      <td>0</td>\n",
       "      <td>0</td>\n",
       "      <td>0</td>\n",
       "      <td>0</td>\n",
       "      <td>0</td>\n",
       "      <td>1</td>\n",
       "    </tr>\n",
       "    <tr>\n",
       "      <th>1</th>\n",
       "      <td>3211</td>\n",
       "      <td>86</td>\n",
       "      <td>13</td>\n",
       "      <td>353</td>\n",
       "      <td>22</td>\n",
       "      <td>1304</td>\n",
       "      <td>215</td>\n",
       "      <td>223</td>\n",
       "      <td>-6</td>\n",
       "      <td>2540</td>\n",
       "      <td>...</td>\n",
       "      <td>0</td>\n",
       "      <td>0</td>\n",
       "      <td>0</td>\n",
       "      <td>0</td>\n",
       "      <td>0</td>\n",
       "      <td>0</td>\n",
       "      <td>0</td>\n",
       "      <td>0</td>\n",
       "      <td>0</td>\n",
       "      <td>1</td>\n",
       "    </tr>\n",
       "    <tr>\n",
       "      <th>2</th>\n",
       "      <td>3261</td>\n",
       "      <td>160</td>\n",
       "      <td>13</td>\n",
       "      <td>1344</td>\n",
       "      <td>20</td>\n",
       "      <td>3340</td>\n",
       "      <td>226</td>\n",
       "      <td>242</td>\n",
       "      <td>141</td>\n",
       "      <td>2571</td>\n",
       "      <td>...</td>\n",
       "      <td>0</td>\n",
       "      <td>0</td>\n",
       "      <td>0</td>\n",
       "      <td>0</td>\n",
       "      <td>0</td>\n",
       "      <td>0</td>\n",
       "      <td>0</td>\n",
       "      <td>0</td>\n",
       "      <td>0</td>\n",
       "      <td>1</td>\n",
       "    </tr>\n",
       "    <tr>\n",
       "      <th>3</th>\n",
       "      <td>3485</td>\n",
       "      <td>23</td>\n",
       "      <td>23</td>\n",
       "      <td>179</td>\n",
       "      <td>100</td>\n",
       "      <td>3321</td>\n",
       "      <td>203</td>\n",
       "      <td>239</td>\n",
       "      <td>174</td>\n",
       "      <td>1983</td>\n",
       "      <td>...</td>\n",
       "      <td>0</td>\n",
       "      <td>0</td>\n",
       "      <td>0</td>\n",
       "      <td>0</td>\n",
       "      <td>0</td>\n",
       "      <td>0</td>\n",
       "      <td>0</td>\n",
       "      <td>0</td>\n",
       "      <td>0</td>\n",
       "      <td>1</td>\n",
       "    </tr>\n",
       "    <tr>\n",
       "      <th>4</th>\n",
       "      <td>3371</td>\n",
       "      <td>19</td>\n",
       "      <td>17</td>\n",
       "      <td>352</td>\n",
       "      <td>22</td>\n",
       "      <td>3995</td>\n",
       "      <td>167</td>\n",
       "      <td>220</td>\n",
       "      <td>114</td>\n",
       "      <td>2175</td>\n",
       "      <td>...</td>\n",
       "      <td>0</td>\n",
       "      <td>0</td>\n",
       "      <td>0</td>\n",
       "      <td>0</td>\n",
       "      <td>0</td>\n",
       "      <td>0</td>\n",
       "      <td>0</td>\n",
       "      <td>0</td>\n",
       "      <td>0</td>\n",
       "      <td>1</td>\n",
       "    </tr>\n",
       "    <tr>\n",
       "      <th>...</th>\n",
       "      <td>...</td>\n",
       "      <td>...</td>\n",
       "      <td>...</td>\n",
       "      <td>...</td>\n",
       "      <td>...</td>\n",
       "      <td>...</td>\n",
       "      <td>...</td>\n",
       "      <td>...</td>\n",
       "      <td>...</td>\n",
       "      <td>...</td>\n",
       "      <td>...</td>\n",
       "      <td>...</td>\n",
       "      <td>...</td>\n",
       "      <td>...</td>\n",
       "      <td>...</td>\n",
       "      <td>...</td>\n",
       "      <td>...</td>\n",
       "      <td>...</td>\n",
       "      <td>...</td>\n",
       "      <td>...</td>\n",
       "      <td>...</td>\n",
       "    </tr>\n",
       "    <tr>\n",
       "      <th>2258</th>\n",
       "      <td>3583</td>\n",
       "      <td>42</td>\n",
       "      <td>15</td>\n",
       "      <td>63</td>\n",
       "      <td>80</td>\n",
       "      <td>3306</td>\n",
       "      <td>228</td>\n",
       "      <td>232</td>\n",
       "      <td>160</td>\n",
       "      <td>1137</td>\n",
       "      <td>...</td>\n",
       "      <td>0</td>\n",
       "      <td>0</td>\n",
       "      <td>0</td>\n",
       "      <td>0</td>\n",
       "      <td>0</td>\n",
       "      <td>0</td>\n",
       "      <td>1</td>\n",
       "      <td>0</td>\n",
       "      <td>0</td>\n",
       "      <td>7</td>\n",
       "    </tr>\n",
       "    <tr>\n",
       "      <th>2259</th>\n",
       "      <td>3333</td>\n",
       "      <td>64</td>\n",
       "      <td>4</td>\n",
       "      <td>446</td>\n",
       "      <td>9</td>\n",
       "      <td>993</td>\n",
       "      <td>224</td>\n",
       "      <td>211</td>\n",
       "      <td>183</td>\n",
       "      <td>104</td>\n",
       "      <td>...</td>\n",
       "      <td>0</td>\n",
       "      <td>0</td>\n",
       "      <td>0</td>\n",
       "      <td>1</td>\n",
       "      <td>0</td>\n",
       "      <td>0</td>\n",
       "      <td>0</td>\n",
       "      <td>0</td>\n",
       "      <td>0</td>\n",
       "      <td>7</td>\n",
       "    </tr>\n",
       "    <tr>\n",
       "      <th>2260</th>\n",
       "      <td>3503</td>\n",
       "      <td>350</td>\n",
       "      <td>27</td>\n",
       "      <td>266</td>\n",
       "      <td>88</td>\n",
       "      <td>1792</td>\n",
       "      <td>218</td>\n",
       "      <td>148</td>\n",
       "      <td>151</td>\n",
       "      <td>2011</td>\n",
       "      <td>...</td>\n",
       "      <td>1</td>\n",
       "      <td>0</td>\n",
       "      <td>0</td>\n",
       "      <td>0</td>\n",
       "      <td>0</td>\n",
       "      <td>0</td>\n",
       "      <td>0</td>\n",
       "      <td>0</td>\n",
       "      <td>0</td>\n",
       "      <td>7</td>\n",
       "    </tr>\n",
       "    <tr>\n",
       "      <th>2261</th>\n",
       "      <td>3323</td>\n",
       "      <td>92</td>\n",
       "      <td>9</td>\n",
       "      <td>336</td>\n",
       "      <td>200</td>\n",
       "      <td>-11</td>\n",
       "      <td>208</td>\n",
       "      <td>231</td>\n",
       "      <td>166</td>\n",
       "      <td>595</td>\n",
       "      <td>...</td>\n",
       "      <td>0</td>\n",
       "      <td>0</td>\n",
       "      <td>0</td>\n",
       "      <td>0</td>\n",
       "      <td>0</td>\n",
       "      <td>0</td>\n",
       "      <td>0</td>\n",
       "      <td>1</td>\n",
       "      <td>0</td>\n",
       "      <td>7</td>\n",
       "    </tr>\n",
       "    <tr>\n",
       "      <th>2262</th>\n",
       "      <td>3440</td>\n",
       "      <td>134</td>\n",
       "      <td>30</td>\n",
       "      <td>103</td>\n",
       "      <td>33</td>\n",
       "      <td>2650</td>\n",
       "      <td>187</td>\n",
       "      <td>244</td>\n",
       "      <td>152</td>\n",
       "      <td>2600</td>\n",
       "      <td>...</td>\n",
       "      <td>0</td>\n",
       "      <td>0</td>\n",
       "      <td>0</td>\n",
       "      <td>0</td>\n",
       "      <td>0</td>\n",
       "      <td>0</td>\n",
       "      <td>0</td>\n",
       "      <td>1</td>\n",
       "      <td>0</td>\n",
       "      <td>7</td>\n",
       "    </tr>\n",
       "  </tbody>\n",
       "</table>\n",
       "<p>2263 rows × 55 columns</p>\n",
       "</div>"
      ],
      "text/plain": [
       "      Elevation  Aspect  Slope  Horizontal_Distance_To_Hydrology  \\\n",
       "0          3253       2      9                               119   \n",
       "1          3211      86     13                               353   \n",
       "2          3261     160     13                              1344   \n",
       "3          3485      23     23                               179   \n",
       "4          3371      19     17                               352   \n",
       "...         ...     ...    ...                               ...   \n",
       "2258       3583      42     15                                63   \n",
       "2259       3333      64      4                               446   \n",
       "2260       3503     350     27                               266   \n",
       "2261       3323      92      9                               336   \n",
       "2262       3440     134     30                               103   \n",
       "\n",
       "      Vertical_Distance_To_Hydrology  Horizontal_Distance_To_Roadways  \\\n",
       "0                                  8                             1977   \n",
       "1                                 22                             1304   \n",
       "2                                 20                             3340   \n",
       "3                                100                             3321   \n",
       "4                                 22                             3995   \n",
       "...                              ...                              ...   \n",
       "2258                              80                             3306   \n",
       "2259                               9                              993   \n",
       "2260                              88                             1792   \n",
       "2261                             200                              -11   \n",
       "2262                              33                             2650   \n",
       "\n",
       "      Hillshade_9am  Hillshade_Noon  Hillshade_3pm  \\\n",
       "0               246             212            132   \n",
       "1               215             223             -6   \n",
       "2               226             242            141   \n",
       "3               203             239            174   \n",
       "4               167             220            114   \n",
       "...             ...             ...            ...   \n",
       "2258            228             232            160   \n",
       "2259            224             211            183   \n",
       "2260            218             148            151   \n",
       "2261            208             231            166   \n",
       "2262            187             244            152   \n",
       "\n",
       "      Horizontal_Distance_To_Fire_Points  ...  Soil_Type32  Soil_Type33  \\\n",
       "0                                   6804  ...            0            0   \n",
       "1                                   2540  ...            0            0   \n",
       "2                                   2571  ...            0            0   \n",
       "3                                   1983  ...            0            0   \n",
       "4                                   2175  ...            0            0   \n",
       "...                                  ...  ...          ...          ...   \n",
       "2258                                1137  ...            0            0   \n",
       "2259                                 104  ...            0            0   \n",
       "2260                                2011  ...            1            0   \n",
       "2261                                 595  ...            0            0   \n",
       "2262                                2600  ...            0            0   \n",
       "\n",
       "      Soil_Type34  Soil_Type35  Soil_Type36  Soil_Type37  Soil_Type38  \\\n",
       "0               0            0            0            0            0   \n",
       "1               0            0            0            0            0   \n",
       "2               0            0            0            0            0   \n",
       "3               0            0            0            0            0   \n",
       "4               0            0            0            0            0   \n",
       "...           ...          ...          ...          ...          ...   \n",
       "2258            0            0            0            0            1   \n",
       "2259            0            1            0            0            0   \n",
       "2260            0            0            0            0            0   \n",
       "2261            0            0            0            0            0   \n",
       "2262            0            0            0            0            0   \n",
       "\n",
       "      Soil_Type39  Soil_Type40  Cover_Type  \n",
       "0               0            0           1  \n",
       "1               0            0           1  \n",
       "2               0            0           1  \n",
       "3               0            0           1  \n",
       "4               0            0           1  \n",
       "...           ...          ...         ...  \n",
       "2258            0            0           7  \n",
       "2259            0            0           7  \n",
       "2260            0            0           7  \n",
       "2261            1            0           7  \n",
       "2262            1            0           7  \n",
       "\n",
       "[2263 rows x 55 columns]"
      ]
     },
     "execution_count": 47,
     "metadata": {},
     "output_type": "execute_result"
    }
   ],
   "source": [
    "train_ds"
   ]
  },
  {
   "cell_type": "markdown",
   "id": "7b038f5e-58eb-4458-b1f9-6840fa8ec570",
   "metadata": {},
   "source": [
    "### データの成形"
   ]
  },
  {
   "cell_type": "code",
   "execution_count": 50,
   "id": "a393a6db-52a7-4166-b57f-bff646eb2e3f",
   "metadata": {},
   "outputs": [
    {
     "data": {
      "text/html": [
       "<div>\n",
       "<style scoped>\n",
       "    .dataframe tbody tr th:only-of-type {\n",
       "        vertical-align: middle;\n",
       "    }\n",
       "\n",
       "    .dataframe tbody tr th {\n",
       "        vertical-align: top;\n",
       "    }\n",
       "\n",
       "    .dataframe thead th {\n",
       "        text-align: right;\n",
       "    }\n",
       "</style>\n",
       "<table border=\"1\" class=\"dataframe\">\n",
       "  <thead>\n",
       "    <tr style=\"text-align: right;\">\n",
       "      <th></th>\n",
       "      <th>Wilderness_Area1</th>\n",
       "      <th>Wilderness_Area2</th>\n",
       "      <th>Wilderness_Area3</th>\n",
       "      <th>Wilderness_Area4</th>\n",
       "      <th>Soil_Type1</th>\n",
       "      <th>Soil_Type2</th>\n",
       "      <th>Soil_Type3</th>\n",
       "      <th>Soil_Type4</th>\n",
       "      <th>Soil_Type5</th>\n",
       "      <th>Soil_Type6</th>\n",
       "      <th>...</th>\n",
       "      <th>Soil_Type31</th>\n",
       "      <th>Soil_Type32</th>\n",
       "      <th>Soil_Type33</th>\n",
       "      <th>Soil_Type34</th>\n",
       "      <th>Soil_Type35</th>\n",
       "      <th>Soil_Type36</th>\n",
       "      <th>Soil_Type37</th>\n",
       "      <th>Soil_Type38</th>\n",
       "      <th>Soil_Type39</th>\n",
       "      <th>Soil_Type40</th>\n",
       "    </tr>\n",
       "    <tr>\n",
       "      <th>ID</th>\n",
       "      <th></th>\n",
       "      <th></th>\n",
       "      <th></th>\n",
       "      <th></th>\n",
       "      <th></th>\n",
       "      <th></th>\n",
       "      <th></th>\n",
       "      <th></th>\n",
       "      <th></th>\n",
       "      <th></th>\n",
       "      <th></th>\n",
       "      <th></th>\n",
       "      <th></th>\n",
       "      <th></th>\n",
       "      <th></th>\n",
       "      <th></th>\n",
       "      <th></th>\n",
       "      <th></th>\n",
       "      <th></th>\n",
       "      <th></th>\n",
       "      <th></th>\n",
       "    </tr>\n",
       "  </thead>\n",
       "  <tbody>\n",
       "    <tr>\n",
       "      <th>0</th>\n",
       "      <td>0</td>\n",
       "      <td>0</td>\n",
       "      <td>1</td>\n",
       "      <td>0</td>\n",
       "      <td>0</td>\n",
       "      <td>0</td>\n",
       "      <td>0</td>\n",
       "      <td>0</td>\n",
       "      <td>0</td>\n",
       "      <td>0</td>\n",
       "      <td>...</td>\n",
       "      <td>0</td>\n",
       "      <td>0</td>\n",
       "      <td>0</td>\n",
       "      <td>0</td>\n",
       "      <td>0</td>\n",
       "      <td>0</td>\n",
       "      <td>0</td>\n",
       "      <td>0</td>\n",
       "      <td>0</td>\n",
       "      <td>0</td>\n",
       "    </tr>\n",
       "    <tr>\n",
       "      <th>1</th>\n",
       "      <td>1</td>\n",
       "      <td>0</td>\n",
       "      <td>0</td>\n",
       "      <td>0</td>\n",
       "      <td>0</td>\n",
       "      <td>0</td>\n",
       "      <td>0</td>\n",
       "      <td>0</td>\n",
       "      <td>0</td>\n",
       "      <td>0</td>\n",
       "      <td>...</td>\n",
       "      <td>0</td>\n",
       "      <td>0</td>\n",
       "      <td>0</td>\n",
       "      <td>0</td>\n",
       "      <td>0</td>\n",
       "      <td>0</td>\n",
       "      <td>0</td>\n",
       "      <td>0</td>\n",
       "      <td>0</td>\n",
       "      <td>0</td>\n",
       "    </tr>\n",
       "    <tr>\n",
       "      <th>2</th>\n",
       "      <td>0</td>\n",
       "      <td>0</td>\n",
       "      <td>0</td>\n",
       "      <td>0</td>\n",
       "      <td>0</td>\n",
       "      <td>0</td>\n",
       "      <td>0</td>\n",
       "      <td>0</td>\n",
       "      <td>0</td>\n",
       "      <td>0</td>\n",
       "      <td>...</td>\n",
       "      <td>0</td>\n",
       "      <td>0</td>\n",
       "      <td>0</td>\n",
       "      <td>0</td>\n",
       "      <td>0</td>\n",
       "      <td>0</td>\n",
       "      <td>0</td>\n",
       "      <td>0</td>\n",
       "      <td>0</td>\n",
       "      <td>0</td>\n",
       "    </tr>\n",
       "    <tr>\n",
       "      <th>3</th>\n",
       "      <td>1</td>\n",
       "      <td>0</td>\n",
       "      <td>0</td>\n",
       "      <td>0</td>\n",
       "      <td>0</td>\n",
       "      <td>0</td>\n",
       "      <td>0</td>\n",
       "      <td>0</td>\n",
       "      <td>0</td>\n",
       "      <td>0</td>\n",
       "      <td>...</td>\n",
       "      <td>0</td>\n",
       "      <td>0</td>\n",
       "      <td>0</td>\n",
       "      <td>0</td>\n",
       "      <td>0</td>\n",
       "      <td>0</td>\n",
       "      <td>0</td>\n",
       "      <td>0</td>\n",
       "      <td>0</td>\n",
       "      <td>0</td>\n",
       "    </tr>\n",
       "    <tr>\n",
       "      <th>4</th>\n",
       "      <td>0</td>\n",
       "      <td>0</td>\n",
       "      <td>1</td>\n",
       "      <td>0</td>\n",
       "      <td>0</td>\n",
       "      <td>0</td>\n",
       "      <td>0</td>\n",
       "      <td>0</td>\n",
       "      <td>0</td>\n",
       "      <td>0</td>\n",
       "      <td>...</td>\n",
       "      <td>0</td>\n",
       "      <td>0</td>\n",
       "      <td>0</td>\n",
       "      <td>0</td>\n",
       "      <td>0</td>\n",
       "      <td>0</td>\n",
       "      <td>0</td>\n",
       "      <td>0</td>\n",
       "      <td>0</td>\n",
       "      <td>0</td>\n",
       "    </tr>\n",
       "    <tr>\n",
       "      <th>...</th>\n",
       "      <td>...</td>\n",
       "      <td>...</td>\n",
       "      <td>...</td>\n",
       "      <td>...</td>\n",
       "      <td>...</td>\n",
       "      <td>...</td>\n",
       "      <td>...</td>\n",
       "      <td>...</td>\n",
       "      <td>...</td>\n",
       "      <td>...</td>\n",
       "      <td>...</td>\n",
       "      <td>...</td>\n",
       "      <td>...</td>\n",
       "      <td>...</td>\n",
       "      <td>...</td>\n",
       "      <td>...</td>\n",
       "      <td>...</td>\n",
       "      <td>...</td>\n",
       "      <td>...</td>\n",
       "      <td>...</td>\n",
       "      <td>...</td>\n",
       "    </tr>\n",
       "    <tr>\n",
       "      <th>999995</th>\n",
       "      <td>0</td>\n",
       "      <td>0</td>\n",
       "      <td>0</td>\n",
       "      <td>0</td>\n",
       "      <td>0</td>\n",
       "      <td>0</td>\n",
       "      <td>0</td>\n",
       "      <td>0</td>\n",
       "      <td>0</td>\n",
       "      <td>0</td>\n",
       "      <td>...</td>\n",
       "      <td>0</td>\n",
       "      <td>0</td>\n",
       "      <td>0</td>\n",
       "      <td>0</td>\n",
       "      <td>0</td>\n",
       "      <td>0</td>\n",
       "      <td>0</td>\n",
       "      <td>0</td>\n",
       "      <td>0</td>\n",
       "      <td>0</td>\n",
       "    </tr>\n",
       "    <tr>\n",
       "      <th>999996</th>\n",
       "      <td>0</td>\n",
       "      <td>0</td>\n",
       "      <td>0</td>\n",
       "      <td>0</td>\n",
       "      <td>0</td>\n",
       "      <td>0</td>\n",
       "      <td>0</td>\n",
       "      <td>0</td>\n",
       "      <td>0</td>\n",
       "      <td>0</td>\n",
       "      <td>...</td>\n",
       "      <td>0</td>\n",
       "      <td>0</td>\n",
       "      <td>0</td>\n",
       "      <td>0</td>\n",
       "      <td>0</td>\n",
       "      <td>0</td>\n",
       "      <td>0</td>\n",
       "      <td>0</td>\n",
       "      <td>1</td>\n",
       "      <td>0</td>\n",
       "    </tr>\n",
       "    <tr>\n",
       "      <th>999997</th>\n",
       "      <td>1</td>\n",
       "      <td>0</td>\n",
       "      <td>0</td>\n",
       "      <td>0</td>\n",
       "      <td>0</td>\n",
       "      <td>0</td>\n",
       "      <td>0</td>\n",
       "      <td>0</td>\n",
       "      <td>1</td>\n",
       "      <td>0</td>\n",
       "      <td>...</td>\n",
       "      <td>0</td>\n",
       "      <td>0</td>\n",
       "      <td>0</td>\n",
       "      <td>0</td>\n",
       "      <td>1</td>\n",
       "      <td>0</td>\n",
       "      <td>0</td>\n",
       "      <td>0</td>\n",
       "      <td>0</td>\n",
       "      <td>0</td>\n",
       "    </tr>\n",
       "    <tr>\n",
       "      <th>999998</th>\n",
       "      <td>1</td>\n",
       "      <td>0</td>\n",
       "      <td>1</td>\n",
       "      <td>0</td>\n",
       "      <td>0</td>\n",
       "      <td>0</td>\n",
       "      <td>0</td>\n",
       "      <td>0</td>\n",
       "      <td>0</td>\n",
       "      <td>0</td>\n",
       "      <td>...</td>\n",
       "      <td>0</td>\n",
       "      <td>0</td>\n",
       "      <td>0</td>\n",
       "      <td>0</td>\n",
       "      <td>0</td>\n",
       "      <td>0</td>\n",
       "      <td>0</td>\n",
       "      <td>0</td>\n",
       "      <td>0</td>\n",
       "      <td>0</td>\n",
       "    </tr>\n",
       "    <tr>\n",
       "      <th>999999</th>\n",
       "      <td>0</td>\n",
       "      <td>0</td>\n",
       "      <td>1</td>\n",
       "      <td>0</td>\n",
       "      <td>0</td>\n",
       "      <td>0</td>\n",
       "      <td>0</td>\n",
       "      <td>0</td>\n",
       "      <td>0</td>\n",
       "      <td>0</td>\n",
       "      <td>...</td>\n",
       "      <td>0</td>\n",
       "      <td>0</td>\n",
       "      <td>0</td>\n",
       "      <td>0</td>\n",
       "      <td>0</td>\n",
       "      <td>0</td>\n",
       "      <td>0</td>\n",
       "      <td>0</td>\n",
       "      <td>0</td>\n",
       "      <td>0</td>\n",
       "    </tr>\n",
       "  </tbody>\n",
       "</table>\n",
       "<p>1002263 rows × 44 columns</p>\n",
       "</div>"
      ],
      "text/plain": [
       "        Wilderness_Area1  Wilderness_Area2  Wilderness_Area3  \\\n",
       "ID                                                             \n",
       "0                      0                 0                 1   \n",
       "1                      1                 0                 0   \n",
       "2                      0                 0                 0   \n",
       "3                      1                 0                 0   \n",
       "4                      0                 0                 1   \n",
       "...                  ...               ...               ...   \n",
       "999995                 0                 0                 0   \n",
       "999996                 0                 0                 0   \n",
       "999997                 1                 0                 0   \n",
       "999998                 1                 0                 1   \n",
       "999999                 0                 0                 1   \n",
       "\n",
       "        Wilderness_Area4  Soil_Type1  Soil_Type2  Soil_Type3  Soil_Type4  \\\n",
       "ID                                                                         \n",
       "0                      0           0           0           0           0   \n",
       "1                      0           0           0           0           0   \n",
       "2                      0           0           0           0           0   \n",
       "3                      0           0           0           0           0   \n",
       "4                      0           0           0           0           0   \n",
       "...                  ...         ...         ...         ...         ...   \n",
       "999995                 0           0           0           0           0   \n",
       "999996                 0           0           0           0           0   \n",
       "999997                 0           0           0           0           0   \n",
       "999998                 0           0           0           0           0   \n",
       "999999                 0           0           0           0           0   \n",
       "\n",
       "        Soil_Type5  Soil_Type6  ...  Soil_Type31  Soil_Type32  Soil_Type33  \\\n",
       "ID                              ...                                          \n",
       "0                0           0  ...            0            0            0   \n",
       "1                0           0  ...            0            0            0   \n",
       "2                0           0  ...            0            0            0   \n",
       "3                0           0  ...            0            0            0   \n",
       "4                0           0  ...            0            0            0   \n",
       "...            ...         ...  ...          ...          ...          ...   \n",
       "999995           0           0  ...            0            0            0   \n",
       "999996           0           0  ...            0            0            0   \n",
       "999997           1           0  ...            0            0            0   \n",
       "999998           0           0  ...            0            0            0   \n",
       "999999           0           0  ...            0            0            0   \n",
       "\n",
       "        Soil_Type34  Soil_Type35  Soil_Type36  Soil_Type37  Soil_Type38  \\\n",
       "ID                                                                        \n",
       "0                 0            0            0            0            0   \n",
       "1                 0            0            0            0            0   \n",
       "2                 0            0            0            0            0   \n",
       "3                 0            0            0            0            0   \n",
       "4                 0            0            0            0            0   \n",
       "...             ...          ...          ...          ...          ...   \n",
       "999995            0            0            0            0            0   \n",
       "999996            0            0            0            0            0   \n",
       "999997            0            1            0            0            0   \n",
       "999998            0            0            0            0            0   \n",
       "999999            0            0            0            0            0   \n",
       "\n",
       "        Soil_Type39  Soil_Type40  \n",
       "ID                                \n",
       "0                 0            0  \n",
       "1                 0            0  \n",
       "2                 0            0  \n",
       "3                 0            0  \n",
       "4                 0            0  \n",
       "...             ...          ...  \n",
       "999995            0            0  \n",
       "999996            1            0  \n",
       "999997            0            0  \n",
       "999998            0            0  \n",
       "999999            0            0  \n",
       "\n",
       "[1002263 rows x 44 columns]"
      ]
     },
     "execution_count": 50,
     "metadata": {},
     "output_type": "execute_result"
    }
   ],
   "source": [
    "mca_targ = pd.concat([train_ds.iloc[:,10:-1],test_data.iloc[:,10:]])\n",
    "mca_targ.index.name = \"ID\"\n",
    "mca_targ"
   ]
  },
  {
   "cell_type": "markdown",
   "id": "c0ceeb18-7452-4c74-8353-4095c77ca049",
   "metadata": {
    "jp-MarkdownHeadingCollapsed": true,
    "tags": []
   },
   "source": [
    "## 多重対応分析"
   ]
  },
  {
   "cell_type": "markdown",
   "id": "f55a0005-6ba3-4e0b-b459-3b692fb10bba",
   "metadata": {},
   "source": [
    "### MCAの適用"
   ]
  },
  {
   "cell_type": "code",
   "execution_count": 59,
   "id": "83ca27e1-dee0-4add-a37a-be58be819a69",
   "metadata": {},
   "outputs": [
    {
     "name": "stderr",
     "output_type": "stream",
     "text": [
      "100%|██████████| 40000/40000 [2:18:18<00:00,  4.82it/s]  \n"
     ]
    }
   ],
   "source": [
    "stock = []\n",
    "for i in tqdm(range(40000)):\n",
    "    mca_counts = mca.MCA(train_data.sample(n=1000))\n",
    "    rows = mca_counts.fs_r(N=5)  # 表側データ\n",
    "    stock.append(rows)"
   ]
  },
  {
   "cell_type": "code",
   "execution_count": 62,
   "id": "878c30ba-44ce-46cc-8b8d-9da9e8cc5ca4",
   "metadata": {},
   "outputs": [
    {
     "data": {
      "text/plain": [
       "array([[ 0.06217426,  0.04923935],\n",
       "       [-0.01771083,  0.06698257],\n",
       "       [-0.01473002,  0.0959528 ],\n",
       "       ...,\n",
       "       [-0.05300595, -0.08317832],\n",
       "       [ 0.04099149,  0.0451792 ],\n",
       "       [-0.08582034,  0.01763725]])"
      ]
     },
     "execution_count": 62,
     "metadata": {},
     "output_type": "execute_result"
    }
   ],
   "source": [
    "stock[0]"
   ]
  },
  {
   "cell_type": "code",
   "execution_count": 63,
   "id": "addab880-02fe-4822-bcd8-0b3d9c271698",
   "metadata": {
    "collapsed": true,
    "jupyter": {
     "outputs_hidden": true
    },
    "tags": []
   },
   "outputs": [
    {
     "ename": "TypeError",
     "evalue": "cannot concatenate object of type '<class 'numpy.ndarray'>'; only Series and DataFrame objs are valid",
     "output_type": "error",
     "traceback": [
      "\u001b[0;31m---------------------------------------------------------------------------\u001b[0m",
      "\u001b[0;31mTypeError\u001b[0m                                 Traceback (most recent call last)",
      "\u001b[0;32m/tmp/ipykernel_131/3891786836.py\u001b[0m in \u001b[0;36m<module>\u001b[0;34m\u001b[0m\n\u001b[0;32m----> 1\u001b[0;31m \u001b[0mmca_output\u001b[0m \u001b[0;34m=\u001b[0m \u001b[0mpd\u001b[0m\u001b[0;34m.\u001b[0m\u001b[0mconcat\u001b[0m\u001b[0;34m(\u001b[0m\u001b[0mstock\u001b[0m\u001b[0;34m)\u001b[0m\u001b[0;34m\u001b[0m\u001b[0;34m\u001b[0m\u001b[0m\n\u001b[0m\u001b[1;32m      2\u001b[0m \u001b[0mmca_output\u001b[0m\u001b[0;34m.\u001b[0m\u001b[0mindex\u001b[0m\u001b[0;34m.\u001b[0m\u001b[0mname\u001b[0m \u001b[0;34m=\u001b[0m \u001b[0;34m\"ID\"\u001b[0m\u001b[0;34m\u001b[0m\u001b[0;34m\u001b[0m\u001b[0m\n\u001b[1;32m      3\u001b[0m \u001b[0mmca_output\u001b[0m\u001b[0;34m.\u001b[0m\u001b[0msort_index\u001b[0m\u001b[0;34m(\u001b[0m\u001b[0minplace\u001b[0m\u001b[0;34m=\u001b[0m\u001b[0;32mTrue\u001b[0m\u001b[0;34m)\u001b[0m\u001b[0;34m\u001b[0m\u001b[0;34m\u001b[0m\u001b[0m\n",
      "\u001b[0;32m/usr/local/lib/python3.8/site-packages/pandas/util/_decorators.py\u001b[0m in \u001b[0;36mwrapper\u001b[0;34m(*args, **kwargs)\u001b[0m\n\u001b[1;32m    309\u001b[0m                     \u001b[0mstacklevel\u001b[0m\u001b[0;34m=\u001b[0m\u001b[0mstacklevel\u001b[0m\u001b[0;34m,\u001b[0m\u001b[0;34m\u001b[0m\u001b[0;34m\u001b[0m\u001b[0m\n\u001b[1;32m    310\u001b[0m                 )\n\u001b[0;32m--> 311\u001b[0;31m             \u001b[0;32mreturn\u001b[0m \u001b[0mfunc\u001b[0m\u001b[0;34m(\u001b[0m\u001b[0;34m*\u001b[0m\u001b[0margs\u001b[0m\u001b[0;34m,\u001b[0m \u001b[0;34m**\u001b[0m\u001b[0mkwargs\u001b[0m\u001b[0;34m)\u001b[0m\u001b[0;34m\u001b[0m\u001b[0;34m\u001b[0m\u001b[0m\n\u001b[0m\u001b[1;32m    312\u001b[0m \u001b[0;34m\u001b[0m\u001b[0m\n\u001b[1;32m    313\u001b[0m         \u001b[0;32mreturn\u001b[0m \u001b[0mwrapper\u001b[0m\u001b[0;34m\u001b[0m\u001b[0;34m\u001b[0m\u001b[0m\n",
      "\u001b[0;32m/usr/local/lib/python3.8/site-packages/pandas/core/reshape/concat.py\u001b[0m in \u001b[0;36mconcat\u001b[0;34m(objs, axis, join, ignore_index, keys, levels, names, verify_integrity, sort, copy)\u001b[0m\n\u001b[1;32m    292\u001b[0m     \u001b[0mValueError\u001b[0m\u001b[0;34m:\u001b[0m \u001b[0mIndexes\u001b[0m \u001b[0mhave\u001b[0m \u001b[0moverlapping\u001b[0m \u001b[0mvalues\u001b[0m\u001b[0;34m:\u001b[0m \u001b[0;34m[\u001b[0m\u001b[0;34m'a'\u001b[0m\u001b[0;34m]\u001b[0m\u001b[0;34m\u001b[0m\u001b[0;34m\u001b[0m\u001b[0m\n\u001b[1;32m    293\u001b[0m     \"\"\"\n\u001b[0;32m--> 294\u001b[0;31m     op = _Concatenator(\n\u001b[0m\u001b[1;32m    295\u001b[0m         \u001b[0mobjs\u001b[0m\u001b[0;34m,\u001b[0m\u001b[0;34m\u001b[0m\u001b[0;34m\u001b[0m\u001b[0m\n\u001b[1;32m    296\u001b[0m         \u001b[0maxis\u001b[0m\u001b[0;34m=\u001b[0m\u001b[0maxis\u001b[0m\u001b[0;34m,\u001b[0m\u001b[0;34m\u001b[0m\u001b[0;34m\u001b[0m\u001b[0m\n",
      "\u001b[0;32m/usr/local/lib/python3.8/site-packages/pandas/core/reshape/concat.py\u001b[0m in \u001b[0;36m__init__\u001b[0;34m(self, objs, axis, join, keys, levels, names, ignore_index, verify_integrity, copy, sort)\u001b[0m\n\u001b[1;32m    382\u001b[0m                     \u001b[0;34m\"only Series and DataFrame objs are valid\"\u001b[0m\u001b[0;34m\u001b[0m\u001b[0;34m\u001b[0m\u001b[0m\n\u001b[1;32m    383\u001b[0m                 )\n\u001b[0;32m--> 384\u001b[0;31m                 \u001b[0;32mraise\u001b[0m \u001b[0mTypeError\u001b[0m\u001b[0;34m(\u001b[0m\u001b[0mmsg\u001b[0m\u001b[0;34m)\u001b[0m\u001b[0;34m\u001b[0m\u001b[0;34m\u001b[0m\u001b[0m\n\u001b[0m\u001b[1;32m    385\u001b[0m \u001b[0;34m\u001b[0m\u001b[0m\n\u001b[1;32m    386\u001b[0m             \u001b[0mndims\u001b[0m\u001b[0;34m.\u001b[0m\u001b[0madd\u001b[0m\u001b[0;34m(\u001b[0m\u001b[0mobj\u001b[0m\u001b[0;34m.\u001b[0m\u001b[0mndim\u001b[0m\u001b[0;34m)\u001b[0m\u001b[0;34m\u001b[0m\u001b[0;34m\u001b[0m\u001b[0m\n",
      "\u001b[0;31mTypeError\u001b[0m: cannot concatenate object of type '<class 'numpy.ndarray'>'; only Series and DataFrame objs are valid"
     ]
    }
   ],
   "source": [
    "mca_output = pd.concat(stock)\n",
    "mca_output.index.name = \"ID\"\n",
    "mca_output.sort_index(inplace=True)"
   ]
  },
  {
   "cell_type": "code",
   "execution_count": null,
   "id": "2da6eedc-10fb-426e-ad03-f3a8391dfd4a",
   "metadata": {},
   "outputs": [],
   "source": [
    "mca_result = mca_output.groupby(\"ID\").mean()"
   ]
  },
  {
   "cell_type": "code",
   "execution_count": null,
   "id": "e8128754-c877-40a1-a070-c62c665d2cc2",
   "metadata": {},
   "outputs": [],
   "source": [
    "# ここで結合もする"
   ]
  },
  {
   "cell_type": "markdown",
   "id": "0e8bc2c0-4580-4b31-8bc4-8f8c4e3198ce",
   "metadata": {},
   "source": [
    "## 主成分分析"
   ]
  },
  {
   "cell_type": "code",
   "execution_count": 73,
   "id": "fe2065b6-20db-4c12-aa41-fa97da3eb449",
   "metadata": {},
   "outputs": [
    {
     "name": "stdout",
     "output_type": "stream",
     "text": [
      "0.8005384640472355\n"
     ]
    }
   ],
   "source": [
    "pca = PCA(n_components=21, random_state=0)\n",
    "pca.fit(mca_targ)\n",
    "print(sum(pca.explained_variance_ratio_))"
   ]
  },
  {
   "cell_type": "code",
   "execution_count": 74,
   "id": "c2783a89-54da-4fa1-976a-c625ab81fd79",
   "metadata": {},
   "outputs": [],
   "source": [
    "pca_result = pca.fit_transform(mca_targ)"
   ]
  },
  {
   "cell_type": "code",
   "execution_count": 80,
   "id": "fa3b3699-221b-4ed2-af4c-d79c599b47d6",
   "metadata": {
    "collapsed": true,
    "jupyter": {
     "outputs_hidden": true
    },
    "tags": []
   },
   "outputs": [
    {
     "data": {
      "text/html": [
       "<div>\n",
       "<style scoped>\n",
       "    .dataframe tbody tr th:only-of-type {\n",
       "        vertical-align: middle;\n",
       "    }\n",
       "\n",
       "    .dataframe tbody tr th {\n",
       "        vertical-align: top;\n",
       "    }\n",
       "\n",
       "    .dataframe thead th {\n",
       "        text-align: right;\n",
       "    }\n",
       "</style>\n",
       "<table border=\"1\" class=\"dataframe\">\n",
       "  <thead>\n",
       "    <tr style=\"text-align: right;\">\n",
       "      <th></th>\n",
       "      <th>0</th>\n",
       "      <th>1</th>\n",
       "      <th>2</th>\n",
       "      <th>3</th>\n",
       "      <th>4</th>\n",
       "      <th>5</th>\n",
       "      <th>6</th>\n",
       "      <th>7</th>\n",
       "      <th>8</th>\n",
       "      <th>9</th>\n",
       "      <th>...</th>\n",
       "      <th>11</th>\n",
       "      <th>12</th>\n",
       "      <th>13</th>\n",
       "      <th>14</th>\n",
       "      <th>15</th>\n",
       "      <th>16</th>\n",
       "      <th>17</th>\n",
       "      <th>18</th>\n",
       "      <th>19</th>\n",
       "      <th>20</th>\n",
       "    </tr>\n",
       "  </thead>\n",
       "  <tbody>\n",
       "    <tr>\n",
       "      <th>0</th>\n",
       "      <td>0.535960</td>\n",
       "      <td>-0.147559</td>\n",
       "      <td>-0.116920</td>\n",
       "      <td>-0.084709</td>\n",
       "      <td>0.061977</td>\n",
       "      <td>-0.044211</td>\n",
       "      <td>-0.054743</td>\n",
       "      <td>-0.015430</td>\n",
       "      <td>-0.010363</td>\n",
       "      <td>-0.028805</td>\n",
       "      <td>...</td>\n",
       "      <td>-0.060893</td>\n",
       "      <td>-0.006174</td>\n",
       "      <td>-0.003734</td>\n",
       "      <td>-0.016724</td>\n",
       "      <td>-0.043711</td>\n",
       "      <td>-0.048997</td>\n",
       "      <td>-0.009520</td>\n",
       "      <td>-0.034362</td>\n",
       "      <td>-0.040869</td>\n",
       "      <td>-0.094170</td>\n",
       "    </tr>\n",
       "    <tr>\n",
       "      <th>1</th>\n",
       "      <td>-0.557427</td>\n",
       "      <td>0.712696</td>\n",
       "      <td>0.064416</td>\n",
       "      <td>-0.011341</td>\n",
       "      <td>-0.021344</td>\n",
       "      <td>-0.004720</td>\n",
       "      <td>-0.050285</td>\n",
       "      <td>-0.021411</td>\n",
       "      <td>0.002565</td>\n",
       "      <td>-0.046739</td>\n",
       "      <td>...</td>\n",
       "      <td>-0.101544</td>\n",
       "      <td>-0.008303</td>\n",
       "      <td>-0.008590</td>\n",
       "      <td>-0.025919</td>\n",
       "      <td>-0.051175</td>\n",
       "      <td>-0.046004</td>\n",
       "      <td>-0.017962</td>\n",
       "      <td>-0.041168</td>\n",
       "      <td>-0.039039</td>\n",
       "      <td>0.002208</td>\n",
       "    </tr>\n",
       "    <tr>\n",
       "      <th>2</th>\n",
       "      <td>-0.433909</td>\n",
       "      <td>-0.265061</td>\n",
       "      <td>-0.081437</td>\n",
       "      <td>-0.023352</td>\n",
       "      <td>-0.063405</td>\n",
       "      <td>-0.020485</td>\n",
       "      <td>-0.065878</td>\n",
       "      <td>-0.000487</td>\n",
       "      <td>0.001106</td>\n",
       "      <td>-0.063998</td>\n",
       "      <td>...</td>\n",
       "      <td>-0.132514</td>\n",
       "      <td>0.015870</td>\n",
       "      <td>0.002833</td>\n",
       "      <td>-0.036107</td>\n",
       "      <td>-0.068007</td>\n",
       "      <td>-0.043719</td>\n",
       "      <td>0.009635</td>\n",
       "      <td>-0.050336</td>\n",
       "      <td>-0.052866</td>\n",
       "      <td>-0.088597</td>\n",
       "    </tr>\n",
       "    <tr>\n",
       "      <th>3</th>\n",
       "      <td>-0.564240</td>\n",
       "      <td>0.705232</td>\n",
       "      <td>0.044111</td>\n",
       "      <td>-0.024428</td>\n",
       "      <td>-0.056395</td>\n",
       "      <td>-0.005848</td>\n",
       "      <td>-0.066237</td>\n",
       "      <td>-0.002848</td>\n",
       "      <td>0.015791</td>\n",
       "      <td>-0.076896</td>\n",
       "      <td>...</td>\n",
       "      <td>-0.205369</td>\n",
       "      <td>0.025651</td>\n",
       "      <td>-0.678698</td>\n",
       "      <td>0.557012</td>\n",
       "      <td>0.334577</td>\n",
       "      <td>0.114789</td>\n",
       "      <td>-0.096245</td>\n",
       "      <td>0.041929</td>\n",
       "      <td>0.005724</td>\n",
       "      <td>0.021760</td>\n",
       "    </tr>\n",
       "    <tr>\n",
       "      <th>4</th>\n",
       "      <td>0.535960</td>\n",
       "      <td>-0.147559</td>\n",
       "      <td>-0.116920</td>\n",
       "      <td>-0.084709</td>\n",
       "      <td>0.061977</td>\n",
       "      <td>-0.044211</td>\n",
       "      <td>-0.054743</td>\n",
       "      <td>-0.015430</td>\n",
       "      <td>-0.010363</td>\n",
       "      <td>-0.028805</td>\n",
       "      <td>...</td>\n",
       "      <td>-0.060893</td>\n",
       "      <td>-0.006174</td>\n",
       "      <td>-0.003734</td>\n",
       "      <td>-0.016724</td>\n",
       "      <td>-0.043711</td>\n",
       "      <td>-0.048997</td>\n",
       "      <td>-0.009520</td>\n",
       "      <td>-0.034362</td>\n",
       "      <td>-0.040869</td>\n",
       "      <td>-0.094170</td>\n",
       "    </tr>\n",
       "    <tr>\n",
       "      <th>...</th>\n",
       "      <td>...</td>\n",
       "      <td>...</td>\n",
       "      <td>...</td>\n",
       "      <td>...</td>\n",
       "      <td>...</td>\n",
       "      <td>...</td>\n",
       "      <td>...</td>\n",
       "      <td>...</td>\n",
       "      <td>...</td>\n",
       "      <td>...</td>\n",
       "      <td>...</td>\n",
       "      <td>...</td>\n",
       "      <td>...</td>\n",
       "      <td>...</td>\n",
       "      <td>...</td>\n",
       "      <td>...</td>\n",
       "      <td>...</td>\n",
       "      <td>...</td>\n",
       "      <td>...</td>\n",
       "      <td>...</td>\n",
       "      <td>...</td>\n",
       "    </tr>\n",
       "    <tr>\n",
       "      <th>1002258</th>\n",
       "      <td>-0.437754</td>\n",
       "      <td>-0.265731</td>\n",
       "      <td>-0.082588</td>\n",
       "      <td>-0.023554</td>\n",
       "      <td>-0.062657</td>\n",
       "      <td>-0.010596</td>\n",
       "      <td>-0.059741</td>\n",
       "      <td>0.004311</td>\n",
       "      <td>0.005639</td>\n",
       "      <td>-0.067909</td>\n",
       "      <td>...</td>\n",
       "      <td>-0.122456</td>\n",
       "      <td>-0.001869</td>\n",
       "      <td>-0.003503</td>\n",
       "      <td>-0.034482</td>\n",
       "      <td>-0.064460</td>\n",
       "      <td>-0.030679</td>\n",
       "      <td>0.002238</td>\n",
       "      <td>-0.041013</td>\n",
       "      <td>-0.059266</td>\n",
       "      <td>-0.008264</td>\n",
       "    </tr>\n",
       "    <tr>\n",
       "      <th>1002259</th>\n",
       "      <td>-0.433174</td>\n",
       "      <td>-0.262970</td>\n",
       "      <td>-0.100267</td>\n",
       "      <td>0.011924</td>\n",
       "      <td>-0.113737</td>\n",
       "      <td>-0.026217</td>\n",
       "      <td>-0.042211</td>\n",
       "      <td>0.047198</td>\n",
       "      <td>0.051027</td>\n",
       "      <td>-0.071154</td>\n",
       "      <td>...</td>\n",
       "      <td>0.352348</td>\n",
       "      <td>-0.014995</td>\n",
       "      <td>0.002148</td>\n",
       "      <td>-0.020084</td>\n",
       "      <td>-0.077678</td>\n",
       "      <td>-0.047687</td>\n",
       "      <td>-0.008335</td>\n",
       "      <td>-0.030132</td>\n",
       "      <td>-0.030061</td>\n",
       "      <td>-0.015370</td>\n",
       "    </tr>\n",
       "    <tr>\n",
       "      <th>1002260</th>\n",
       "      <td>-0.554564</td>\n",
       "      <td>0.713738</td>\n",
       "      <td>0.065494</td>\n",
       "      <td>-0.010947</td>\n",
       "      <td>-0.024591</td>\n",
       "      <td>-0.022007</td>\n",
       "      <td>-0.049954</td>\n",
       "      <td>-0.015233</td>\n",
       "      <td>0.011239</td>\n",
       "      <td>-0.048539</td>\n",
       "      <td>...</td>\n",
       "      <td>-0.123175</td>\n",
       "      <td>-0.135016</td>\n",
       "      <td>0.058616</td>\n",
       "      <td>-0.535006</td>\n",
       "      <td>0.739882</td>\n",
       "      <td>0.118820</td>\n",
       "      <td>-0.044988</td>\n",
       "      <td>-0.033161</td>\n",
       "      <td>-0.013938</td>\n",
       "      <td>-0.081780</td>\n",
       "    </tr>\n",
       "    <tr>\n",
       "      <th>1002261</th>\n",
       "      <td>0.416785</td>\n",
       "      <td>0.830341</td>\n",
       "      <td>0.034928</td>\n",
       "      <td>-0.072380</td>\n",
       "      <td>0.100121</td>\n",
       "      <td>-0.034870</td>\n",
       "      <td>-0.044562</td>\n",
       "      <td>-0.037476</td>\n",
       "      <td>-0.010019</td>\n",
       "      <td>-0.009322</td>\n",
       "      <td>...</td>\n",
       "      <td>-0.039834</td>\n",
       "      <td>-0.008892</td>\n",
       "      <td>-0.015052</td>\n",
       "      <td>-0.009271</td>\n",
       "      <td>-0.035061</td>\n",
       "      <td>-0.063439</td>\n",
       "      <td>-0.032133</td>\n",
       "      <td>-0.028601</td>\n",
       "      <td>-0.039951</td>\n",
       "      <td>-0.074722</td>\n",
       "    </tr>\n",
       "    <tr>\n",
       "      <th>1002262</th>\n",
       "      <td>0.535960</td>\n",
       "      <td>-0.147559</td>\n",
       "      <td>-0.116920</td>\n",
       "      <td>-0.084709</td>\n",
       "      <td>0.061977</td>\n",
       "      <td>-0.044211</td>\n",
       "      <td>-0.054743</td>\n",
       "      <td>-0.015430</td>\n",
       "      <td>-0.010363</td>\n",
       "      <td>-0.028805</td>\n",
       "      <td>...</td>\n",
       "      <td>-0.060893</td>\n",
       "      <td>-0.006174</td>\n",
       "      <td>-0.003734</td>\n",
       "      <td>-0.016724</td>\n",
       "      <td>-0.043711</td>\n",
       "      <td>-0.048997</td>\n",
       "      <td>-0.009520</td>\n",
       "      <td>-0.034362</td>\n",
       "      <td>-0.040869</td>\n",
       "      <td>-0.094170</td>\n",
       "    </tr>\n",
       "  </tbody>\n",
       "</table>\n",
       "<p>1002263 rows × 21 columns</p>\n",
       "</div>"
      ],
      "text/plain": [
       "               0         1         2         3         4         5         6   \\\n",
       "0        0.535960 -0.147559 -0.116920 -0.084709  0.061977 -0.044211 -0.054743   \n",
       "1       -0.557427  0.712696  0.064416 -0.011341 -0.021344 -0.004720 -0.050285   \n",
       "2       -0.433909 -0.265061 -0.081437 -0.023352 -0.063405 -0.020485 -0.065878   \n",
       "3       -0.564240  0.705232  0.044111 -0.024428 -0.056395 -0.005848 -0.066237   \n",
       "4        0.535960 -0.147559 -0.116920 -0.084709  0.061977 -0.044211 -0.054743   \n",
       "...           ...       ...       ...       ...       ...       ...       ...   \n",
       "1002258 -0.437754 -0.265731 -0.082588 -0.023554 -0.062657 -0.010596 -0.059741   \n",
       "1002259 -0.433174 -0.262970 -0.100267  0.011924 -0.113737 -0.026217 -0.042211   \n",
       "1002260 -0.554564  0.713738  0.065494 -0.010947 -0.024591 -0.022007 -0.049954   \n",
       "1002261  0.416785  0.830341  0.034928 -0.072380  0.100121 -0.034870 -0.044562   \n",
       "1002262  0.535960 -0.147559 -0.116920 -0.084709  0.061977 -0.044211 -0.054743   \n",
       "\n",
       "               7         8         9   ...        11        12        13  \\\n",
       "0       -0.015430 -0.010363 -0.028805  ... -0.060893 -0.006174 -0.003734   \n",
       "1       -0.021411  0.002565 -0.046739  ... -0.101544 -0.008303 -0.008590   \n",
       "2       -0.000487  0.001106 -0.063998  ... -0.132514  0.015870  0.002833   \n",
       "3       -0.002848  0.015791 -0.076896  ... -0.205369  0.025651 -0.678698   \n",
       "4       -0.015430 -0.010363 -0.028805  ... -0.060893 -0.006174 -0.003734   \n",
       "...           ...       ...       ...  ...       ...       ...       ...   \n",
       "1002258  0.004311  0.005639 -0.067909  ... -0.122456 -0.001869 -0.003503   \n",
       "1002259  0.047198  0.051027 -0.071154  ...  0.352348 -0.014995  0.002148   \n",
       "1002260 -0.015233  0.011239 -0.048539  ... -0.123175 -0.135016  0.058616   \n",
       "1002261 -0.037476 -0.010019 -0.009322  ... -0.039834 -0.008892 -0.015052   \n",
       "1002262 -0.015430 -0.010363 -0.028805  ... -0.060893 -0.006174 -0.003734   \n",
       "\n",
       "               14        15        16        17        18        19        20  \n",
       "0       -0.016724 -0.043711 -0.048997 -0.009520 -0.034362 -0.040869 -0.094170  \n",
       "1       -0.025919 -0.051175 -0.046004 -0.017962 -0.041168 -0.039039  0.002208  \n",
       "2       -0.036107 -0.068007 -0.043719  0.009635 -0.050336 -0.052866 -0.088597  \n",
       "3        0.557012  0.334577  0.114789 -0.096245  0.041929  0.005724  0.021760  \n",
       "4       -0.016724 -0.043711 -0.048997 -0.009520 -0.034362 -0.040869 -0.094170  \n",
       "...           ...       ...       ...       ...       ...       ...       ...  \n",
       "1002258 -0.034482 -0.064460 -0.030679  0.002238 -0.041013 -0.059266 -0.008264  \n",
       "1002259 -0.020084 -0.077678 -0.047687 -0.008335 -0.030132 -0.030061 -0.015370  \n",
       "1002260 -0.535006  0.739882  0.118820 -0.044988 -0.033161 -0.013938 -0.081780  \n",
       "1002261 -0.009271 -0.035061 -0.063439 -0.032133 -0.028601 -0.039951 -0.074722  \n",
       "1002262 -0.016724 -0.043711 -0.048997 -0.009520 -0.034362 -0.040869 -0.094170  \n",
       "\n",
       "[1002263 rows x 21 columns]"
      ]
     },
     "execution_count": 80,
     "metadata": {},
     "output_type": "execute_result"
    }
   ],
   "source": [
    "pd.DataFrame(pca_result)"
   ]
  },
  {
   "cell_type": "code",
   "execution_count": 92,
   "id": "acae61b5-5211-4be5-a708-13ec9a02b2f6",
   "metadata": {},
   "outputs": [
    {
     "data": {
      "text/html": [
       "<div>\n",
       "<style scoped>\n",
       "    .dataframe tbody tr th:only-of-type {\n",
       "        vertical-align: middle;\n",
       "    }\n",
       "\n",
       "    .dataframe tbody tr th {\n",
       "        vertical-align: top;\n",
       "    }\n",
       "\n",
       "    .dataframe thead th {\n",
       "        text-align: right;\n",
       "    }\n",
       "</style>\n",
       "<table border=\"1\" class=\"dataframe\">\n",
       "  <thead>\n",
       "    <tr style=\"text-align: right;\">\n",
       "      <th></th>\n",
       "      <th>Elevation</th>\n",
       "      <th>Aspect</th>\n",
       "      <th>Slope</th>\n",
       "      <th>Horizontal_Distance_To_Hydrology</th>\n",
       "      <th>Vertical_Distance_To_Hydrology</th>\n",
       "      <th>Horizontal_Distance_To_Roadways</th>\n",
       "      <th>Hillshade_9am</th>\n",
       "      <th>Hillshade_Noon</th>\n",
       "      <th>Hillshade_3pm</th>\n",
       "      <th>Horizontal_Distance_To_Fire_Points</th>\n",
       "      <th>...</th>\n",
       "      <th>11</th>\n",
       "      <th>12</th>\n",
       "      <th>13</th>\n",
       "      <th>14</th>\n",
       "      <th>15</th>\n",
       "      <th>16</th>\n",
       "      <th>17</th>\n",
       "      <th>18</th>\n",
       "      <th>19</th>\n",
       "      <th>20</th>\n",
       "    </tr>\n",
       "  </thead>\n",
       "  <tbody>\n",
       "    <tr>\n",
       "      <th>0</th>\n",
       "      <td>3253</td>\n",
       "      <td>2</td>\n",
       "      <td>9</td>\n",
       "      <td>119</td>\n",
       "      <td>8</td>\n",
       "      <td>1977</td>\n",
       "      <td>246</td>\n",
       "      <td>212</td>\n",
       "      <td>132</td>\n",
       "      <td>6804</td>\n",
       "      <td>...</td>\n",
       "      <td>-0.060893</td>\n",
       "      <td>-0.006174</td>\n",
       "      <td>-0.003734</td>\n",
       "      <td>-0.016724</td>\n",
       "      <td>-0.043711</td>\n",
       "      <td>-0.048997</td>\n",
       "      <td>-0.009520</td>\n",
       "      <td>-0.034362</td>\n",
       "      <td>-0.040869</td>\n",
       "      <td>-0.094170</td>\n",
       "    </tr>\n",
       "    <tr>\n",
       "      <th>1</th>\n",
       "      <td>3211</td>\n",
       "      <td>86</td>\n",
       "      <td>13</td>\n",
       "      <td>353</td>\n",
       "      <td>22</td>\n",
       "      <td>1304</td>\n",
       "      <td>215</td>\n",
       "      <td>223</td>\n",
       "      <td>-6</td>\n",
       "      <td>2540</td>\n",
       "      <td>...</td>\n",
       "      <td>-0.101544</td>\n",
       "      <td>-0.008303</td>\n",
       "      <td>-0.008590</td>\n",
       "      <td>-0.025919</td>\n",
       "      <td>-0.051175</td>\n",
       "      <td>-0.046004</td>\n",
       "      <td>-0.017962</td>\n",
       "      <td>-0.041168</td>\n",
       "      <td>-0.039039</td>\n",
       "      <td>0.002208</td>\n",
       "    </tr>\n",
       "    <tr>\n",
       "      <th>2</th>\n",
       "      <td>3261</td>\n",
       "      <td>160</td>\n",
       "      <td>13</td>\n",
       "      <td>1344</td>\n",
       "      <td>20</td>\n",
       "      <td>3340</td>\n",
       "      <td>226</td>\n",
       "      <td>242</td>\n",
       "      <td>141</td>\n",
       "      <td>2571</td>\n",
       "      <td>...</td>\n",
       "      <td>-0.132514</td>\n",
       "      <td>0.015870</td>\n",
       "      <td>0.002833</td>\n",
       "      <td>-0.036107</td>\n",
       "      <td>-0.068007</td>\n",
       "      <td>-0.043719</td>\n",
       "      <td>0.009635</td>\n",
       "      <td>-0.050336</td>\n",
       "      <td>-0.052866</td>\n",
       "      <td>-0.088597</td>\n",
       "    </tr>\n",
       "    <tr>\n",
       "      <th>3</th>\n",
       "      <td>3485</td>\n",
       "      <td>23</td>\n",
       "      <td>23</td>\n",
       "      <td>179</td>\n",
       "      <td>100</td>\n",
       "      <td>3321</td>\n",
       "      <td>203</td>\n",
       "      <td>239</td>\n",
       "      <td>174</td>\n",
       "      <td>1983</td>\n",
       "      <td>...</td>\n",
       "      <td>-0.205369</td>\n",
       "      <td>0.025651</td>\n",
       "      <td>-0.678698</td>\n",
       "      <td>0.557012</td>\n",
       "      <td>0.334577</td>\n",
       "      <td>0.114789</td>\n",
       "      <td>-0.096245</td>\n",
       "      <td>0.041929</td>\n",
       "      <td>0.005724</td>\n",
       "      <td>0.021760</td>\n",
       "    </tr>\n",
       "    <tr>\n",
       "      <th>4</th>\n",
       "      <td>3371</td>\n",
       "      <td>19</td>\n",
       "      <td>17</td>\n",
       "      <td>352</td>\n",
       "      <td>22</td>\n",
       "      <td>3995</td>\n",
       "      <td>167</td>\n",
       "      <td>220</td>\n",
       "      <td>114</td>\n",
       "      <td>2175</td>\n",
       "      <td>...</td>\n",
       "      <td>-0.060893</td>\n",
       "      <td>-0.006174</td>\n",
       "      <td>-0.003734</td>\n",
       "      <td>-0.016724</td>\n",
       "      <td>-0.043711</td>\n",
       "      <td>-0.048997</td>\n",
       "      <td>-0.009520</td>\n",
       "      <td>-0.034362</td>\n",
       "      <td>-0.040869</td>\n",
       "      <td>-0.094170</td>\n",
       "    </tr>\n",
       "    <tr>\n",
       "      <th>...</th>\n",
       "      <td>...</td>\n",
       "      <td>...</td>\n",
       "      <td>...</td>\n",
       "      <td>...</td>\n",
       "      <td>...</td>\n",
       "      <td>...</td>\n",
       "      <td>...</td>\n",
       "      <td>...</td>\n",
       "      <td>...</td>\n",
       "      <td>...</td>\n",
       "      <td>...</td>\n",
       "      <td>...</td>\n",
       "      <td>...</td>\n",
       "      <td>...</td>\n",
       "      <td>...</td>\n",
       "      <td>...</td>\n",
       "      <td>...</td>\n",
       "      <td>...</td>\n",
       "      <td>...</td>\n",
       "      <td>...</td>\n",
       "      <td>...</td>\n",
       "    </tr>\n",
       "    <tr>\n",
       "      <th>1002258</th>\n",
       "      <td>2974</td>\n",
       "      <td>254</td>\n",
       "      <td>15</td>\n",
       "      <td>146</td>\n",
       "      <td>100</td>\n",
       "      <td>623</td>\n",
       "      <td>222</td>\n",
       "      <td>245</td>\n",
       "      <td>117</td>\n",
       "      <td>2353</td>\n",
       "      <td>...</td>\n",
       "      <td>-0.122456</td>\n",
       "      <td>-0.001869</td>\n",
       "      <td>-0.003503</td>\n",
       "      <td>-0.034482</td>\n",
       "      <td>-0.064460</td>\n",
       "      <td>-0.030679</td>\n",
       "      <td>0.002238</td>\n",
       "      <td>-0.041013</td>\n",
       "      <td>-0.059266</td>\n",
       "      <td>-0.008264</td>\n",
       "    </tr>\n",
       "    <tr>\n",
       "      <th>1002259</th>\n",
       "      <td>3180</td>\n",
       "      <td>92</td>\n",
       "      <td>16</td>\n",
       "      <td>93</td>\n",
       "      <td>47</td>\n",
       "      <td>3740</td>\n",
       "      <td>209</td>\n",
       "      <td>201</td>\n",
       "      <td>142</td>\n",
       "      <td>356</td>\n",
       "      <td>...</td>\n",
       "      <td>0.352348</td>\n",
       "      <td>-0.014995</td>\n",
       "      <td>0.002148</td>\n",
       "      <td>-0.020084</td>\n",
       "      <td>-0.077678</td>\n",
       "      <td>-0.047687</td>\n",
       "      <td>-0.008335</td>\n",
       "      <td>-0.030132</td>\n",
       "      <td>-0.030061</td>\n",
       "      <td>-0.015370</td>\n",
       "    </tr>\n",
       "    <tr>\n",
       "      <th>1002260</th>\n",
       "      <td>2684</td>\n",
       "      <td>51</td>\n",
       "      <td>20</td>\n",
       "      <td>34</td>\n",
       "      <td>123</td>\n",
       "      <td>962</td>\n",
       "      <td>199</td>\n",
       "      <td>225</td>\n",
       "      <td>145</td>\n",
       "      <td>350</td>\n",
       "      <td>...</td>\n",
       "      <td>-0.123175</td>\n",
       "      <td>-0.135016</td>\n",
       "      <td>0.058616</td>\n",
       "      <td>-0.535006</td>\n",
       "      <td>0.739882</td>\n",
       "      <td>0.118820</td>\n",
       "      <td>-0.044988</td>\n",
       "      <td>-0.033161</td>\n",
       "      <td>-0.013938</td>\n",
       "      <td>-0.081780</td>\n",
       "    </tr>\n",
       "    <tr>\n",
       "      <th>1002261</th>\n",
       "      <td>3309</td>\n",
       "      <td>64</td>\n",
       "      <td>12</td>\n",
       "      <td>196</td>\n",
       "      <td>93</td>\n",
       "      <td>2522</td>\n",
       "      <td>226</td>\n",
       "      <td>193</td>\n",
       "      <td>74</td>\n",
       "      <td>3300</td>\n",
       "      <td>...</td>\n",
       "      <td>-0.039834</td>\n",
       "      <td>-0.008892</td>\n",
       "      <td>-0.015052</td>\n",
       "      <td>-0.009271</td>\n",
       "      <td>-0.035061</td>\n",
       "      <td>-0.063439</td>\n",
       "      <td>-0.032133</td>\n",
       "      <td>-0.028601</td>\n",
       "      <td>-0.039951</td>\n",
       "      <td>-0.074722</td>\n",
       "    </tr>\n",
       "    <tr>\n",
       "      <th>1002262</th>\n",
       "      <td>2543</td>\n",
       "      <td>322</td>\n",
       "      <td>7</td>\n",
       "      <td>162</td>\n",
       "      <td>147</td>\n",
       "      <td>2643</td>\n",
       "      <td>223</td>\n",
       "      <td>222</td>\n",
       "      <td>82</td>\n",
       "      <td>657</td>\n",
       "      <td>...</td>\n",
       "      <td>-0.060893</td>\n",
       "      <td>-0.006174</td>\n",
       "      <td>-0.003734</td>\n",
       "      <td>-0.016724</td>\n",
       "      <td>-0.043711</td>\n",
       "      <td>-0.048997</td>\n",
       "      <td>-0.009520</td>\n",
       "      <td>-0.034362</td>\n",
       "      <td>-0.040869</td>\n",
       "      <td>-0.094170</td>\n",
       "    </tr>\n",
       "  </tbody>\n",
       "</table>\n",
       "<p>1002263 rows × 31 columns</p>\n",
       "</div>"
      ],
      "text/plain": [
       "         Elevation  Aspect  Slope  Horizontal_Distance_To_Hydrology  \\\n",
       "0             3253       2      9                               119   \n",
       "1             3211      86     13                               353   \n",
       "2             3261     160     13                              1344   \n",
       "3             3485      23     23                               179   \n",
       "4             3371      19     17                               352   \n",
       "...            ...     ...    ...                               ...   \n",
       "1002258       2974     254     15                               146   \n",
       "1002259       3180      92     16                                93   \n",
       "1002260       2684      51     20                                34   \n",
       "1002261       3309      64     12                               196   \n",
       "1002262       2543     322      7                               162   \n",
       "\n",
       "         Vertical_Distance_To_Hydrology  Horizontal_Distance_To_Roadways  \\\n",
       "0                                     8                             1977   \n",
       "1                                    22                             1304   \n",
       "2                                    20                             3340   \n",
       "3                                   100                             3321   \n",
       "4                                    22                             3995   \n",
       "...                                 ...                              ...   \n",
       "1002258                             100                              623   \n",
       "1002259                              47                             3740   \n",
       "1002260                             123                              962   \n",
       "1002261                              93                             2522   \n",
       "1002262                             147                             2643   \n",
       "\n",
       "         Hillshade_9am  Hillshade_Noon  Hillshade_3pm  \\\n",
       "0                  246             212            132   \n",
       "1                  215             223             -6   \n",
       "2                  226             242            141   \n",
       "3                  203             239            174   \n",
       "4                  167             220            114   \n",
       "...                ...             ...            ...   \n",
       "1002258            222             245            117   \n",
       "1002259            209             201            142   \n",
       "1002260            199             225            145   \n",
       "1002261            226             193             74   \n",
       "1002262            223             222             82   \n",
       "\n",
       "         Horizontal_Distance_To_Fire_Points  ...        11        12  \\\n",
       "0                                      6804  ... -0.060893 -0.006174   \n",
       "1                                      2540  ... -0.101544 -0.008303   \n",
       "2                                      2571  ... -0.132514  0.015870   \n",
       "3                                      1983  ... -0.205369  0.025651   \n",
       "4                                      2175  ... -0.060893 -0.006174   \n",
       "...                                     ...  ...       ...       ...   \n",
       "1002258                                2353  ... -0.122456 -0.001869   \n",
       "1002259                                 356  ...  0.352348 -0.014995   \n",
       "1002260                                 350  ... -0.123175 -0.135016   \n",
       "1002261                                3300  ... -0.039834 -0.008892   \n",
       "1002262                                 657  ... -0.060893 -0.006174   \n",
       "\n",
       "               13        14        15        16        17        18        19  \\\n",
       "0       -0.003734 -0.016724 -0.043711 -0.048997 -0.009520 -0.034362 -0.040869   \n",
       "1       -0.008590 -0.025919 -0.051175 -0.046004 -0.017962 -0.041168 -0.039039   \n",
       "2        0.002833 -0.036107 -0.068007 -0.043719  0.009635 -0.050336 -0.052866   \n",
       "3       -0.678698  0.557012  0.334577  0.114789 -0.096245  0.041929  0.005724   \n",
       "4       -0.003734 -0.016724 -0.043711 -0.048997 -0.009520 -0.034362 -0.040869   \n",
       "...           ...       ...       ...       ...       ...       ...       ...   \n",
       "1002258 -0.003503 -0.034482 -0.064460 -0.030679  0.002238 -0.041013 -0.059266   \n",
       "1002259  0.002148 -0.020084 -0.077678 -0.047687 -0.008335 -0.030132 -0.030061   \n",
       "1002260  0.058616 -0.535006  0.739882  0.118820 -0.044988 -0.033161 -0.013938   \n",
       "1002261 -0.015052 -0.009271 -0.035061 -0.063439 -0.032133 -0.028601 -0.039951   \n",
       "1002262 -0.003734 -0.016724 -0.043711 -0.048997 -0.009520 -0.034362 -0.040869   \n",
       "\n",
       "               20  \n",
       "0       -0.094170  \n",
       "1        0.002208  \n",
       "2       -0.088597  \n",
       "3        0.021760  \n",
       "4       -0.094170  \n",
       "...           ...  \n",
       "1002258 -0.008264  \n",
       "1002259 -0.015370  \n",
       "1002260 -0.081780  \n",
       "1002261 -0.074722  \n",
       "1002262 -0.094170  \n",
       "\n",
       "[1002263 rows x 31 columns]"
      ]
     },
     "execution_count": 92,
     "metadata": {},
     "output_type": "execute_result"
    }
   ],
   "source": [
    "# 結合\n",
    "org_items = pd.concat([train_ds.iloc[:,:10],test_data.iloc[:,:10]]).reset_index(drop=True)\n",
    "pca_items = pd.DataFrame(pca_result)\n",
    "\n",
    "pca_data = pd.concat([org_items, pca_items], axis=1)\n",
    "pca_data"
   ]
  },
  {
   "cell_type": "markdown",
   "id": "36fa2cc5-f92e-4a28-9b71-869eb7aa8d89",
   "metadata": {},
   "source": [
    "### 標準化"
   ]
  },
  {
   "cell_type": "code",
   "execution_count": 98,
   "id": "1f66c89a-f91c-4519-820c-02bf9fc52688",
   "metadata": {},
   "outputs": [],
   "source": [
    "ss = preprocessing.StandardScaler()\n",
    "ss_pca_data = ss.fit_transform(pca_data.values)\n",
    "ss_pca_data = pd.DataFrame(ss_pca_data, columns=pca_data.columns)"
   ]
  },
  {
   "cell_type": "markdown",
   "id": "373038f9-9608-4903-88a0-6457e03f5653",
   "metadata": {},
   "source": [
    "### 保存"
   ]
  },
  {
   "cell_type": "code",
   "execution_count": 124,
   "id": "d8e8f7c8-87fc-464a-962d-41b837df3dc0",
   "metadata": {},
   "outputs": [],
   "source": [
    "train_pca_ss = ss_pca_data[:2263]\n",
    "train_pca_ss = pd.concat([train_pca_ss,train_ds.iloc[:,-1]], axis=1 )\n",
    "test_pca_ss = ss_pca_data[2263:]"
   ]
  },
  {
   "cell_type": "code",
   "execution_count": 127,
   "id": "122150ea-d309-4321-b523-a439ad464b0e",
   "metadata": {},
   "outputs": [],
   "source": [
    "# 保存 \n",
    "train_pca_ss.to_csv('/home/workspace/Tabular_Playground_Series_Dec_2021/data/train_pca_ss.csv')\n",
    "test_pca_ss.to_csv('/home/workspace/Tabular_Playground_Series_Dec_2021/data/test_pca_ss.csv')"
   ]
  },
  {
   "cell_type": "markdown",
   "id": "186eb1e2-14d7-4813-884e-abdcbbd98ee6",
   "metadata": {},
   "source": [
    "## アンサンブル学習"
   ]
  },
  {
   "cell_type": "markdown",
   "id": "08ca816d-4099-4db2-99dc-8ff393d8afb5",
   "metadata": {},
   "source": [
    "### いろんなモデルを実装"
   ]
  },
  {
   "cell_type": "markdown",
   "id": "f8c5acd9-532e-4fc3-b7d0-1739c8ecbb57",
   "metadata": {},
   "source": [
    "Ramdom Forest，LightGBM，線形SVM，非線形SVM，MLP  \n",
    "モデル + 交差検証 + パラメータチューニングの3本立て"
   ]
  },
  {
   "cell_type": "code",
   "execution_count": 114,
   "id": "7fdcdebf-d59c-493c-9c3c-473d434da597",
   "metadata": {},
   "outputs": [
    {
     "data": {
      "text/html": [
       "<div>\n",
       "<style scoped>\n",
       "    .dataframe tbody tr th:only-of-type {\n",
       "        vertical-align: middle;\n",
       "    }\n",
       "\n",
       "    .dataframe tbody tr th {\n",
       "        vertical-align: top;\n",
       "    }\n",
       "\n",
       "    .dataframe thead th {\n",
       "        text-align: right;\n",
       "    }\n",
       "</style>\n",
       "<table border=\"1\" class=\"dataframe\">\n",
       "  <thead>\n",
       "    <tr style=\"text-align: right;\">\n",
       "      <th></th>\n",
       "      <th>Elevation</th>\n",
       "      <th>Aspect</th>\n",
       "      <th>Slope</th>\n",
       "      <th>Horizontal_Distance_To_Hydrology</th>\n",
       "      <th>Vertical_Distance_To_Hydrology</th>\n",
       "      <th>Horizontal_Distance_To_Roadways</th>\n",
       "      <th>Hillshade_9am</th>\n",
       "      <th>Hillshade_Noon</th>\n",
       "      <th>Hillshade_3pm</th>\n",
       "      <th>Horizontal_Distance_To_Fire_Points</th>\n",
       "      <th>...</th>\n",
       "      <th>12</th>\n",
       "      <th>13</th>\n",
       "      <th>14</th>\n",
       "      <th>15</th>\n",
       "      <th>16</th>\n",
       "      <th>17</th>\n",
       "      <th>18</th>\n",
       "      <th>19</th>\n",
       "      <th>20</th>\n",
       "      <th>Cover_Type</th>\n",
       "    </tr>\n",
       "  </thead>\n",
       "  <tbody>\n",
       "    <tr>\n",
       "      <th>1508</th>\n",
       "      <td>-0.046914</td>\n",
       "      <td>-0.342419</td>\n",
       "      <td>2.846596</td>\n",
       "      <td>-0.733835</td>\n",
       "      <td>0.869071</td>\n",
       "      <td>-0.53254</td>\n",
       "      <td>-0.980379</td>\n",
       "      <td>-0.568295</td>\n",
       "      <td>0.972427</td>\n",
       "      <td>4.924982</td>\n",
       "      <td>...</td>\n",
       "      <td>-0.007639</td>\n",
       "      <td>-0.062936</td>\n",
       "      <td>-0.069738</td>\n",
       "      <td>-0.269311</td>\n",
       "      <td>-0.149618</td>\n",
       "      <td>0.013317</td>\n",
       "      <td>-0.101455</td>\n",
       "      <td>-0.180688</td>\n",
       "      <td>-0.466127</td>\n",
       "      <td>5.0</td>\n",
       "    </tr>\n",
       "  </tbody>\n",
       "</table>\n",
       "<p>1 rows × 32 columns</p>\n",
       "</div>"
      ],
      "text/plain": [
       "      Elevation    Aspect     Slope  Horizontal_Distance_To_Hydrology  \\\n",
       "1508  -0.046914 -0.342419  2.846596                         -0.733835   \n",
       "\n",
       "      Vertical_Distance_To_Hydrology  Horizontal_Distance_To_Roadways  \\\n",
       "1508                        0.869071                         -0.53254   \n",
       "\n",
       "      Hillshade_9am  Hillshade_Noon  Hillshade_3pm  \\\n",
       "1508      -0.980379       -0.568295       0.972427   \n",
       "\n",
       "      Horizontal_Distance_To_Fire_Points  ...        12        13        14  \\\n",
       "1508                            4.924982  ... -0.007639 -0.062936 -0.069738   \n",
       "\n",
       "            15        16        17        18        19        20  Cover_Type  \n",
       "1508 -0.269311 -0.149618  0.013317 -0.101455 -0.180688 -0.466127         5.0  \n",
       "\n",
       "[1 rows x 32 columns]"
      ]
     },
     "execution_count": 114,
     "metadata": {},
     "output_type": "execute_result"
    }
   ],
   "source": [
    "train_data.where(train_data.loc[:,\"Cover_Type\"] == 5).dropna()"
   ]
  },
  {
   "cell_type": "code",
   "execution_count": 115,
   "id": "f61af696-7700-4d51-8984-9bbb3e098fec",
   "metadata": {},
   "outputs": [],
   "source": [
    "train_data_without_5 = train_data.drop(1508).reset_index(drop=True)"
   ]
  },
  {
   "cell_type": "code",
   "execution_count": 116,
   "id": "bb9ab065-1cf3-499a-9aac-de4bb108bbf2",
   "metadata": {},
   "outputs": [
    {
     "data": {
      "text/html": [
       "<div>\n",
       "<style scoped>\n",
       "    .dataframe tbody tr th:only-of-type {\n",
       "        vertical-align: middle;\n",
       "    }\n",
       "\n",
       "    .dataframe tbody tr th {\n",
       "        vertical-align: top;\n",
       "    }\n",
       "\n",
       "    .dataframe thead th {\n",
       "        text-align: right;\n",
       "    }\n",
       "</style>\n",
       "<table border=\"1\" class=\"dataframe\">\n",
       "  <thead>\n",
       "    <tr style=\"text-align: right;\">\n",
       "      <th></th>\n",
       "      <th>Elevation</th>\n",
       "      <th>Aspect</th>\n",
       "      <th>Slope</th>\n",
       "      <th>Horizontal_Distance_To_Hydrology</th>\n",
       "      <th>Vertical_Distance_To_Hydrology</th>\n",
       "      <th>Horizontal_Distance_To_Roadways</th>\n",
       "      <th>Hillshade_9am</th>\n",
       "      <th>Hillshade_Noon</th>\n",
       "      <th>Hillshade_3pm</th>\n",
       "      <th>Horizontal_Distance_To_Fire_Points</th>\n",
       "      <th>...</th>\n",
       "      <th>12</th>\n",
       "      <th>13</th>\n",
       "      <th>14</th>\n",
       "      <th>15</th>\n",
       "      <th>16</th>\n",
       "      <th>17</th>\n",
       "      <th>18</th>\n",
       "      <th>19</th>\n",
       "      <th>20</th>\n",
       "      <th>Cover_Type</th>\n",
       "    </tr>\n",
       "  </thead>\n",
       "  <tbody>\n",
       "  </tbody>\n",
       "</table>\n",
       "<p>0 rows × 32 columns</p>\n",
       "</div>"
      ],
      "text/plain": [
       "Empty DataFrame\n",
       "Columns: [Elevation, Aspect, Slope, Horizontal_Distance_To_Hydrology, Vertical_Distance_To_Hydrology, Horizontal_Distance_To_Roadways, Hillshade_9am, Hillshade_Noon, Hillshade_3pm, Horizontal_Distance_To_Fire_Points, 0, 1, 2, 3, 4, 5, 6, 7, 8, 9, 10, 11, 12, 13, 14, 15, 16, 17, 18, 19, 20, Cover_Type]\n",
       "Index: []\n",
       "\n",
       "[0 rows x 32 columns]"
      ]
     },
     "execution_count": 116,
     "metadata": {},
     "output_type": "execute_result"
    }
   ],
   "source": [
    "train_data_without_5.where(train_data_without_5.loc[:,\"Cover_Type\"] == 5).dropna()"
   ]
  },
  {
   "cell_type": "markdown",
   "id": "541b9661-eef9-4aa2-a5b7-74b32cb42efe",
   "metadata": {},
   "source": [
    "#### Ramdom Forest"
   ]
  },
  {
   "cell_type": "code",
   "execution_count": 121,
   "id": "63fc2403-7402-47f4-af0c-a0abdbdfa8be",
   "metadata": {},
   "outputs": [],
   "source": [
    "def objective(trial):\n",
    "    X = train_data_without_5.iloc[:,:-1]\n",
    "    y = train_data_without_5.iloc[:,-1]\n",
    "    \n",
    "    # ハイパーパラメータの決定\n",
    "    n_estimators = trial.suggest_int(\"n_estimators\", 100, 300, 2)\n",
    "    criterion = trial.suggest_categorical(\"criterion\", (\"gini\", \"entropy\"))\n",
    "    max_depth = trial.suggest_int(\"max_depth\", 31, 61, 2)\n",
    "    \n",
    "    train_acc, val_acc, test_acc = [], [], []\n",
    "    \n",
    "    # trainとtestに分ける\n",
    "    train_X, test_X, train_y, test_y = train_test_split(X, y, train_size=0.8, random_state=0, stratify=y)\n",
    "    \n",
    "    sss = StratifiedShuffleSplit(n_splits=5, train_size=0.8, random_state=0)\n",
    "    for train_index, val_index in sss.split(train_X, train_y):\n",
    "        model = RFC(n_estimators=n_estimators, criterion=criterion, max_depth=max_depth, random_state=0)\n",
    "        model.fit(X.iloc[train_index], y[train_index])\n",
    "        \n",
    "        train_acc.append(model.score(X.iloc[train_index], y[train_index]))\n",
    "        val_acc.append(model.score(X.iloc[val_index], y[val_index]))\n",
    "        test_acc.append(model.score(test_X, test_y))\n",
    "\n",
    "    print(\"train_acc: {}\".format(np.mean(train_acc)))\n",
    "    print(\"val_acc: {}\".format(np.mean(val_acc)))\n",
    "    print(\"test_acc: {}\".format(np.mean(test_acc)))\n",
    "    return np.mean(test_acc)"
   ]
  },
  {
   "cell_type": "code",
   "execution_count": 122,
   "id": "d5906c46-4ac9-4740-ac5d-d77de98eacb5",
   "metadata": {
    "collapsed": true,
    "jupyter": {
     "outputs_hidden": true
    },
    "tags": []
   },
   "outputs": [
    {
     "name": "stderr",
     "output_type": "stream",
     "text": [
      "\u001b[32m[I 2021-12-30 12:58:08,108]\u001b[0m A new study created in memory with name: no-name-a8b773b5-eb39-499a-a43c-731cf64ffb27\u001b[0m\n",
      "\u001b[32m[I 2021-12-30 12:58:11,859]\u001b[0m Trial 0 finished with value: 0.8154525386313466 and parameters: {'n_estimators': 130, 'criterion': 'entropy', 'max_depth': 45}. Best is trial 0 with value: 0.8154525386313466.\u001b[0m\n"
     ]
    },
    {
     "name": "stdout",
     "output_type": "stream",
     "text": [
      "train_acc: 1.0\n",
      "val_acc: 0.8823204419889503\n",
      "test_acc: 0.8154525386313466\n"
     ]
    },
    {
     "name": "stderr",
     "output_type": "stream",
     "text": [
      "\u001b[32m[I 2021-12-30 12:58:19,903]\u001b[0m Trial 1 finished with value: 0.8150110375275939 and parameters: {'n_estimators': 272, 'criterion': 'entropy', 'max_depth': 39}. Best is trial 0 with value: 0.8154525386313466.\u001b[0m\n"
     ]
    },
    {
     "name": "stdout",
     "output_type": "stream",
     "text": [
      "train_acc: 1.0\n",
      "val_acc: 0.8839779005524863\n",
      "test_acc: 0.8150110375275939\n"
     ]
    },
    {
     "name": "stderr",
     "output_type": "stream",
     "text": [
      "\u001b[32m[I 2021-12-30 12:58:26,273]\u001b[0m Trial 2 finished with value: 0.8158940397350994 and parameters: {'n_estimators': 194, 'criterion': 'entropy', 'max_depth': 45}. Best is trial 2 with value: 0.8158940397350994.\u001b[0m\n"
     ]
    },
    {
     "name": "stdout",
     "output_type": "stream",
     "text": [
      "train_acc: 1.0\n",
      "val_acc: 0.8817679558011049\n",
      "test_acc: 0.8158940397350994\n"
     ]
    },
    {
     "name": "stderr",
     "output_type": "stream",
     "text": [
      "\u001b[32m[I 2021-12-30 12:58:32,080]\u001b[0m Trial 3 finished with value: 0.8150110375275939 and parameters: {'n_estimators': 156, 'criterion': 'entropy', 'max_depth': 31}. Best is trial 2 with value: 0.8158940397350994.\u001b[0m\n"
     ]
    },
    {
     "name": "stdout",
     "output_type": "stream",
     "text": [
      "train_acc: 1.0\n",
      "val_acc: 0.8823204419889503\n",
      "test_acc: 0.8150110375275939\n"
     ]
    },
    {
     "name": "stderr",
     "output_type": "stream",
     "text": [
      "\u001b[32m[I 2021-12-30 12:58:40,953]\u001b[0m Trial 4 finished with value: 0.8158940397350992 and parameters: {'n_estimators': 298, 'criterion': 'gini', 'max_depth': 59}. Best is trial 2 with value: 0.8158940397350994.\u001b[0m\n"
     ]
    },
    {
     "name": "stdout",
     "output_type": "stream",
     "text": [
      "train_acc: 1.0\n",
      "val_acc: 0.8834254143646408\n",
      "test_acc: 0.8158940397350992\n"
     ]
    },
    {
     "name": "stderr",
     "output_type": "stream",
     "text": [
      "\u001b[32m[I 2021-12-30 12:58:48,976]\u001b[0m Trial 5 finished with value: 0.8158940397350994 and parameters: {'n_estimators': 194, 'criterion': 'entropy', 'max_depth': 47}. Best is trial 2 with value: 0.8158940397350994.\u001b[0m\n"
     ]
    },
    {
     "name": "stdout",
     "output_type": "stream",
     "text": [
      "train_acc: 1.0\n",
      "val_acc: 0.8817679558011049\n",
      "test_acc: 0.8158940397350994\n"
     ]
    },
    {
     "name": "stderr",
     "output_type": "stream",
     "text": [
      "\u001b[32m[I 2021-12-30 12:58:52,580]\u001b[0m Trial 6 finished with value: 0.8150110375275939 and parameters: {'n_estimators': 114, 'criterion': 'gini', 'max_depth': 33}. Best is trial 2 with value: 0.8158940397350994.\u001b[0m\n"
     ]
    },
    {
     "name": "stdout",
     "output_type": "stream",
     "text": [
      "train_acc: 1.0\n",
      "val_acc: 0.8839779005524863\n",
      "test_acc: 0.8150110375275939\n"
     ]
    },
    {
     "name": "stderr",
     "output_type": "stream",
     "text": [
      "\u001b[32m[I 2021-12-30 12:58:57,660]\u001b[0m Trial 7 finished with value: 0.814569536423841 and parameters: {'n_estimators': 116, 'criterion': 'entropy', 'max_depth': 49}. Best is trial 2 with value: 0.8158940397350994.\u001b[0m\n"
     ]
    },
    {
     "name": "stdout",
     "output_type": "stream",
     "text": [
      "train_acc: 1.0\n",
      "val_acc: 0.8834254143646408\n",
      "test_acc: 0.814569536423841\n"
     ]
    },
    {
     "name": "stderr",
     "output_type": "stream",
     "text": [
      "\u001b[32m[I 2021-12-30 12:59:06,890]\u001b[0m Trial 8 finished with value: 0.8154525386313465 and parameters: {'n_estimators': 264, 'criterion': 'gini', 'max_depth': 31}. Best is trial 2 with value: 0.8158940397350994.\u001b[0m\n"
     ]
    },
    {
     "name": "stdout",
     "output_type": "stream",
     "text": [
      "train_acc: 1.0\n",
      "val_acc: 0.8823204419889503\n",
      "test_acc: 0.8154525386313465\n"
     ]
    },
    {
     "name": "stderr",
     "output_type": "stream",
     "text": [
      "\u001b[32m[I 2021-12-30 12:59:16,761]\u001b[0m Trial 9 finished with value: 0.8154525386313466 and parameters: {'n_estimators': 230, 'criterion': 'entropy', 'max_depth': 57}. Best is trial 2 with value: 0.8158940397350994.\u001b[0m\n"
     ]
    },
    {
     "name": "stdout",
     "output_type": "stream",
     "text": [
      "train_acc: 1.0\n",
      "val_acc: 0.8828729281767955\n",
      "test_acc: 0.8154525386313466\n"
     ]
    },
    {
     "name": "stderr",
     "output_type": "stream",
     "text": [
      "\u001b[32m[I 2021-12-30 12:59:24,431]\u001b[0m Trial 10 finished with value: 0.8154525386313466 and parameters: {'n_estimators': 184, 'criterion': 'entropy', 'max_depth': 41}. Best is trial 2 with value: 0.8158940397350994.\u001b[0m\n"
     ]
    },
    {
     "name": "stdout",
     "output_type": "stream",
     "text": [
      "train_acc: 1.0\n",
      "val_acc: 0.8806629834254143\n",
      "test_acc: 0.8154525386313466\n"
     ]
    },
    {
     "name": "stderr",
     "output_type": "stream",
     "text": [
      "\u001b[32m[I 2021-12-30 12:59:31,614]\u001b[0m Trial 11 finished with value: 0.8150110375275939 and parameters: {'n_estimators': 200, 'criterion': 'entropy', 'max_depth': 51}. Best is trial 2 with value: 0.8158940397350994.\u001b[0m\n"
     ]
    },
    {
     "name": "stdout",
     "output_type": "stream",
     "text": [
      "train_acc: 1.0\n",
      "val_acc: 0.8812154696132597\n",
      "test_acc: 0.8150110375275939\n"
     ]
    },
    {
     "name": "stderr",
     "output_type": "stream",
     "text": [
      "\u001b[32m[I 2021-12-30 12:59:39,971]\u001b[0m Trial 12 finished with value: 0.8158940397350992 and parameters: {'n_estimators': 224, 'criterion': 'entropy', 'max_depth': 53}. Best is trial 2 with value: 0.8158940397350994.\u001b[0m\n"
     ]
    },
    {
     "name": "stdout",
     "output_type": "stream",
     "text": [
      "train_acc: 1.0\n",
      "val_acc: 0.8823204419889501\n",
      "test_acc: 0.8158940397350992\n"
     ]
    },
    {
     "name": "stderr",
     "output_type": "stream",
     "text": [
      "\u001b[32m[I 2021-12-30 12:59:47,263]\u001b[0m Trial 13 finished with value: 0.8154525386313466 and parameters: {'n_estimators': 160, 'criterion': 'entropy', 'max_depth': 43}. Best is trial 2 with value: 0.8158940397350994.\u001b[0m\n"
     ]
    },
    {
     "name": "stdout",
     "output_type": "stream",
     "text": [
      "train_acc: 1.0\n",
      "val_acc: 0.8823204419889503\n",
      "test_acc: 0.8154525386313466\n"
     ]
    },
    {
     "name": "stderr",
     "output_type": "stream",
     "text": [
      "\u001b[32m[I 2021-12-30 12:59:57,876]\u001b[0m Trial 14 finished with value: 0.8158940397350992 and parameters: {'n_estimators': 224, 'criterion': 'entropy', 'max_depth': 37}. Best is trial 2 with value: 0.8158940397350994.\u001b[0m\n"
     ]
    },
    {
     "name": "stdout",
     "output_type": "stream",
     "text": [
      "train_acc: 1.0\n",
      "val_acc: 0.8823204419889501\n",
      "test_acc: 0.8158940397350992\n"
     ]
    },
    {
     "name": "stderr",
     "output_type": "stream",
     "text": [
      "\u001b[32m[I 2021-12-30 13:00:02,878]\u001b[0m Trial 15 finished with value: 0.8158940397350994 and parameters: {'n_estimators': 164, 'criterion': 'gini', 'max_depth': 47}. Best is trial 2 with value: 0.8158940397350994.\u001b[0m\n"
     ]
    },
    {
     "name": "stdout",
     "output_type": "stream",
     "text": [
      "train_acc: 1.0\n",
      "val_acc: 0.8812154696132597\n",
      "test_acc: 0.8158940397350994\n"
     ]
    },
    {
     "name": "stderr",
     "output_type": "stream",
     "text": [
      "\u001b[32m[I 2021-12-30 13:00:09,458]\u001b[0m Trial 16 finished with value: 0.8158940397350994 and parameters: {'n_estimators': 194, 'criterion': 'entropy', 'max_depth': 53}. Best is trial 2 with value: 0.8158940397350994.\u001b[0m\n"
     ]
    },
    {
     "name": "stdout",
     "output_type": "stream",
     "text": [
      "train_acc: 1.0\n",
      "val_acc: 0.8817679558011049\n",
      "test_acc: 0.8158940397350994\n"
     ]
    },
    {
     "name": "stderr",
     "output_type": "stream",
     "text": [
      "\u001b[32m[I 2021-12-30 13:00:19,134]\u001b[0m Trial 17 finished with value: 0.8163355408388521 and parameters: {'n_estimators': 242, 'criterion': 'entropy', 'max_depth': 55}. Best is trial 17 with value: 0.8163355408388521.\u001b[0m\n"
     ]
    },
    {
     "name": "stdout",
     "output_type": "stream",
     "text": [
      "train_acc: 1.0\n",
      "val_acc: 0.8839779005524863\n",
      "test_acc: 0.8163355408388521\n"
     ]
    },
    {
     "name": "stderr",
     "output_type": "stream",
     "text": [
      "\u001b[32m[I 2021-12-30 13:00:26,813]\u001b[0m Trial 18 finished with value: 0.8158940397350992 and parameters: {'n_estimators': 246, 'criterion': 'gini', 'max_depth': 61}. Best is trial 17 with value: 0.8163355408388521.\u001b[0m\n"
     ]
    },
    {
     "name": "stdout",
     "output_type": "stream",
     "text": [
      "train_acc: 1.0\n",
      "val_acc: 0.8823204419889501\n",
      "test_acc: 0.8158940397350992\n"
     ]
    },
    {
     "name": "stderr",
     "output_type": "stream",
     "text": [
      "\u001b[32m[I 2021-12-30 13:00:38,354]\u001b[0m Trial 19 finished with value: 0.8154525386313466 and parameters: {'n_estimators': 246, 'criterion': 'entropy', 'max_depth': 55}. Best is trial 17 with value: 0.8163355408388521.\u001b[0m\n"
     ]
    },
    {
     "name": "stdout",
     "output_type": "stream",
     "text": [
      "train_acc: 1.0\n",
      "val_acc: 0.8828729281767955\n",
      "test_acc: 0.8154525386313466\n"
     ]
    },
    {
     "name": "stderr",
     "output_type": "stream",
     "text": [
      "\u001b[32m[I 2021-12-30 13:00:53,228]\u001b[0m Trial 20 finished with value: 0.8154525386313466 and parameters: {'n_estimators': 300, 'criterion': 'entropy', 'max_depth': 37}. Best is trial 17 with value: 0.8163355408388521.\u001b[0m\n"
     ]
    },
    {
     "name": "stdout",
     "output_type": "stream",
     "text": [
      "train_acc: 1.0\n",
      "val_acc: 0.8845303867403315\n",
      "test_acc: 0.8154525386313466\n"
     ]
    },
    {
     "name": "stderr",
     "output_type": "stream",
     "text": [
      "\u001b[32m[I 2021-12-30 13:01:01,291]\u001b[0m Trial 21 finished with value: 0.8150110375275939 and parameters: {'n_estimators': 180, 'criterion': 'entropy', 'max_depth': 47}. Best is trial 17 with value: 0.8163355408388521.\u001b[0m\n"
     ]
    },
    {
     "name": "stdout",
     "output_type": "stream",
     "text": [
      "train_acc: 1.0\n",
      "val_acc: 0.8806629834254144\n",
      "test_acc: 0.8150110375275939\n"
     ]
    },
    {
     "name": "stderr",
     "output_type": "stream",
     "text": [
      "\u001b[32m[I 2021-12-30 13:01:11,952]\u001b[0m Trial 22 finished with value: 0.8150110375275939 and parameters: {'n_estimators': 210, 'criterion': 'entropy', 'max_depth': 43}. Best is trial 17 with value: 0.8163355408388521.\u001b[0m\n"
     ]
    },
    {
     "name": "stdout",
     "output_type": "stream",
     "text": [
      "train_acc: 1.0\n",
      "val_acc: 0.8812154696132597\n",
      "test_acc: 0.8150110375275939\n"
     ]
    },
    {
     "name": "stderr",
     "output_type": "stream",
     "text": [
      "\u001b[32m[I 2021-12-30 13:01:19,784]\u001b[0m Trial 23 finished with value: 0.8150110375275939 and parameters: {'n_estimators': 174, 'criterion': 'entropy', 'max_depth': 49}. Best is trial 17 with value: 0.8163355408388521.\u001b[0m\n"
     ]
    },
    {
     "name": "stdout",
     "output_type": "stream",
     "text": [
      "train_acc: 1.0\n",
      "val_acc: 0.8812154696132597\n",
      "test_acc: 0.8150110375275939\n"
     ]
    },
    {
     "name": "stderr",
     "output_type": "stream",
     "text": [
      "\u001b[32m[I 2021-12-30 13:01:26,768]\u001b[0m Trial 24 finished with value: 0.8158940397350992 and parameters: {'n_estimators': 138, 'criterion': 'entropy', 'max_depth': 53}. Best is trial 17 with value: 0.8163355408388521.\u001b[0m\n"
     ]
    },
    {
     "name": "stdout",
     "output_type": "stream",
     "text": [
      "train_acc: 1.0\n",
      "val_acc: 0.8850828729281768\n",
      "test_acc: 0.8158940397350992\n"
     ]
    },
    {
     "name": "stderr",
     "output_type": "stream",
     "text": [
      "\u001b[32m[I 2021-12-30 13:01:34,558]\u001b[0m Trial 25 finished with value: 0.8150110375275939 and parameters: {'n_estimators': 208, 'criterion': 'entropy', 'max_depth': 57}. Best is trial 17 with value: 0.8163355408388521.\u001b[0m\n"
     ]
    },
    {
     "name": "stdout",
     "output_type": "stream",
     "text": [
      "train_acc: 1.0\n",
      "val_acc: 0.8812154696132597\n",
      "test_acc: 0.8150110375275939\n"
     ]
    },
    {
     "name": "stderr",
     "output_type": "stream",
     "text": [
      "\u001b[32m[I 2021-12-30 13:01:43,881]\u001b[0m Trial 26 finished with value: 0.8158940397350992 and parameters: {'n_estimators': 240, 'criterion': 'gini', 'max_depth': 45}. Best is trial 17 with value: 0.8163355408388521.\u001b[0m\n"
     ]
    },
    {
     "name": "stdout",
     "output_type": "stream",
     "text": [
      "train_acc: 1.0\n",
      "val_acc: 0.8834254143646408\n",
      "test_acc: 0.8158940397350992\n"
     ]
    },
    {
     "name": "stderr",
     "output_type": "stream",
     "text": [
      "\u001b[32m[I 2021-12-30 13:01:55,019]\u001b[0m Trial 27 finished with value: 0.8150110375275939 and parameters: {'n_estimators': 264, 'criterion': 'entropy', 'max_depth': 49}. Best is trial 17 with value: 0.8163355408388521.\u001b[0m\n"
     ]
    },
    {
     "name": "stdout",
     "output_type": "stream",
     "text": [
      "train_acc: 1.0\n",
      "val_acc: 0.8834254143646408\n",
      "test_acc: 0.8150110375275939\n"
     ]
    },
    {
     "name": "stderr",
     "output_type": "stream",
     "text": [
      "\u001b[32m[I 2021-12-30 13:02:02,254]\u001b[0m Trial 28 finished with value: 0.8154525386313466 and parameters: {'n_estimators': 212, 'criterion': 'entropy', 'max_depth': 41}. Best is trial 17 with value: 0.8163355408388521.\u001b[0m\n"
     ]
    },
    {
     "name": "stdout",
     "output_type": "stream",
     "text": [
      "train_acc: 1.0\n",
      "val_acc: 0.8812154696132597\n",
      "test_acc: 0.8154525386313466\n"
     ]
    },
    {
     "name": "stderr",
     "output_type": "stream",
     "text": [
      "\u001b[32m[I 2021-12-30 13:02:06,670]\u001b[0m Trial 29 finished with value: 0.8154525386313466 and parameters: {'n_estimators': 132, 'criterion': 'entropy', 'max_depth': 45}. Best is trial 17 with value: 0.8163355408388521.\u001b[0m\n"
     ]
    },
    {
     "name": "stdout",
     "output_type": "stream",
     "text": [
      "train_acc: 1.0\n",
      "val_acc: 0.8834254143646408\n",
      "test_acc: 0.8154525386313466\n"
     ]
    },
    {
     "name": "stderr",
     "output_type": "stream",
     "text": [
      "\u001b[32m[I 2021-12-30 13:02:11,191]\u001b[0m Trial 30 finished with value: 0.8150110375275939 and parameters: {'n_estimators': 146, 'criterion': 'entropy', 'max_depth': 51}. Best is trial 17 with value: 0.8163355408388521.\u001b[0m\n"
     ]
    },
    {
     "name": "stdout",
     "output_type": "stream",
     "text": [
      "train_acc: 1.0\n",
      "val_acc: 0.8823204419889503\n",
      "test_acc: 0.8150110375275939\n"
     ]
    },
    {
     "name": "stderr",
     "output_type": "stream",
     "text": [
      "\u001b[32m[I 2021-12-30 13:02:15,363]\u001b[0m Trial 31 finished with value: 0.8158940397350994 and parameters: {'n_estimators': 164, 'criterion': 'gini', 'max_depth': 47}. Best is trial 17 with value: 0.8163355408388521.\u001b[0m\n"
     ]
    },
    {
     "name": "stdout",
     "output_type": "stream",
     "text": [
      "train_acc: 1.0\n",
      "val_acc: 0.8812154696132597\n",
      "test_acc: 0.8158940397350994\n"
     ]
    },
    {
     "name": "stderr",
     "output_type": "stream",
     "text": [
      "\u001b[32m[I 2021-12-30 13:02:20,030]\u001b[0m Trial 32 finished with value: 0.8167770419426048 and parameters: {'n_estimators': 188, 'criterion': 'gini', 'max_depth': 55}. Best is trial 32 with value: 0.8167770419426048.\u001b[0m\n"
     ]
    },
    {
     "name": "stdout",
     "output_type": "stream",
     "text": [
      "train_acc: 1.0\n",
      "val_acc: 0.8812154696132597\n",
      "test_acc: 0.8167770419426048\n"
     ]
    },
    {
     "name": "stderr",
     "output_type": "stream",
     "text": [
      "\u001b[32m[I 2021-12-30 13:02:24,177]\u001b[0m Trial 33 finished with value: 0.8158940397350994 and parameters: {'n_estimators': 168, 'criterion': 'gini', 'max_depth': 61}. Best is trial 32 with value: 0.8167770419426048.\u001b[0m\n"
     ]
    },
    {
     "name": "stdout",
     "output_type": "stream",
     "text": [
      "train_acc: 1.0\n",
      "val_acc: 0.8801104972375692\n",
      "test_acc: 0.8158940397350994\n"
     ]
    },
    {
     "name": "stderr",
     "output_type": "stream",
     "text": [
      "\u001b[32m[I 2021-12-30 13:02:28,551]\u001b[0m Trial 34 finished with value: 0.8163355408388521 and parameters: {'n_estimators': 182, 'criterion': 'gini', 'max_depth': 55}. Best is trial 32 with value: 0.8167770419426048.\u001b[0m\n"
     ]
    },
    {
     "name": "stdout",
     "output_type": "stream",
     "text": [
      "train_acc: 1.0\n",
      "val_acc: 0.8812154696132597\n",
      "test_acc: 0.8163355408388521\n"
     ]
    },
    {
     "name": "stderr",
     "output_type": "stream",
     "text": [
      "\u001b[32m[I 2021-12-30 13:02:33,091]\u001b[0m Trial 35 finished with value: 0.8167770419426048 and parameters: {'n_estimators': 188, 'criterion': 'gini', 'max_depth': 57}. Best is trial 32 with value: 0.8167770419426048.\u001b[0m\n"
     ]
    },
    {
     "name": "stdout",
     "output_type": "stream",
     "text": [
      "train_acc: 1.0\n",
      "val_acc: 0.8812154696132597\n",
      "test_acc: 0.8167770419426048\n"
     ]
    },
    {
     "name": "stderr",
     "output_type": "stream",
     "text": [
      "\u001b[32m[I 2021-12-30 13:02:37,527]\u001b[0m Trial 36 finished with value: 0.8167770419426048 and parameters: {'n_estimators': 186, 'criterion': 'gini', 'max_depth': 57}. Best is trial 32 with value: 0.8167770419426048.\u001b[0m\n"
     ]
    },
    {
     "name": "stdout",
     "output_type": "stream",
     "text": [
      "train_acc: 1.0\n",
      "val_acc: 0.8823204419889501\n",
      "test_acc: 0.8167770419426048\n"
     ]
    },
    {
     "name": "stderr",
     "output_type": "stream",
     "text": [
      "\u001b[32m[I 2021-12-30 13:02:41,198]\u001b[0m Trial 37 finished with value: 0.8154525386313466 and parameters: {'n_estimators': 150, 'criterion': 'gini', 'max_depth': 59}. Best is trial 32 with value: 0.8167770419426048.\u001b[0m\n"
     ]
    },
    {
     "name": "stdout",
     "output_type": "stream",
     "text": [
      "train_acc: 1.0\n",
      "val_acc: 0.8823204419889501\n",
      "test_acc: 0.8154525386313466\n"
     ]
    },
    {
     "name": "stderr",
     "output_type": "stream",
     "text": [
      "\u001b[32m[I 2021-12-30 13:02:47,962]\u001b[0m Trial 38 finished with value: 0.8158940397350992 and parameters: {'n_estimators': 286, 'criterion': 'gini', 'max_depth': 57}. Best is trial 32 with value: 0.8167770419426048.\u001b[0m\n"
     ]
    },
    {
     "name": "stdout",
     "output_type": "stream",
     "text": [
      "train_acc: 1.0\n",
      "val_acc: 0.8823204419889503\n",
      "test_acc: 0.8158940397350992\n"
     ]
    },
    {
     "name": "stderr",
     "output_type": "stream",
     "text": [
      "\u001b[32m[I 2021-12-30 13:02:52,817]\u001b[0m Trial 39 finished with value: 0.8167770419426048 and parameters: {'n_estimators': 204, 'criterion': 'gini', 'max_depth': 59}. Best is trial 32 with value: 0.8167770419426048.\u001b[0m\n"
     ]
    },
    {
     "name": "stdout",
     "output_type": "stream",
     "text": [
      "train_acc: 1.0\n",
      "val_acc: 0.8817679558011049\n",
      "test_acc: 0.8167770419426048\n"
     ]
    },
    {
     "name": "stderr",
     "output_type": "stream",
     "text": [
      "\u001b[32m[I 2021-12-30 13:02:55,228]\u001b[0m Trial 40 finished with value: 0.814569536423841 and parameters: {'n_estimators': 100, 'criterion': 'gini', 'max_depth': 59}. Best is trial 32 with value: 0.8167770419426048.\u001b[0m\n"
     ]
    },
    {
     "name": "stdout",
     "output_type": "stream",
     "text": [
      "train_acc: 1.0\n",
      "val_acc: 0.8828729281767955\n",
      "test_acc: 0.814569536423841\n"
     ]
    },
    {
     "name": "stderr",
     "output_type": "stream",
     "text": [
      "\u001b[32m[I 2021-12-30 13:02:59,672]\u001b[0m Trial 41 finished with value: 0.8154525386313466 and parameters: {'n_estimators': 190, 'criterion': 'gini', 'max_depth': 55}. Best is trial 32 with value: 0.8167770419426048.\u001b[0m\n"
     ]
    },
    {
     "name": "stdout",
     "output_type": "stream",
     "text": [
      "train_acc: 1.0\n",
      "val_acc: 0.8801104972375692\n",
      "test_acc: 0.8154525386313466\n"
     ]
    },
    {
     "name": "stderr",
     "output_type": "stream",
     "text": [
      "\u001b[32m[I 2021-12-30 13:03:04,362]\u001b[0m Trial 42 finished with value: 0.8167770419426048 and parameters: {'n_estimators': 200, 'criterion': 'gini', 'max_depth': 59}. Best is trial 32 with value: 0.8167770419426048.\u001b[0m\n"
     ]
    },
    {
     "name": "stdout",
     "output_type": "stream",
     "text": [
      "train_acc: 1.0\n",
      "val_acc: 0.8828729281767955\n",
      "test_acc: 0.8167770419426048\n"
     ]
    },
    {
     "name": "stderr",
     "output_type": "stream",
     "text": [
      "\u001b[32m[I 2021-12-30 13:03:09,047]\u001b[0m Trial 43 finished with value: 0.8167770419426048 and parameters: {'n_estimators': 202, 'criterion': 'gini', 'max_depth': 61}. Best is trial 32 with value: 0.8167770419426048.\u001b[0m\n"
     ]
    },
    {
     "name": "stdout",
     "output_type": "stream",
     "text": [
      "train_acc: 1.0\n",
      "val_acc: 0.8823204419889501\n",
      "test_acc: 0.8167770419426048\n"
     ]
    },
    {
     "name": "stderr",
     "output_type": "stream",
     "text": [
      "\u001b[32m[I 2021-12-30 13:03:13,791]\u001b[0m Trial 44 finished with value: 0.8167770419426048 and parameters: {'n_estimators': 202, 'criterion': 'gini', 'max_depth': 61}. Best is trial 32 with value: 0.8167770419426048.\u001b[0m\n"
     ]
    },
    {
     "name": "stdout",
     "output_type": "stream",
     "text": [
      "train_acc: 1.0\n",
      "val_acc: 0.8823204419889501\n",
      "test_acc: 0.8167770419426048\n"
     ]
    },
    {
     "name": "stderr",
     "output_type": "stream",
     "text": [
      "\u001b[32m[I 2021-12-30 13:03:18,468]\u001b[0m Trial 45 finished with value: 0.8167770419426048 and parameters: {'n_estimators': 202, 'criterion': 'gini', 'max_depth': 61}. Best is trial 32 with value: 0.8167770419426048.\u001b[0m\n"
     ]
    },
    {
     "name": "stdout",
     "output_type": "stream",
     "text": [
      "train_acc: 1.0\n",
      "val_acc: 0.8823204419889501\n",
      "test_acc: 0.8167770419426048\n"
     ]
    },
    {
     "name": "stderr",
     "output_type": "stream",
     "text": [
      "\u001b[32m[I 2021-12-30 13:03:23,453]\u001b[0m Trial 46 finished with value: 0.8163355408388521 and parameters: {'n_estimators': 218, 'criterion': 'gini', 'max_depth': 61}. Best is trial 32 with value: 0.8167770419426048.\u001b[0m\n"
     ]
    },
    {
     "name": "stdout",
     "output_type": "stream",
     "text": [
      "train_acc: 1.0\n",
      "val_acc: 0.8823204419889503\n",
      "test_acc: 0.8163355408388521\n"
     ]
    },
    {
     "name": "stderr",
     "output_type": "stream",
     "text": [
      "\u001b[32m[I 2021-12-30 13:03:27,483]\u001b[0m Trial 47 finished with value: 0.8158940397350994 and parameters: {'n_estimators': 174, 'criterion': 'gini', 'max_depth': 61}. Best is trial 32 with value: 0.8167770419426048.\u001b[0m\n"
     ]
    },
    {
     "name": "stdout",
     "output_type": "stream",
     "text": [
      "train_acc: 1.0\n",
      "val_acc: 0.8806629834254144\n",
      "test_acc: 0.8158940397350994\n"
     ]
    },
    {
     "name": "stderr",
     "output_type": "stream",
     "text": [
      "\u001b[32m[I 2021-12-30 13:03:32,793]\u001b[0m Trial 48 finished with value: 0.8158940397350992 and parameters: {'n_estimators': 230, 'criterion': 'gini', 'max_depth': 61}. Best is trial 32 with value: 0.8167770419426048.\u001b[0m\n"
     ]
    },
    {
     "name": "stdout",
     "output_type": "stream",
     "text": [
      "train_acc: 1.0\n",
      "val_acc: 0.8817679558011051\n",
      "test_acc: 0.8158940397350992\n"
     ]
    },
    {
     "name": "stderr",
     "output_type": "stream",
     "text": [
      "\u001b[32m[I 2021-12-30 13:03:37,268]\u001b[0m Trial 49 finished with value: 0.8172185430463577 and parameters: {'n_estimators': 198, 'criterion': 'gini', 'max_depth': 59}. Best is trial 49 with value: 0.8172185430463577.\u001b[0m\n"
     ]
    },
    {
     "name": "stdout",
     "output_type": "stream",
     "text": [
      "train_acc: 1.0\n",
      "val_acc: 0.8834254143646408\n",
      "test_acc: 0.8172185430463577\n"
     ]
    },
    {
     "name": "stderr",
     "output_type": "stream",
     "text": [
      "\u001b[32m[I 2021-12-30 13:03:41,800]\u001b[0m Trial 50 finished with value: 0.8167770419426048 and parameters: {'n_estimators': 196, 'criterion': 'gini', 'max_depth': 57}. Best is trial 49 with value: 0.8172185430463577.\u001b[0m\n"
     ]
    },
    {
     "name": "stdout",
     "output_type": "stream",
     "text": [
      "train_acc: 1.0\n",
      "val_acc: 0.8828729281767955\n",
      "test_acc: 0.8167770419426048\n"
     ]
    },
    {
     "name": "stderr",
     "output_type": "stream",
     "text": [
      "\u001b[32m[I 2021-12-30 13:03:46,271]\u001b[0m Trial 51 finished with value: 0.8163355408388522 and parameters: {'n_estimators': 194, 'criterion': 'gini', 'max_depth': 57}. Best is trial 49 with value: 0.8172185430463577.\u001b[0m\n"
     ]
    },
    {
     "name": "stdout",
     "output_type": "stream",
     "text": [
      "train_acc: 1.0\n",
      "val_acc: 0.8823204419889501\n",
      "test_acc: 0.8163355408388522\n"
     ]
    },
    {
     "name": "stderr",
     "output_type": "stream",
     "text": [
      "\u001b[32m[I 2021-12-30 13:03:50,256]\u001b[0m Trial 52 finished with value: 0.8158940397350994 and parameters: {'n_estimators': 176, 'criterion': 'gini', 'max_depth': 57}. Best is trial 49 with value: 0.8172185430463577.\u001b[0m\n"
     ]
    },
    {
     "name": "stdout",
     "output_type": "stream",
     "text": [
      "train_acc: 1.0\n",
      "val_acc: 0.8812154696132597\n",
      "test_acc: 0.8158940397350994\n"
     ]
    },
    {
     "name": "stderr",
     "output_type": "stream",
     "text": [
      "\u001b[32m[I 2021-12-30 13:03:54,660]\u001b[0m Trial 53 finished with value: 0.8167770419426048 and parameters: {'n_estimators': 188, 'criterion': 'gini', 'max_depth': 59}. Best is trial 49 with value: 0.8172185430463577.\u001b[0m\n"
     ]
    },
    {
     "name": "stdout",
     "output_type": "stream",
     "text": [
      "train_acc: 1.0\n",
      "val_acc: 0.8812154696132597\n",
      "test_acc: 0.8167770419426048\n"
     ]
    },
    {
     "name": "stderr",
     "output_type": "stream",
     "text": [
      "\u001b[32m[I 2021-12-30 13:03:58,989]\u001b[0m Trial 54 finished with value: 0.8167770419426048 and parameters: {'n_estimators': 188, 'criterion': 'gini', 'max_depth': 59}. Best is trial 49 with value: 0.8172185430463577.\u001b[0m\n"
     ]
    },
    {
     "name": "stdout",
     "output_type": "stream",
     "text": [
      "train_acc: 1.0\n",
      "val_acc: 0.8812154696132597\n",
      "test_acc: 0.8167770419426048\n"
     ]
    },
    {
     "name": "stderr",
     "output_type": "stream",
     "text": [
      "\u001b[32m[I 2021-12-30 13:04:04,054]\u001b[0m Trial 55 finished with value: 0.8163355408388521 and parameters: {'n_estimators': 218, 'criterion': 'gini', 'max_depth': 59}. Best is trial 49 with value: 0.8172185430463577.\u001b[0m\n"
     ]
    },
    {
     "name": "stdout",
     "output_type": "stream",
     "text": [
      "train_acc: 1.0\n",
      "val_acc: 0.8823204419889503\n",
      "test_acc: 0.8163355408388521\n"
     ]
    },
    {
     "name": "stderr",
     "output_type": "stream",
     "text": [
      "\u001b[32m[I 2021-12-30 13:04:08,615]\u001b[0m Trial 56 finished with value: 0.8167770419426048 and parameters: {'n_estimators': 188, 'criterion': 'gini', 'max_depth': 55}. Best is trial 49 with value: 0.8172185430463577.\u001b[0m\n"
     ]
    },
    {
     "name": "stdout",
     "output_type": "stream",
     "text": [
      "train_acc: 1.0\n",
      "val_acc: 0.8812154696132597\n",
      "test_acc: 0.8167770419426048\n"
     ]
    },
    {
     "name": "stderr",
     "output_type": "stream",
     "text": [
      "\u001b[32m[I 2021-12-30 13:04:12,258]\u001b[0m Trial 57 finished with value: 0.8154525386313466 and parameters: {'n_estimators': 156, 'criterion': 'gini', 'max_depth': 53}. Best is trial 49 with value: 0.8172185430463577.\u001b[0m\n"
     ]
    },
    {
     "name": "stdout",
     "output_type": "stream",
     "text": [
      "train_acc: 1.0\n",
      "val_acc: 0.8806629834254144\n",
      "test_acc: 0.8154525386313466\n"
     ]
    },
    {
     "name": "stderr",
     "output_type": "stream",
     "text": [
      "\u001b[32m[I 2021-12-30 13:04:16,803]\u001b[0m Trial 58 finished with value: 0.8167770419426048 and parameters: {'n_estimators': 202, 'criterion': 'gini', 'max_depth': 61}. Best is trial 49 with value: 0.8172185430463577.\u001b[0m\n"
     ]
    },
    {
     "name": "stdout",
     "output_type": "stream",
     "text": [
      "train_acc: 1.0\n",
      "val_acc: 0.8823204419889501\n",
      "test_acc: 0.8167770419426048\n"
     ]
    },
    {
     "name": "stderr",
     "output_type": "stream",
     "text": [
      "\u001b[32m[I 2021-12-30 13:04:21,646]\u001b[0m Trial 59 finished with value: 0.8163355408388521 and parameters: {'n_estimators': 208, 'criterion': 'gini', 'max_depth': 59}. Best is trial 49 with value: 0.8172185430463577.\u001b[0m\n"
     ]
    },
    {
     "name": "stdout",
     "output_type": "stream",
     "text": [
      "train_acc: 1.0\n",
      "val_acc: 0.8823204419889503\n",
      "test_acc: 0.8163355408388521\n"
     ]
    },
    {
     "name": "stderr",
     "output_type": "stream",
     "text": [
      "\u001b[32m[I 2021-12-30 13:04:26,938]\u001b[0m Trial 60 finished with value: 0.8154525386313465 and parameters: {'n_estimators': 234, 'criterion': 'gini', 'max_depth': 61}. Best is trial 49 with value: 0.8172185430463577.\u001b[0m\n"
     ]
    },
    {
     "name": "stdout",
     "output_type": "stream",
     "text": [
      "train_acc: 1.0\n",
      "val_acc: 0.8823204419889503\n",
      "test_acc: 0.8154525386313465\n"
     ]
    },
    {
     "name": "stderr",
     "output_type": "stream",
     "text": [
      "\u001b[32m[I 2021-12-30 13:04:31,256]\u001b[0m Trial 61 finished with value: 0.8154525386313466 and parameters: {'n_estimators': 192, 'criterion': 'gini', 'max_depth': 57}. Best is trial 49 with value: 0.8172185430463577.\u001b[0m\n"
     ]
    },
    {
     "name": "stdout",
     "output_type": "stream",
     "text": [
      "train_acc: 1.0\n",
      "val_acc: 0.8801104972375692\n",
      "test_acc: 0.8154525386313466\n"
     ]
    },
    {
     "name": "stderr",
     "output_type": "stream",
     "text": [
      "\u001b[32m[I 2021-12-30 13:04:35,766]\u001b[0m Trial 62 finished with value: 0.8172185430463577 and parameters: {'n_estimators': 198, 'criterion': 'gini', 'max_depth': 59}. Best is trial 49 with value: 0.8172185430463577.\u001b[0m\n"
     ]
    },
    {
     "name": "stdout",
     "output_type": "stream",
     "text": [
      "train_acc: 1.0\n",
      "val_acc: 0.8834254143646408\n",
      "test_acc: 0.8172185430463577\n"
     ]
    },
    {
     "name": "stderr",
     "output_type": "stream",
     "text": [
      "\u001b[32m[I 2021-12-30 13:04:40,717]\u001b[0m Trial 63 finished with value: 0.8163355408388521 and parameters: {'n_estimators': 218, 'criterion': 'gini', 'max_depth': 59}. Best is trial 49 with value: 0.8172185430463577.\u001b[0m\n"
     ]
    },
    {
     "name": "stdout",
     "output_type": "stream",
     "text": [
      "train_acc: 1.0\n",
      "val_acc: 0.8823204419889503\n",
      "test_acc: 0.8163355408388521\n"
     ]
    },
    {
     "name": "stderr",
     "output_type": "stream",
     "text": [
      "\u001b[32m[I 2021-12-30 13:04:45,190]\u001b[0m Trial 64 finished with value: 0.8172185430463577 and parameters: {'n_estimators': 198, 'criterion': 'gini', 'max_depth': 55}. Best is trial 49 with value: 0.8172185430463577.\u001b[0m\n"
     ]
    },
    {
     "name": "stdout",
     "output_type": "stream",
     "text": [
      "train_acc: 1.0\n",
      "val_acc: 0.8834254143646408\n",
      "test_acc: 0.8172185430463577\n"
     ]
    },
    {
     "name": "stderr",
     "output_type": "stream",
     "text": [
      "\u001b[32m[I 2021-12-30 13:04:49,294]\u001b[0m Trial 65 finished with value: 0.8158940397350994 and parameters: {'n_estimators': 178, 'criterion': 'gini', 'max_depth': 53}. Best is trial 49 with value: 0.8172185430463577.\u001b[0m\n"
     ]
    },
    {
     "name": "stdout",
     "output_type": "stream",
     "text": [
      "train_acc: 1.0\n",
      "val_acc: 0.8812154696132597\n",
      "test_acc: 0.8158940397350994\n"
     ]
    },
    {
     "name": "stderr",
     "output_type": "stream",
     "text": [
      "\u001b[32m[I 2021-12-30 13:04:53,156]\u001b[0m Trial 66 finished with value: 0.8158940397350994 and parameters: {'n_estimators': 168, 'criterion': 'gini', 'max_depth': 51}. Best is trial 49 with value: 0.8172185430463577.\u001b[0m\n"
     ]
    },
    {
     "name": "stdout",
     "output_type": "stream",
     "text": [
      "train_acc: 1.0\n",
      "val_acc: 0.8801104972375692\n",
      "test_acc: 0.8158940397350994\n"
     ]
    },
    {
     "name": "stderr",
     "output_type": "stream",
     "text": [
      "\u001b[32m[I 2021-12-30 13:05:02,530]\u001b[0m Trial 67 finished with value: 0.8167770419426048 and parameters: {'n_estimators': 202, 'criterion': 'gini', 'max_depth': 59}. Best is trial 49 with value: 0.8172185430463577.\u001b[0m\n"
     ]
    },
    {
     "name": "stdout",
     "output_type": "stream",
     "text": [
      "train_acc: 1.0\n",
      "val_acc: 0.8823204419889501\n",
      "test_acc: 0.8167770419426048\n"
     ]
    },
    {
     "name": "stderr",
     "output_type": "stream",
     "text": [
      "\u001b[32m[I 2021-12-30 13:05:11,670]\u001b[0m Trial 68 finished with value: 0.8158940397350992 and parameters: {'n_estimators': 214, 'criterion': 'gini', 'max_depth': 57}. Best is trial 49 with value: 0.8172185430463577.\u001b[0m\n"
     ]
    },
    {
     "name": "stdout",
     "output_type": "stream",
     "text": [
      "train_acc: 1.0\n",
      "val_acc: 0.8812154696132597\n",
      "test_acc: 0.8158940397350992\n"
     ]
    },
    {
     "name": "stderr",
     "output_type": "stream",
     "text": [
      "\u001b[32m[I 2021-12-30 13:05:19,332]\u001b[0m Trial 69 finished with value: 0.8167770419426048 and parameters: {'n_estimators': 196, 'criterion': 'gini', 'max_depth': 55}. Best is trial 49 with value: 0.8172185430463577.\u001b[0m\n"
     ]
    },
    {
     "name": "stdout",
     "output_type": "stream",
     "text": [
      "train_acc: 1.0\n",
      "val_acc: 0.8828729281767955\n",
      "test_acc: 0.8167770419426048\n"
     ]
    },
    {
     "name": "stderr",
     "output_type": "stream",
     "text": [
      "\u001b[32m[I 2021-12-30 13:05:27,249]\u001b[0m Trial 70 finished with value: 0.8158940397350994 and parameters: {'n_estimators': 210, 'criterion': 'gini', 'max_depth': 55}. Best is trial 49 with value: 0.8172185430463577.\u001b[0m\n"
     ]
    },
    {
     "name": "stdout",
     "output_type": "stream",
     "text": [
      "train_acc: 1.0\n",
      "val_acc: 0.8817679558011049\n",
      "test_acc: 0.8158940397350994\n"
     ]
    },
    {
     "name": "stderr",
     "output_type": "stream",
     "text": [
      "\u001b[32m[I 2021-12-30 13:05:33,622]\u001b[0m Trial 71 finished with value: 0.8163355408388521 and parameters: {'n_estimators': 224, 'criterion': 'gini', 'max_depth': 57}. Best is trial 49 with value: 0.8172185430463577.\u001b[0m\n"
     ]
    },
    {
     "name": "stdout",
     "output_type": "stream",
     "text": [
      "train_acc: 1.0\n",
      "val_acc: 0.8823204419889503\n",
      "test_acc: 0.8163355408388521\n"
     ]
    },
    {
     "name": "stderr",
     "output_type": "stream",
     "text": [
      "\u001b[32m[I 2021-12-30 13:05:38,559]\u001b[0m Trial 72 finished with value: 0.8163355408388521 and parameters: {'n_estimators': 182, 'criterion': 'gini', 'max_depth': 59}. Best is trial 49 with value: 0.8172185430463577.\u001b[0m\n"
     ]
    },
    {
     "name": "stdout",
     "output_type": "stream",
     "text": [
      "train_acc: 1.0\n",
      "val_acc: 0.8812154696132597\n",
      "test_acc: 0.8163355408388521\n"
     ]
    },
    {
     "name": "stderr",
     "output_type": "stream",
     "text": [
      "\u001b[32m[I 2021-12-30 13:05:43,859]\u001b[0m Trial 73 finished with value: 0.8172185430463577 and parameters: {'n_estimators': 198, 'criterion': 'gini', 'max_depth': 59}. Best is trial 49 with value: 0.8172185430463577.\u001b[0m\n"
     ]
    },
    {
     "name": "stdout",
     "output_type": "stream",
     "text": [
      "train_acc: 1.0\n",
      "val_acc: 0.8834254143646408\n",
      "test_acc: 0.8172185430463577\n"
     ]
    },
    {
     "name": "stderr",
     "output_type": "stream",
     "text": [
      "\u001b[32m[I 2021-12-30 13:05:49,592]\u001b[0m Trial 74 finished with value: 0.8167770419426048 and parameters: {'n_estimators': 204, 'criterion': 'gini', 'max_depth': 61}. Best is trial 49 with value: 0.8172185430463577.\u001b[0m\n"
     ]
    },
    {
     "name": "stdout",
     "output_type": "stream",
     "text": [
      "train_acc: 1.0\n",
      "val_acc: 0.8817679558011049\n",
      "test_acc: 0.8167770419426048\n"
     ]
    },
    {
     "name": "stderr",
     "output_type": "stream",
     "text": [
      "\u001b[32m[I 2021-12-30 13:05:55,205]\u001b[0m Trial 75 finished with value: 0.8167770419426048 and parameters: {'n_estimators': 188, 'criterion': 'gini', 'max_depth': 55}. Best is trial 49 with value: 0.8172185430463577.\u001b[0m\n"
     ]
    },
    {
     "name": "stdout",
     "output_type": "stream",
     "text": [
      "train_acc: 1.0\n",
      "val_acc: 0.8812154696132597\n",
      "test_acc: 0.8167770419426048\n"
     ]
    },
    {
     "name": "stderr",
     "output_type": "stream",
     "text": [
      "\u001b[32m[I 2021-12-30 13:06:00,460]\u001b[0m Trial 76 finished with value: 0.8167770419426048 and parameters: {'n_estimators': 196, 'criterion': 'gini', 'max_depth': 51}. Best is trial 49 with value: 0.8172185430463577.\u001b[0m\n"
     ]
    },
    {
     "name": "stdout",
     "output_type": "stream",
     "text": [
      "train_acc: 1.0\n",
      "val_acc: 0.8828729281767955\n",
      "test_acc: 0.8167770419426048\n"
     ]
    },
    {
     "name": "stderr",
     "output_type": "stream",
     "text": [
      "\u001b[32m[I 2021-12-30 13:06:05,930]\u001b[0m Trial 77 finished with value: 0.8172185430463577 and parameters: {'n_estimators': 198, 'criterion': 'gini', 'max_depth': 59}. Best is trial 49 with value: 0.8172185430463577.\u001b[0m\n"
     ]
    },
    {
     "name": "stdout",
     "output_type": "stream",
     "text": [
      "train_acc: 1.0\n",
      "val_acc: 0.8834254143646408\n",
      "test_acc: 0.8172185430463577\n"
     ]
    },
    {
     "name": "stderr",
     "output_type": "stream",
     "text": [
      "\u001b[32m[I 2021-12-30 13:06:10,759]\u001b[0m Trial 78 finished with value: 0.8158940397350994 and parameters: {'n_estimators': 172, 'criterion': 'gini', 'max_depth': 53}. Best is trial 49 with value: 0.8172185430463577.\u001b[0m\n"
     ]
    },
    {
     "name": "stdout",
     "output_type": "stream",
     "text": [
      "train_acc: 1.0\n",
      "val_acc: 0.8812154696132597\n",
      "test_acc: 0.8158940397350994\n"
     ]
    },
    {
     "name": "stderr",
     "output_type": "stream",
     "text": [
      "\u001b[32m[I 2021-12-30 13:06:16,914]\u001b[0m Trial 79 finished with value: 0.8158940397350992 and parameters: {'n_estimators': 228, 'criterion': 'gini', 'max_depth': 33}. Best is trial 49 with value: 0.8172185430463577.\u001b[0m\n"
     ]
    },
    {
     "name": "stdout",
     "output_type": "stream",
     "text": [
      "train_acc: 1.0\n",
      "val_acc: 0.8817679558011051\n",
      "test_acc: 0.8158940397350992\n"
     ]
    },
    {
     "name": "stderr",
     "output_type": "stream",
     "text": [
      "\u001b[32m[I 2021-12-30 13:06:22,652]\u001b[0m Trial 80 finished with value: 0.8158940397350992 and parameters: {'n_estimators': 214, 'criterion': 'gini', 'max_depth': 61}. Best is trial 49 with value: 0.8172185430463577.\u001b[0m\n"
     ]
    },
    {
     "name": "stdout",
     "output_type": "stream",
     "text": [
      "train_acc: 1.0\n",
      "val_acc: 0.8812154696132597\n",
      "test_acc: 0.8158940397350992\n"
     ]
    },
    {
     "name": "stderr",
     "output_type": "stream",
     "text": [
      "\u001b[32m[I 2021-12-30 13:06:27,885]\u001b[0m Trial 81 finished with value: 0.8172185430463577 and parameters: {'n_estimators': 198, 'criterion': 'gini', 'max_depth': 59}. Best is trial 49 with value: 0.8172185430463577.\u001b[0m\n"
     ]
    },
    {
     "name": "stdout",
     "output_type": "stream",
     "text": [
      "train_acc: 1.0\n",
      "val_acc: 0.8834254143646408\n",
      "test_acc: 0.8172185430463577\n"
     ]
    },
    {
     "name": "stderr",
     "output_type": "stream",
     "text": [
      "\u001b[32m[I 2021-12-30 13:06:32,330]\u001b[0m Trial 82 finished with value: 0.8163355408388522 and parameters: {'n_estimators': 184, 'criterion': 'gini', 'max_depth': 57}. Best is trial 49 with value: 0.8172185430463577.\u001b[0m\n"
     ]
    },
    {
     "name": "stdout",
     "output_type": "stream",
     "text": [
      "train_acc: 1.0\n",
      "val_acc: 0.8823204419889503\n",
      "test_acc: 0.8163355408388522\n"
     ]
    },
    {
     "name": "stderr",
     "output_type": "stream",
     "text": [
      "\u001b[32m[I 2021-12-30 13:06:36,484]\u001b[0m Trial 83 finished with value: 0.8158940397350994 and parameters: {'n_estimators': 180, 'criterion': 'gini', 'max_depth': 55}. Best is trial 49 with value: 0.8172185430463577.\u001b[0m\n"
     ]
    },
    {
     "name": "stdout",
     "output_type": "stream",
     "text": [
      "train_acc: 1.0\n",
      "val_acc: 0.8812154696132597\n",
      "test_acc: 0.8158940397350994\n"
     ]
    },
    {
     "name": "stderr",
     "output_type": "stream",
     "text": [
      "\u001b[32m[I 2021-12-30 13:06:41,317]\u001b[0m Trial 84 finished with value: 0.8167770419426048 and parameters: {'n_estimators': 196, 'criterion': 'gini', 'max_depth': 57}. Best is trial 49 with value: 0.8172185430463577.\u001b[0m\n"
     ]
    },
    {
     "name": "stdout",
     "output_type": "stream",
     "text": [
      "train_acc: 1.0\n",
      "val_acc: 0.8828729281767955\n",
      "test_acc: 0.8167770419426048\n"
     ]
    },
    {
     "name": "stderr",
     "output_type": "stream",
     "text": [
      "\u001b[32m[I 2021-12-30 13:06:46,189]\u001b[0m Trial 85 finished with value: 0.8163355408388521 and parameters: {'n_estimators': 208, 'criterion': 'gini', 'max_depth': 59}. Best is trial 49 with value: 0.8172185430463577.\u001b[0m\n"
     ]
    },
    {
     "name": "stdout",
     "output_type": "stream",
     "text": [
      "train_acc: 1.0\n",
      "val_acc: 0.8823204419889503\n",
      "test_acc: 0.8163355408388521\n"
     ]
    },
    {
     "name": "stderr",
     "output_type": "stream",
     "text": [
      "\u001b[32m[I 2021-12-30 13:06:51,421]\u001b[0m Trial 86 finished with value: 0.8172185430463577 and parameters: {'n_estimators': 198, 'criterion': 'gini', 'max_depth': 59}. Best is trial 49 with value: 0.8172185430463577.\u001b[0m\n"
     ]
    },
    {
     "name": "stdout",
     "output_type": "stream",
     "text": [
      "train_acc: 1.0\n",
      "val_acc: 0.8834254143646408\n",
      "test_acc: 0.8172185430463577\n"
     ]
    },
    {
     "name": "stderr",
     "output_type": "stream",
     "text": [
      "\u001b[32m[I 2021-12-30 13:06:59,116]\u001b[0m Trial 87 finished with value: 0.8163355408388521 and parameters: {'n_estimators': 222, 'criterion': 'gini', 'max_depth': 59}. Best is trial 49 with value: 0.8172185430463577.\u001b[0m\n"
     ]
    },
    {
     "name": "stdout",
     "output_type": "stream",
     "text": [
      "train_acc: 1.0\n",
      "val_acc: 0.8828729281767955\n",
      "test_acc: 0.8163355408388521\n"
     ]
    },
    {
     "name": "stderr",
     "output_type": "stream",
     "text": [
      "\u001b[32m[I 2021-12-30 13:07:08,160]\u001b[0m Trial 88 finished with value: 0.8167770419426048 and parameters: {'n_estimators': 206, 'criterion': 'gini', 'max_depth': 61}. Best is trial 49 with value: 0.8172185430463577.\u001b[0m\n"
     ]
    },
    {
     "name": "stdout",
     "output_type": "stream",
     "text": [
      "train_acc: 1.0\n",
      "val_acc: 0.8823204419889503\n",
      "test_acc: 0.8167770419426048\n"
     ]
    },
    {
     "name": "stderr",
     "output_type": "stream",
     "text": [
      "\u001b[32m[I 2021-12-30 13:07:15,937]\u001b[0m Trial 89 finished with value: 0.8172185430463577 and parameters: {'n_estimators': 198, 'criterion': 'gini', 'max_depth': 59}. Best is trial 49 with value: 0.8172185430463577.\u001b[0m\n"
     ]
    },
    {
     "name": "stdout",
     "output_type": "stream",
     "text": [
      "train_acc: 1.0\n",
      "val_acc: 0.8834254143646408\n",
      "test_acc: 0.8172185430463577\n"
     ]
    },
    {
     "name": "stderr",
     "output_type": "stream",
     "text": [
      "\u001b[32m[I 2021-12-30 13:07:21,577]\u001b[0m Trial 90 finished with value: 0.8172185430463577 and parameters: {'n_estimators': 198, 'criterion': 'gini', 'max_depth': 57}. Best is trial 49 with value: 0.8172185430463577.\u001b[0m\n"
     ]
    },
    {
     "name": "stdout",
     "output_type": "stream",
     "text": [
      "train_acc: 1.0\n",
      "val_acc: 0.8834254143646408\n",
      "test_acc: 0.8172185430463577\n"
     ]
    },
    {
     "name": "stderr",
     "output_type": "stream",
     "text": [
      "\u001b[32m[I 2021-12-30 13:07:26,959]\u001b[0m Trial 91 finished with value: 0.8167770419426048 and parameters: {'n_estimators': 196, 'criterion': 'gini', 'max_depth': 59}. Best is trial 49 with value: 0.8172185430463577.\u001b[0m\n"
     ]
    },
    {
     "name": "stdout",
     "output_type": "stream",
     "text": [
      "train_acc: 1.0\n",
      "val_acc: 0.8828729281767955\n",
      "test_acc: 0.8167770419426048\n"
     ]
    },
    {
     "name": "stderr",
     "output_type": "stream",
     "text": [
      "\u001b[32m[I 2021-12-30 13:07:32,901]\u001b[0m Trial 92 finished with value: 0.8172185430463577 and parameters: {'n_estimators': 198, 'criterion': 'gini', 'max_depth': 57}. Best is trial 49 with value: 0.8172185430463577.\u001b[0m\n"
     ]
    },
    {
     "name": "stdout",
     "output_type": "stream",
     "text": [
      "train_acc: 1.0\n",
      "val_acc: 0.8834254143646408\n",
      "test_acc: 0.8172185430463577\n"
     ]
    },
    {
     "name": "stderr",
     "output_type": "stream",
     "text": [
      "\u001b[32m[I 2021-12-30 13:07:38,219]\u001b[0m Trial 93 finished with value: 0.8158940397350992 and parameters: {'n_estimators': 214, 'criterion': 'gini', 'max_depth': 57}. Best is trial 49 with value: 0.8172185430463577.\u001b[0m\n"
     ]
    },
    {
     "name": "stdout",
     "output_type": "stream",
     "text": [
      "train_acc: 1.0\n",
      "val_acc: 0.8812154696132597\n",
      "test_acc: 0.8158940397350992\n"
     ]
    },
    {
     "name": "stderr",
     "output_type": "stream",
     "text": [
      "\u001b[32m[I 2021-12-30 13:07:43,232]\u001b[0m Trial 94 finished with value: 0.8172185430463577 and parameters: {'n_estimators': 198, 'criterion': 'gini', 'max_depth': 59}. Best is trial 49 with value: 0.8172185430463577.\u001b[0m\n"
     ]
    },
    {
     "name": "stdout",
     "output_type": "stream",
     "text": [
      "train_acc: 1.0\n",
      "val_acc: 0.8834254143646408\n",
      "test_acc: 0.8172185430463577\n"
     ]
    },
    {
     "name": "stderr",
     "output_type": "stream",
     "text": [
      "\u001b[32m[I 2021-12-30 13:07:49,044]\u001b[0m Trial 95 finished with value: 0.8163355408388521 and parameters: {'n_estimators': 208, 'criterion': 'gini', 'max_depth': 59}. Best is trial 49 with value: 0.8172185430463577.\u001b[0m\n"
     ]
    },
    {
     "name": "stdout",
     "output_type": "stream",
     "text": [
      "train_acc: 1.0\n",
      "val_acc: 0.8823204419889503\n",
      "test_acc: 0.8163355408388521\n"
     ]
    },
    {
     "name": "stderr",
     "output_type": "stream",
     "text": [
      "\u001b[32m[I 2021-12-30 13:07:53,716]\u001b[0m Trial 96 finished with value: 0.8154525386313466 and parameters: {'n_estimators': 192, 'criterion': 'gini', 'max_depth': 57}. Best is trial 49 with value: 0.8172185430463577.\u001b[0m\n"
     ]
    },
    {
     "name": "stdout",
     "output_type": "stream",
     "text": [
      "train_acc: 1.0\n",
      "val_acc: 0.8801104972375692\n",
      "test_acc: 0.8154525386313466\n"
     ]
    },
    {
     "name": "stderr",
     "output_type": "stream",
     "text": [
      "\u001b[32m[I 2021-12-30 13:07:59,530]\u001b[0m Trial 97 finished with value: 0.8163355408388522 and parameters: {'n_estimators': 184, 'criterion': 'gini', 'max_depth': 59}. Best is trial 49 with value: 0.8172185430463577.\u001b[0m\n"
     ]
    },
    {
     "name": "stdout",
     "output_type": "stream",
     "text": [
      "train_acc: 1.0\n",
      "val_acc: 0.8823204419889503\n",
      "test_acc: 0.8163355408388522\n"
     ]
    },
    {
     "name": "stderr",
     "output_type": "stream",
     "text": [
      "\u001b[32m[I 2021-12-30 13:08:06,206]\u001b[0m Trial 98 finished with value: 0.8154525386313466 and parameters: {'n_estimators': 192, 'criterion': 'gini', 'max_depth': 57}. Best is trial 49 with value: 0.8172185430463577.\u001b[0m\n"
     ]
    },
    {
     "name": "stdout",
     "output_type": "stream",
     "text": [
      "train_acc: 1.0\n",
      "val_acc: 0.8801104972375692\n",
      "test_acc: 0.8154525386313466\n"
     ]
    },
    {
     "name": "stderr",
     "output_type": "stream",
     "text": [
      "\u001b[32m[I 2021-12-30 13:08:11,770]\u001b[0m Trial 99 finished with value: 0.8167770419426048 and parameters: {'n_estimators': 200, 'criterion': 'gini', 'max_depth': 59}. Best is trial 49 with value: 0.8172185430463577.\u001b[0m\n"
     ]
    },
    {
     "name": "stdout",
     "output_type": "stream",
     "text": [
      "train_acc: 1.0\n",
      "val_acc: 0.8828729281767955\n",
      "test_acc: 0.8167770419426048\n",
      "最良のハイパーパラメータ: {'n_estimators': 198, 'criterion': 'gini', 'max_depth': 59}\n"
     ]
    }
   ],
   "source": [
    "# パラメータチューニング\n",
    "study = optuna.create_study(direction='maximize')\n",
    "study.optimize(objective, n_trials=100)\n",
    "\n",
    "print(f\"最良のハイパーパラメータ: {study.best_params}\")"
   ]
  },
  {
   "cell_type": "markdown",
   "id": "05fd37b1-f1a1-4aab-ab6a-e0de4c313405",
   "metadata": {},
   "source": [
    "最良のハイパーパラメータ: {'n_estimators': 199, 'criterion': 'gini', 'max_depth': 39}  \n",
    "train_acc: 1.0  \n",
    "val_acc: 0.8828729281767955  \n",
    "test_acc: 0.8172185430463577  "
   ]
  },
  {
   "cell_type": "code",
   "execution_count": 123,
   "id": "73c761f3-13cc-4989-8424-2e0f82a6b883",
   "metadata": {},
   "outputs": [],
   "source": [
    "# 学習 + 予測値\n",
    "rfc = RFC(n_estimators = 199, \n",
    "          criterion = 'gini', \n",
    "          max_depth= 39, \n",
    "          random_state=0)\n",
    "rfc.fit(train_data.iloc[:,:-1], train_data.iloc[:,-1])\n",
    "y_pred = rfc.predict(test_data)"
   ]
  },
  {
   "cell_type": "code",
   "execution_count": 135,
   "id": "2a5ead1e-c448-4aa4-b881-f1ec36239c8c",
   "metadata": {},
   "outputs": [],
   "source": [
    "# 提出\n",
    "submission = pd.DataFrame([np.arange(4000000,5000000), y_pred], index=['Id','Cover_Type']).T\n",
    "submission['Id'] = submission['Id'].astype('int64')\n",
    "submission['Cover_Type'] = submission['Cover_Type'].astype('int64')\n",
    "submission.to_csv(SUBMISSION_PATH+\"rfc.csv\", index=False)"
   ]
  },
  {
   "cell_type": "markdown",
   "id": "68611d10-bae1-47ce-a99b-ea82588d051c",
   "metadata": {},
   "source": [
    "#### LightGBM"
   ]
  },
  {
   "cell_type": "code",
   "execution_count": 157,
   "id": "de371077-b3ac-4082-b29c-1375d0fe1d22",
   "metadata": {},
   "outputs": [],
   "source": [
    "def objective(trial):\n",
    "    X = train_data_without_5.iloc[:,:-1]\n",
    "    y = train_data_without_5.iloc[:,-1]\n",
    "    \n",
    "    # ハイパーパラメータの決定\n",
    "    n_estimators  = trial.suggest_int(\"n_estimators \", 1, 301, 3)\n",
    "    max_depth = trial.suggest_int(\"max_depth\", 1, 41, 2)\n",
    "  \n",
    "    train_acc, val_acc, test_acc = [], [], []\n",
    "    \n",
    "    # trainとtestに分ける\n",
    "    train_X, test_X, train_y, test_y = train_test_split(X, y, train_size=0.8, random_state=0, stratify=y)\n",
    "    \n",
    "    sss = StratifiedShuffleSplit(n_splits=5, train_size=0.8, random_state=0)\n",
    "    for train_index, val_index in sss.split(train_X, train_y):\n",
    "        model = lightgbm.LGBMClassifier(\n",
    "            n_estimators=n_estimators, max_depth=max_depth, random_state=0)\n",
    "        model.fit(X.iloc[train_index], y[train_index])\n",
    "        \n",
    "        train_acc.append(model.score(X.iloc[train_index], y[train_index]))\n",
    "        val_acc.append(model.score(X.iloc[val_index], y[val_index]))\n",
    "        test_acc.append(model.score(test_X, test_y))\n",
    "\n",
    "    print(\"train_acc: {}\".format(np.mean(train_acc)))\n",
    "    print(\"val_acc: {}\".format(np.mean(val_acc)))\n",
    "    print(\"test_acc: {}\".format(np.mean(test_acc)))\n",
    "    return np.mean(test_acc)"
   ]
  },
  {
   "cell_type": "code",
   "execution_count": 158,
   "id": "b17e8f59-2897-43b9-8d73-cce1c1cb7222",
   "metadata": {
    "collapsed": true,
    "jupyter": {
     "outputs_hidden": true
    },
    "tags": []
   },
   "outputs": [
    {
     "name": "stderr",
     "output_type": "stream",
     "text": [
      "\u001b[32m[I 2021-12-30 16:14:54,066]\u001b[0m A new study created in memory with name: no-name-e9ae91c9-6a33-4680-8888-6c876e632ab1\u001b[0m\n",
      "\u001b[32m[I 2021-12-30 16:14:54,384]\u001b[0m Trial 0 finished with value: 0.7324503311258279 and parameters: {'n_estimators ': 10, 'max_depth': 3}. Best is trial 0 with value: 0.7324503311258279.\u001b[0m\n"
     ]
    },
    {
     "name": "stdout",
     "output_type": "stream",
     "text": [
      "train_acc: 0.9014512785072564\n",
      "val_acc: 0.8646408839779005\n",
      "test_acc: 0.7324503311258279\n"
     ]
    },
    {
     "name": "stderr",
     "output_type": "stream",
     "text": [
      "\u001b[32m[I 2021-12-30 16:15:01,245]\u001b[0m Trial 1 finished with value: 0.8128035320088299 and parameters: {'n_estimators ': 271, 'max_depth': 23}. Best is trial 1 with value: 0.8128035320088299.\u001b[0m\n"
     ]
    },
    {
     "name": "stdout",
     "output_type": "stream",
     "text": [
      "train_acc: 1.0\n",
      "val_acc: 0.9093922651933702\n",
      "test_acc: 0.8128035320088299\n"
     ]
    },
    {
     "name": "stderr",
     "output_type": "stream",
     "text": [
      "\u001b[32m[I 2021-12-30 16:15:06,772]\u001b[0m Trial 2 finished with value: 0.8097130242825609 and parameters: {'n_estimators ': 178, 'max_depth': 11}. Best is trial 1 with value: 0.8128035320088299.\u001b[0m\n"
     ]
    },
    {
     "name": "stdout",
     "output_type": "stream",
     "text": [
      "train_acc: 1.0\n",
      "val_acc: 0.9066298342541437\n",
      "test_acc: 0.8097130242825609\n"
     ]
    },
    {
     "name": "stderr",
     "output_type": "stream",
     "text": [
      "\u001b[32m[I 2021-12-30 16:15:08,762]\u001b[0m Trial 3 finished with value: 0.8128035320088302 and parameters: {'n_estimators ': 91, 'max_depth': 5}. Best is trial 3 with value: 0.8128035320088302.\u001b[0m\n"
     ]
    },
    {
     "name": "stdout",
     "output_type": "stream",
     "text": [
      "train_acc: 1.0\n",
      "val_acc: 0.9071823204419889\n",
      "test_acc: 0.8128035320088302\n"
     ]
    },
    {
     "name": "stderr",
     "output_type": "stream",
     "text": [
      "\u001b[32m[I 2021-12-30 16:15:15,690]\u001b[0m Trial 4 finished with value: 0.8128035320088299 and parameters: {'n_estimators ': 226, 'max_depth': 39}. Best is trial 3 with value: 0.8128035320088302.\u001b[0m\n"
     ]
    },
    {
     "name": "stdout",
     "output_type": "stream",
     "text": [
      "train_acc: 1.0\n",
      "val_acc: 0.9116022099447514\n",
      "test_acc: 0.8128035320088299\n"
     ]
    },
    {
     "name": "stderr",
     "output_type": "stream",
     "text": [
      "\u001b[32m[I 2021-12-30 16:15:20,303]\u001b[0m Trial 5 finished with value: 0.8123620309050773 and parameters: {'n_estimators ': 88, 'max_depth': 39}. Best is trial 3 with value: 0.8128035320088302.\u001b[0m\n"
     ]
    },
    {
     "name": "stdout",
     "output_type": "stream",
     "text": [
      "train_acc: 1.0\n",
      "val_acc: 0.9066298342541437\n",
      "test_acc: 0.8123620309050773\n"
     ]
    },
    {
     "name": "stderr",
     "output_type": "stream",
     "text": [
      "\u001b[32m[I 2021-12-30 16:15:26,549]\u001b[0m Trial 6 finished with value: 0.8128035320088299 and parameters: {'n_estimators ': 196, 'max_depth': 25}. Best is trial 3 with value: 0.8128035320088302.\u001b[0m\n"
     ]
    },
    {
     "name": "stdout",
     "output_type": "stream",
     "text": [
      "train_acc: 1.0\n",
      "val_acc: 0.9116022099447513\n",
      "test_acc: 0.8128035320088299\n"
     ]
    },
    {
     "name": "stderr",
     "output_type": "stream",
     "text": [
      "\u001b[32m[I 2021-12-30 16:15:28,132]\u001b[0m Trial 7 finished with value: 0.8097130242825606 and parameters: {'n_estimators ': 34, 'max_depth': 17}. Best is trial 3 with value: 0.8128035320088302.\u001b[0m\n"
     ]
    },
    {
     "name": "stdout",
     "output_type": "stream",
     "text": [
      "train_acc: 1.0\n",
      "val_acc: 0.8977900552486189\n",
      "test_acc: 0.8097130242825606\n"
     ]
    },
    {
     "name": "stderr",
     "output_type": "stream",
     "text": [
      "\u001b[32m[I 2021-12-30 16:15:31,986]\u001b[0m Trial 8 finished with value: 0.8114790286975717 and parameters: {'n_estimators ': 91, 'max_depth': 31}. Best is trial 3 with value: 0.8128035320088302.\u001b[0m\n"
     ]
    },
    {
     "name": "stdout",
     "output_type": "stream",
     "text": [
      "train_acc: 1.0\n",
      "val_acc: 0.9071823204419889\n",
      "test_acc: 0.8114790286975717\n"
     ]
    },
    {
     "name": "stderr",
     "output_type": "stream",
     "text": [
      "\u001b[32m[I 2021-12-30 16:15:38,189]\u001b[0m Trial 9 finished with value: 0.8128035320088299 and parameters: {'n_estimators ': 217, 'max_depth': 33}. Best is trial 3 with value: 0.8128035320088302.\u001b[0m\n"
     ]
    },
    {
     "name": "stdout",
     "output_type": "stream",
     "text": [
      "train_acc: 1.0\n",
      "val_acc: 0.9116022099447514\n",
      "test_acc: 0.8128035320088299\n"
     ]
    },
    {
     "name": "stderr",
     "output_type": "stream",
     "text": [
      "\u001b[32m[I 2021-12-30 16:15:38,762]\u001b[0m Trial 10 finished with value: 0.7518763796909492 and parameters: {'n_estimators ': 115, 'max_depth': 1}. Best is trial 3 with value: 0.8128035320088302.\u001b[0m\n"
     ]
    },
    {
     "name": "stdout",
     "output_type": "stream",
     "text": [
      "train_acc: 0.9257774706288874\n",
      "val_acc: 0.8845303867403315\n",
      "test_acc: 0.7518763796909492\n"
     ]
    },
    {
     "name": "stderr",
     "output_type": "stream",
     "text": [
      "\u001b[32m[I 2021-12-30 16:15:46,055]\u001b[0m Trial 11 finished with value: 0.8114790286975717 and parameters: {'n_estimators ': 280, 'max_depth': 15}. Best is trial 3 with value: 0.8128035320088302.\u001b[0m\n"
     ]
    },
    {
     "name": "stdout",
     "output_type": "stream",
     "text": [
      "train_acc: 1.0\n",
      "val_acc: 0.9093922651933701\n",
      "test_acc: 0.8114790286975717\n"
     ]
    },
    {
     "name": "stderr",
     "output_type": "stream",
     "text": [
      "\u001b[32m[I 2021-12-30 16:15:56,135]\u001b[0m Trial 12 finished with value: 0.8132450331125828 and parameters: {'n_estimators ': 301, 'max_depth': 23}. Best is trial 12 with value: 0.8132450331125828.\u001b[0m\n"
     ]
    },
    {
     "name": "stdout",
     "output_type": "stream",
     "text": [
      "train_acc: 1.0\n",
      "val_acc: 0.9099447513812156\n",
      "test_acc: 0.8132450331125828\n"
     ]
    },
    {
     "name": "stderr",
     "output_type": "stream",
     "text": [
      "\u001b[32m[I 2021-12-30 16:16:06,533]\u001b[0m Trial 13 finished with value: 0.8136865342163355 and parameters: {'n_estimators ': 136, 'max_depth': 9}. Best is trial 13 with value: 0.8136865342163355.\u001b[0m\n"
     ]
    },
    {
     "name": "stdout",
     "output_type": "stream",
     "text": [
      "train_acc: 1.0\n",
      "val_acc: 0.9093922651933701\n",
      "test_acc: 0.8136865342163355\n"
     ]
    },
    {
     "name": "stderr",
     "output_type": "stream",
     "text": [
      "\u001b[32m[I 2021-12-30 16:16:13,800]\u001b[0m Trial 14 finished with value: 0.8097130242825609 and parameters: {'n_estimators ': 148, 'max_depth': 11}. Best is trial 13 with value: 0.8136865342163355.\u001b[0m\n"
     ]
    },
    {
     "name": "stdout",
     "output_type": "stream",
     "text": [
      "train_acc: 1.0\n",
      "val_acc: 0.9044198895027623\n",
      "test_acc: 0.8097130242825609\n"
     ]
    },
    {
     "name": "stderr",
     "output_type": "stream",
     "text": [
      "\u001b[32m[I 2021-12-30 16:16:21,914]\u001b[0m Trial 15 finished with value: 0.8132450331125828 and parameters: {'n_estimators ': 301, 'max_depth': 27}. Best is trial 13 with value: 0.8136865342163355.\u001b[0m\n"
     ]
    },
    {
     "name": "stdout",
     "output_type": "stream",
     "text": [
      "train_acc: 1.0\n",
      "val_acc: 0.9099447513812156\n",
      "test_acc: 0.8132450331125828\n"
     ]
    },
    {
     "name": "stderr",
     "output_type": "stream",
     "text": [
      "\u001b[32m[I 2021-12-30 16:16:29,801]\u001b[0m Trial 16 finished with value: 0.8123620309050772 and parameters: {'n_estimators ': 151, 'max_depth': 19}. Best is trial 13 with value: 0.8136865342163355.\u001b[0m\n"
     ]
    },
    {
     "name": "stdout",
     "output_type": "stream",
     "text": [
      "train_acc: 1.0\n",
      "val_acc: 0.911049723756906\n",
      "test_acc: 0.8123620309050772\n"
     ]
    },
    {
     "name": "stderr",
     "output_type": "stream",
     "text": [
      "\u001b[32m[I 2021-12-30 16:16:39,757]\u001b[0m Trial 17 finished with value: 0.8119205298013246 and parameters: {'n_estimators ': 247, 'max_depth': 9}. Best is trial 13 with value: 0.8136865342163355.\u001b[0m\n"
     ]
    },
    {
     "name": "stdout",
     "output_type": "stream",
     "text": [
      "train_acc: 1.0\n",
      "val_acc: 0.9099447513812156\n",
      "test_acc: 0.8119205298013246\n"
     ]
    },
    {
     "name": "stderr",
     "output_type": "stream",
     "text": [
      "\u001b[32m[I 2021-12-30 16:16:43,082]\u001b[0m Trial 18 finished with value: 0.8132450331125828 and parameters: {'n_estimators ': 61, 'max_depth': 29}. Best is trial 13 with value: 0.8136865342163355.\u001b[0m\n"
     ]
    },
    {
     "name": "stdout",
     "output_type": "stream",
     "text": [
      "train_acc: 1.0\n",
      "val_acc: 0.9049723756906077\n",
      "test_acc: 0.8132450331125828\n"
     ]
    },
    {
     "name": "stderr",
     "output_type": "stream",
     "text": [
      "\u001b[32m[I 2021-12-30 16:16:45,845]\u001b[0m Trial 19 finished with value: 0.8123620309050773 and parameters: {'n_estimators ': 49, 'max_depth': 31}. Best is trial 13 with value: 0.8136865342163355.\u001b[0m\n"
     ]
    },
    {
     "name": "stdout",
     "output_type": "stream",
     "text": [
      "train_acc: 1.0\n",
      "val_acc: 0.905524861878453\n",
      "test_acc: 0.8123620309050773\n"
     ]
    },
    {
     "name": "stderr",
     "output_type": "stream",
     "text": [
      "\u001b[32m[I 2021-12-30 16:16:52,985]\u001b[0m Trial 20 finished with value: 0.8132450331125828 and parameters: {'n_estimators ': 133, 'max_depth': 27}. Best is trial 13 with value: 0.8136865342163355.\u001b[0m\n"
     ]
    },
    {
     "name": "stdout",
     "output_type": "stream",
     "text": [
      "train_acc: 1.0\n",
      "val_acc: 0.9116022099447514\n",
      "test_acc: 0.8132450331125828\n"
     ]
    },
    {
     "name": "stderr",
     "output_type": "stream",
     "text": [
      "\u001b[32m[I 2021-12-30 16:16:59,709]\u001b[0m Trial 21 finished with value: 0.8132450331125828 and parameters: {'n_estimators ': 130, 'max_depth': 27}. Best is trial 13 with value: 0.8136865342163355.\u001b[0m\n"
     ]
    },
    {
     "name": "stdout",
     "output_type": "stream",
     "text": [
      "train_acc: 1.0\n",
      "val_acc: 0.9099447513812156\n",
      "test_acc: 0.8132450331125828\n"
     ]
    },
    {
     "name": "stderr",
     "output_type": "stream",
     "text": [
      "\u001b[32m[I 2021-12-30 16:17:07,365]\u001b[0m Trial 22 finished with value: 0.8128035320088299 and parameters: {'n_estimators ': 178, 'max_depth': 21}. Best is trial 13 with value: 0.8136865342163355.\u001b[0m\n"
     ]
    },
    {
     "name": "stdout",
     "output_type": "stream",
     "text": [
      "train_acc: 1.0\n",
      "val_acc: 0.9121546961325967\n",
      "test_acc: 0.8128035320088299\n"
     ]
    },
    {
     "name": "stderr",
     "output_type": "stream",
     "text": [
      "\u001b[32m[I 2021-12-30 16:17:11,283]\u001b[0m Trial 23 finished with value: 0.8132450331125828 and parameters: {'n_estimators ': 61, 'max_depth': 33}. Best is trial 13 with value: 0.8136865342163355.\u001b[0m\n"
     ]
    },
    {
     "name": "stdout",
     "output_type": "stream",
     "text": [
      "train_acc: 1.0\n",
      "val_acc: 0.9049723756906077\n",
      "test_acc: 0.8132450331125828\n"
     ]
    },
    {
     "name": "stderr",
     "output_type": "stream",
     "text": [
      "\u001b[32m[I 2021-12-30 16:17:21,510]\u001b[0m Trial 24 finished with value: 0.8110375275938191 and parameters: {'n_estimators ': 103, 'max_depth': 33}. Best is trial 13 with value: 0.8136865342163355.\u001b[0m\n"
     ]
    },
    {
     "name": "stdout",
     "output_type": "stream",
     "text": [
      "train_acc: 1.0\n",
      "val_acc: 0.9049723756906076\n",
      "test_acc: 0.8110375275938191\n"
     ]
    },
    {
     "name": "stderr",
     "output_type": "stream",
     "text": [
      "\u001b[32m[I 2021-12-30 16:17:31,888]\u001b[0m Trial 25 finished with value: 0.8114790286975717 and parameters: {'n_estimators ': 256, 'max_depth': 15}. Best is trial 13 with value: 0.8136865342163355.\u001b[0m\n"
     ]
    },
    {
     "name": "stdout",
     "output_type": "stream",
     "text": [
      "train_acc: 1.0\n",
      "val_acc: 0.9093922651933701\n",
      "test_acc: 0.8114790286975717\n"
     ]
    },
    {
     "name": "stderr",
     "output_type": "stream",
     "text": [
      "\u001b[32m[I 2021-12-30 16:17:36,224]\u001b[0m Trial 26 finished with value: 0.8128035320088302 and parameters: {'n_estimators ': 67, 'max_depth': 21}. Best is trial 13 with value: 0.8136865342163355.\u001b[0m\n"
     ]
    },
    {
     "name": "stdout",
     "output_type": "stream",
     "text": [
      "train_acc: 1.0\n",
      "val_acc: 0.905524861878453\n",
      "test_acc: 0.8128035320088302\n"
     ]
    },
    {
     "name": "stderr",
     "output_type": "stream",
     "text": [
      "\u001b[32m[I 2021-12-30 16:17:36,870]\u001b[0m Trial 27 finished with value: 0.7549668874172186 and parameters: {'n_estimators ': 7, 'max_depth': 41}. Best is trial 13 with value: 0.8136865342163355.\u001b[0m\n"
     ]
    },
    {
     "name": "stdout",
     "output_type": "stream",
     "text": [
      "train_acc: 0.9375259156876297\n",
      "val_acc: 0.8740331491712707\n",
      "test_acc: 0.7549668874172186\n"
     ]
    },
    {
     "name": "stderr",
     "output_type": "stream",
     "text": [
      "\u001b[32m[I 2021-12-30 16:17:45,246]\u001b[0m Trial 28 finished with value: 0.8128035320088299 and parameters: {'n_estimators ': 136, 'max_depth': 27}. Best is trial 13 with value: 0.8136865342163355.\u001b[0m\n"
     ]
    },
    {
     "name": "stdout",
     "output_type": "stream",
     "text": [
      "train_acc: 1.0\n",
      "val_acc: 0.9104972375690608\n",
      "test_acc: 0.8128035320088299\n"
     ]
    },
    {
     "name": "stderr",
     "output_type": "stream",
     "text": [
      "\u001b[32m[I 2021-12-30 16:17:51,468]\u001b[0m Trial 29 finished with value: 0.8123620309050773 and parameters: {'n_estimators ': 169, 'max_depth': 5}. Best is trial 13 with value: 0.8136865342163355.\u001b[0m\n"
     ]
    },
    {
     "name": "stdout",
     "output_type": "stream",
     "text": [
      "train_acc: 1.0\n",
      "val_acc: 0.9033149171270718\n",
      "test_acc: 0.8123620309050773\n"
     ]
    },
    {
     "name": "stderr",
     "output_type": "stream",
     "text": [
      "\u001b[32m[I 2021-12-30 16:17:53,798]\u001b[0m Trial 30 finished with value: 0.8088300220750553 and parameters: {'n_estimators ': 28, 'max_depth': 35}. Best is trial 13 with value: 0.8136865342163355.\u001b[0m\n"
     ]
    },
    {
     "name": "stdout",
     "output_type": "stream",
     "text": [
      "train_acc: 0.9987560469937803\n",
      "val_acc: 0.8917127071823204\n",
      "test_acc: 0.8088300220750553\n"
     ]
    },
    {
     "name": "stderr",
     "output_type": "stream",
     "text": [
      "\u001b[32m[I 2021-12-30 16:18:00,165]\u001b[0m Trial 31 finished with value: 0.8132450331125828 and parameters: {'n_estimators ': 130, 'max_depth': 35}. Best is trial 13 with value: 0.8136865342163355.\u001b[0m\n"
     ]
    },
    {
     "name": "stdout",
     "output_type": "stream",
     "text": [
      "train_acc: 1.0\n",
      "val_acc: 0.9099447513812156\n",
      "test_acc: 0.8132450331125828\n"
     ]
    },
    {
     "name": "stderr",
     "output_type": "stream",
     "text": [
      "\u001b[32m[I 2021-12-30 16:18:13,677]\u001b[0m Trial 32 finished with value: 0.8128035320088299 and parameters: {'n_estimators ': 202, 'max_depth': 25}. Best is trial 13 with value: 0.8136865342163355.\u001b[0m\n"
     ]
    },
    {
     "name": "stdout",
     "output_type": "stream",
     "text": [
      "train_acc: 1.0\n",
      "val_acc: 0.9116022099447514\n",
      "test_acc: 0.8128035320088299\n"
     ]
    },
    {
     "name": "stderr",
     "output_type": "stream",
     "text": [
      "\u001b[32m[I 2021-12-30 16:18:20,965]\u001b[0m Trial 33 finished with value: 0.8132450331125828 and parameters: {'n_estimators ': 121, 'max_depth': 37}. Best is trial 13 with value: 0.8136865342163355.\u001b[0m\n"
     ]
    },
    {
     "name": "stdout",
     "output_type": "stream",
     "text": [
      "train_acc: 1.0\n",
      "val_acc: 0.911049723756906\n",
      "test_acc: 0.8132450331125828\n"
     ]
    },
    {
     "name": "stderr",
     "output_type": "stream",
     "text": [
      "\u001b[32m[I 2021-12-30 16:18:26,931]\u001b[0m Trial 34 finished with value: 0.8128035320088299 and parameters: {'n_estimators ': 115, 'max_depth': 37}. Best is trial 13 with value: 0.8136865342163355.\u001b[0m\n"
     ]
    },
    {
     "name": "stdout",
     "output_type": "stream",
     "text": [
      "train_acc: 1.0\n",
      "val_acc: 0.9099447513812156\n",
      "test_acc: 0.8128035320088299\n"
     ]
    },
    {
     "name": "stderr",
     "output_type": "stream",
     "text": [
      "\u001b[32m[I 2021-12-30 16:18:31,698]\u001b[0m Trial 35 finished with value: 0.8132450331125828 and parameters: {'n_estimators ': 79, 'max_depth': 29}. Best is trial 13 with value: 0.8136865342163355.\u001b[0m\n"
     ]
    },
    {
     "name": "stdout",
     "output_type": "stream",
     "text": [
      "train_acc: 1.0\n",
      "val_acc: 0.9071823204419889\n",
      "test_acc: 0.8132450331125828\n"
     ]
    },
    {
     "name": "stderr",
     "output_type": "stream",
     "text": [
      "\u001b[32m[I 2021-12-30 16:18:40,081]\u001b[0m Trial 36 finished with value: 0.8123620309050773 and parameters: {'n_estimators ': 154, 'max_depth': 29}. Best is trial 13 with value: 0.8136865342163355.\u001b[0m\n"
     ]
    },
    {
     "name": "stdout",
     "output_type": "stream",
     "text": [
      "train_acc: 1.0\n",
      "val_acc: 0.9127071823204419\n",
      "test_acc: 0.8123620309050773\n"
     ]
    },
    {
     "name": "stderr",
     "output_type": "stream",
     "text": [
      "\u001b[32m[I 2021-12-30 16:18:44,245]\u001b[0m Trial 37 finished with value: 0.8132450331125828 and parameters: {'n_estimators ': 61, 'max_depth': 31}. Best is trial 13 with value: 0.8136865342163355.\u001b[0m\n"
     ]
    },
    {
     "name": "stdout",
     "output_type": "stream",
     "text": [
      "train_acc: 1.0\n",
      "val_acc: 0.9049723756906077\n",
      "test_acc: 0.8132450331125828\n"
     ]
    },
    {
     "name": "stderr",
     "output_type": "stream",
     "text": [
      "\u001b[32m[I 2021-12-30 16:18:49,027]\u001b[0m Trial 38 finished with value: 0.8132450331125828 and parameters: {'n_estimators ': 79, 'max_depth': 41}. Best is trial 13 with value: 0.8136865342163355.\u001b[0m\n"
     ]
    },
    {
     "name": "stdout",
     "output_type": "stream",
     "text": [
      "train_acc: 1.0\n",
      "val_acc: 0.9071823204419889\n",
      "test_acc: 0.8132450331125828\n"
     ]
    },
    {
     "name": "stderr",
     "output_type": "stream",
     "text": [
      "\u001b[32m[I 2021-12-30 16:18:56,457]\u001b[0m Trial 39 finished with value: 0.8132450331125828 and parameters: {'n_estimators ': 169, 'max_depth': 9}. Best is trial 13 with value: 0.8136865342163355.\u001b[0m\n"
     ]
    },
    {
     "name": "stdout",
     "output_type": "stream",
     "text": [
      "train_acc: 1.0\n",
      "val_acc: 0.9099447513812156\n",
      "test_acc: 0.8132450331125828\n"
     ]
    },
    {
     "name": "stderr",
     "output_type": "stream",
     "text": [
      "\u001b[32m[I 2021-12-30 16:19:04,505]\u001b[0m Trial 40 finished with value: 0.8128035320088302 and parameters: {'n_estimators ': 178, 'max_depth': 9}. Best is trial 13 with value: 0.8136865342163355.\u001b[0m\n"
     ]
    },
    {
     "name": "stdout",
     "output_type": "stream",
     "text": [
      "train_acc: 1.0\n",
      "val_acc: 0.9099447513812156\n",
      "test_acc: 0.8128035320088302\n"
     ]
    },
    {
     "name": "stderr",
     "output_type": "stream",
     "text": [
      "\u001b[32m[I 2021-12-30 16:19:09,011]\u001b[0m Trial 41 finished with value: 0.8123620309050773 and parameters: {'n_estimators ': 88, 'max_depth': 23}. Best is trial 13 with value: 0.8136865342163355.\u001b[0m\n"
     ]
    },
    {
     "name": "stdout",
     "output_type": "stream",
     "text": [
      "train_acc: 1.0\n",
      "val_acc: 0.9066298342541437\n",
      "test_acc: 0.8123620309050773\n"
     ]
    },
    {
     "name": "stderr",
     "output_type": "stream",
     "text": [
      "\u001b[32m[I 2021-12-30 16:19:10,619]\u001b[0m Trial 42 finished with value: 0.8088300220750553 and parameters: {'n_estimators ': 25, 'max_depth': 27}. Best is trial 13 with value: 0.8136865342163355.\u001b[0m\n"
     ]
    },
    {
     "name": "stdout",
     "output_type": "stream",
     "text": [
      "train_acc: 0.9968210089841051\n",
      "val_acc: 0.8961325966850829\n",
      "test_acc: 0.8088300220750553\n"
     ]
    },
    {
     "name": "stderr",
     "output_type": "stream",
     "text": [
      "\u001b[32m[I 2021-12-30 16:19:17,934]\u001b[0m Trial 43 finished with value: 0.8132450331125828 and parameters: {'n_estimators ': 124, 'max_depth': 37}. Best is trial 13 with value: 0.8136865342163355.\u001b[0m\n"
     ]
    },
    {
     "name": "stdout",
     "output_type": "stream",
     "text": [
      "train_acc: 1.0\n",
      "val_acc: 0.9121546961325967\n",
      "test_acc: 0.8132450331125828\n"
     ]
    },
    {
     "name": "stderr",
     "output_type": "stream",
     "text": [
      "\u001b[32m[I 2021-12-30 16:19:21,317]\u001b[0m Trial 44 finished with value: 0.8128035320088299 and parameters: {'n_estimators ': 106, 'max_depth': 5}. Best is trial 13 with value: 0.8136865342163355.\u001b[0m\n"
     ]
    },
    {
     "name": "stdout",
     "output_type": "stream",
     "text": [
      "train_acc: 1.0\n",
      "val_acc: 0.9077348066298342\n",
      "test_acc: 0.8128035320088299\n"
     ]
    },
    {
     "name": "stderr",
     "output_type": "stream",
     "text": [
      "\u001b[32m[I 2021-12-30 16:19:24,012]\u001b[0m Trial 45 finished with value: 0.8119205298013246 and parameters: {'n_estimators ': 52, 'max_depth': 35}. Best is trial 13 with value: 0.8136865342163355.\u001b[0m\n"
     ]
    },
    {
     "name": "stdout",
     "output_type": "stream",
     "text": [
      "train_acc: 1.0\n",
      "val_acc: 0.905524861878453\n",
      "test_acc: 0.8119205298013246\n"
     ]
    },
    {
     "name": "stderr",
     "output_type": "stream",
     "text": [
      "\u001b[32m[I 2021-12-30 16:19:28,035]\u001b[0m Trial 46 finished with value: 0.8128035320088299 and parameters: {'n_estimators ': 73, 'max_depth': 33}. Best is trial 13 with value: 0.8136865342163355.\u001b[0m\n"
     ]
    },
    {
     "name": "stdout",
     "output_type": "stream",
     "text": [
      "train_acc: 1.0\n",
      "val_acc: 0.9071823204419889\n",
      "test_acc: 0.8128035320088299\n"
     ]
    },
    {
     "name": "stderr",
     "output_type": "stream",
     "text": [
      "\u001b[32m[I 2021-12-30 16:19:30,696]\u001b[0m Trial 47 finished with value: 0.8123620309050773 and parameters: {'n_estimators ': 43, 'max_depth': 29}. Best is trial 13 with value: 0.8136865342163355.\u001b[0m\n"
     ]
    },
    {
     "name": "stdout",
     "output_type": "stream",
     "text": [
      "train_acc: 1.0\n",
      "val_acc: 0.9038674033149171\n",
      "test_acc: 0.8123620309050773\n"
     ]
    },
    {
     "name": "stderr",
     "output_type": "stream",
     "text": [
      "\u001b[32m[I 2021-12-30 16:19:36,825]\u001b[0m Trial 48 finished with value: 0.8123620309050772 and parameters: {'n_estimators ': 142, 'max_depth': 25}. Best is trial 13 with value: 0.8136865342163355.\u001b[0m\n"
     ]
    },
    {
     "name": "stdout",
     "output_type": "stream",
     "text": [
      "train_acc: 1.0\n",
      "val_acc: 0.9104972375690608\n",
      "test_acc: 0.8123620309050772\n"
     ]
    },
    {
     "name": "stderr",
     "output_type": "stream",
     "text": [
      "\u001b[32m[I 2021-12-30 16:19:43,539]\u001b[0m Trial 49 finished with value: 0.8136865342163355 and parameters: {'n_estimators ': 163, 'max_depth': 9}. Best is trial 13 with value: 0.8136865342163355.\u001b[0m\n"
     ]
    },
    {
     "name": "stdout",
     "output_type": "stream",
     "text": [
      "train_acc: 1.0\n",
      "val_acc: 0.9104972375690608\n",
      "test_acc: 0.8136865342163355\n"
     ]
    },
    {
     "name": "stderr",
     "output_type": "stream",
     "text": [
      "\u001b[32m[I 2021-12-30 16:19:48,016]\u001b[0m Trial 50 finished with value: 0.8132450331125828 and parameters: {'n_estimators ': 79, 'max_depth': 15}. Best is trial 13 with value: 0.8136865342163355.\u001b[0m\n"
     ]
    },
    {
     "name": "stdout",
     "output_type": "stream",
     "text": [
      "train_acc: 1.0\n",
      "val_acc: 0.9049723756906077\n",
      "test_acc: 0.8132450331125828\n"
     ]
    },
    {
     "name": "stderr",
     "output_type": "stream",
     "text": [
      "\u001b[32m[I 2021-12-30 16:19:54,848]\u001b[0m Trial 51 finished with value: 0.8123620309050773 and parameters: {'n_estimators ': 100, 'max_depth': 13}. Best is trial 13 with value: 0.8136865342163355.\u001b[0m\n"
     ]
    },
    {
     "name": "stdout",
     "output_type": "stream",
     "text": [
      "train_acc: 1.0\n",
      "val_acc: 0.9060773480662982\n",
      "test_acc: 0.8123620309050773\n"
     ]
    },
    {
     "name": "stderr",
     "output_type": "stream",
     "text": [
      "\u001b[32m[I 2021-12-30 16:20:06,332]\u001b[0m Trial 52 finished with value: 0.8114790286975717 and parameters: {'n_estimators ': 226, 'max_depth': 7}. Best is trial 13 with value: 0.8136865342163355.\u001b[0m\n"
     ]
    },
    {
     "name": "stdout",
     "output_type": "stream",
     "text": [
      "train_acc: 1.0\n",
      "val_acc: 0.9093922651933702\n",
      "test_acc: 0.8114790286975717\n"
     ]
    },
    {
     "name": "stderr",
     "output_type": "stream",
     "text": [
      "\u001b[32m[I 2021-12-30 16:20:12,639]\u001b[0m Trial 53 finished with value: 0.8128035320088299 and parameters: {'n_estimators ': 163, 'max_depth': 19}. Best is trial 13 with value: 0.8136865342163355.\u001b[0m\n"
     ]
    },
    {
     "name": "stdout",
     "output_type": "stream",
     "text": [
      "train_acc: 1.0\n",
      "val_acc: 0.911049723756906\n",
      "test_acc: 0.8128035320088299\n"
     ]
    },
    {
     "name": "stderr",
     "output_type": "stream",
     "text": [
      "\u001b[32m[I 2021-12-30 16:20:14,967]\u001b[0m Trial 54 finished with value: 0.8158940397350992 and parameters: {'n_estimators ': 133, 'max_depth': 3}. Best is trial 54 with value: 0.8158940397350992.\u001b[0m\n"
     ]
    },
    {
     "name": "stdout",
     "output_type": "stream",
     "text": [
      "train_acc: 0.9998617829993088\n",
      "val_acc: 0.9077348066298342\n",
      "test_acc: 0.8158940397350992\n"
     ]
    },
    {
     "name": "stderr",
     "output_type": "stream",
     "text": [
      "\u001b[32m[I 2021-12-30 16:20:16,030]\u001b[0m Trial 55 finished with value: 0.7629139072847682 and parameters: {'n_estimators ': 151, 'max_depth': 1}. Best is trial 54 with value: 0.8158940397350992.\u001b[0m\n"
     ]
    },
    {
     "name": "stdout",
     "output_type": "stream",
     "text": [
      "train_acc: 0.938217000691085\n",
      "val_acc: 0.8933701657458564\n",
      "test_acc: 0.7629139072847682\n"
     ]
    },
    {
     "name": "stderr",
     "output_type": "stream",
     "text": [
      "\u001b[32m[I 2021-12-30 16:20:19,750]\u001b[0m Trial 56 finished with value: 0.8132450331125828 and parameters: {'n_estimators ': 280, 'max_depth': 3}. Best is trial 54 with value: 0.8158940397350992.\u001b[0m\n"
     ]
    },
    {
     "name": "stdout",
     "output_type": "stream",
     "text": [
      "train_acc: 1.0\n",
      "val_acc: 0.9033149171270718\n",
      "test_acc: 0.8132450331125828\n"
     ]
    },
    {
     "name": "stderr",
     "output_type": "stream",
     "text": [
      "\u001b[32m[I 2021-12-30 16:20:21,966]\u001b[0m Trial 57 finished with value: 0.8154525386313466 and parameters: {'n_estimators ': 187, 'max_depth': 3}. Best is trial 54 with value: 0.8158940397350992.\u001b[0m\n"
     ]
    },
    {
     "name": "stdout",
     "output_type": "stream",
     "text": [
      "train_acc: 1.0\n",
      "val_acc: 0.9066298342541437\n",
      "test_acc: 0.8154525386313466\n"
     ]
    },
    {
     "name": "stderr",
     "output_type": "stream",
     "text": [
      "\u001b[32m[I 2021-12-30 16:20:28,843]\u001b[0m Trial 58 finished with value: 0.8097130242825606 and parameters: {'n_estimators ': 196, 'max_depth': 11}. Best is trial 54 with value: 0.8158940397350992.\u001b[0m\n"
     ]
    },
    {
     "name": "stdout",
     "output_type": "stream",
     "text": [
      "train_acc: 1.0\n",
      "val_acc: 0.9077348066298343\n",
      "test_acc: 0.8097130242825606\n"
     ]
    },
    {
     "name": "stderr",
     "output_type": "stream",
     "text": [
      "\u001b[32m[I 2021-12-30 16:20:31,608]\u001b[0m Trial 59 finished with value: 0.8154525386313466 and parameters: {'n_estimators ': 187, 'max_depth': 3}. Best is trial 54 with value: 0.8158940397350992.\u001b[0m\n"
     ]
    },
    {
     "name": "stdout",
     "output_type": "stream",
     "text": [
      "train_acc: 1.0\n",
      "val_acc: 0.9066298342541437\n",
      "test_acc: 0.8154525386313466\n"
     ]
    },
    {
     "name": "stderr",
     "output_type": "stream",
     "text": [
      "\u001b[32m[I 2021-12-30 16:20:34,277]\u001b[0m Trial 60 finished with value: 0.8150110375275939 and parameters: {'n_estimators ': 205, 'max_depth': 3}. Best is trial 54 with value: 0.8158940397350992.\u001b[0m\n"
     ]
    },
    {
     "name": "stdout",
     "output_type": "stream",
     "text": [
      "train_acc: 1.0\n",
      "val_acc: 0.9066298342541437\n",
      "test_acc: 0.8150110375275939\n"
     ]
    },
    {
     "name": "stderr",
     "output_type": "stream",
     "text": [
      "\u001b[32m[I 2021-12-30 16:20:36,961]\u001b[0m Trial 61 finished with value: 0.8150110375275939 and parameters: {'n_estimators ': 199, 'max_depth': 3}. Best is trial 54 with value: 0.8158940397350992.\u001b[0m\n"
     ]
    },
    {
     "name": "stdout",
     "output_type": "stream",
     "text": [
      "train_acc: 1.0\n",
      "val_acc: 0.905524861878453\n",
      "test_acc: 0.8150110375275939\n"
     ]
    },
    {
     "name": "stderr",
     "output_type": "stream",
     "text": [
      "\u001b[32m[I 2021-12-30 16:20:40,167]\u001b[0m Trial 62 finished with value: 0.8150110375275939 and parameters: {'n_estimators ': 205, 'max_depth': 3}. Best is trial 54 with value: 0.8158940397350992.\u001b[0m\n"
     ]
    },
    {
     "name": "stdout",
     "output_type": "stream",
     "text": [
      "train_acc: 1.0\n",
      "val_acc: 0.9066298342541437\n",
      "test_acc: 0.8150110375275939\n"
     ]
    },
    {
     "name": "stderr",
     "output_type": "stream",
     "text": [
      "\u001b[32m[I 2021-12-30 16:20:41,218]\u001b[0m Trial 63 finished with value: 0.7704194260485652 and parameters: {'n_estimators ': 205, 'max_depth': 1}. Best is trial 54 with value: 0.8158940397350992.\u001b[0m\n"
     ]
    },
    {
     "name": "stdout",
     "output_type": "stream",
     "text": [
      "train_acc: 0.9501036627505183\n",
      "val_acc: 0.8994475138121547\n",
      "test_acc: 0.7704194260485652\n"
     ]
    },
    {
     "name": "stderr",
     "output_type": "stream",
     "text": [
      "\u001b[32m[I 2021-12-30 16:20:44,018]\u001b[0m Trial 64 finished with value: 0.8136865342163355 and parameters: {'n_estimators ': 229, 'max_depth': 3}. Best is trial 54 with value: 0.8158940397350992.\u001b[0m\n"
     ]
    },
    {
     "name": "stdout",
     "output_type": "stream",
     "text": [
      "train_acc: 1.0\n",
      "val_acc: 0.905524861878453\n",
      "test_acc: 0.8136865342163355\n"
     ]
    },
    {
     "name": "stderr",
     "output_type": "stream",
     "text": [
      "\u001b[32m[I 2021-12-30 16:20:52,415]\u001b[0m Trial 65 finished with value: 0.8119205298013246 and parameters: {'n_estimators ': 187, 'max_depth': 7}. Best is trial 54 with value: 0.8158940397350992.\u001b[0m\n"
     ]
    },
    {
     "name": "stdout",
     "output_type": "stream",
     "text": [
      "train_acc: 1.0\n",
      "val_acc: 0.9088397790055248\n",
      "test_acc: 0.8119205298013246\n"
     ]
    },
    {
     "name": "stderr",
     "output_type": "stream",
     "text": [
      "\u001b[32m[I 2021-12-30 16:20:54,816]\u001b[0m Trial 66 finished with value: 0.8141280353200884 and parameters: {'n_estimators ': 214, 'max_depth': 3}. Best is trial 54 with value: 0.8158940397350992.\u001b[0m\n"
     ]
    },
    {
     "name": "stdout",
     "output_type": "stream",
     "text": [
      "train_acc: 1.0\n",
      "val_acc: 0.9060773480662985\n",
      "test_acc: 0.8141280353200884\n"
     ]
    },
    {
     "name": "stderr",
     "output_type": "stream",
     "text": [
      "\u001b[32m[I 2021-12-30 16:20:57,222]\u001b[0m Trial 67 finished with value: 0.8141280353200884 and parameters: {'n_estimators ': 214, 'max_depth': 3}. Best is trial 54 with value: 0.8158940397350992.\u001b[0m\n"
     ]
    },
    {
     "name": "stdout",
     "output_type": "stream",
     "text": [
      "train_acc: 1.0\n",
      "val_acc: 0.9060773480662985\n",
      "test_acc: 0.8141280353200884\n"
     ]
    },
    {
     "name": "stderr",
     "output_type": "stream",
     "text": [
      "\u001b[32m[I 2021-12-30 16:21:03,901]\u001b[0m Trial 68 finished with value: 0.8119205298013246 and parameters: {'n_estimators ': 241, 'max_depth': 7}. Best is trial 54 with value: 0.8158940397350992.\u001b[0m\n"
     ]
    },
    {
     "name": "stdout",
     "output_type": "stream",
     "text": [
      "train_acc: 1.0\n",
      "val_acc: 0.9104972375690608\n",
      "test_acc: 0.8119205298013246\n"
     ]
    },
    {
     "name": "stderr",
     "output_type": "stream",
     "text": [
      "\u001b[32m[I 2021-12-30 16:21:05,037]\u001b[0m Trial 69 finished with value: 0.7695364238410597 and parameters: {'n_estimators ': 187, 'max_depth': 1}. Best is trial 54 with value: 0.8158940397350992.\u001b[0m\n"
     ]
    },
    {
     "name": "stdout",
     "output_type": "stream",
     "text": [
      "train_acc: 0.9462335867311678\n",
      "val_acc: 0.8977900552486189\n",
      "test_acc: 0.7695364238410597\n"
     ]
    },
    {
     "name": "stderr",
     "output_type": "stream",
     "text": [
      "\u001b[32m[I 2021-12-30 16:21:10,412]\u001b[0m Trial 70 finished with value: 0.8114790286975717 and parameters: {'n_estimators ': 214, 'max_depth': 5}. Best is trial 54 with value: 0.8158940397350992.\u001b[0m\n"
     ]
    },
    {
     "name": "stdout",
     "output_type": "stream",
     "text": [
      "train_acc: 1.0\n",
      "val_acc: 0.9038674033149171\n",
      "test_acc: 0.8114790286975717\n"
     ]
    },
    {
     "name": "stderr",
     "output_type": "stream",
     "text": [
      "\u001b[32m[I 2021-12-30 16:21:12,852]\u001b[0m Trial 71 finished with value: 0.8150110375275939 and parameters: {'n_estimators ': 211, 'max_depth': 3}. Best is trial 54 with value: 0.8158940397350992.\u001b[0m\n"
     ]
    },
    {
     "name": "stdout",
     "output_type": "stream",
     "text": [
      "train_acc: 1.0\n",
      "val_acc: 0.9060773480662985\n",
      "test_acc: 0.8150110375275939\n"
     ]
    },
    {
     "name": "stderr",
     "output_type": "stream",
     "text": [
      "\u001b[32m[I 2021-12-30 16:21:15,006]\u001b[0m Trial 72 finished with value: 0.8150110375275939 and parameters: {'n_estimators ': 190, 'max_depth': 3}. Best is trial 54 with value: 0.8158940397350992.\u001b[0m\n"
     ]
    },
    {
     "name": "stdout",
     "output_type": "stream",
     "text": [
      "train_acc: 1.0\n",
      "val_acc: 0.9049723756906077\n",
      "test_acc: 0.8150110375275939\n"
     ]
    },
    {
     "name": "stderr",
     "output_type": "stream",
     "text": [
      "\u001b[32m[I 2021-12-30 16:21:22,363]\u001b[0m Trial 73 finished with value: 0.8123620309050772 and parameters: {'n_estimators ': 196, 'max_depth': 5}. Best is trial 54 with value: 0.8158940397350992.\u001b[0m\n"
     ]
    },
    {
     "name": "stdout",
     "output_type": "stream",
     "text": [
      "train_acc: 1.0\n",
      "val_acc: 0.9038674033149171\n",
      "test_acc: 0.8123620309050772\n"
     ]
    },
    {
     "name": "stderr",
     "output_type": "stream",
     "text": [
      "\u001b[32m[I 2021-12-30 16:21:24,790]\u001b[0m Trial 74 finished with value: 0.8154525386313466 and parameters: {'n_estimators ': 187, 'max_depth': 3}. Best is trial 54 with value: 0.8158940397350992.\u001b[0m\n"
     ]
    },
    {
     "name": "stdout",
     "output_type": "stream",
     "text": [
      "train_acc: 1.0\n",
      "val_acc: 0.9066298342541437\n",
      "test_acc: 0.8154525386313466\n"
     ]
    },
    {
     "name": "stderr",
     "output_type": "stream",
     "text": [
      "\u001b[32m[I 2021-12-30 16:21:26,021]\u001b[0m Trial 75 finished with value: 0.7721854304635762 and parameters: {'n_estimators ': 223, 'max_depth': 1}. Best is trial 54 with value: 0.8158940397350992.\u001b[0m\n"
     ]
    },
    {
     "name": "stdout",
     "output_type": "stream",
     "text": [
      "train_acc: 0.953144436765722\n",
      "val_acc: 0.9033149171270718\n",
      "test_acc: 0.7721854304635762\n"
     ]
    },
    {
     "name": "stderr",
     "output_type": "stream",
     "text": [
      "\u001b[32m[I 2021-12-30 16:21:32,550]\u001b[0m Trial 76 finished with value: 0.8114790286975717 and parameters: {'n_estimators ': 184, 'max_depth': 5}. Best is trial 54 with value: 0.8158940397350992.\u001b[0m\n"
     ]
    },
    {
     "name": "stdout",
     "output_type": "stream",
     "text": [
      "train_acc: 1.0\n",
      "val_acc: 0.9033149171270718\n",
      "test_acc: 0.8114790286975717\n"
     ]
    },
    {
     "name": "stderr",
     "output_type": "stream",
     "text": [
      "\u001b[32m[I 2021-12-30 16:21:41,153]\u001b[0m Trial 77 finished with value: 0.8123620309050773 and parameters: {'n_estimators ': 175, 'max_depth': 7}. Best is trial 54 with value: 0.8158940397350992.\u001b[0m\n"
     ]
    },
    {
     "name": "stdout",
     "output_type": "stream",
     "text": [
      "train_acc: 1.0\n",
      "val_acc: 0.9082872928176796\n",
      "test_acc: 0.8123620309050773\n"
     ]
    },
    {
     "name": "stderr",
     "output_type": "stream",
     "text": [
      "\u001b[32m[I 2021-12-30 16:21:44,739]\u001b[0m Trial 78 finished with value: 0.8136865342163355 and parameters: {'n_estimators ': 241, 'max_depth': 3}. Best is trial 54 with value: 0.8158940397350992.\u001b[0m\n"
     ]
    },
    {
     "name": "stdout",
     "output_type": "stream",
     "text": [
      "train_acc: 1.0\n",
      "val_acc: 0.9033149171270718\n",
      "test_acc: 0.8136865342163355\n"
     ]
    },
    {
     "name": "stderr",
     "output_type": "stream",
     "text": [
      "\u001b[32m[I 2021-12-30 16:21:45,764]\u001b[0m Trial 79 finished with value: 0.7690949227373068 and parameters: {'n_estimators ': 193, 'max_depth': 1}. Best is trial 54 with value: 0.8158940397350992.\u001b[0m\n"
     ]
    },
    {
     "name": "stdout",
     "output_type": "stream",
     "text": [
      "train_acc: 0.9474775397373877\n",
      "val_acc: 0.9005524861878452\n",
      "test_acc: 0.7690949227373068\n"
     ]
    },
    {
     "name": "stderr",
     "output_type": "stream",
     "text": [
      "\u001b[32m[I 2021-12-30 16:21:52,411]\u001b[0m Trial 80 finished with value: 0.8128035320088299 and parameters: {'n_estimators ': 256, 'max_depth': 5}. Best is trial 54 with value: 0.8158940397350992.\u001b[0m\n"
     ]
    },
    {
     "name": "stdout",
     "output_type": "stream",
     "text": [
      "train_acc: 1.0\n",
      "val_acc: 0.9060773480662982\n",
      "test_acc: 0.8128035320088299\n"
     ]
    },
    {
     "name": "stderr",
     "output_type": "stream",
     "text": [
      "\u001b[32m[I 2021-12-30 16:21:54,864]\u001b[0m Trial 81 finished with value: 0.8145695364238412 and parameters: {'n_estimators ': 208, 'max_depth': 3}. Best is trial 54 with value: 0.8158940397350992.\u001b[0m\n"
     ]
    },
    {
     "name": "stdout",
     "output_type": "stream",
     "text": [
      "train_acc: 1.0\n",
      "val_acc: 0.9066298342541437\n",
      "test_acc: 0.8145695364238412\n"
     ]
    },
    {
     "name": "stderr",
     "output_type": "stream",
     "text": [
      "\u001b[32m[I 2021-12-30 16:21:57,210]\u001b[0m Trial 82 finished with value: 0.814569536423841 and parameters: {'n_estimators ': 202, 'max_depth': 3}. Best is trial 54 with value: 0.8158940397350992.\u001b[0m\n"
     ]
    },
    {
     "name": "stdout",
     "output_type": "stream",
     "text": [
      "train_acc: 1.0\n",
      "val_acc: 0.9060773480662982\n",
      "test_acc: 0.814569536423841\n"
     ]
    },
    {
     "name": "stderr",
     "output_type": "stream",
     "text": [
      "\u001b[32m[I 2021-12-30 16:22:01,670]\u001b[0m Trial 83 finished with value: 0.8114790286975717 and parameters: {'n_estimators ': 184, 'max_depth': 5}. Best is trial 54 with value: 0.8158940397350992.\u001b[0m\n"
     ]
    },
    {
     "name": "stdout",
     "output_type": "stream",
     "text": [
      "train_acc: 1.0\n",
      "val_acc: 0.9033149171270718\n",
      "test_acc: 0.8114790286975717\n"
     ]
    },
    {
     "name": "stderr",
     "output_type": "stream",
     "text": [
      "\u001b[32m[I 2021-12-30 16:22:03,566]\u001b[0m Trial 84 finished with value: 0.8158940397350994 and parameters: {'n_estimators ': 160, 'max_depth': 3}. Best is trial 84 with value: 0.8158940397350994.\u001b[0m\n"
     ]
    },
    {
     "name": "stdout",
     "output_type": "stream",
     "text": [
      "train_acc: 1.0\n",
      "val_acc: 0.9044198895027623\n",
      "test_acc: 0.8158940397350994\n"
     ]
    },
    {
     "name": "stderr",
     "output_type": "stream",
     "text": [
      "\u001b[32m[I 2021-12-30 16:22:11,252]\u001b[0m Trial 85 finished with value: 0.8119205298013246 and parameters: {'n_estimators ': 169, 'max_depth': 7}. Best is trial 84 with value: 0.8158940397350994.\u001b[0m\n"
     ]
    },
    {
     "name": "stdout",
     "output_type": "stream",
     "text": [
      "train_acc: 1.0\n",
      "val_acc: 0.9077348066298342\n",
      "test_acc: 0.8119205298013246\n"
     ]
    },
    {
     "name": "stderr",
     "output_type": "stream",
     "text": [
      "\u001b[32m[I 2021-12-30 16:22:12,196]\u001b[0m Trial 86 finished with value: 0.7664459161147903 and parameters: {'n_estimators ': 160, 'max_depth': 1}. Best is trial 84 with value: 0.8158940397350994.\u001b[0m\n"
     ]
    },
    {
     "name": "stdout",
     "output_type": "stream",
     "text": [
      "train_acc: 0.9409813407049068\n",
      "val_acc: 0.8950276243093922\n",
      "test_acc: 0.7664459161147903\n"
     ]
    },
    {
     "name": "stderr",
     "output_type": "stream",
     "text": [
      "\u001b[32m[I 2021-12-30 16:22:13,359]\u001b[0m Trial 87 finished with value: 0.7682119205298015 and parameters: {'n_estimators ': 175, 'max_depth': 1}. Best is trial 84 with value: 0.8158940397350994.\u001b[0m\n"
     ]
    },
    {
     "name": "stdout",
     "output_type": "stream",
     "text": [
      "train_acc: 0.944713199723566\n",
      "val_acc: 0.8972375690607735\n",
      "test_acc: 0.7682119205298015\n"
     ]
    },
    {
     "name": "stderr",
     "output_type": "stream",
     "text": [
      "\u001b[32m[I 2021-12-30 16:22:18,819]\u001b[0m Trial 88 finished with value: 0.8119205298013246 and parameters: {'n_estimators ': 190, 'max_depth': 5}. Best is trial 84 with value: 0.8158940397350994.\u001b[0m\n"
     ]
    },
    {
     "name": "stdout",
     "output_type": "stream",
     "text": [
      "train_acc: 1.0\n",
      "val_acc: 0.9044198895027625\n",
      "test_acc: 0.8119205298013246\n"
     ]
    },
    {
     "name": "stderr",
     "output_type": "stream",
     "text": [
      "\u001b[32m[I 2021-12-30 16:22:21,768]\u001b[0m Trial 89 finished with value: 0.8132450331125828 and parameters: {'n_estimators ': 235, 'max_depth': 3}. Best is trial 84 with value: 0.8158940397350994.\u001b[0m\n"
     ]
    },
    {
     "name": "stdout",
     "output_type": "stream",
     "text": [
      "train_acc: 1.0\n",
      "val_acc: 0.905524861878453\n",
      "test_acc: 0.8132450331125828\n"
     ]
    },
    {
     "name": "stderr",
     "output_type": "stream",
     "text": [
      "\u001b[32m[I 2021-12-30 16:22:30,391]\u001b[0m Trial 90 finished with value: 0.8128035320088299 and parameters: {'n_estimators ': 202, 'max_depth': 7}. Best is trial 84 with value: 0.8158940397350994.\u001b[0m\n"
     ]
    },
    {
     "name": "stdout",
     "output_type": "stream",
     "text": [
      "train_acc: 1.0\n",
      "val_acc: 0.9093922651933701\n",
      "test_acc: 0.8128035320088299\n"
     ]
    },
    {
     "name": "stderr",
     "output_type": "stream",
     "text": [
      "\u001b[32m[I 2021-12-30 16:22:32,975]\u001b[0m Trial 91 finished with value: 0.8158940397350994 and parameters: {'n_estimators ': 142, 'max_depth': 3}. Best is trial 84 with value: 0.8158940397350994.\u001b[0m\n"
     ]
    },
    {
     "name": "stdout",
     "output_type": "stream",
     "text": [
      "train_acc: 1.0\n",
      "val_acc: 0.9049723756906077\n",
      "test_acc: 0.8158940397350994\n"
     ]
    },
    {
     "name": "stderr",
     "output_type": "stream",
     "text": [
      "\u001b[32m[I 2021-12-30 16:22:33,935]\u001b[0m Trial 92 finished with value: 0.7598233995584989 and parameters: {'n_estimators ': 139, 'max_depth': 1}. Best is trial 84 with value: 0.8158940397350994.\u001b[0m\n"
     ]
    },
    {
     "name": "stdout",
     "output_type": "stream",
     "text": [
      "train_acc: 0.9340704906703525\n",
      "val_acc: 0.8911602209944751\n",
      "test_acc: 0.7598233995584989\n"
     ]
    },
    {
     "name": "stderr",
     "output_type": "stream",
     "text": [
      "\u001b[32m[I 2021-12-30 16:22:39,368]\u001b[0m Trial 93 finished with value: 0.8119205298013246 and parameters: {'n_estimators ': 157, 'max_depth': 5}. Best is trial 84 with value: 0.8158940397350994.\u001b[0m\n"
     ]
    },
    {
     "name": "stdout",
     "output_type": "stream",
     "text": [
      "train_acc: 1.0\n",
      "val_acc: 0.9049723756906077\n",
      "test_acc: 0.8119205298013246\n"
     ]
    },
    {
     "name": "stderr",
     "output_type": "stream",
     "text": [
      "\u001b[32m[I 2021-12-30 16:22:42,034]\u001b[0m Trial 94 finished with value: 0.8154525386313466 and parameters: {'n_estimators ': 145, 'max_depth': 3}. Best is trial 84 with value: 0.8158940397350994.\u001b[0m\n"
     ]
    },
    {
     "name": "stdout",
     "output_type": "stream",
     "text": [
      "train_acc: 1.0\n",
      "val_acc: 0.905524861878453\n",
      "test_acc: 0.8154525386313466\n"
     ]
    },
    {
     "name": "stderr",
     "output_type": "stream",
     "text": [
      "\u001b[32m[I 2021-12-30 16:22:44,733]\u001b[0m Trial 95 finished with value: 0.8163355408388521 and parameters: {'n_estimators ': 127, 'max_depth': 3}. Best is trial 95 with value: 0.8163355408388521.\u001b[0m\n"
     ]
    },
    {
     "name": "stdout",
     "output_type": "stream",
     "text": [
      "train_acc: 0.9995853489979268\n",
      "val_acc: 0.9082872928176796\n",
      "test_acc: 0.8163355408388521\n"
     ]
    },
    {
     "name": "stderr",
     "output_type": "stream",
     "text": [
      "\u001b[32m[I 2021-12-30 16:22:49,689]\u001b[0m Trial 96 finished with value: 0.8128035320088302 and parameters: {'n_estimators ': 121, 'max_depth': 5}. Best is trial 95 with value: 0.8163355408388521.\u001b[0m\n"
     ]
    },
    {
     "name": "stdout",
     "output_type": "stream",
     "text": [
      "train_acc: 1.0\n",
      "val_acc: 0.9077348066298342\n",
      "test_acc: 0.8128035320088302\n"
     ]
    },
    {
     "name": "stderr",
     "output_type": "stream",
     "text": [
      "\u001b[32m[I 2021-12-30 16:22:50,393]\u001b[0m Trial 97 finished with value: 0.7642384105960265 and parameters: {'n_estimators ': 148, 'max_depth': 1}. Best is trial 95 with value: 0.8163355408388521.\u001b[0m\n"
     ]
    },
    {
     "name": "stdout",
     "output_type": "stream",
     "text": [
      "train_acc: 0.9373876986869385\n",
      "val_acc: 0.8917127071823204\n",
      "test_acc: 0.7642384105960265\n"
     ]
    },
    {
     "name": "stderr",
     "output_type": "stream",
     "text": [
      "\u001b[32m[I 2021-12-30 16:22:57,519]\u001b[0m Trial 98 finished with value: 0.8110375275938189 and parameters: {'n_estimators ': 145, 'max_depth': 7}. Best is trial 95 with value: 0.8163355408388521.\u001b[0m\n"
     ]
    },
    {
     "name": "stdout",
     "output_type": "stream",
     "text": [
      "train_acc: 1.0\n",
      "val_acc: 0.9066298342541437\n",
      "test_acc: 0.8110375275938189\n"
     ]
    },
    {
     "name": "stderr",
     "output_type": "stream",
     "text": [
      "\u001b[32m[I 2021-12-30 16:23:05,863]\u001b[0m Trial 99 finished with value: 0.8132450331125828 and parameters: {'n_estimators ': 130, 'max_depth': 9}. Best is trial 95 with value: 0.8163355408388521.\u001b[0m\n"
     ]
    },
    {
     "name": "stdout",
     "output_type": "stream",
     "text": [
      "train_acc: 1.0\n",
      "val_acc: 0.9082872928176796\n",
      "test_acc: 0.8132450331125828\n",
      "最良のハイパーパラメータ: {'n_estimators ': 127, 'max_depth': 3}\n"
     ]
    }
   ],
   "source": [
    "# パラメータチューニング\n",
    "study = optuna.create_study(direction='maximize')\n",
    "study.optimize(objective, n_trials=100)\n",
    "\n",
    "print(f\"最良のハイパーパラメータ: {study.best_params}\")"
   ]
  },
  {
   "cell_type": "markdown",
   "id": "e407e6e3-c1b8-4621-a3e4-a34fb8bae627",
   "metadata": {},
   "source": [
    "{'n_estimators ': 160, 'max_depth': 3}  \n",
    "train_acc: 1.0  \n",
    "val_acc: 0.9044198895027623  \n",
    "test_acc: 0.8158940397350994  "
   ]
  },
  {
   "cell_type": "code",
   "execution_count": 189,
   "id": "93c86c87-60c2-49bf-a63e-ce2055826b13",
   "metadata": {},
   "outputs": [],
   "source": [
    "# 学習 + 予測値\n",
    "lightgbm = lightgbm.LGBMClassifier(n_estimators = 160, \n",
    "                                   max_depth= 3,\n",
    "                                   random_state=0)\n",
    "lightgbm.fit(train_data.iloc[:,:-1], train_data.iloc[:,-1])\n",
    "y_pred = lightgbm.predict(test_data)"
   ]
  },
  {
   "cell_type": "code",
   "execution_count": 190,
   "id": "f7714ed6-763c-472a-9899-021c3451c940",
   "metadata": {},
   "outputs": [],
   "source": [
    "# 提出\n",
    "submission = pd.DataFrame([np.arange(4000000,5000000), y_pred], index=['Id','Cover_Type']).T\n",
    "submission['Id'] = submission['Id'].astype('int64')\n",
    "submission['Cover_Type'] = submission['Cover_Type'].astype('int64')\n",
    "submission.to_csv(SUBMISSION_PATH+\"lightgbm.csv\", index=False)"
   ]
  },
  {
   "cell_type": "markdown",
   "id": "f66d7356-5d9e-4e37-9bcd-1ad1f3f830be",
   "metadata": {},
   "source": [
    "#### 非線形SVM"
   ]
  },
  {
   "cell_type": "code",
   "execution_count": 184,
   "id": "5fbabdb8-5cb5-41bf-ae76-b3b183c48784",
   "metadata": {},
   "outputs": [],
   "source": [
    "def objective(trial):\n",
    "    X = train_data_without_5.iloc[:,:-1]\n",
    "    y = train_data_without_5.iloc[:,-1]\n",
    "    \n",
    "    # ハイパーパラメータの決定\n",
    "    kernel = trial.suggest_categorical(\"kernel\", (\"poly\",\"rbf\"))\n",
    "    C = trial.suggest_float(\"C\", 400, 700)\n",
    "    gamma = trial.suggest_float(\"gamma\", 0.01, 0.04)\n",
    "    \n",
    "    train_acc, val_acc, test_acc = [], [], []\n",
    "    \n",
    "    # trainとtestに分ける\n",
    "    train_X, test_X, train_y, test_y = train_test_split(X, y, train_size=0.8, random_state=0, stratify=y)\n",
    "    \n",
    "    sss = StratifiedShuffleSplit(n_splits=5, train_size=0.8, random_state=0)\n",
    "    for train_index, val_index in sss.split(train_X, train_y):\n",
    "        model = SVC(kernel=kernel, C=C, gamma=gamma, random_state=0)\n",
    "        model.fit(X.iloc[train_index], y[train_index])\n",
    "        \n",
    "        train_acc.append(model.score(X.iloc[train_index], y[train_index]))\n",
    "        val_acc.append(model.score(X.iloc[val_index], y[val_index]))\n",
    "        test_acc.append(model.score(test_X, test_y))\n",
    "\n",
    "    print(\"train_acc: {}\".format(np.mean(train_acc)))\n",
    "    print(\"val_acc: {}\".format(np.mean(val_acc)))\n",
    "    print(\"test_acc: {}\".format(np.mean(test_acc)))\n",
    "    return np.mean(test_acc)"
   ]
  },
  {
   "cell_type": "code",
   "execution_count": 185,
   "id": "3fa7176e-690c-45a1-b6f5-c46558974160",
   "metadata": {
    "collapsed": true,
    "jupyter": {
     "outputs_hidden": true
    },
    "tags": []
   },
   "outputs": [
    {
     "name": "stderr",
     "output_type": "stream",
     "text": [
      "\u001b[32m[I 2021-12-30 16:54:45,783]\u001b[0m A new study created in memory with name: no-name-ccdd2425-75f7-4e65-be8d-e0a01b4cd94c\u001b[0m\n",
      "\u001b[32m[I 2021-12-30 16:54:46,494]\u001b[0m Trial 0 finished with value: 0.7827814569536423 and parameters: {'kernel': 'poly', 'C': 413.0366721360007, 'gamma': 0.019635682125114955}. Best is trial 0 with value: 0.7827814569536423.\u001b[0m\n"
     ]
    },
    {
     "name": "stdout",
     "output_type": "stream",
     "text": [
      "train_acc: 0.9911541119557705\n",
      "val_acc: 0.8011049723756907\n",
      "test_acc: 0.7827814569536423\n"
     ]
    },
    {
     "name": "stderr",
     "output_type": "stream",
     "text": [
      "\u001b[32m[I 2021-12-30 16:54:47,564]\u001b[0m Trial 1 finished with value: 0.7938189845474615 and parameters: {'kernel': 'rbf', 'C': 618.3770845235845, 'gamma': 0.025679329789236732}. Best is trial 1 with value: 0.7938189845474615.\u001b[0m\n"
     ]
    },
    {
     "name": "stdout",
     "output_type": "stream",
     "text": [
      "train_acc: 0.9988942639944713\n",
      "val_acc: 0.8171270718232044\n",
      "test_acc: 0.7938189845474615\n"
     ]
    },
    {
     "name": "stderr",
     "output_type": "stream",
     "text": [
      "\u001b[32m[I 2021-12-30 16:54:48,315]\u001b[0m Trial 2 finished with value: 0.7818984547461368 and parameters: {'kernel': 'poly', 'C': 525.2593527909765, 'gamma': 0.023567185986278362}. Best is trial 1 with value: 0.7938189845474615.\u001b[0m\n"
     ]
    },
    {
     "name": "stdout",
     "output_type": "stream",
     "text": [
      "train_acc: 0.9957152729785763\n",
      "val_acc: 0.7950276243093922\n",
      "test_acc: 0.7818984547461368\n"
     ]
    },
    {
     "name": "stderr",
     "output_type": "stream",
     "text": [
      "\u001b[32m[I 2021-12-30 16:54:49,034]\u001b[0m Trial 3 finished with value: 0.7845474613686534 and parameters: {'kernel': 'poly', 'C': 585.0051917021328, 'gamma': 0.027919396594478584}. Best is trial 1 with value: 0.7938189845474615.\u001b[0m\n"
     ]
    },
    {
     "name": "stdout",
     "output_type": "stream",
     "text": [
      "train_acc: 0.9973738769868692\n",
      "val_acc: 0.7933701657458563\n",
      "test_acc: 0.7845474613686534\n"
     ]
    },
    {
     "name": "stderr",
     "output_type": "stream",
     "text": [
      "\u001b[32m[I 2021-12-30 16:54:49,730]\u001b[0m Trial 4 finished with value: 0.7845474613686535 and parameters: {'kernel': 'poly', 'C': 532.6003693168286, 'gamma': 0.021423475512986373}. Best is trial 1 with value: 0.7938189845474615.\u001b[0m\n"
     ]
    },
    {
     "name": "stdout",
     "output_type": "stream",
     "text": [
      "train_acc: 0.9950241879751209\n",
      "val_acc: 0.8\n",
      "test_acc: 0.7845474613686535\n"
     ]
    },
    {
     "name": "stderr",
     "output_type": "stream",
     "text": [
      "\u001b[32m[I 2021-12-30 16:54:50,739]\u001b[0m Trial 5 finished with value: 0.7933774834437086 and parameters: {'kernel': 'rbf', 'C': 506.96822184922974, 'gamma': 0.024353323449058727}. Best is trial 1 with value: 0.7938189845474615.\u001b[0m\n"
     ]
    },
    {
     "name": "stdout",
     "output_type": "stream",
     "text": [
      "train_acc: 0.9987560469937803\n",
      "val_acc: 0.8198895027624309\n",
      "test_acc: 0.7933774834437086\n"
     ]
    },
    {
     "name": "stderr",
     "output_type": "stream",
     "text": [
      "\u001b[32m[I 2021-12-30 16:54:51,609]\u001b[0m Trial 6 finished with value: 0.7827814569536423 and parameters: {'kernel': 'poly', 'C': 489.60032377608945, 'gamma': 0.025103659258471307}. Best is trial 1 with value: 0.7938189845474615.\u001b[0m\n"
     ]
    },
    {
     "name": "stdout",
     "output_type": "stream",
     "text": [
      "train_acc: 0.9961299239806497\n",
      "val_acc: 0.7955801104972376\n",
      "test_acc: 0.7827814569536423\n"
     ]
    },
    {
     "name": "stderr",
     "output_type": "stream",
     "text": [
      "\u001b[32m[I 2021-12-30 16:54:52,676]\u001b[0m Trial 7 finished with value: 0.7911699779249448 and parameters: {'kernel': 'rbf', 'C': 480.7937282243053, 'gamma': 0.020934977139693736}. Best is trial 1 with value: 0.7938189845474615.\u001b[0m\n"
     ]
    },
    {
     "name": "stdout",
     "output_type": "stream",
     "text": [
      "train_acc: 0.9977885279889426\n",
      "val_acc: 0.8248618784530386\n",
      "test_acc: 0.7911699779249448\n"
     ]
    },
    {
     "name": "stderr",
     "output_type": "stream",
     "text": [
      "\u001b[32m[I 2021-12-30 16:54:53,704]\u001b[0m Trial 8 finished with value: 0.7920529801324503 and parameters: {'kernel': 'rbf', 'C': 554.2586069079549, 'gamma': 0.02227510684709865}. Best is trial 1 with value: 0.7938189845474615.\u001b[0m\n"
     ]
    },
    {
     "name": "stdout",
     "output_type": "stream",
     "text": [
      "train_acc: 0.9986178299930891\n",
      "val_acc: 0.819889502762431\n",
      "test_acc: 0.7920529801324503\n"
     ]
    },
    {
     "name": "stderr",
     "output_type": "stream",
     "text": [
      "\u001b[32m[I 2021-12-30 16:54:54,834]\u001b[0m Trial 9 finished with value: 0.7916114790286976 and parameters: {'kernel': 'rbf', 'C': 662.5419785048043, 'gamma': 0.034904312906246834}. Best is trial 1 with value: 0.7938189845474615.\u001b[0m\n"
     ]
    },
    {
     "name": "stdout",
     "output_type": "stream",
     "text": [
      "train_acc: 0.9994471319972357\n",
      "val_acc: 0.805524861878453\n",
      "test_acc: 0.7916114790286976\n"
     ]
    },
    {
     "name": "stderr",
     "output_type": "stream",
     "text": [
      "\u001b[32m[I 2021-12-30 16:54:55,707]\u001b[0m Trial 10 finished with value: 0.790728476821192 and parameters: {'kernel': 'rbf', 'C': 697.0245043579957, 'gamma': 0.01248054578775341}. Best is trial 1 with value: 0.7938189845474615.\u001b[0m\n"
     ]
    },
    {
     "name": "stdout",
     "output_type": "stream",
     "text": [
      "train_acc: 0.9944713199723566\n",
      "val_acc: 0.8287292817679557\n",
      "test_acc: 0.790728476821192\n"
     ]
    },
    {
     "name": "stderr",
     "output_type": "stream",
     "text": [
      "\u001b[32m[I 2021-12-30 16:54:56,743]\u001b[0m Trial 11 finished with value: 0.792494481236203 and parameters: {'kernel': 'rbf', 'C': 618.1706885247738, 'gamma': 0.03072654302307649}. Best is trial 1 with value: 0.7938189845474615.\u001b[0m\n"
     ]
    },
    {
     "name": "stdout",
     "output_type": "stream",
     "text": [
      "train_acc: 0.9991706979958535\n",
      "val_acc: 0.8104972375690608\n",
      "test_acc: 0.792494481236203\n"
     ]
    },
    {
     "name": "stderr",
     "output_type": "stream",
     "text": [
      "\u001b[32m[I 2021-12-30 16:54:57,631]\u001b[0m Trial 12 finished with value: 0.7898454746136865 and parameters: {'kernel': 'rbf', 'C': 623.2011055654914, 'gamma': 0.015497752211544884}. Best is trial 1 with value: 0.7938189845474615.\u001b[0m\n"
     ]
    },
    {
     "name": "stdout",
     "output_type": "stream",
     "text": [
      "train_acc: 0.9958534899792675\n",
      "val_acc: 0.8220994475138121\n",
      "test_acc: 0.7898454746136865\n"
     ]
    },
    {
     "name": "stderr",
     "output_type": "stream",
     "text": [
      "\u001b[32m[I 2021-12-30 16:54:58,770]\u001b[0m Trial 13 finished with value: 0.7916114790286974 and parameters: {'kernel': 'rbf', 'C': 438.21389350209273, 'gamma': 0.03782538372835226}. Best is trial 1 with value: 0.7938189845474615.\u001b[0m\n"
     ]
    },
    {
     "name": "stdout",
     "output_type": "stream",
     "text": [
      "train_acc: 0.9991706979958535\n",
      "val_acc: 0.8027624309392264\n",
      "test_acc: 0.7916114790286974\n"
     ]
    },
    {
     "name": "stderr",
     "output_type": "stream",
     "text": [
      "\u001b[32m[I 2021-12-30 16:54:59,896]\u001b[0m Trial 14 finished with value: 0.7929359823399558 and parameters: {'kernel': 'rbf', 'C': 587.0771101953792, 'gamma': 0.030540940160993554}. Best is trial 1 with value: 0.7938189845474615.\u001b[0m\n"
     ]
    },
    {
     "name": "stdout",
     "output_type": "stream",
     "text": [
      "train_acc: 0.9990324809951623\n",
      "val_acc: 0.8104972375690608\n",
      "test_acc: 0.7929359823399558\n"
     ]
    },
    {
     "name": "stderr",
     "output_type": "stream",
     "text": [
      "\u001b[32m[I 2021-12-30 16:55:00,869]\u001b[0m Trial 15 finished with value: 0.7911699779249448 and parameters: {'kernel': 'rbf', 'C': 482.08490631012313, 'gamma': 0.017713833928026043}. Best is trial 1 with value: 0.7938189845474615.\u001b[0m\n"
     ]
    },
    {
     "name": "stdout",
     "output_type": "stream",
     "text": [
      "train_acc: 0.9958534899792675\n",
      "val_acc: 0.8237569060773481\n",
      "test_acc: 0.7911699779249448\n"
     ]
    },
    {
     "name": "stderr",
     "output_type": "stream",
     "text": [
      "\u001b[32m[I 2021-12-30 16:55:01,891]\u001b[0m Trial 16 finished with value: 0.7933774834437086 and parameters: {'kernel': 'rbf', 'C': 641.9935603179925, 'gamma': 0.027186530967614347}. Best is trial 1 with value: 0.7938189845474615.\u001b[0m\n"
     ]
    },
    {
     "name": "stdout",
     "output_type": "stream",
     "text": [
      "train_acc: 0.9990324809951623\n",
      "val_acc: 0.8116022099447514\n",
      "test_acc: 0.7933774834437086\n"
     ]
    },
    {
     "name": "stderr",
     "output_type": "stream",
     "text": [
      "\u001b[32m[I 2021-12-30 16:55:02,955]\u001b[0m Trial 17 finished with value: 0.7933774834437086 and parameters: {'kernel': 'rbf', 'C': 654.2027013509895, 'gamma': 0.028283763801442003}. Best is trial 1 with value: 0.7938189845474615.\u001b[0m\n"
     ]
    },
    {
     "name": "stdout",
     "output_type": "stream",
     "text": [
      "train_acc: 0.9990324809951623\n",
      "val_acc: 0.8099447513812155\n",
      "test_acc: 0.7933774834437086\n"
     ]
    },
    {
     "name": "stderr",
     "output_type": "stream",
     "text": [
      "\u001b[32m[I 2021-12-30 16:55:04,047]\u001b[0m Trial 18 finished with value: 0.7920529801324504 and parameters: {'kernel': 'rbf', 'C': 699.1794199288215, 'gamma': 0.033642974958019156}. Best is trial 1 with value: 0.7938189845474615.\u001b[0m\n"
     ]
    },
    {
     "name": "stdout",
     "output_type": "stream",
     "text": [
      "train_acc: 0.9994471319972357\n",
      "val_acc: 0.8071823204419889\n",
      "test_acc: 0.7920529801324504\n"
     ]
    },
    {
     "name": "stderr",
     "output_type": "stream",
     "text": [
      "\u001b[32m[I 2021-12-30 16:55:05,199]\u001b[0m Trial 19 finished with value: 0.7898454746136866 and parameters: {'kernel': 'rbf', 'C': 639.4797402606166, 'gamma': 0.039374348224306494}. Best is trial 1 with value: 0.7938189845474615.\u001b[0m\n"
     ]
    },
    {
     "name": "stdout",
     "output_type": "stream",
     "text": [
      "train_acc: 0.9997235659986178\n",
      "val_acc: 0.7994475138121546\n",
      "test_acc: 0.7898454746136866\n"
     ]
    },
    {
     "name": "stderr",
     "output_type": "stream",
     "text": [
      "\u001b[32m[I 2021-12-30 16:55:06,411]\u001b[0m Trial 20 finished with value: 0.7933774834437086 and parameters: {'kernel': 'rbf', 'C': 579.3711300130149, 'gamma': 0.029771131266355805}. Best is trial 1 with value: 0.7938189845474615.\u001b[0m\n"
     ]
    },
    {
     "name": "stdout",
     "output_type": "stream",
     "text": [
      "train_acc: 0.9990324809951623\n",
      "val_acc: 0.8127071823204419\n",
      "test_acc: 0.7933774834437086\n"
     ]
    },
    {
     "name": "stderr",
     "output_type": "stream",
     "text": [
      "\u001b[32m[I 2021-12-30 16:55:07,704]\u001b[0m Trial 21 finished with value: 0.7933774834437086 and parameters: {'kernel': 'rbf', 'C': 587.171722349083, 'gamma': 0.029486907258057755}. Best is trial 1 with value: 0.7938189845474615.\u001b[0m\n"
     ]
    },
    {
     "name": "stdout",
     "output_type": "stream",
     "text": [
      "train_acc: 0.9990324809951623\n",
      "val_acc: 0.8116022099447513\n",
      "test_acc: 0.7933774834437086\n"
     ]
    },
    {
     "name": "stderr",
     "output_type": "stream",
     "text": [
      "\u001b[32m[I 2021-12-30 16:55:08,981]\u001b[0m Trial 22 finished with value: 0.792494481236203 and parameters: {'kernel': 'rbf', 'C': 668.244226648966, 'gamma': 0.03356725430760335}. Best is trial 1 with value: 0.7938189845474615.\u001b[0m\n"
     ]
    },
    {
     "name": "stdout",
     "output_type": "stream",
     "text": [
      "train_acc: 0.9991706979958535\n",
      "val_acc: 0.8088397790055248\n",
      "test_acc: 0.792494481236203\n"
     ]
    },
    {
     "name": "stderr",
     "output_type": "stream",
     "text": [
      "\u001b[32m[I 2021-12-30 16:55:10,118]\u001b[0m Trial 23 finished with value: 0.7938189845474615 and parameters: {'kernel': 'rbf', 'C': 563.7200723471339, 'gamma': 0.02684379944290171}. Best is trial 1 with value: 0.7938189845474615.\u001b[0m\n"
     ]
    },
    {
     "name": "stdout",
     "output_type": "stream",
     "text": [
      "train_acc: 0.9988942639944713\n",
      "val_acc: 0.8143646408839779\n",
      "test_acc: 0.7938189845474615\n"
     ]
    },
    {
     "name": "stderr",
     "output_type": "stream",
     "text": [
      "\u001b[32m[I 2021-12-30 16:55:11,169]\u001b[0m Trial 24 finished with value: 0.7938189845474615 and parameters: {'kernel': 'rbf', 'C': 566.3540595527035, 'gamma': 0.0258938656505446}. Best is trial 1 with value: 0.7938189845474615.\u001b[0m\n"
     ]
    },
    {
     "name": "stdout",
     "output_type": "stream",
     "text": [
      "train_acc: 0.9988942639944713\n",
      "val_acc: 0.8154696132596684\n",
      "test_acc: 0.7938189845474615\n"
     ]
    },
    {
     "name": "stderr",
     "output_type": "stream",
     "text": [
      "\u001b[32m[I 2021-12-30 16:55:12,235]\u001b[0m Trial 25 finished with value: 0.7938189845474615 and parameters: {'kernel': 'rbf', 'C': 552.2812956963669, 'gamma': 0.02599873113629244}. Best is trial 1 with value: 0.7938189845474615.\u001b[0m\n"
     ]
    },
    {
     "name": "stdout",
     "output_type": "stream",
     "text": [
      "train_acc: 0.9988942639944713\n",
      "val_acc: 0.8149171270718231\n",
      "test_acc: 0.7938189845474615\n"
     ]
    },
    {
     "name": "stderr",
     "output_type": "stream",
     "text": [
      "\u001b[32m[I 2021-12-30 16:55:13,007]\u001b[0m Trial 26 finished with value: 0.7854304635761589 and parameters: {'kernel': 'poly', 'C': 613.1078190383843, 'gamma': 0.01891162688809813}. Best is trial 1 with value: 0.7938189845474615.\u001b[0m\n"
     ]
    },
    {
     "name": "stdout",
     "output_type": "stream",
     "text": [
      "train_acc: 0.9939184519695923\n",
      "val_acc: 0.7994475138121547\n",
      "test_acc: 0.7854304635761589\n"
     ]
    },
    {
     "name": "stderr",
     "output_type": "stream",
     "text": [
      "\u001b[32m[I 2021-12-30 16:55:13,968]\u001b[0m Trial 27 finished with value: 0.7898454746136865 and parameters: {'kernel': 'rbf', 'C': 605.9428485597062, 'gamma': 0.016058083965027205}. Best is trial 1 with value: 0.7938189845474615.\u001b[0m\n"
     ]
    },
    {
     "name": "stdout",
     "output_type": "stream",
     "text": [
      "train_acc: 0.9959917069799585\n",
      "val_acc: 0.8220994475138121\n",
      "test_acc: 0.7898454746136865\n"
     ]
    },
    {
     "name": "stderr",
     "output_type": "stream",
     "text": [
      "\u001b[32m[I 2021-12-30 16:55:14,995]\u001b[0m Trial 28 finished with value: 0.7933774834437086 and parameters: {'kernel': 'rbf', 'C': 537.867634404079, 'gamma': 0.02559299632713978}. Best is trial 1 with value: 0.7938189845474615.\u001b[0m\n"
     ]
    },
    {
     "name": "stdout",
     "output_type": "stream",
     "text": [
      "train_acc: 0.9988942639944713\n",
      "val_acc: 0.8171270718232044\n",
      "test_acc: 0.7933774834437086\n"
     ]
    },
    {
     "name": "stderr",
     "output_type": "stream",
     "text": [
      "\u001b[32m[I 2021-12-30 16:55:15,763]\u001b[0m Trial 29 finished with value: 0.7841059602649008 and parameters: {'kernel': 'poly', 'C': 403.8300606489523, 'gamma': 0.02306361716703051}. Best is trial 1 with value: 0.7938189845474615.\u001b[0m\n"
     ]
    },
    {
     "name": "stdout",
     "output_type": "stream",
     "text": [
      "train_acc: 0.9947477539737388\n",
      "val_acc: 0.8005524861878452\n",
      "test_acc: 0.7841059602649008\n"
     ]
    },
    {
     "name": "stderr",
     "output_type": "stream",
     "text": [
      "\u001b[32m[I 2021-12-30 16:55:16,887]\u001b[0m Trial 30 finished with value: 0.792494481236203 and parameters: {'kernel': 'rbf', 'C': 553.669241005688, 'gamma': 0.03170257288925683}. Best is trial 1 with value: 0.7938189845474615.\u001b[0m\n"
     ]
    },
    {
     "name": "stdout",
     "output_type": "stream",
     "text": [
      "train_acc: 0.9991706979958535\n",
      "val_acc: 0.8099447513812155\n",
      "test_acc: 0.792494481236203\n"
     ]
    },
    {
     "name": "stderr",
     "output_type": "stream",
     "text": [
      "\u001b[32m[I 2021-12-30 16:55:17,968]\u001b[0m Trial 31 finished with value: 0.7938189845474615 and parameters: {'kernel': 'rbf', 'C': 574.9992584169942, 'gamma': 0.02638154903177623}. Best is trial 1 with value: 0.7938189845474615.\u001b[0m\n"
     ]
    },
    {
     "name": "stdout",
     "output_type": "stream",
     "text": [
      "train_acc: 0.9988942639944713\n",
      "val_acc: 0.8149171270718233\n",
      "test_acc: 0.7938189845474615\n"
     ]
    },
    {
     "name": "stderr",
     "output_type": "stream",
     "text": [
      "\u001b[32m[I 2021-12-30 16:55:19,065]\u001b[0m Trial 32 finished with value: 0.7938189845474615 and parameters: {'kernel': 'rbf', 'C': 568.4166555589718, 'gamma': 0.026114139413023072}. Best is trial 1 with value: 0.7938189845474615.\u001b[0m\n"
     ]
    },
    {
     "name": "stdout",
     "output_type": "stream",
     "text": [
      "train_acc: 0.9988942639944713\n",
      "val_acc: 0.8149171270718231\n",
      "test_acc: 0.7938189845474615\n"
     ]
    },
    {
     "name": "stderr",
     "output_type": "stream",
     "text": [
      "\u001b[32m[I 2021-12-30 16:55:20,129]\u001b[0m Trial 33 finished with value: 0.7920529801324503 and parameters: {'kernel': 'rbf', 'C': 526.2139038752991, 'gamma': 0.023664381972661835}. Best is trial 1 with value: 0.7938189845474615.\u001b[0m\n"
     ]
    },
    {
     "name": "stdout",
     "output_type": "stream",
     "text": [
      "train_acc: 0.9986178299930891\n",
      "val_acc: 0.819889502762431\n",
      "test_acc: 0.7920529801324503\n"
     ]
    },
    {
     "name": "stderr",
     "output_type": "stream",
     "text": [
      "\u001b[32m[I 2021-12-30 16:55:21,230]\u001b[0m Trial 34 finished with value: 0.7933774834437086 and parameters: {'kernel': 'rbf', 'C': 563.2879490020649, 'gamma': 0.027788938814448525}. Best is trial 1 with value: 0.7938189845474615.\u001b[0m\n"
     ]
    },
    {
     "name": "stdout",
     "output_type": "stream",
     "text": [
      "train_acc: 0.9988942639944713\n",
      "val_acc: 0.8104972375690608\n",
      "test_acc: 0.7933774834437086\n"
     ]
    },
    {
     "name": "stderr",
     "output_type": "stream",
     "text": [
      "\u001b[32m[I 2021-12-30 16:55:22,250]\u001b[0m Trial 35 finished with value: 0.7849889624724062 and parameters: {'kernel': 'poly', 'C': 507.92620707703054, 'gamma': 0.019902770109170666}. Best is trial 1 with value: 0.7938189845474615.\u001b[0m\n"
     ]
    },
    {
     "name": "stdout",
     "output_type": "stream",
     "text": [
      "train_acc: 0.9937802349689011\n",
      "val_acc: 0.7977900552486188\n",
      "test_acc: 0.7849889624724062\n"
     ]
    },
    {
     "name": "stderr",
     "output_type": "stream",
     "text": [
      "\u001b[32m[I 2021-12-30 16:55:23,470]\u001b[0m Trial 36 finished with value: 0.7823399558498896 and parameters: {'kernel': 'poly', 'C': 596.2759365185558, 'gamma': 0.023312142388982687}. Best is trial 1 with value: 0.7938189845474615.\u001b[0m\n"
     ]
    },
    {
     "name": "stdout",
     "output_type": "stream",
     "text": [
      "train_acc: 0.9959917069799585\n",
      "val_acc: 0.7955801104972375\n",
      "test_acc: 0.7823399558498896\n"
     ]
    },
    {
     "name": "stderr",
     "output_type": "stream",
     "text": [
      "\u001b[32m[I 2021-12-30 16:55:24,824]\u001b[0m Trial 37 finished with value: 0.7924944812362031 and parameters: {'kernel': 'rbf', 'C': 508.682830511936, 'gamma': 0.024935228194603216}. Best is trial 1 with value: 0.7938189845474615.\u001b[0m\n"
     ]
    },
    {
     "name": "stdout",
     "output_type": "stream",
     "text": [
      "train_acc: 0.9987560469937803\n",
      "val_acc: 0.8176795580110496\n",
      "test_acc: 0.7924944812362031\n"
     ]
    },
    {
     "name": "stderr",
     "output_type": "stream",
     "text": [
      "\u001b[32m[I 2021-12-30 16:55:25,674]\u001b[0m Trial 38 finished with value: 0.7841059602649006 and parameters: {'kernel': 'poly', 'C': 539.7385912275415, 'gamma': 0.021420012058017354}. Best is trial 1 with value: 0.7938189845474615.\u001b[0m\n"
     ]
    },
    {
     "name": "stdout",
     "output_type": "stream",
     "text": [
      "train_acc: 0.9950241879751209\n",
      "val_acc: 0.7994475138121547\n",
      "test_acc: 0.7841059602649006\n"
     ]
    },
    {
     "name": "stderr",
     "output_type": "stream",
     "text": [
      "\u001b[32m[I 2021-12-30 16:55:27,247]\u001b[0m Trial 39 finished with value: 0.7938189845474615 and parameters: {'kernel': 'rbf', 'C': 567.8940837780814, 'gamma': 0.02673155879047641}. Best is trial 1 with value: 0.7938189845474615.\u001b[0m\n"
     ]
    },
    {
     "name": "stdout",
     "output_type": "stream",
     "text": [
      "train_acc: 0.9988942639944713\n",
      "val_acc: 0.8143646408839779\n",
      "test_acc: 0.7938189845474615\n"
     ]
    },
    {
     "name": "stderr",
     "output_type": "stream",
     "text": [
      "\u001b[32m[I 2021-12-30 16:55:28,478]\u001b[0m Trial 40 finished with value: 0.7933774834437086 and parameters: {'kernel': 'rbf', 'C': 601.2136318251363, 'gamma': 0.028172734826400772}. Best is trial 1 with value: 0.7938189845474615.\u001b[0m\n"
     ]
    },
    {
     "name": "stdout",
     "output_type": "stream",
     "text": [
      "train_acc: 0.9990324809951623\n",
      "val_acc: 0.8104972375690608\n",
      "test_acc: 0.7933774834437086\n"
     ]
    },
    {
     "name": "stderr",
     "output_type": "stream",
     "text": [
      "\u001b[32m[I 2021-12-30 16:55:29,816]\u001b[0m Trial 41 finished with value: 0.7938189845474615 and parameters: {'kernel': 'rbf', 'C': 573.9140172946431, 'gamma': 0.025736942454764877}. Best is trial 1 with value: 0.7938189845474615.\u001b[0m\n"
     ]
    },
    {
     "name": "stdout",
     "output_type": "stream",
     "text": [
      "train_acc: 0.9988942639944713\n",
      "val_acc: 0.8160220994475138\n",
      "test_acc: 0.7938189845474615\n"
     ]
    },
    {
     "name": "stderr",
     "output_type": "stream",
     "text": [
      "\u001b[32m[I 2021-12-30 16:55:31,223]\u001b[0m Trial 42 finished with value: 0.7929359823399558 and parameters: {'kernel': 'rbf', 'C': 576.2297185676805, 'gamma': 0.024114800458373352}. Best is trial 1 with value: 0.7938189845474615.\u001b[0m\n"
     ]
    },
    {
     "name": "stdout",
     "output_type": "stream",
     "text": [
      "train_acc: 0.9987560469937803\n",
      "val_acc: 0.8209944751381215\n",
      "test_acc: 0.7929359823399558\n"
     ]
    },
    {
     "name": "stderr",
     "output_type": "stream",
     "text": [
      "\u001b[32m[I 2021-12-30 16:55:32,477]\u001b[0m Trial 43 finished with value: 0.7929359823399558 and parameters: {'kernel': 'rbf', 'C': 629.778886546775, 'gamma': 0.028764411758439464}. Best is trial 1 with value: 0.7938189845474615.\u001b[0m\n"
     ]
    },
    {
     "name": "stdout",
     "output_type": "stream",
     "text": [
      "train_acc: 0.9990324809951623\n",
      "val_acc: 0.8099447513812155\n",
      "test_acc: 0.7929359823399558\n"
     ]
    },
    {
     "name": "stderr",
     "output_type": "stream",
     "text": [
      "\u001b[32m[I 2021-12-30 16:55:33,782]\u001b[0m Trial 44 finished with value: 0.792494481236203 and parameters: {'kernel': 'rbf', 'C': 595.3095066620684, 'gamma': 0.03192066167149337}. Best is trial 1 with value: 0.7938189845474615.\u001b[0m\n"
     ]
    },
    {
     "name": "stdout",
     "output_type": "stream",
     "text": [
      "train_acc: 0.9991706979958535\n",
      "val_acc: 0.8099447513812155\n",
      "test_acc: 0.792494481236203\n"
     ]
    },
    {
     "name": "stderr",
     "output_type": "stream",
     "text": [
      "\u001b[32m[I 2021-12-30 16:55:34,914]\u001b[0m Trial 45 finished with value: 0.7938189845474615 and parameters: {'kernel': 'rbf', 'C': 570.7190760488935, 'gamma': 0.026583845128342967}. Best is trial 1 with value: 0.7938189845474615.\u001b[0m\n"
     ]
    },
    {
     "name": "stdout",
     "output_type": "stream",
     "text": [
      "train_acc: 0.9988942639944713\n",
      "val_acc: 0.8143646408839779\n",
      "test_acc: 0.7938189845474615\n"
     ]
    },
    {
     "name": "stderr",
     "output_type": "stream",
     "text": [
      "\u001b[32m[I 2021-12-30 16:55:36,080]\u001b[0m Trial 46 finished with value: 0.7938189845474615 and parameters: {'kernel': 'rbf', 'C': 549.6460520205617, 'gamma': 0.02689656846053142}. Best is trial 1 with value: 0.7938189845474615.\u001b[0m\n"
     ]
    },
    {
     "name": "stdout",
     "output_type": "stream",
     "text": [
      "train_acc: 0.9988942639944713\n",
      "val_acc: 0.8143646408839779\n",
      "test_acc: 0.7938189845474615\n"
     ]
    },
    {
     "name": "stderr",
     "output_type": "stream",
     "text": [
      "\u001b[32m[I 2021-12-30 16:55:37,353]\u001b[0m Trial 47 finished with value: 0.7920529801324503 and parameters: {'kernel': 'rbf', 'C': 520.9054840682139, 'gamma': 0.022765835266710742}. Best is trial 1 with value: 0.7938189845474615.\u001b[0m\n"
     ]
    },
    {
     "name": "stdout",
     "output_type": "stream",
     "text": [
      "train_acc: 0.9986178299930891\n",
      "val_acc: 0.8204419889502763\n",
      "test_acc: 0.7920529801324503\n"
     ]
    },
    {
     "name": "stderr",
     "output_type": "stream",
     "text": [
      "\u001b[32m[I 2021-12-30 16:55:38,525]\u001b[0m Trial 48 finished with value: 0.7911699779249448 and parameters: {'kernel': 'rbf', 'C': 466.3546799407722, 'gamma': 0.021760494774483257}. Best is trial 1 with value: 0.7938189845474615.\u001b[0m\n"
     ]
    },
    {
     "name": "stdout",
     "output_type": "stream",
     "text": [
      "train_acc: 0.998203178991016\n",
      "val_acc: 0.8248618784530386\n",
      "test_acc: 0.7911699779249448\n"
     ]
    },
    {
     "name": "stderr",
     "output_type": "stream",
     "text": [
      "\u001b[32m[I 2021-12-30 16:55:39,675]\u001b[0m Trial 49 finished with value: 0.7929359823399558 and parameters: {'kernel': 'rbf', 'C': 549.7722911808627, 'gamma': 0.025268799477189335}. Best is trial 1 with value: 0.7938189845474615.\u001b[0m\n"
     ]
    },
    {
     "name": "stdout",
     "output_type": "stream",
     "text": [
      "train_acc: 0.9988942639944713\n",
      "val_acc: 0.8160220994475138\n",
      "test_acc: 0.7929359823399558\n"
     ]
    },
    {
     "name": "stderr",
     "output_type": "stream",
     "text": [
      "\u001b[32m[I 2021-12-30 16:55:40,809]\u001b[0m Trial 50 finished with value: 0.7916114790286974 and parameters: {'kernel': 'rbf', 'C': 560.9229236113546, 'gamma': 0.020018650948980157}. Best is trial 1 with value: 0.7938189845474615.\u001b[0m\n"
     ]
    },
    {
     "name": "stdout",
     "output_type": "stream",
     "text": [
      "train_acc: 0.9983413959917071\n",
      "val_acc: 0.822099447513812\n",
      "test_acc: 0.7916114790286974\n"
     ]
    },
    {
     "name": "stderr",
     "output_type": "stream",
     "text": [
      "\u001b[32m[I 2021-12-30 16:55:42,005]\u001b[0m Trial 51 finished with value: 0.7933774834437086 and parameters: {'kernel': 'rbf', 'C': 564.5808559566315, 'gamma': 0.02463047968048307}. Best is trial 1 with value: 0.7938189845474615.\u001b[0m\n"
     ]
    },
    {
     "name": "stdout",
     "output_type": "stream",
     "text": [
      "train_acc: 0.9988942639944713\n",
      "val_acc: 0.8193370165745856\n",
      "test_acc: 0.7933774834437086\n"
     ]
    },
    {
     "name": "stderr",
     "output_type": "stream",
     "text": [
      "\u001b[32m[I 2021-12-30 16:55:43,310]\u001b[0m Trial 52 finished with value: 0.792494481236203 and parameters: {'kernel': 'rbf', 'C': 545.8204997755661, 'gamma': 0.029211200865480975}. Best is trial 1 with value: 0.7938189845474615.\u001b[0m\n"
     ]
    },
    {
     "name": "stdout",
     "output_type": "stream",
     "text": [
      "train_acc: 0.9990324809951623\n",
      "val_acc: 0.8093922651933703\n",
      "test_acc: 0.792494481236203\n"
     ]
    },
    {
     "name": "stderr",
     "output_type": "stream",
     "text": [
      "\u001b[32m[I 2021-12-30 16:55:44,363]\u001b[0m Trial 53 finished with value: 0.7911699779249448 and parameters: {'kernel': 'rbf', 'C': 586.7067488743356, 'gamma': 0.010064828136570347}. Best is trial 1 with value: 0.7938189845474615.\u001b[0m\n"
     ]
    },
    {
     "name": "stdout",
     "output_type": "stream",
     "text": [
      "train_acc: 0.9904630269523151\n",
      "val_acc: 0.8314917127071823\n",
      "test_acc: 0.7911699779249448\n"
     ]
    },
    {
     "name": "stderr",
     "output_type": "stream",
     "text": [
      "\u001b[32m[I 2021-12-30 16:55:45,668]\u001b[0m Trial 54 finished with value: 0.7933774834437086 and parameters: {'kernel': 'rbf', 'C': 524.3226236356982, 'gamma': 0.027081429100232257}. Best is trial 1 with value: 0.7938189845474615.\u001b[0m\n"
     ]
    },
    {
     "name": "stdout",
     "output_type": "stream",
     "text": [
      "train_acc: 0.9988942639944713\n",
      "val_acc: 0.8127071823204419\n",
      "test_acc: 0.7933774834437086\n"
     ]
    },
    {
     "name": "stderr",
     "output_type": "stream",
     "text": [
      "\u001b[32m[I 2021-12-30 16:55:46,998]\u001b[0m Trial 55 finished with value: 0.7929359823399558 and parameters: {'kernel': 'rbf', 'C': 613.4642727002745, 'gamma': 0.030610636848224796}. Best is trial 1 with value: 0.7938189845474615.\u001b[0m\n"
     ]
    },
    {
     "name": "stdout",
     "output_type": "stream",
     "text": [
      "train_acc: 0.9991706979958535\n",
      "val_acc: 0.811049723756906\n",
      "test_acc: 0.7929359823399558\n"
     ]
    },
    {
     "name": "stderr",
     "output_type": "stream",
     "text": [
      "\u001b[32m[I 2021-12-30 16:55:48,211]\u001b[0m Trial 56 finished with value: 0.7933774834437086 and parameters: {'kernel': 'rbf', 'C': 575.0768950297081, 'gamma': 0.027659080048589}. Best is trial 1 with value: 0.7938189845474615.\u001b[0m\n"
     ]
    },
    {
     "name": "stdout",
     "output_type": "stream",
     "text": [
      "train_acc: 0.9988942639944713\n",
      "val_acc: 0.811049723756906\n",
      "test_acc: 0.7933774834437086\n"
     ]
    },
    {
     "name": "stderr",
     "output_type": "stream",
     "text": [
      "\u001b[32m[I 2021-12-30 16:55:49,137]\u001b[0m Trial 57 finished with value: 0.7832229580573951 and parameters: {'kernel': 'poly', 'C': 496.13869797504844, 'gamma': 0.027029341301327607}. Best is trial 1 with value: 0.7938189845474615.\u001b[0m\n"
     ]
    },
    {
     "name": "stdout",
     "output_type": "stream",
     "text": [
      "train_acc: 0.9962681409813408\n",
      "val_acc: 0.7922651933701659\n",
      "test_acc: 0.7832229580573951\n"
     ]
    },
    {
     "name": "stderr",
     "output_type": "stream",
     "text": [
      "\u001b[32m[I 2021-12-30 16:55:50,639]\u001b[0m Trial 58 finished with value: 0.792494481236203 and parameters: {'kernel': 'rbf', 'C': 681.3287850316115, 'gamma': 0.03202430515919244}. Best is trial 1 with value: 0.7938189845474615.\u001b[0m\n"
     ]
    },
    {
     "name": "stdout",
     "output_type": "stream",
     "text": [
      "train_acc: 0.9991706979958535\n",
      "val_acc: 0.8099447513812154\n",
      "test_acc: 0.792494481236203\n"
     ]
    },
    {
     "name": "stderr",
     "output_type": "stream",
     "text": [
      "\u001b[32m[I 2021-12-30 16:55:51,850]\u001b[0m Trial 59 finished with value: 0.7938189845474615 and parameters: {'kernel': 'rbf', 'C': 535.4680253535602, 'gamma': 0.02605939389572718}. Best is trial 1 with value: 0.7938189845474615.\u001b[0m\n"
     ]
    },
    {
     "name": "stdout",
     "output_type": "stream",
     "text": [
      "train_acc: 0.9988942639944713\n",
      "val_acc: 0.8154696132596684\n",
      "test_acc: 0.7938189845474615\n"
     ]
    },
    {
     "name": "stderr",
     "output_type": "stream",
     "text": [
      "\u001b[32m[I 2021-12-30 16:55:53,165]\u001b[0m Trial 60 finished with value: 0.7938189845474615 and parameters: {'kernel': 'rbf', 'C': 540.0867158011282, 'gamma': 0.025729303327243307}. Best is trial 1 with value: 0.7938189845474615.\u001b[0m\n"
     ]
    },
    {
     "name": "stdout",
     "output_type": "stream",
     "text": [
      "train_acc: 0.9988942639944713\n",
      "val_acc: 0.8176795580110496\n",
      "test_acc: 0.7938189845474615\n"
     ]
    },
    {
     "name": "stderr",
     "output_type": "stream",
     "text": [
      "\u001b[32m[I 2021-12-30 16:55:54,390]\u001b[0m Trial 61 finished with value: 0.7929359823399558 and parameters: {'kernel': 'rbf', 'C': 556.5259246509959, 'gamma': 0.02529589586403908}. Best is trial 1 with value: 0.7938189845474615.\u001b[0m\n"
     ]
    },
    {
     "name": "stdout",
     "output_type": "stream",
     "text": [
      "train_acc: 0.9988942639944713\n",
      "val_acc: 0.8160220994475138\n",
      "test_acc: 0.7929359823399558\n"
     ]
    },
    {
     "name": "stderr",
     "output_type": "stream",
     "text": [
      "\u001b[32m[I 2021-12-30 16:55:55,723]\u001b[0m Trial 62 finished with value: 0.7933774834437086 and parameters: {'kernel': 'rbf', 'C': 569.7794771241944, 'gamma': 0.02836173521256591}. Best is trial 1 with value: 0.7938189845474615.\u001b[0m\n"
     ]
    },
    {
     "name": "stdout",
     "output_type": "stream",
     "text": [
      "train_acc: 0.9988942639944713\n",
      "val_acc: 0.8104972375690608\n",
      "test_acc: 0.7933774834437086\n"
     ]
    },
    {
     "name": "stderr",
     "output_type": "stream",
     "text": [
      "\u001b[32m[I 2021-12-30 16:55:57,133]\u001b[0m Trial 63 finished with value: 0.7938189845474615 and parameters: {'kernel': 'rbf', 'C': 585.7884311671194, 'gamma': 0.026131774285769835}. Best is trial 1 with value: 0.7938189845474615.\u001b[0m\n"
     ]
    },
    {
     "name": "stdout",
     "output_type": "stream",
     "text": [
      "train_acc: 0.9988942639944713\n",
      "val_acc: 0.8149171270718231\n",
      "test_acc: 0.7938189845474615\n"
     ]
    },
    {
     "name": "stderr",
     "output_type": "stream",
     "text": [
      "\u001b[32m[I 2021-12-30 16:55:58,454]\u001b[0m Trial 64 finished with value: 0.7933774834437086 and parameters: {'kernel': 'rbf', 'C': 532.6824251059196, 'gamma': 0.029929747775301108}. Best is trial 1 with value: 0.7938189845474615.\u001b[0m\n"
     ]
    },
    {
     "name": "stdout",
     "output_type": "stream",
     "text": [
      "train_acc: 0.9990324809951623\n",
      "val_acc: 0.8121546961325967\n",
      "test_acc: 0.7933774834437086\n"
     ]
    },
    {
     "name": "stderr",
     "output_type": "stream",
     "text": [
      "\u001b[32m[I 2021-12-30 16:55:59,736]\u001b[0m Trial 65 finished with value: 0.7920529801324503 and parameters: {'kernel': 'rbf', 'C': 584.8975332738586, 'gamma': 0.023646781983920045}. Best is trial 1 with value: 0.7938189845474615.\u001b[0m\n"
     ]
    },
    {
     "name": "stdout",
     "output_type": "stream",
     "text": [
      "train_acc: 0.9987560469937803\n",
      "val_acc: 0.8198895027624309\n",
      "test_acc: 0.7920529801324503\n"
     ]
    },
    {
     "name": "stderr",
     "output_type": "stream",
     "text": [
      "\u001b[32m[I 2021-12-30 16:56:01,103]\u001b[0m Trial 66 finished with value: 0.7920529801324503 and parameters: {'kernel': 'rbf', 'C': 548.0853239009416, 'gamma': 0.0224515572560421}. Best is trial 1 with value: 0.7938189845474615.\u001b[0m\n"
     ]
    },
    {
     "name": "stdout",
     "output_type": "stream",
     "text": [
      "train_acc: 0.9986178299930891\n",
      "val_acc: 0.819889502762431\n",
      "test_acc: 0.7920529801324503\n"
     ]
    },
    {
     "name": "stderr",
     "output_type": "stream",
     "text": [
      "\u001b[32m[I 2021-12-30 16:56:02,439]\u001b[0m Trial 67 finished with value: 0.7933774834437086 and parameters: {'kernel': 'rbf', 'C': 515.2966382621961, 'gamma': 0.024082091256914403}. Best is trial 1 with value: 0.7938189845474615.\u001b[0m\n"
     ]
    },
    {
     "name": "stdout",
     "output_type": "stream",
     "text": [
      "train_acc: 0.9987560469937803\n",
      "val_acc: 0.8198895027624309\n",
      "test_acc: 0.7933774834437086\n"
     ]
    },
    {
     "name": "stderr",
     "output_type": "stream",
     "text": [
      "\u001b[32m[I 2021-12-30 16:56:03,772]\u001b[0m Trial 68 finished with value: 0.7938189845474615 and parameters: {'kernel': 'rbf', 'C': 626.493186581665, 'gamma': 0.02644752358310175}. Best is trial 1 with value: 0.7938189845474615.\u001b[0m\n"
     ]
    },
    {
     "name": "stdout",
     "output_type": "stream",
     "text": [
      "train_acc: 0.9988942639944713\n",
      "val_acc: 0.8143646408839779\n",
      "test_acc: 0.7938189845474615\n"
     ]
    },
    {
     "name": "stderr",
     "output_type": "stream",
     "text": [
      "\u001b[32m[I 2021-12-30 16:56:04,997]\u001b[0m Trial 69 finished with value: 0.7938189845474615 and parameters: {'kernel': 'rbf', 'C': 637.7273389714098, 'gamma': 0.026518586739463928}. Best is trial 1 with value: 0.7938189845474615.\u001b[0m\n"
     ]
    },
    {
     "name": "stdout",
     "output_type": "stream",
     "text": [
      "train_acc: 0.9988942639944713\n",
      "val_acc: 0.8143646408839779\n",
      "test_acc: 0.7938189845474615\n"
     ]
    },
    {
     "name": "stderr",
     "output_type": "stream",
     "text": [
      "\u001b[32m[I 2021-12-30 16:56:05,903]\u001b[0m Trial 70 finished with value: 0.7832229580573951 and parameters: {'kernel': 'poly', 'C': 643.8401773390449, 'gamma': 0.024783109213856323}. Best is trial 1 with value: 0.7938189845474615.\u001b[0m\n"
     ]
    },
    {
     "name": "stdout",
     "output_type": "stream",
     "text": [
      "train_acc: 0.9962681409813408\n",
      "val_acc: 0.7917127071823205\n",
      "test_acc: 0.7832229580573951\n"
     ]
    },
    {
     "name": "stderr",
     "output_type": "stream",
     "text": [
      "\u001b[32m[I 2021-12-30 16:56:07,268]\u001b[0m Trial 71 finished with value: 0.7938189845474615 and parameters: {'kernel': 'rbf', 'C': 594.456661153556, 'gamma': 0.02578526626945078}. Best is trial 1 with value: 0.7938189845474615.\u001b[0m\n"
     ]
    },
    {
     "name": "stdout",
     "output_type": "stream",
     "text": [
      "train_acc: 0.9988942639944713\n",
      "val_acc: 0.8160220994475138\n",
      "test_acc: 0.7938189845474615\n"
     ]
    },
    {
     "name": "stderr",
     "output_type": "stream",
     "text": [
      "\u001b[32m[I 2021-12-30 16:56:08,640]\u001b[0m Trial 72 finished with value: 0.7933774834437086 and parameters: {'kernel': 'rbf', 'C': 595.9401861649612, 'gamma': 0.027608139214447262}. Best is trial 1 with value: 0.7938189845474615.\u001b[0m\n"
     ]
    },
    {
     "name": "stdout",
     "output_type": "stream",
     "text": [
      "train_acc: 0.9988942639944713\n",
      "val_acc: 0.8121546961325968\n",
      "test_acc: 0.7933774834437086\n"
     ]
    },
    {
     "name": "stderr",
     "output_type": "stream",
     "text": [
      "\u001b[32m[I 2021-12-30 16:56:09,946]\u001b[0m Trial 73 finished with value: 0.7929359823399558 and parameters: {'kernel': 'rbf', 'C': 607.1966229758785, 'gamma': 0.02844963174568738}. Best is trial 1 with value: 0.7938189845474615.\u001b[0m\n"
     ]
    },
    {
     "name": "stdout",
     "output_type": "stream",
     "text": [
      "train_acc: 0.9990324809951623\n",
      "val_acc: 0.811049723756906\n",
      "test_acc: 0.7929359823399558\n"
     ]
    },
    {
     "name": "stderr",
     "output_type": "stream",
     "text": [
      "\u001b[32m[I 2021-12-30 16:56:11,214]\u001b[0m Trial 74 finished with value: 0.7938189845474615 and parameters: {'kernel': 'rbf', 'C': 621.3233944693037, 'gamma': 0.02663717046944933}. Best is trial 1 with value: 0.7938189845474615.\u001b[0m\n"
     ]
    },
    {
     "name": "stdout",
     "output_type": "stream",
     "text": [
      "train_acc: 0.9988942639944713\n",
      "val_acc: 0.8149171270718233\n",
      "test_acc: 0.7938189845474615\n"
     ]
    },
    {
     "name": "stderr",
     "output_type": "stream",
     "text": [
      "\u001b[32m[I 2021-12-30 16:56:12,602]\u001b[0m Trial 75 finished with value: 0.792494481236203 and parameters: {'kernel': 'rbf', 'C': 555.3241029301736, 'gamma': 0.029207890571981712}. Best is trial 1 with value: 0.7938189845474615.\u001b[0m\n"
     ]
    },
    {
     "name": "stdout",
     "output_type": "stream",
     "text": [
      "train_acc: 0.9990324809951623\n",
      "val_acc: 0.8093922651933703\n",
      "test_acc: 0.792494481236203\n"
     ]
    },
    {
     "name": "stderr",
     "output_type": "stream",
     "text": [
      "\u001b[32m[I 2021-12-30 16:56:13,922]\u001b[0m Trial 76 finished with value: 0.7929359823399558 and parameters: {'kernel': 'rbf', 'C': 535.5735299181644, 'gamma': 0.031089865175693038}. Best is trial 1 with value: 0.7938189845474615.\u001b[0m\n"
     ]
    },
    {
     "name": "stdout",
     "output_type": "stream",
     "text": [
      "train_acc: 0.9990324809951623\n",
      "val_acc: 0.8121546961325967\n",
      "test_acc: 0.7929359823399558\n"
     ]
    },
    {
     "name": "stderr",
     "output_type": "stream",
     "text": [
      "\u001b[32m[I 2021-12-30 16:56:15,220]\u001b[0m Trial 77 finished with value: 0.7938189845474615 and parameters: {'kernel': 'rbf', 'C': 634.6779117283232, 'gamma': 0.026603880231725784}. Best is trial 1 with value: 0.7938189845474615.\u001b[0m\n"
     ]
    },
    {
     "name": "stdout",
     "output_type": "stream",
     "text": [
      "train_acc: 0.9988942639944713\n",
      "val_acc: 0.8138121546961326\n",
      "test_acc: 0.7938189845474615\n"
     ]
    },
    {
     "name": "stderr",
     "output_type": "stream",
     "text": [
      "\u001b[32m[I 2021-12-30 16:56:16,476]\u001b[0m Trial 78 finished with value: 0.7933774834437086 and parameters: {'kernel': 'rbf', 'C': 656.3813673774341, 'gamma': 0.024239233927685892}. Best is trial 1 with value: 0.7938189845474615.\u001b[0m\n"
     ]
    },
    {
     "name": "stdout",
     "output_type": "stream",
     "text": [
      "train_acc: 0.9988942639944713\n",
      "val_acc: 0.8198895027624309\n",
      "test_acc: 0.7933774834437086\n"
     ]
    },
    {
     "name": "stderr",
     "output_type": "stream",
     "text": [
      "\u001b[32m[I 2021-12-30 16:56:17,843]\u001b[0m Trial 79 finished with value: 0.7933774834437086 and parameters: {'kernel': 'rbf', 'C': 545.4413154415056, 'gamma': 0.03005085288523228}. Best is trial 1 with value: 0.7938189845474615.\u001b[0m\n"
     ]
    },
    {
     "name": "stdout",
     "output_type": "stream",
     "text": [
      "train_acc: 0.9990324809951623\n",
      "val_acc: 0.8121546961325967\n",
      "test_acc: 0.7933774834437086\n"
     ]
    },
    {
     "name": "stderr",
     "output_type": "stream",
     "text": [
      "\u001b[32m[I 2021-12-30 16:56:18,700]\u001b[0m Trial 80 finished with value: 0.7841059602649005 and parameters: {'kernel': 'poly', 'C': 566.8128431204877, 'gamma': 0.0276403694676014}. Best is trial 1 with value: 0.7938189845474615.\u001b[0m\n"
     ]
    },
    {
     "name": "stdout",
     "output_type": "stream",
     "text": [
      "train_acc: 0.9972356599861782\n",
      "val_acc: 0.7917127071823205\n",
      "test_acc: 0.7841059602649005\n"
     ]
    },
    {
     "name": "stderr",
     "output_type": "stream",
     "text": [
      "\u001b[32m[I 2021-12-30 16:56:19,932]\u001b[0m Trial 81 finished with value: 0.7938189845474615 and parameters: {'kernel': 'rbf', 'C': 576.3721969275729, 'gamma': 0.025677132951793434}. Best is trial 1 with value: 0.7938189845474615.\u001b[0m\n"
     ]
    },
    {
     "name": "stdout",
     "output_type": "stream",
     "text": [
      "train_acc: 0.9988942639944713\n",
      "val_acc: 0.8171270718232044\n",
      "test_acc: 0.7938189845474615\n"
     ]
    },
    {
     "name": "stderr",
     "output_type": "stream",
     "text": [
      "\u001b[32m[I 2021-12-30 16:56:21,220]\u001b[0m Trial 82 finished with value: 0.7929359823399558 and parameters: {'kernel': 'rbf', 'C': 578.5814099552374, 'gamma': 0.02493595966439133}. Best is trial 1 with value: 0.7938189845474615.\u001b[0m\n"
     ]
    },
    {
     "name": "stdout",
     "output_type": "stream",
     "text": [
      "train_acc: 0.9988942639944713\n",
      "val_acc: 0.8176795580110496\n",
      "test_acc: 0.7929359823399558\n"
     ]
    },
    {
     "name": "stderr",
     "output_type": "stream",
     "text": [
      "\u001b[32m[I 2021-12-30 16:56:22,451]\u001b[0m Trial 83 finished with value: 0.7920529801324503 and parameters: {'kernel': 'rbf', 'C': 558.8281507766263, 'gamma': 0.022817032070152562}. Best is trial 1 with value: 0.7938189845474615.\u001b[0m\n"
     ]
    },
    {
     "name": "stdout",
     "output_type": "stream",
     "text": [
      "train_acc: 0.9986178299930891\n",
      "val_acc: 0.8209944751381215\n",
      "test_acc: 0.7920529801324503\n"
     ]
    },
    {
     "name": "stderr",
     "output_type": "stream",
     "text": [
      "\u001b[32m[I 2021-12-30 16:56:23,739]\u001b[0m Trial 84 finished with value: 0.7929359823399558 and parameters: {'kernel': 'rbf', 'C': 571.1923006541496, 'gamma': 0.028806922457298545}. Best is trial 1 with value: 0.7938189845474615.\u001b[0m\n"
     ]
    },
    {
     "name": "stdout",
     "output_type": "stream",
     "text": [
      "train_acc: 0.9990324809951623\n",
      "val_acc: 0.8099447513812155\n",
      "test_acc: 0.7929359823399558\n"
     ]
    },
    {
     "name": "stderr",
     "output_type": "stream",
     "text": [
      "\u001b[32m[I 2021-12-30 16:56:25,024]\u001b[0m Trial 85 finished with value: 0.7938189845474615 and parameters: {'kernel': 'rbf', 'C': 674.6833074692595, 'gamma': 0.026092093400649146}. Best is trial 1 with value: 0.7938189845474615.\u001b[0m\n"
     ]
    },
    {
     "name": "stdout",
     "output_type": "stream",
     "text": [
      "train_acc: 0.9988942639944713\n",
      "val_acc: 0.8132596685082873\n",
      "test_acc: 0.7938189845474615\n"
     ]
    },
    {
     "name": "stderr",
     "output_type": "stream",
     "text": [
      "\u001b[32m[I 2021-12-30 16:56:26,369]\u001b[0m Trial 86 finished with value: 0.7911699779249448 and parameters: {'kernel': 'rbf', 'C': 431.17896742141284, 'gamma': 0.023714557604035652}. Best is trial 1 with value: 0.7938189845474615.\u001b[0m\n"
     ]
    },
    {
     "name": "stdout",
     "output_type": "stream",
     "text": [
      "train_acc: 0.9984796129923981\n",
      "val_acc: 0.8215469613259667\n",
      "test_acc: 0.7911699779249448\n"
     ]
    },
    {
     "name": "stderr",
     "output_type": "stream",
     "text": [
      "\u001b[32m[I 2021-12-30 16:56:27,583]\u001b[0m Trial 87 finished with value: 0.7938189845474615 and parameters: {'kernel': 'rbf', 'C': 592.2874699917703, 'gamma': 0.026055643652323893}. Best is trial 1 with value: 0.7938189845474615.\u001b[0m\n"
     ]
    },
    {
     "name": "stdout",
     "output_type": "stream",
     "text": [
      "train_acc: 0.9988942639944713\n",
      "val_acc: 0.8149171270718231\n",
      "test_acc: 0.7938189845474615\n"
     ]
    },
    {
     "name": "stderr",
     "output_type": "stream",
     "text": [
      "\u001b[32m[I 2021-12-30 16:56:28,860]\u001b[0m Trial 88 finished with value: 0.7938189845474615 and parameters: {'kernel': 'rbf', 'C': 539.8960018168276, 'gamma': 0.025872767048144948}. Best is trial 1 with value: 0.7938189845474615.\u001b[0m\n"
     ]
    },
    {
     "name": "stdout",
     "output_type": "stream",
     "text": [
      "train_acc: 0.9988942639944713\n",
      "val_acc: 0.8171270718232044\n",
      "test_acc: 0.7938189845474615\n"
     ]
    },
    {
     "name": "stderr",
     "output_type": "stream",
     "text": [
      "\u001b[32m[I 2021-12-30 16:56:30,056]\u001b[0m Trial 89 finished with value: 0.7920529801324503 and parameters: {'kernel': 'rbf', 'C': 540.5773600211274, 'gamma': 0.021912250037756785}. Best is trial 1 with value: 0.7938189845474615.\u001b[0m\n"
     ]
    },
    {
     "name": "stdout",
     "output_type": "stream",
     "text": [
      "train_acc: 0.9986178299930891\n",
      "val_acc: 0.8215469613259667\n",
      "test_acc: 0.7920529801324503\n"
     ]
    },
    {
     "name": "stderr",
     "output_type": "stream",
     "text": [
      "\u001b[32m[I 2021-12-30 16:56:31,380]\u001b[0m Trial 90 finished with value: 0.7933774834437086 and parameters: {'kernel': 'rbf', 'C': 518.5150100778832, 'gamma': 0.02721502760968856}. Best is trial 1 with value: 0.7938189845474615.\u001b[0m\n"
     ]
    },
    {
     "name": "stdout",
     "output_type": "stream",
     "text": [
      "train_acc: 0.9988942639944713\n",
      "val_acc: 0.8127071823204419\n",
      "test_acc: 0.7933774834437086\n"
     ]
    },
    {
     "name": "stderr",
     "output_type": "stream",
     "text": [
      "\u001b[32m[I 2021-12-30 16:56:32,711]\u001b[0m Trial 91 finished with value: 0.7933774834437086 and parameters: {'kernel': 'rbf', 'C': 531.4388943192283, 'gamma': 0.02715567042461953}. Best is trial 1 with value: 0.7938189845474615.\u001b[0m\n"
     ]
    },
    {
     "name": "stdout",
     "output_type": "stream",
     "text": [
      "train_acc: 0.9988942639944713\n",
      "val_acc: 0.8127071823204419\n",
      "test_acc: 0.7933774834437086\n"
     ]
    },
    {
     "name": "stderr",
     "output_type": "stream",
     "text": [
      "\u001b[32m[I 2021-12-30 16:56:34,142]\u001b[0m Trial 92 finished with value: 0.7933774834437086 and parameters: {'kernel': 'rbf', 'C': 562.1011496583619, 'gamma': 0.02475262166927031}. Best is trial 1 with value: 0.7938189845474615.\u001b[0m\n"
     ]
    },
    {
     "name": "stdout",
     "output_type": "stream",
     "text": [
      "train_acc: 0.9988942639944713\n",
      "val_acc: 0.8182320441988951\n",
      "test_acc: 0.7933774834437086\n"
     ]
    },
    {
     "name": "stderr",
     "output_type": "stream",
     "text": [
      "\u001b[32m[I 2021-12-30 16:56:35,503]\u001b[0m Trial 93 finished with value: 0.7933774834437086 and parameters: {'kernel': 'rbf', 'C': 583.8707132456979, 'gamma': 0.027999477829863922}. Best is trial 1 with value: 0.7938189845474615.\u001b[0m\n"
     ]
    },
    {
     "name": "stdout",
     "output_type": "stream",
     "text": [
      "train_acc: 0.9988942639944713\n",
      "val_acc: 0.8099447513812155\n",
      "test_acc: 0.7933774834437086\n"
     ]
    },
    {
     "name": "stderr",
     "output_type": "stream",
     "text": [
      "\u001b[32m[I 2021-12-30 16:56:36,694]\u001b[0m Trial 94 finished with value: 0.7929359823399558 and parameters: {'kernel': 'rbf', 'C': 548.8934637945888, 'gamma': 0.02530542980211431}. Best is trial 1 with value: 0.7938189845474615.\u001b[0m\n"
     ]
    },
    {
     "name": "stdout",
     "output_type": "stream",
     "text": [
      "train_acc: 0.9988942639944713\n",
      "val_acc: 0.8160220994475138\n",
      "test_acc: 0.7929359823399558\n"
     ]
    },
    {
     "name": "stderr",
     "output_type": "stream",
     "text": [
      "\u001b[32m[I 2021-12-30 16:56:37,967]\u001b[0m Trial 95 finished with value: 0.7916114790286976 and parameters: {'kernel': 'rbf', 'C': 625.9508282710972, 'gamma': 0.020880475602157642}. Best is trial 1 with value: 0.7938189845474615.\u001b[0m\n"
     ]
    },
    {
     "name": "stdout",
     "output_type": "stream",
     "text": [
      "train_acc: 0.9986178299930891\n",
      "val_acc: 0.8220994475138121\n",
      "test_acc: 0.7916114790286976\n"
     ]
    },
    {
     "name": "stderr",
     "output_type": "stream",
     "text": [
      "\u001b[32m[I 2021-12-30 16:56:39,441]\u001b[0m Trial 96 finished with value: 0.7938189845474615 and parameters: {'kernel': 'rbf', 'C': 635.752415401799, 'gamma': 0.02653097018435561}. Best is trial 1 with value: 0.7938189845474615.\u001b[0m\n"
     ]
    },
    {
     "name": "stdout",
     "output_type": "stream",
     "text": [
      "train_acc: 0.9988942639944713\n",
      "val_acc: 0.8143646408839779\n",
      "test_acc: 0.7938189845474615\n"
     ]
    },
    {
     "name": "stderr",
     "output_type": "stream",
     "text": [
      "\u001b[32m[I 2021-12-30 16:56:40,318]\u001b[0m Trial 97 finished with value: 0.7845474613686534 and parameters: {'kernel': 'poly', 'C': 685.5074448263919, 'gamma': 0.026493744189249633}. Best is trial 1 with value: 0.7938189845474615.\u001b[0m\n"
     ]
    },
    {
     "name": "stdout",
     "output_type": "stream",
     "text": [
      "train_acc: 0.9973738769868692\n",
      "val_acc: 0.7933701657458563\n",
      "test_acc: 0.7845474613686534\n"
     ]
    },
    {
     "name": "stderr",
     "output_type": "stream",
     "text": [
      "\u001b[32m[I 2021-12-30 16:56:41,702]\u001b[0m Trial 98 finished with value: 0.7933774834437086 and parameters: {'kernel': 'rbf', 'C': 671.8557216269115, 'gamma': 0.02422285019956266}. Best is trial 1 with value: 0.7938189845474615.\u001b[0m\n"
     ]
    },
    {
     "name": "stdout",
     "output_type": "stream",
     "text": [
      "train_acc: 0.9988942639944713\n",
      "val_acc: 0.8198895027624309\n",
      "test_acc: 0.7933774834437086\n"
     ]
    },
    {
     "name": "stderr",
     "output_type": "stream",
     "text": [
      "\u001b[32m[I 2021-12-30 16:56:43,033]\u001b[0m Trial 99 finished with value: 0.7938189845474615 and parameters: {'kernel': 'rbf', 'C': 648.6813852453076, 'gamma': 0.026607194149501287}. Best is trial 1 with value: 0.7938189845474615.\u001b[0m\n"
     ]
    },
    {
     "name": "stdout",
     "output_type": "stream",
     "text": [
      "train_acc: 0.9988942639944713\n",
      "val_acc: 0.8132596685082873\n",
      "test_acc: 0.7938189845474615\n"
     ]
    },
    {
     "name": "stderr",
     "output_type": "stream",
     "text": [
      "\u001b[32m[I 2021-12-30 16:56:44,352]\u001b[0m Trial 100 finished with value: 0.792494481236203 and parameters: {'kernel': 'rbf', 'C': 603.1985984675235, 'gamma': 0.02317510551713586}. Best is trial 1 with value: 0.7938189845474615.\u001b[0m\n"
     ]
    },
    {
     "name": "stdout",
     "output_type": "stream",
     "text": [
      "train_acc: 0.9987560469937803\n",
      "val_acc: 0.8209944751381215\n",
      "test_acc: 0.792494481236203\n"
     ]
    },
    {
     "name": "stderr",
     "output_type": "stream",
     "text": [
      "\u001b[32m[I 2021-12-30 16:56:45,744]\u001b[0m Trial 101 finished with value: 0.7933774834437086 and parameters: {'kernel': 'rbf', 'C': 622.2354976632904, 'gamma': 0.025556224443460986}. Best is trial 1 with value: 0.7938189845474615.\u001b[0m\n"
     ]
    },
    {
     "name": "stdout",
     "output_type": "stream",
     "text": [
      "train_acc: 0.9988942639944713\n",
      "val_acc: 0.816574585635359\n",
      "test_acc: 0.7933774834437086\n"
     ]
    },
    {
     "name": "stderr",
     "output_type": "stream",
     "text": [
      "\u001b[32m[I 2021-12-30 16:56:47,022]\u001b[0m Trial 102 finished with value: 0.7938189845474615 and parameters: {'kernel': 'rbf', 'C': 580.0779640596771, 'gamma': 0.025987080387816698}. Best is trial 1 with value: 0.7938189845474615.\u001b[0m\n"
     ]
    },
    {
     "name": "stdout",
     "output_type": "stream",
     "text": [
      "train_acc: 0.9988942639944713\n",
      "val_acc: 0.8160220994475139\n",
      "test_acc: 0.7938189845474615\n"
     ]
    },
    {
     "name": "stderr",
     "output_type": "stream",
     "text": [
      "\u001b[32m[I 2021-12-30 16:56:48,424]\u001b[0m Trial 103 finished with value: 0.7933774834437086 and parameters: {'kernel': 'rbf', 'C': 570.3486673439282, 'gamma': 0.02748128713223059}. Best is trial 1 with value: 0.7938189845474615.\u001b[0m\n"
     ]
    },
    {
     "name": "stdout",
     "output_type": "stream",
     "text": [
      "train_acc: 0.9988942639944713\n",
      "val_acc: 0.8127071823204419\n",
      "test_acc: 0.7933774834437086\n"
     ]
    },
    {
     "name": "stderr",
     "output_type": "stream",
     "text": [
      "\u001b[32m[I 2021-12-30 16:56:49,970]\u001b[0m Trial 104 finished with value: 0.7916114790286976 and parameters: {'kernel': 'rbf', 'C': 590.3191684487065, 'gamma': 0.036746837377850256}. Best is trial 1 with value: 0.7938189845474615.\u001b[0m\n"
     ]
    },
    {
     "name": "stdout",
     "output_type": "stream",
     "text": [
      "train_acc: 0.9994471319972357\n",
      "val_acc: 0.8022099447513812\n",
      "test_acc: 0.7916114790286976\n"
     ]
    },
    {
     "name": "stderr",
     "output_type": "stream",
     "text": [
      "\u001b[32m[I 2021-12-30 16:56:51,352]\u001b[0m Trial 105 finished with value: 0.792494481236203 and parameters: {'kernel': 'rbf', 'C': 592.1968053145579, 'gamma': 0.028944093305620124}. Best is trial 1 with value: 0.7938189845474615.\u001b[0m\n"
     ]
    },
    {
     "name": "stdout",
     "output_type": "stream",
     "text": [
      "train_acc: 0.9990324809951623\n",
      "val_acc: 0.8099447513812155\n",
      "test_acc: 0.792494481236203\n"
     ]
    },
    {
     "name": "stderr",
     "output_type": "stream",
     "text": [
      "\u001b[32m[I 2021-12-30 16:56:52,615]\u001b[0m Trial 106 finished with value: 0.7929359823399558 and parameters: {'kernel': 'rbf', 'C': 573.2671841594204, 'gamma': 0.02516741612663332}. Best is trial 1 with value: 0.7938189845474615.\u001b[0m\n"
     ]
    },
    {
     "name": "stdout",
     "output_type": "stream",
     "text": [
      "train_acc: 0.9988942639944713\n",
      "val_acc: 0.8154696132596684\n",
      "test_acc: 0.7929359823399558\n"
     ]
    },
    {
     "name": "stderr",
     "output_type": "stream",
     "text": [
      "\u001b[32m[I 2021-12-30 16:56:53,969]\u001b[0m Trial 107 finished with value: 0.7933774834437086 and parameters: {'kernel': 'rbf', 'C': 608.6575736150993, 'gamma': 0.028165351654494287}. Best is trial 1 with value: 0.7938189845474615.\u001b[0m\n"
     ]
    },
    {
     "name": "stdout",
     "output_type": "stream",
     "text": [
      "train_acc: 0.9990324809951623\n",
      "val_acc: 0.8104972375690608\n",
      "test_acc: 0.7933774834437086\n"
     ]
    },
    {
     "name": "stderr",
     "output_type": "stream",
     "text": [
      "\u001b[32m[I 2021-12-30 16:56:55,404]\u001b[0m Trial 108 finished with value: 0.7938189845474615 and parameters: {'kernel': 'rbf', 'C': 527.9366292751914, 'gamma': 0.02703261906275544}. Best is trial 1 with value: 0.7938189845474615.\u001b[0m\n"
     ]
    },
    {
     "name": "stdout",
     "output_type": "stream",
     "text": [
      "train_acc: 0.9988942639944713\n",
      "val_acc: 0.8132596685082873\n",
      "test_acc: 0.7938189845474615\n"
     ]
    },
    {
     "name": "stderr",
     "output_type": "stream",
     "text": [
      "\u001b[32m[I 2021-12-30 16:56:56,742]\u001b[0m Trial 109 finished with value: 0.7933774834437086 and parameters: {'kernel': 'rbf', 'C': 617.4764809953508, 'gamma': 0.029700205057374206}. Best is trial 1 with value: 0.7938189845474615.\u001b[0m\n"
     ]
    },
    {
     "name": "stdout",
     "output_type": "stream",
     "text": [
      "train_acc: 0.9990324809951623\n",
      "val_acc: 0.8116022099447514\n",
      "test_acc: 0.7933774834437086\n"
     ]
    },
    {
     "name": "stderr",
     "output_type": "stream",
     "text": [
      "\u001b[32m[I 2021-12-30 16:56:57,722]\u001b[0m Trial 110 finished with value: 0.7823399558498896 and parameters: {'kernel': 'poly', 'C': 632.7862867896944, 'gamma': 0.02474932985102262}. Best is trial 1 with value: 0.7938189845474615.\u001b[0m\n"
     ]
    },
    {
     "name": "stdout",
     "output_type": "stream",
     "text": [
      "train_acc: 0.9961299239806497\n",
      "val_acc: 0.7922651933701657\n",
      "test_acc: 0.7823399558498896\n"
     ]
    },
    {
     "name": "stderr",
     "output_type": "stream",
     "text": [
      "\u001b[32m[I 2021-12-30 16:56:59,262]\u001b[0m Trial 111 finished with value: 0.7929359823399558 and parameters: {'kernel': 'rbf', 'C': 554.5988232661862, 'gamma': 0.02547477045637055}. Best is trial 1 with value: 0.7938189845474615.\u001b[0m\n"
     ]
    },
    {
     "name": "stdout",
     "output_type": "stream",
     "text": [
      "train_acc: 0.9988942639944713\n",
      "val_acc: 0.816574585635359\n",
      "test_acc: 0.7929359823399558\n"
     ]
    },
    {
     "name": "stderr",
     "output_type": "stream",
     "text": [
      "\u001b[32m[I 2021-12-30 16:57:00,731]\u001b[0m Trial 112 finished with value: 0.7933774834437086 and parameters: {'kernel': 'rbf', 'C': 692.3919294001998, 'gamma': 0.02402444560922483}. Best is trial 1 with value: 0.7938189845474615.\u001b[0m\n"
     ]
    },
    {
     "name": "stdout",
     "output_type": "stream",
     "text": [
      "train_acc: 0.9988942639944713\n",
      "val_acc: 0.8204419889502763\n",
      "test_acc: 0.7933774834437086\n"
     ]
    },
    {
     "name": "stderr",
     "output_type": "stream",
     "text": [
      "\u001b[32m[I 2021-12-30 16:57:02,134]\u001b[0m Trial 113 finished with value: 0.7938189845474615 and parameters: {'kernel': 'rbf', 'C': 644.3323788363755, 'gamma': 0.02670837910474452}. Best is trial 1 with value: 0.7938189845474615.\u001b[0m\n"
     ]
    },
    {
     "name": "stdout",
     "output_type": "stream",
     "text": [
      "train_acc: 0.9988942639944713\n",
      "val_acc: 0.8132596685082873\n",
      "test_acc: 0.7938189845474615\n"
     ]
    },
    {
     "name": "stderr",
     "output_type": "stream",
     "text": [
      "\u001b[32m[I 2021-12-30 16:57:03,472]\u001b[0m Trial 114 finished with value: 0.7933774834437086 and parameters: {'kernel': 'rbf', 'C': 661.7980652026798, 'gamma': 0.027971168307198785}. Best is trial 1 with value: 0.7938189845474615.\u001b[0m\n"
     ]
    },
    {
     "name": "stdout",
     "output_type": "stream",
     "text": [
      "train_acc: 0.9990324809951623\n",
      "val_acc: 0.80939226519337\n",
      "test_acc: 0.7933774834437086\n"
     ]
    },
    {
     "name": "stderr",
     "output_type": "stream",
     "text": [
      "\u001b[32m[I 2021-12-30 16:57:05,001]\u001b[0m Trial 115 finished with value: 0.7938189845474615 and parameters: {'kernel': 'rbf', 'C': 499.57849544603675, 'gamma': 0.027043399373558562}. Best is trial 1 with value: 0.7938189845474615.\u001b[0m\n"
     ]
    },
    {
     "name": "stdout",
     "output_type": "stream",
     "text": [
      "train_acc: 0.9988942639944713\n",
      "val_acc: 0.8143646408839779\n",
      "test_acc: 0.7938189845474615\n"
     ]
    },
    {
     "name": "stderr",
     "output_type": "stream",
     "text": [
      "\u001b[32m[I 2021-12-30 16:57:06,411]\u001b[0m Trial 116 finished with value: 0.7929359823399558 and parameters: {'kernel': 'rbf', 'C': 499.10765241047795, 'gamma': 0.028583137552845736}. Best is trial 1 with value: 0.7938189845474615.\u001b[0m\n"
     ]
    },
    {
     "name": "stdout",
     "output_type": "stream",
     "text": [
      "train_acc: 0.9988942639944713\n",
      "val_acc: 0.8104972375690608\n",
      "test_acc: 0.7929359823399558\n"
     ]
    },
    {
     "name": "stderr",
     "output_type": "stream",
     "text": [
      "\u001b[32m[I 2021-12-30 16:57:07,736]\u001b[0m Trial 117 finished with value: 0.7938189845474615 and parameters: {'kernel': 'rbf', 'C': 566.4570367535076, 'gamma': 0.026221141152563243}. Best is trial 1 with value: 0.7938189845474615.\u001b[0m\n"
     ]
    },
    {
     "name": "stdout",
     "output_type": "stream",
     "text": [
      "train_acc: 0.9988942639944713\n",
      "val_acc: 0.8143646408839779\n",
      "test_acc: 0.7938189845474615\n"
     ]
    },
    {
     "name": "stderr",
     "output_type": "stream",
     "text": [
      "\u001b[32m[I 2021-12-30 16:57:09,059]\u001b[0m Trial 118 finished with value: 0.7938189845474615 and parameters: {'kernel': 'rbf', 'C': 559.914628173209, 'gamma': 0.025922273797806154}. Best is trial 1 with value: 0.7938189845474615.\u001b[0m\n"
     ]
    },
    {
     "name": "stdout",
     "output_type": "stream",
     "text": [
      "train_acc: 0.9988942639944713\n",
      "val_acc: 0.8149171270718231\n",
      "test_acc: 0.7938189845474615\n"
     ]
    },
    {
     "name": "stderr",
     "output_type": "stream",
     "text": [
      "\u001b[32m[I 2021-12-30 16:57:10,410]\u001b[0m Trial 119 finished with value: 0.7938189845474615 and parameters: {'kernel': 'rbf', 'C': 599.6165443476867, 'gamma': 0.026271411354002943}. Best is trial 1 with value: 0.7938189845474615.\u001b[0m\n"
     ]
    },
    {
     "name": "stdout",
     "output_type": "stream",
     "text": [
      "train_acc: 0.9988942639944713\n",
      "val_acc: 0.8143646408839779\n",
      "test_acc: 0.7938189845474615\n"
     ]
    },
    {
     "name": "stderr",
     "output_type": "stream",
     "text": [
      "\u001b[32m[I 2021-12-30 16:57:11,868]\u001b[0m Trial 120 finished with value: 0.7929359823399558 and parameters: {'kernel': 'rbf', 'C': 542.3890100980019, 'gamma': 0.024431371769107854}. Best is trial 1 with value: 0.7938189845474615.\u001b[0m\n"
     ]
    },
    {
     "name": "stdout",
     "output_type": "stream",
     "text": [
      "train_acc: 0.9987560469937803\n",
      "val_acc: 0.8193370165745856\n",
      "test_acc: 0.7929359823399558\n"
     ]
    },
    {
     "name": "stderr",
     "output_type": "stream",
     "text": [
      "\u001b[32m[I 2021-12-30 16:57:13,216]\u001b[0m Trial 121 finished with value: 0.7938189845474615 and parameters: {'kernel': 'rbf', 'C': 649.4976350136943, 'gamma': 0.02674631982568255}. Best is trial 1 with value: 0.7938189845474615.\u001b[0m\n"
     ]
    },
    {
     "name": "stdout",
     "output_type": "stream",
     "text": [
      "train_acc: 0.9988942639944713\n",
      "val_acc: 0.8127071823204421\n",
      "test_acc: 0.7938189845474615\n"
     ]
    },
    {
     "name": "stderr",
     "output_type": "stream",
     "text": [
      "\u001b[32m[I 2021-12-30 16:57:14,574]\u001b[0m Trial 122 finished with value: 0.7933774834437086 and parameters: {'kernel': 'rbf', 'C': 636.8204163007414, 'gamma': 0.027515880608025914}. Best is trial 1 with value: 0.7938189845474615.\u001b[0m\n"
     ]
    },
    {
     "name": "stdout",
     "output_type": "stream",
     "text": [
      "train_acc: 0.9990324809951623\n",
      "val_acc: 0.8110497237569062\n",
      "test_acc: 0.7933774834437086\n"
     ]
    },
    {
     "name": "stderr",
     "output_type": "stream",
     "text": [
      "\u001b[32m[I 2021-12-30 16:57:15,923]\u001b[0m Trial 123 finished with value: 0.7929359823399558 and parameters: {'kernel': 'rbf', 'C': 579.8670039277898, 'gamma': 0.02525758982294083}. Best is trial 1 with value: 0.7938189845474615.\u001b[0m\n"
     ]
    },
    {
     "name": "stdout",
     "output_type": "stream",
     "text": [
      "train_acc: 0.9988942639944713\n",
      "val_acc: 0.8149171270718231\n",
      "test_acc: 0.7929359823399558\n"
     ]
    },
    {
     "name": "stderr",
     "output_type": "stream",
     "text": [
      "\u001b[32m[I 2021-12-30 16:57:17,282]\u001b[0m Trial 124 finished with value: 0.792494481236203 and parameters: {'kernel': 'rbf', 'C': 554.9309779550947, 'gamma': 0.023456658806717063}. Best is trial 1 with value: 0.7938189845474615.\u001b[0m\n"
     ]
    },
    {
     "name": "stdout",
     "output_type": "stream",
     "text": [
      "train_acc: 0.9987560469937803\n",
      "val_acc: 0.8193370165745856\n",
      "test_acc: 0.792494481236203\n"
     ]
    },
    {
     "name": "stderr",
     "output_type": "stream",
     "text": [
      "\u001b[32m[I 2021-12-30 16:57:18,734]\u001b[0m Trial 125 finished with value: 0.7933774834437086 and parameters: {'kernel': 'rbf', 'C': 564.7460701365469, 'gamma': 0.027808190592667488}. Best is trial 1 with value: 0.7938189845474615.\u001b[0m\n"
     ]
    },
    {
     "name": "stdout",
     "output_type": "stream",
     "text": [
      "train_acc: 0.9988942639944713\n",
      "val_acc: 0.8104972375690608\n",
      "test_acc: 0.7933774834437086\n"
     ]
    },
    {
     "name": "stderr",
     "output_type": "stream",
     "text": [
      "\u001b[32m[I 2021-12-30 16:57:20,017]\u001b[0m Trial 126 finished with value: 0.7938189845474615 and parameters: {'kernel': 'rbf', 'C': 576.585944812321, 'gamma': 0.025771583692355864}. Best is trial 1 with value: 0.7938189845474615.\u001b[0m\n"
     ]
    },
    {
     "name": "stdout",
     "output_type": "stream",
     "text": [
      "train_acc: 0.9988942639944713\n",
      "val_acc: 0.8171270718232044\n",
      "test_acc: 0.7938189845474615\n"
     ]
    },
    {
     "name": "stderr",
     "output_type": "stream",
     "text": [
      "\u001b[32m[I 2021-12-30 16:57:21,362]\u001b[0m Trial 127 finished with value: 0.7938189845474615 and parameters: {'kernel': 'rbf', 'C': 625.474822109251, 'gamma': 0.02645262217783102}. Best is trial 1 with value: 0.7938189845474615.\u001b[0m\n"
     ]
    },
    {
     "name": "stdout",
     "output_type": "stream",
     "text": [
      "train_acc: 0.9988942639944713\n",
      "val_acc: 0.8143646408839779\n",
      "test_acc: 0.7938189845474615\n"
     ]
    },
    {
     "name": "stderr",
     "output_type": "stream",
     "text": [
      "\u001b[32m[I 2021-12-30 16:57:22,776]\u001b[0m Trial 128 finished with value: 0.7933774834437086 and parameters: {'kernel': 'rbf', 'C': 611.2005300369257, 'gamma': 0.02466068454428543}. Best is trial 1 with value: 0.7938189845474615.\u001b[0m\n"
     ]
    },
    {
     "name": "stdout",
     "output_type": "stream",
     "text": [
      "train_acc: 0.9988942639944713\n",
      "val_acc: 0.8187845303867404\n",
      "test_acc: 0.7933774834437086\n"
     ]
    },
    {
     "name": "stderr",
     "output_type": "stream",
     "text": [
      "\u001b[32m[I 2021-12-30 16:57:24,163]\u001b[0m Trial 129 finished with value: 0.7938189845474615 and parameters: {'kernel': 'rbf', 'C': 535.5736659542205, 'gamma': 0.025926647611668772}. Best is trial 1 with value: 0.7938189845474615.\u001b[0m\n"
     ]
    },
    {
     "name": "stdout",
     "output_type": "stream",
     "text": [
      "train_acc: 0.9988942639944713\n",
      "val_acc: 0.8160220994475139\n",
      "test_acc: 0.7938189845474615\n"
     ]
    },
    {
     "name": "stderr",
     "output_type": "stream",
     "text": [
      "\u001b[32m[I 2021-12-30 16:57:25,159]\u001b[0m Trial 130 finished with value: 0.7823399558498896 and parameters: {'kernel': 'poly', 'C': 534.1854235615457, 'gamma': 0.025535326807117762}. Best is trial 1 with value: 0.7938189845474615.\u001b[0m\n"
     ]
    },
    {
     "name": "stdout",
     "output_type": "stream",
     "text": [
      "train_acc: 0.9959917069799585\n",
      "val_acc: 0.7955801104972376\n",
      "test_acc: 0.7823399558498896\n"
     ]
    },
    {
     "name": "stderr",
     "output_type": "stream",
     "text": [
      "\u001b[32m[I 2021-12-30 16:57:26,604]\u001b[0m Trial 131 finished with value: 0.7938189845474615 and parameters: {'kernel': 'rbf', 'C': 648.6466267456576, 'gamma': 0.026835939496630795}. Best is trial 1 with value: 0.7938189845474615.\u001b[0m\n"
     ]
    },
    {
     "name": "stdout",
     "output_type": "stream",
     "text": [
      "train_acc: 0.9988942639944713\n",
      "val_acc: 0.8132596685082873\n",
      "test_acc: 0.7938189845474615\n"
     ]
    },
    {
     "name": "stderr",
     "output_type": "stream",
     "text": [
      "\u001b[32m[I 2021-12-30 16:57:28,518]\u001b[0m Trial 132 finished with value: 0.7929359823399559 and parameters: {'kernel': 'rbf', 'C': 464.78860974613315, 'gamma': 0.02719291365063711}. Best is trial 1 with value: 0.7938189845474615.\u001b[0m\n"
     ]
    },
    {
     "name": "stdout",
     "output_type": "stream",
     "text": [
      "train_acc: 0.9987560469937803\n",
      "val_acc: 0.8138121546961326\n",
      "test_acc: 0.7929359823399559\n"
     ]
    },
    {
     "name": "stderr",
     "output_type": "stream",
     "text": [
      "\u001b[32m[I 2021-12-30 16:57:30,068]\u001b[0m Trial 133 finished with value: 0.7938189845474615 and parameters: {'kernel': 'rbf', 'C': 660.4794264068204, 'gamma': 0.026538569904442037}. Best is trial 1 with value: 0.7938189845474615.\u001b[0m\n"
     ]
    },
    {
     "name": "stdout",
     "output_type": "stream",
     "text": [
      "train_acc: 0.9988942639944713\n",
      "val_acc: 0.8127071823204421\n",
      "test_acc: 0.7938189845474615\n"
     ]
    },
    {
     "name": "stderr",
     "output_type": "stream",
     "text": [
      "\u001b[32m[I 2021-12-30 16:57:32,071]\u001b[0m Trial 134 finished with value: 0.7933774834437086 and parameters: {'kernel': 'rbf', 'C': 475.4667095312871, 'gamma': 0.027247133025267035}. Best is trial 1 with value: 0.7938189845474615.\u001b[0m\n"
     ]
    },
    {
     "name": "stdout",
     "output_type": "stream",
     "text": [
      "train_acc: 0.9988942639944713\n",
      "val_acc: 0.8138121546961326\n",
      "test_acc: 0.7933774834437086\n"
     ]
    },
    {
     "name": "stderr",
     "output_type": "stream",
     "text": [
      "\u001b[32m[I 2021-12-30 16:57:33,799]\u001b[0m Trial 135 finished with value: 0.7929359823399558 and parameters: {'kernel': 'rbf', 'C': 617.0065708207762, 'gamma': 0.025053434126553153}. Best is trial 1 with value: 0.7938189845474615.\u001b[0m\n"
     ]
    },
    {
     "name": "stdout",
     "output_type": "stream",
     "text": [
      "train_acc: 0.9988942639944713\n",
      "val_acc: 0.8160220994475138\n",
      "test_acc: 0.7929359823399558\n"
     ]
    },
    {
     "name": "stderr",
     "output_type": "stream",
     "text": [
      "\u001b[32m[I 2021-12-30 16:57:35,160]\u001b[0m Trial 136 finished with value: 0.792494481236203 and parameters: {'kernel': 'rbf', 'C': 527.6046089367653, 'gamma': 0.029095091627477723}. Best is trial 1 with value: 0.7938189845474615.\u001b[0m\n"
     ]
    },
    {
     "name": "stdout",
     "output_type": "stream",
     "text": [
      "train_acc: 0.9988942639944713\n",
      "val_acc: 0.8088397790055248\n",
      "test_acc: 0.792494481236203\n"
     ]
    },
    {
     "name": "stderr",
     "output_type": "stream",
     "text": [
      "\u001b[32m[I 2021-12-30 16:57:36,535]\u001b[0m Trial 137 finished with value: 0.7933774834437086 and parameters: {'kernel': 'rbf', 'C': 551.145203056797, 'gamma': 0.027128437040802863}. Best is trial 1 with value: 0.7938189845474615.\u001b[0m\n"
     ]
    },
    {
     "name": "stdout",
     "output_type": "stream",
     "text": [
      "train_acc: 0.9988942639944713\n",
      "val_acc: 0.8132596685082873\n",
      "test_acc: 0.7933774834437086\n"
     ]
    },
    {
     "name": "stderr",
     "output_type": "stream",
     "text": [
      "\u001b[32m[I 2021-12-30 16:57:38,044]\u001b[0m Trial 138 finished with value: 0.7933774834437086 and parameters: {'kernel': 'rbf', 'C': 586.3685965388737, 'gamma': 0.025527524625740785}. Best is trial 1 with value: 0.7938189845474615.\u001b[0m\n"
     ]
    },
    {
     "name": "stdout",
     "output_type": "stream",
     "text": [
      "train_acc: 0.9988942639944713\n",
      "val_acc: 0.816574585635359\n",
      "test_acc: 0.7933774834437086\n"
     ]
    },
    {
     "name": "stderr",
     "output_type": "stream",
     "text": [
      "\u001b[32m[I 2021-12-30 16:57:40,207]\u001b[0m Trial 139 finished with value: 0.7938189845474615 and parameters: {'kernel': 'rbf', 'C': 575.7562433710528, 'gamma': 0.025927851639882003}. Best is trial 1 with value: 0.7938189845474615.\u001b[0m\n"
     ]
    },
    {
     "name": "stdout",
     "output_type": "stream",
     "text": [
      "train_acc: 0.9988942639944713\n",
      "val_acc: 0.8154696132596684\n",
      "test_acc: 0.7938189845474615\n"
     ]
    },
    {
     "name": "stderr",
     "output_type": "stream",
     "text": [
      "\u001b[32m[I 2021-12-30 16:57:41,691]\u001b[0m Trial 140 finished with value: 0.7929359823399558 and parameters: {'kernel': 'rbf', 'C': 598.2226722593325, 'gamma': 0.023799782403320306}. Best is trial 1 with value: 0.7938189845474615.\u001b[0m\n"
     ]
    },
    {
     "name": "stdout",
     "output_type": "stream",
     "text": [
      "train_acc: 0.9988942639944713\n",
      "val_acc: 0.8209944751381215\n",
      "test_acc: 0.7929359823399558\n"
     ]
    },
    {
     "name": "stderr",
     "output_type": "stream",
     "text": [
      "\u001b[32m[I 2021-12-30 16:57:43,519]\u001b[0m Trial 141 finished with value: 0.7933774834437086 and parameters: {'kernel': 'rbf', 'C': 513.004955744412, 'gamma': 0.028308318091236857}. Best is trial 1 with value: 0.7938189845474615.\u001b[0m\n"
     ]
    },
    {
     "name": "stdout",
     "output_type": "stream",
     "text": [
      "train_acc: 0.9988942639944713\n",
      "val_acc: 0.8099447513812155\n",
      "test_acc: 0.7933774834437086\n"
     ]
    },
    {
     "name": "stderr",
     "output_type": "stream",
     "text": [
      "\u001b[32m[I 2021-12-30 16:57:45,239]\u001b[0m Trial 142 finished with value: 0.7938189845474615 and parameters: {'kernel': 'rbf', 'C': 669.7422380149073, 'gamma': 0.026185481618731344}. Best is trial 1 with value: 0.7938189845474615.\u001b[0m\n"
     ]
    },
    {
     "name": "stdout",
     "output_type": "stream",
     "text": [
      "train_acc: 0.9988942639944713\n",
      "val_acc: 0.8127071823204421\n",
      "test_acc: 0.7938189845474615\n"
     ]
    },
    {
     "name": "stderr",
     "output_type": "stream",
     "text": [
      "\u001b[32m[I 2021-12-30 16:57:46,722]\u001b[0m Trial 143 finished with value: 0.7938189845474615 and parameters: {'kernel': 'rbf', 'C': 637.0400052242328, 'gamma': 0.026479056544659575}. Best is trial 1 with value: 0.7938189845474615.\u001b[0m\n"
     ]
    },
    {
     "name": "stdout",
     "output_type": "stream",
     "text": [
      "train_acc: 0.9988942639944713\n",
      "val_acc: 0.8143646408839779\n",
      "test_acc: 0.7938189845474615\n"
     ]
    },
    {
     "name": "stderr",
     "output_type": "stream",
     "text": [
      "\u001b[32m[I 2021-12-30 16:57:48,137]\u001b[0m Trial 144 finished with value: 0.7938189845474615 and parameters: {'kernel': 'rbf', 'C': 629.6437893803011, 'gamma': 0.026142997946194752}. Best is trial 1 with value: 0.7938189845474615.\u001b[0m\n"
     ]
    },
    {
     "name": "stdout",
     "output_type": "stream",
     "text": [
      "train_acc: 0.9988942639944713\n",
      "val_acc: 0.8143646408839779\n",
      "test_acc: 0.7938189845474615\n"
     ]
    },
    {
     "name": "stderr",
     "output_type": "stream",
     "text": [
      "\u001b[32m[I 2021-12-30 16:57:49,595]\u001b[0m Trial 145 finished with value: 0.7933774834437086 and parameters: {'kernel': 'rbf', 'C': 675.2499105102075, 'gamma': 0.027915254140095266}. Best is trial 1 with value: 0.7938189845474615.\u001b[0m\n"
     ]
    },
    {
     "name": "stdout",
     "output_type": "stream",
     "text": [
      "train_acc: 0.9990324809951623\n",
      "val_acc: 0.80939226519337\n",
      "test_acc: 0.7933774834437086\n"
     ]
    },
    {
     "name": "stderr",
     "output_type": "stream",
     "text": [
      "\u001b[32m[I 2021-12-30 16:57:51,226]\u001b[0m Trial 146 finished with value: 0.7933774834437086 and parameters: {'kernel': 'rbf', 'C': 580.6654405915737, 'gamma': 0.024809487227362582}. Best is trial 1 with value: 0.7938189845474615.\u001b[0m\n"
     ]
    },
    {
     "name": "stdout",
     "output_type": "stream",
     "text": [
      "train_acc: 0.9988942639944713\n",
      "val_acc: 0.8176795580110496\n",
      "test_acc: 0.7933774834437086\n"
     ]
    },
    {
     "name": "stderr",
     "output_type": "stream",
     "text": [
      "\u001b[32m[I 2021-12-30 16:57:52,572]\u001b[0m Trial 147 finished with value: 0.7938189845474615 and parameters: {'kernel': 'rbf', 'C': 562.5811247569313, 'gamma': 0.026922726615967212}. Best is trial 1 with value: 0.7938189845474615.\u001b[0m\n"
     ]
    },
    {
     "name": "stdout",
     "output_type": "stream",
     "text": [
      "train_acc: 0.9988942639944713\n",
      "val_acc: 0.8143646408839779\n",
      "test_acc: 0.7938189845474615\n"
     ]
    },
    {
     "name": "stderr",
     "output_type": "stream",
     "text": [
      "\u001b[32m[I 2021-12-30 16:57:53,967]\u001b[0m Trial 148 finished with value: 0.7933774834437086 and parameters: {'kernel': 'rbf', 'C': 544.6081364360889, 'gamma': 0.027168109964722086}. Best is trial 1 with value: 0.7938189845474615.\u001b[0m\n"
     ]
    },
    {
     "name": "stdout",
     "output_type": "stream",
     "text": [
      "train_acc: 0.9988942639944713\n",
      "val_acc: 0.8132596685082873\n",
      "test_acc: 0.7933774834437086\n"
     ]
    },
    {
     "name": "stderr",
     "output_type": "stream",
     "text": [
      "\u001b[32m[I 2021-12-30 16:57:56,077]\u001b[0m Trial 149 finished with value: 0.7933774834437086 and parameters: {'kernel': 'rbf', 'C': 644.2676146835103, 'gamma': 0.028306123940773094}. Best is trial 1 with value: 0.7938189845474615.\u001b[0m\n"
     ]
    },
    {
     "name": "stdout",
     "output_type": "stream",
     "text": [
      "train_acc: 0.9990324809951623\n",
      "val_acc: 0.8104972375690608\n",
      "test_acc: 0.7933774834437086\n"
     ]
    },
    {
     "name": "stderr",
     "output_type": "stream",
     "text": [
      "\u001b[32m[I 2021-12-30 16:57:58,117]\u001b[0m Trial 150 finished with value: 0.7938189845474615 and parameters: {'kernel': 'rbf', 'C': 557.4882402004938, 'gamma': 0.026044376978109934}. Best is trial 1 with value: 0.7938189845474615.\u001b[0m\n"
     ]
    },
    {
     "name": "stdout",
     "output_type": "stream",
     "text": [
      "train_acc: 0.9988942639944713\n",
      "val_acc: 0.8143646408839779\n",
      "test_acc: 0.7938189845474615\n"
     ]
    },
    {
     "name": "stderr",
     "output_type": "stream",
     "text": [
      "\u001b[32m[I 2021-12-30 16:57:59,688]\u001b[0m Trial 151 finished with value: 0.7938189845474615 and parameters: {'kernel': 'rbf', 'C': 558.0852860201169, 'gamma': 0.02642132461100799}. Best is trial 1 with value: 0.7938189845474615.\u001b[0m\n"
     ]
    },
    {
     "name": "stdout",
     "output_type": "stream",
     "text": [
      "train_acc: 0.9988942639944713\n",
      "val_acc: 0.8149171270718233\n",
      "test_acc: 0.7938189845474615\n"
     ]
    },
    {
     "name": "stderr",
     "output_type": "stream",
     "text": [
      "\u001b[32m[I 2021-12-30 16:58:01,227]\u001b[0m Trial 152 finished with value: 0.7938189845474615 and parameters: {'kernel': 'rbf', 'C': 570.3736438636948, 'gamma': 0.02570124848509193}. Best is trial 1 with value: 0.7938189845474615.\u001b[0m\n"
     ]
    },
    {
     "name": "stdout",
     "output_type": "stream",
     "text": [
      "train_acc: 0.9988942639944713\n",
      "val_acc: 0.816574585635359\n",
      "test_acc: 0.7938189845474615\n"
     ]
    },
    {
     "name": "stderr",
     "output_type": "stream",
     "text": [
      "\u001b[32m[I 2021-12-30 16:58:02,576]\u001b[0m Trial 153 finished with value: 0.7929359823399558 and parameters: {'kernel': 'rbf', 'C': 568.3603081332078, 'gamma': 0.02530324773171429}. Best is trial 1 with value: 0.7938189845474615.\u001b[0m\n"
     ]
    },
    {
     "name": "stdout",
     "output_type": "stream",
     "text": [
      "train_acc: 0.9988942639944713\n",
      "val_acc: 0.8160220994475138\n",
      "test_acc: 0.7929359823399558\n"
     ]
    },
    {
     "name": "stderr",
     "output_type": "stream",
     "text": [
      "\u001b[32m[I 2021-12-30 16:58:03,937]\u001b[0m Trial 154 finished with value: 0.7938189845474615 and parameters: {'kernel': 'rbf', 'C': 651.1070884972784, 'gamma': 0.02668992415578077}. Best is trial 1 with value: 0.7938189845474615.\u001b[0m\n"
     ]
    },
    {
     "name": "stdout",
     "output_type": "stream",
     "text": [
      "train_acc: 0.9988942639944713\n",
      "val_acc: 0.8127071823204421\n",
      "test_acc: 0.7938189845474615\n"
     ]
    },
    {
     "name": "stderr",
     "output_type": "stream",
     "text": [
      "\u001b[32m[I 2021-12-30 16:58:05,527]\u001b[0m Trial 155 finished with value: 0.7933774834437086 and parameters: {'kernel': 'rbf', 'C': 632.9417301171453, 'gamma': 0.024342617368120836}. Best is trial 1 with value: 0.7938189845474615.\u001b[0m\n"
     ]
    },
    {
     "name": "stdout",
     "output_type": "stream",
     "text": [
      "train_acc: 0.9988942639944713\n",
      "val_acc: 0.8198895027624309\n",
      "test_acc: 0.7933774834437086\n"
     ]
    },
    {
     "name": "stderr",
     "output_type": "stream",
     "text": [
      "\u001b[32m[I 2021-12-30 16:58:07,372]\u001b[0m Trial 156 finished with value: 0.7933774834437086 and parameters: {'kernel': 'rbf', 'C': 566.4450188694649, 'gamma': 0.027604589871282083}. Best is trial 1 with value: 0.7938189845474615.\u001b[0m\n"
     ]
    },
    {
     "name": "stdout",
     "output_type": "stream",
     "text": [
      "train_acc: 0.9988942639944713\n",
      "val_acc: 0.8116022099447513\n",
      "test_acc: 0.7933774834437086\n"
     ]
    },
    {
     "name": "stderr",
     "output_type": "stream",
     "text": [
      "\u001b[32m[I 2021-12-30 16:58:08,846]\u001b[0m Trial 157 finished with value: 0.7911699779249448 and parameters: {'kernel': 'rbf', 'C': 582.4863426627554, 'gamma': 0.0138390307726216}. Best is trial 1 with value: 0.7938189845474615.\u001b[0m\n"
     ]
    },
    {
     "name": "stdout",
     "output_type": "stream",
     "text": [
      "train_acc: 0.9941948859709744\n",
      "val_acc: 0.8292817679558011\n",
      "test_acc: 0.7911699779249448\n"
     ]
    },
    {
     "name": "stderr",
     "output_type": "stream",
     "text": [
      "\u001b[32m[I 2021-12-30 16:58:10,698]\u001b[0m Trial 158 finished with value: 0.7938189845474615 and parameters: {'kernel': 'rbf', 'C': 684.1159257907024, 'gamma': 0.026421029443735998}. Best is trial 1 with value: 0.7938189845474615.\u001b[0m\n"
     ]
    },
    {
     "name": "stdout",
     "output_type": "stream",
     "text": [
      "train_acc: 0.9990324809951623\n",
      "val_acc: 0.8127071823204421\n",
      "test_acc: 0.7938189845474615\n"
     ]
    },
    {
     "name": "stderr",
     "output_type": "stream",
     "text": [
      "\u001b[32m[I 2021-12-30 16:58:12,265]\u001b[0m Trial 159 finished with value: 0.7938189845474615 and parameters: {'kernel': 'rbf', 'C': 648.143205909569, 'gamma': 0.026949913468428472}. Best is trial 1 with value: 0.7938189845474615.\u001b[0m\n"
     ]
    },
    {
     "name": "stdout",
     "output_type": "stream",
     "text": [
      "train_acc: 0.9988942639944713\n",
      "val_acc: 0.8121546961325967\n",
      "test_acc: 0.7938189845474615\n"
     ]
    },
    {
     "name": "stderr",
     "output_type": "stream",
     "text": [
      "\u001b[32m[I 2021-12-30 16:58:13,372]\u001b[0m Trial 160 finished with value: 0.7836644591611478 and parameters: {'kernel': 'poly', 'C': 500.6460187243689, 'gamma': 0.02758035118480928}. Best is trial 1 with value: 0.7938189845474615.\u001b[0m\n"
     ]
    },
    {
     "name": "stdout",
     "output_type": "stream",
     "text": [
      "train_acc: 0.9965445749827229\n",
      "val_acc: 0.7922651933701658\n",
      "test_acc: 0.7836644591611478\n"
     ]
    },
    {
     "name": "stderr",
     "output_type": "stream",
     "text": [
      "\u001b[32m[I 2021-12-30 16:58:15,146]\u001b[0m Trial 161 finished with value: 0.7938189845474615 and parameters: {'kernel': 'rbf', 'C': 653.9913070876657, 'gamma': 0.025712612812698033}. Best is trial 1 with value: 0.7938189845474615.\u001b[0m\n"
     ]
    },
    {
     "name": "stdout",
     "output_type": "stream",
     "text": [
      "train_acc: 0.9988942639944713\n",
      "val_acc: 0.8171270718232044\n",
      "test_acc: 0.7938189845474615\n"
     ]
    },
    {
     "name": "stderr",
     "output_type": "stream",
     "text": [
      "\u001b[32m[I 2021-12-30 16:58:17,793]\u001b[0m Trial 162 finished with value: 0.7929359823399558 and parameters: {'kernel': 'rbf', 'C': 666.1300737842352, 'gamma': 0.025074547805449397}. Best is trial 1 with value: 0.7938189845474615.\u001b[0m\n"
     ]
    },
    {
     "name": "stdout",
     "output_type": "stream",
     "text": [
      "train_acc: 0.9988942639944713\n",
      "val_acc: 0.8160220994475139\n",
      "test_acc: 0.7929359823399558\n"
     ]
    },
    {
     "name": "stderr",
     "output_type": "stream",
     "text": [
      "\u001b[32m[I 2021-12-30 16:58:19,318]\u001b[0m Trial 163 finished with value: 0.7938189845474615 and parameters: {'kernel': 'rbf', 'C': 538.4245641099243, 'gamma': 0.026075315154535147}. Best is trial 1 with value: 0.7938189845474615.\u001b[0m\n"
     ]
    },
    {
     "name": "stdout",
     "output_type": "stream",
     "text": [
      "train_acc: 0.9988942639944713\n",
      "val_acc: 0.8149171270718231\n",
      "test_acc: 0.7938189845474615\n"
     ]
    },
    {
     "name": "stderr",
     "output_type": "stream",
     "text": [
      "\u001b[32m[I 2021-12-30 16:58:20,846]\u001b[0m Trial 164 finished with value: 0.7933774834437086 and parameters: {'kernel': 'rbf', 'C': 629.8826167067282, 'gamma': 0.024560163470275603}. Best is trial 1 with value: 0.7938189845474615.\u001b[0m\n"
     ]
    },
    {
     "name": "stdout",
     "output_type": "stream",
     "text": [
      "train_acc: 0.9988942639944713\n",
      "val_acc: 0.8198895027624309\n",
      "test_acc: 0.7933774834437086\n"
     ]
    },
    {
     "name": "stderr",
     "output_type": "stream",
     "text": [
      "\u001b[32m[I 2021-12-30 16:58:22,382]\u001b[0m Trial 165 finished with value: 0.7938189845474615 and parameters: {'kernel': 'rbf', 'C': 657.6977007765138, 'gamma': 0.026883084934243868}. Best is trial 1 with value: 0.7938189845474615.\u001b[0m\n"
     ]
    },
    {
     "name": "stdout",
     "output_type": "stream",
     "text": [
      "train_acc: 0.9990324809951623\n",
      "val_acc: 0.8127071823204421\n",
      "test_acc: 0.7938189845474615\n"
     ]
    },
    {
     "name": "stderr",
     "output_type": "stream",
     "text": [
      "\u001b[32m[I 2021-12-30 16:58:24,297]\u001b[0m Trial 166 finished with value: 0.7938189845474615 and parameters: {'kernel': 'rbf', 'C': 660.2932342518069, 'gamma': 0.026665915624493323}. Best is trial 1 with value: 0.7938189845474615.\u001b[0m\n"
     ]
    },
    {
     "name": "stdout",
     "output_type": "stream",
     "text": [
      "train_acc: 0.9988942639944713\n",
      "val_acc: 0.8132596685082873\n",
      "test_acc: 0.7938189845474615\n"
     ]
    },
    {
     "name": "stderr",
     "output_type": "stream",
     "text": [
      "\u001b[32m[I 2021-12-30 16:58:26,402]\u001b[0m Trial 167 finished with value: 0.7933774834437086 and parameters: {'kernel': 'rbf', 'C': 638.9389494102685, 'gamma': 0.025513567999338856}. Best is trial 1 with value: 0.7938189845474615.\u001b[0m\n"
     ]
    },
    {
     "name": "stdout",
     "output_type": "stream",
     "text": [
      "train_acc: 0.9988942639944713\n",
      "val_acc: 0.816574585635359\n",
      "test_acc: 0.7933774834437086\n"
     ]
    },
    {
     "name": "stderr",
     "output_type": "stream",
     "text": [
      "\u001b[32m[I 2021-12-30 16:58:27,874]\u001b[0m Trial 168 finished with value: 0.7933774834437086 and parameters: {'kernel': 'rbf', 'C': 642.1705034182049, 'gamma': 0.028409661478718134}. Best is trial 1 with value: 0.7938189845474615.\u001b[0m\n"
     ]
    },
    {
     "name": "stdout",
     "output_type": "stream",
     "text": [
      "train_acc: 0.9990324809951623\n",
      "val_acc: 0.811049723756906\n",
      "test_acc: 0.7933774834437086\n"
     ]
    },
    {
     "name": "stderr",
     "output_type": "stream",
     "text": [
      "\u001b[32m[I 2021-12-30 16:58:30,203]\u001b[0m Trial 169 finished with value: 0.7938189845474615 and parameters: {'kernel': 'rbf', 'C': 675.8947514901995, 'gamma': 0.026157178297298026}. Best is trial 1 with value: 0.7938189845474615.\u001b[0m\n"
     ]
    },
    {
     "name": "stdout",
     "output_type": "stream",
     "text": [
      "train_acc: 0.9988942639944713\n",
      "val_acc: 0.8132596685082873\n",
      "test_acc: 0.7938189845474615\n"
     ]
    },
    {
     "name": "stderr",
     "output_type": "stream",
     "text": [
      "\u001b[32m[I 2021-12-30 16:58:32,056]\u001b[0m Trial 170 finished with value: 0.7938189845474615 and parameters: {'kernel': 'rbf', 'C': 677.8427729989711, 'gamma': 0.02609396751940467}. Best is trial 1 with value: 0.7938189845474615.\u001b[0m\n"
     ]
    },
    {
     "name": "stdout",
     "output_type": "stream",
     "text": [
      "train_acc: 0.9988942639944713\n",
      "val_acc: 0.8132596685082873\n",
      "test_acc: 0.7938189845474615\n"
     ]
    },
    {
     "name": "stderr",
     "output_type": "stream",
     "text": [
      "\u001b[32m[I 2021-12-30 16:58:34,694]\u001b[0m Trial 171 finished with value: 0.7933774834437086 and parameters: {'kernel': 'rbf', 'C': 692.9542081818224, 'gamma': 0.027698126187946134}. Best is trial 1 with value: 0.7938189845474615.\u001b[0m\n"
     ]
    },
    {
     "name": "stdout",
     "output_type": "stream",
     "text": [
      "train_acc: 0.9990324809951623\n",
      "val_acc: 0.8099447513812155\n",
      "test_acc: 0.7933774834437086\n"
     ]
    },
    {
     "name": "stderr",
     "output_type": "stream",
     "text": [
      "\u001b[32m[I 2021-12-30 16:58:37,213]\u001b[0m Trial 172 finished with value: 0.7933774834437086 and parameters: {'kernel': 'rbf', 'C': 519.6102160737769, 'gamma': 0.027159723479570703}. Best is trial 1 with value: 0.7938189845474615.\u001b[0m\n"
     ]
    },
    {
     "name": "stdout",
     "output_type": "stream",
     "text": [
      "train_acc: 0.9988942639944713\n",
      "val_acc: 0.8127071823204419\n",
      "test_acc: 0.7933774834437086\n"
     ]
    },
    {
     "name": "stderr",
     "output_type": "stream",
     "text": [
      "\u001b[32m[I 2021-12-30 16:58:39,196]\u001b[0m Trial 173 finished with value: 0.7933774834437086 and parameters: {'kernel': 'rbf', 'C': 552.0691321358612, 'gamma': 0.025549214722686314}. Best is trial 1 with value: 0.7938189845474615.\u001b[0m\n"
     ]
    },
    {
     "name": "stdout",
     "output_type": "stream",
     "text": [
      "train_acc: 0.9988942639944713\n",
      "val_acc: 0.8171270718232044\n",
      "test_acc: 0.7933774834437086\n"
     ]
    },
    {
     "name": "stderr",
     "output_type": "stream",
     "text": [
      "\u001b[32m[I 2021-12-30 16:58:41,447]\u001b[0m Trial 174 finished with value: 0.7938189845474615 and parameters: {'kernel': 'rbf', 'C': 562.9415607977459, 'gamma': 0.027054054224491694}. Best is trial 1 with value: 0.7938189845474615.\u001b[0m\n"
     ]
    },
    {
     "name": "stdout",
     "output_type": "stream",
     "text": [
      "train_acc: 0.9988942639944713\n",
      "val_acc: 0.8132596685082873\n",
      "test_acc: 0.7938189845474615\n"
     ]
    },
    {
     "name": "stderr",
     "output_type": "stream",
     "text": [
      "\u001b[32m[I 2021-12-30 16:58:43,383]\u001b[0m Trial 175 finished with value: 0.7929359823399558 and parameters: {'kernel': 'rbf', 'C': 603.2741024806857, 'gamma': 0.02500247659027482}. Best is trial 1 with value: 0.7938189845474615.\u001b[0m\n"
     ]
    },
    {
     "name": "stdout",
     "output_type": "stream",
     "text": [
      "train_acc: 0.9988942639944713\n",
      "val_acc: 0.8171270718232044\n",
      "test_acc: 0.7929359823399558\n"
     ]
    },
    {
     "name": "stderr",
     "output_type": "stream",
     "text": [
      "\u001b[32m[I 2021-12-30 16:58:44,996]\u001b[0m Trial 176 finished with value: 0.7938189845474615 and parameters: {'kernel': 'rbf', 'C': 574.7646427676747, 'gamma': 0.02595964737071288}. Best is trial 1 with value: 0.7938189845474615.\u001b[0m\n"
     ]
    },
    {
     "name": "stdout",
     "output_type": "stream",
     "text": [
      "train_acc: 0.9988942639944713\n",
      "val_acc: 0.8154696132596684\n",
      "test_acc: 0.7938189845474615\n"
     ]
    },
    {
     "name": "stderr",
     "output_type": "stream",
     "text": [
      "\u001b[32m[I 2021-12-30 16:58:46,448]\u001b[0m Trial 177 finished with value: 0.7938189845474615 and parameters: {'kernel': 'rbf', 'C': 591.3252468480507, 'gamma': 0.02637023773306438}. Best is trial 1 with value: 0.7938189845474615.\u001b[0m\n"
     ]
    },
    {
     "name": "stdout",
     "output_type": "stream",
     "text": [
      "train_acc: 0.9988942639944713\n",
      "val_acc: 0.8143646408839779\n",
      "test_acc: 0.7938189845474615\n"
     ]
    },
    {
     "name": "stderr",
     "output_type": "stream",
     "text": [
      "\u001b[32m[I 2021-12-30 16:58:47,864]\u001b[0m Trial 178 finished with value: 0.7938189845474615 and parameters: {'kernel': 'rbf', 'C': 622.8792446651554, 'gamma': 0.025752761785204185}. Best is trial 1 with value: 0.7938189845474615.\u001b[0m\n"
     ]
    },
    {
     "name": "stdout",
     "output_type": "stream",
     "text": [
      "train_acc: 0.9988942639944713\n",
      "val_acc: 0.816574585635359\n",
      "test_acc: 0.7938189845474615\n"
     ]
    },
    {
     "name": "stderr",
     "output_type": "stream",
     "text": [
      "\u001b[32m[I 2021-12-30 16:58:49,606]\u001b[0m Trial 179 finished with value: 0.7933774834437086 and parameters: {'kernel': 'rbf', 'C': 620.4255795766547, 'gamma': 0.02444160454442625}. Best is trial 1 with value: 0.7938189845474615.\u001b[0m\n"
     ]
    },
    {
     "name": "stdout",
     "output_type": "stream",
     "text": [
      "train_acc: 0.9988942639944713\n",
      "val_acc: 0.8204419889502763\n",
      "test_acc: 0.7933774834437086\n"
     ]
    },
    {
     "name": "stderr",
     "output_type": "stream",
     "text": [
      "\u001b[32m[I 2021-12-30 16:58:51,177]\u001b[0m Trial 180 finished with value: 0.7933774834437086 and parameters: {'kernel': 'rbf', 'C': 526.2987583317341, 'gamma': 0.027856134703519782}. Best is trial 1 with value: 0.7938189845474615.\u001b[0m\n"
     ]
    },
    {
     "name": "stdout",
     "output_type": "stream",
     "text": [
      "train_acc: 0.9988942639944713\n",
      "val_acc: 0.811049723756906\n",
      "test_acc: 0.7933774834437086\n"
     ]
    },
    {
     "name": "stderr",
     "output_type": "stream",
     "text": [
      "\u001b[32m[I 2021-12-30 16:58:52,771]\u001b[0m Trial 181 finished with value: 0.7938189845474615 and parameters: {'kernel': 'rbf', 'C': 628.145405292972, 'gamma': 0.026541754627876505}. Best is trial 1 with value: 0.7938189845474615.\u001b[0m\n"
     ]
    },
    {
     "name": "stdout",
     "output_type": "stream",
     "text": [
      "train_acc: 0.9988942639944713\n",
      "val_acc: 0.8143646408839779\n",
      "test_acc: 0.7938189845474615\n"
     ]
    },
    {
     "name": "stderr",
     "output_type": "stream",
     "text": [
      "\u001b[32m[I 2021-12-30 16:58:54,162]\u001b[0m Trial 182 finished with value: 0.7938189845474615 and parameters: {'kernel': 'rbf', 'C': 625.5770004503465, 'gamma': 0.026547693780153963}. Best is trial 1 with value: 0.7938189845474615.\u001b[0m\n"
     ]
    },
    {
     "name": "stdout",
     "output_type": "stream",
     "text": [
      "train_acc: 0.9988942639944713\n",
      "val_acc: 0.8143646408839779\n",
      "test_acc: 0.7938189845474615\n"
     ]
    },
    {
     "name": "stderr",
     "output_type": "stream",
     "text": [
      "\u001b[32m[I 2021-12-30 16:58:55,574]\u001b[0m Trial 183 finished with value: 0.7938189845474615 and parameters: {'kernel': 'rbf', 'C': 540.9502105316708, 'gamma': 0.026488282326866442}. Best is trial 1 with value: 0.7938189845474615.\u001b[0m\n"
     ]
    },
    {
     "name": "stdout",
     "output_type": "stream",
     "text": [
      "train_acc: 0.9988942639944713\n",
      "val_acc: 0.8143646408839779\n",
      "test_acc: 0.7938189845474615\n"
     ]
    },
    {
     "name": "stderr",
     "output_type": "stream",
     "text": [
      "\u001b[32m[I 2021-12-30 16:58:56,988]\u001b[0m Trial 184 finished with value: 0.7938189845474615 and parameters: {'kernel': 'rbf', 'C': 665.8826763333491, 'gamma': 0.026047851043315265}. Best is trial 1 with value: 0.7938189845474615.\u001b[0m\n"
     ]
    },
    {
     "name": "stdout",
     "output_type": "stream",
     "text": [
      "train_acc: 0.9988942639944713\n",
      "val_acc: 0.8138121546961326\n",
      "test_acc: 0.7938189845474615\n"
     ]
    },
    {
     "name": "stderr",
     "output_type": "stream",
     "text": [
      "\u001b[32m[I 2021-12-30 16:58:58,396]\u001b[0m Trial 185 finished with value: 0.7938189845474615 and parameters: {'kernel': 'rbf', 'C': 669.9821242619724, 'gamma': 0.025780440676448413}. Best is trial 1 with value: 0.7938189845474615.\u001b[0m\n"
     ]
    },
    {
     "name": "stdout",
     "output_type": "stream",
     "text": [
      "train_acc: 0.9988942639944713\n",
      "val_acc: 0.8154696132596684\n",
      "test_acc: 0.7938189845474615\n"
     ]
    },
    {
     "name": "stderr",
     "output_type": "stream",
     "text": [
      "\u001b[32m[I 2021-12-30 16:58:59,822]\u001b[0m Trial 186 finished with value: 0.7933774834437086 and parameters: {'kernel': 'rbf', 'C': 669.4733157932841, 'gamma': 0.024841914511729426}. Best is trial 1 with value: 0.7938189845474615.\u001b[0m\n"
     ]
    },
    {
     "name": "stdout",
     "output_type": "stream",
     "text": [
      "train_acc: 0.9988942639944713\n",
      "val_acc: 0.8171270718232044\n",
      "test_acc: 0.7933774834437086\n"
     ]
    },
    {
     "name": "stderr",
     "output_type": "stream",
     "text": [
      "\u001b[32m[I 2021-12-30 16:59:01,268]\u001b[0m Trial 187 finished with value: 0.7929359823399558 and parameters: {'kernel': 'rbf', 'C': 654.737095616425, 'gamma': 0.025227574111329063}. Best is trial 1 with value: 0.7938189845474615.\u001b[0m\n"
     ]
    },
    {
     "name": "stdout",
     "output_type": "stream",
     "text": [
      "train_acc: 0.9988942639944713\n",
      "val_acc: 0.8154696132596685\n",
      "test_acc: 0.7929359823399558\n"
     ]
    },
    {
     "name": "stderr",
     "output_type": "stream",
     "text": [
      "\u001b[32m[I 2021-12-30 16:59:02,639]\u001b[0m Trial 188 finished with value: 0.7938189845474615 and parameters: {'kernel': 'rbf', 'C': 557.3982649623678, 'gamma': 0.026362155147452656}. Best is trial 1 with value: 0.7938189845474615.\u001b[0m\n"
     ]
    },
    {
     "name": "stdout",
     "output_type": "stream",
     "text": [
      "train_acc: 0.9988942639944713\n",
      "val_acc: 0.8149171270718233\n",
      "test_acc: 0.7938189845474615\n"
     ]
    },
    {
     "name": "stderr",
     "output_type": "stream",
     "text": [
      "\u001b[32m[I 2021-12-30 16:59:04,054]\u001b[0m Trial 189 finished with value: 0.7933774834437086 and parameters: {'kernel': 'rbf', 'C': 557.0222484832008, 'gamma': 0.027370736673608793}. Best is trial 1 with value: 0.7938189845474615.\u001b[0m\n"
     ]
    },
    {
     "name": "stdout",
     "output_type": "stream",
     "text": [
      "train_acc: 0.9988942639944713\n",
      "val_acc: 0.8127071823204419\n",
      "test_acc: 0.7933774834437086\n"
     ]
    },
    {
     "name": "stderr",
     "output_type": "stream",
     "text": [
      "\u001b[32m[I 2021-12-30 16:59:05,067]\u001b[0m Trial 190 finished with value: 0.7845474613686534 and parameters: {'kernel': 'poly', 'C': 647.9744573736751, 'gamma': 0.02687469821353091}. Best is trial 1 with value: 0.7938189845474615.\u001b[0m\n"
     ]
    },
    {
     "name": "stdout",
     "output_type": "stream",
     "text": [
      "train_acc: 0.9973738769868692\n",
      "val_acc: 0.7928176795580111\n",
      "test_acc: 0.7845474613686534\n"
     ]
    },
    {
     "name": "stderr",
     "output_type": "stream",
     "text": [
      "\u001b[32m[I 2021-12-30 16:59:06,539]\u001b[0m Trial 191 finished with value: 0.7938189845474615 and parameters: {'kernel': 'rbf', 'C': 617.044676618558, 'gamma': 0.02630758178241813}. Best is trial 1 with value: 0.7938189845474615.\u001b[0m\n"
     ]
    },
    {
     "name": "stdout",
     "output_type": "stream",
     "text": [
      "train_acc: 0.9988942639944713\n",
      "val_acc: 0.8138121546961326\n",
      "test_acc: 0.7938189845474615\n"
     ]
    },
    {
     "name": "stderr",
     "output_type": "stream",
     "text": [
      "\u001b[32m[I 2021-12-30 16:59:08,052]\u001b[0m Trial 192 finished with value: 0.7929359823399558 and parameters: {'kernel': 'rbf', 'C': 636.3695807846642, 'gamma': 0.02544906884836783}. Best is trial 1 with value: 0.7938189845474615.\u001b[0m\n"
     ]
    },
    {
     "name": "stdout",
     "output_type": "stream",
     "text": [
      "train_acc: 0.9988942639944713\n",
      "val_acc: 0.8160220994475138\n",
      "test_acc: 0.7929359823399558\n"
     ]
    },
    {
     "name": "stderr",
     "output_type": "stream",
     "text": [
      "\u001b[32m[I 2021-12-30 16:59:09,526]\u001b[0m Trial 193 finished with value: 0.7938189845474615 and parameters: {'kernel': 'rbf', 'C': 634.1906739925664, 'gamma': 0.02672765429252215}. Best is trial 1 with value: 0.7938189845474615.\u001b[0m\n"
     ]
    },
    {
     "name": "stdout",
     "output_type": "stream",
     "text": [
      "train_acc: 0.9988942639944713\n",
      "val_acc: 0.8138121546961326\n",
      "test_acc: 0.7938189845474615\n"
     ]
    },
    {
     "name": "stderr",
     "output_type": "stream",
     "text": [
      "\u001b[32m[I 2021-12-30 16:59:10,918]\u001b[0m Trial 194 finished with value: 0.7933774834437086 and parameters: {'kernel': 'rbf', 'C': 646.9912510439055, 'gamma': 0.02744916087615567}. Best is trial 1 with value: 0.7938189845474615.\u001b[0m\n"
     ]
    },
    {
     "name": "stdout",
     "output_type": "stream",
     "text": [
      "train_acc: 0.9990324809951623\n",
      "val_acc: 0.8116022099447514\n",
      "test_acc: 0.7933774834437086\n"
     ]
    },
    {
     "name": "stderr",
     "output_type": "stream",
     "text": [
      "\u001b[32m[I 2021-12-30 16:59:12,274]\u001b[0m Trial 195 finished with value: 0.7938189845474615 and parameters: {'kernel': 'rbf', 'C': 628.3471088274734, 'gamma': 0.02582967158035516}. Best is trial 1 with value: 0.7938189845474615.\u001b[0m\n"
     ]
    },
    {
     "name": "stdout",
     "output_type": "stream",
     "text": [
      "train_acc: 0.9988942639944713\n",
      "val_acc: 0.8154696132596685\n",
      "test_acc: 0.7938189845474615\n"
     ]
    },
    {
     "name": "stderr",
     "output_type": "stream",
     "text": [
      "\u001b[32m[I 2021-12-30 16:59:13,573]\u001b[0m Trial 196 finished with value: 0.7938189845474615 and parameters: {'kernel': 'rbf', 'C': 663.6203369167315, 'gamma': 0.025916777803654503}. Best is trial 1 with value: 0.7938189845474615.\u001b[0m\n"
     ]
    },
    {
     "name": "stdout",
     "output_type": "stream",
     "text": [
      "train_acc: 0.9988942639944713\n",
      "val_acc: 0.8149171270718231\n",
      "test_acc: 0.7938189845474615\n"
     ]
    },
    {
     "name": "stderr",
     "output_type": "stream",
     "text": [
      "\u001b[32m[I 2021-12-30 16:59:15,022]\u001b[0m Trial 197 finished with value: 0.7929359823399558 and parameters: {'kernel': 'rbf', 'C': 548.8350930606825, 'gamma': 0.02515130139793334}. Best is trial 1 with value: 0.7938189845474615.\u001b[0m\n"
     ]
    },
    {
     "name": "stdout",
     "output_type": "stream",
     "text": [
      "train_acc: 0.9988942639944713\n",
      "val_acc: 0.8154696132596685\n",
      "test_acc: 0.7929359823399558\n"
     ]
    },
    {
     "name": "stderr",
     "output_type": "stream",
     "text": [
      "\u001b[32m[I 2021-12-30 16:59:16,381]\u001b[0m Trial 198 finished with value: 0.7929359823399558 and parameters: {'kernel': 'rbf', 'C': 656.3500049393107, 'gamma': 0.02546033439189864}. Best is trial 1 with value: 0.7938189845474615.\u001b[0m\n"
     ]
    },
    {
     "name": "stdout",
     "output_type": "stream",
     "text": [
      "train_acc: 0.9988942639944713\n",
      "val_acc: 0.8149171270718231\n",
      "test_acc: 0.7929359823399558\n"
     ]
    },
    {
     "name": "stderr",
     "output_type": "stream",
     "text": [
      "\u001b[32m[I 2021-12-30 16:59:17,977]\u001b[0m Trial 199 finished with value: 0.7938189845474615 and parameters: {'kernel': 'rbf', 'C': 652.2790893809137, 'gamma': 0.02686253818635023}. Best is trial 1 with value: 0.7938189845474615.\u001b[0m\n"
     ]
    },
    {
     "name": "stdout",
     "output_type": "stream",
     "text": [
      "train_acc: 0.9988942639944713\n",
      "val_acc: 0.8121546961325967\n",
      "test_acc: 0.7938189845474615\n",
      "最良のハイパーパラメータ: {'kernel': 'rbf', 'C': 618.3770845235845, 'gamma': 0.025679329789236732}\n"
     ]
    }
   ],
   "source": [
    "# パラメータチューニング\n",
    "study = optuna.create_study(direction='maximize')\n",
    "study.optimize(objective, n_trials=200)\n",
    "\n",
    "print(f\"最良のハイパーパラメータ: {study.best_params}\")"
   ]
  },
  {
   "cell_type": "markdown",
   "id": "3d76a70e-396a-4f0c-a580-df6ed4a09d5e",
   "metadata": {},
   "source": [
    "最良のハイパーパラメータ: {'kernel': 'rbf', 'C': 620.9333861957967, 'gamma': 0.0262263650766876}  \n",
    "train_acc: 0.9988942639944713  \n",
    "val_acc: 0.8132596685082873  \n",
    "test_acc: 0.7938189845474615  "
   ]
  },
  {
   "cell_type": "code",
   "execution_count": 186,
   "id": "420c7e39-3aed-4048-95c5-cc1b8ec3e97b",
   "metadata": {},
   "outputs": [],
   "source": [
    "# 学習 + 予測値\n",
    "svc = SVC(kernel='rbf', C=620.9333861957967, gamma=0.0262263650766876, random_state=0)\n",
    "svc.fit(train_data.iloc[:,:-1], train_data.iloc[:,-1])\n",
    "y_pred = svc.predict(test_data)"
   ]
  },
  {
   "cell_type": "code",
   "execution_count": 188,
   "id": "29eb0cd2-2563-4215-9830-82d0cade4daf",
   "metadata": {},
   "outputs": [],
   "source": [
    "# 提出\n",
    "submission = pd.DataFrame([np.arange(4000000,5000000), y_pred], index=['Id','Cover_Type']).T\n",
    "submission['Id'] = submission['Id'].astype('int64')\n",
    "submission['Cover_Type'] = submission['Cover_Type'].astype('int64')\n",
    "submission.to_csv(SUBMISSION_PATH+\"svm.csv\", index=False)"
   ]
  },
  {
   "cell_type": "code",
   "execution_count": null,
   "id": "95f460e2-ce99-48a8-8701-be6c34213c29",
   "metadata": {},
   "outputs": [],
   "source": []
  }
 ],
 "metadata": {
  "kernelspec": {
   "display_name": "Python 3 (ipykernel)",
   "language": "python",
   "name": "python3"
  },
  "language_info": {
   "codemirror_mode": {
    "name": "ipython",
    "version": 3
   },
   "file_extension": ".py",
   "mimetype": "text/x-python",
   "name": "python",
   "nbconvert_exporter": "python",
   "pygments_lexer": "ipython3",
   "version": "3.8.12"
  }
 },
 "nbformat": 4,
 "nbformat_minor": 5
}
